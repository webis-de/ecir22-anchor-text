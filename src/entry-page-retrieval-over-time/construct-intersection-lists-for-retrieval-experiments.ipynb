{
 "cells": [
  {
   "cell_type": "code",
   "execution_count": 1,
   "id": "d47a5512-8fa2-4af6-9b5e-0e2f4b636814",
   "metadata": {},
   "outputs": [],
   "source": [
    "# Construct Intersection-Lists for Retrieval Experiments"
   ]
  },
  {
   "cell_type": "code",
   "execution_count": 9,
   "id": "bf4e506a-cd8c-4638-89c6-a5079b8c3c85",
   "metadata": {},
   "outputs": [],
   "source": [
    "DIR = '/mnt/ceph/storage/data-in-progress/data-research/web-search/ECIR-22/ecir22-anchor-text/entry-page-retrieval-over-time/'\n",
    "\n",
    "def build_intersection_lists(file_name):\n",
    "    import json\n",
    "    ret = None\n",
    "    \n",
    "    data = json.load(open(DIR + file_name))\n",
    "    for k,v in data.items():\n",
    "        if ret is None:\n",
    "            ret = set(v)\n",
    "        else:\n",
    "            ret = ret.intersection(set(v))\n",
    "    \n",
    "    return sorted([i for i in ret])\n",
    "\n",
    "def write_to_file(l, out_file):\n",
    "    print('Write ' + str(len(l)) + ' to ' + out_file)\n",
    "    \n",
    "    with open(DIR + out_file, 'w') as f:\n",
    "        for i in l:\n",
    "            f.write(i + '\\n')\n"
   ]
  },
  {
   "cell_type": "code",
   "execution_count": 12,
   "id": "86631343-3568-4cfd-82a0-73c37ecc123d",
   "metadata": {},
   "outputs": [
    {
     "name": "stdout",
     "output_type": "stream",
     "text": [
      "Write 564745 to anchor-text-intersection-list-ms-marco-v1.txt\n"
     ]
    }
   ],
   "source": [
    "write_to_file(build_intersection_lists('document-ids-in-ms-marco-v1.json'), 'anchor-text-intersection-list-ms-marco-v1.txt')"
   ]
  },
  {
   "cell_type": "code",
   "execution_count": 13,
   "id": "826c70bf-7ec4-47bd-972b-194ed1e958ba",
   "metadata": {},
   "outputs": [
    {
     "name": "stdout",
     "output_type": "stream",
     "text": [
      "Write 965331 to anchor-text-intersection-list-ms-marco-v2.txt\n"
     ]
    }
   ],
   "source": [
    "write_to_file(build_intersection_lists('document-ids-in-ms-marco-v2.json'), 'anchor-text-intersection-list-ms-marco-v2.txt')"
   ]
  },
  {
   "cell_type": "code",
   "execution_count": 14,
   "id": "a6a8bc53-be33-4be6-a0bf-110069501c57",
   "metadata": {},
   "outputs": [
    {
     "name": "stdout",
     "output_type": "stream",
     "text": [
      "total 522M\n",
      "drwxrwsr-x+ 2 kibi9872 users    4 Oct  3 05:59 \u001b[0m\u001b[01;34m.\u001b[0m/\n",
      "drwxrwsr-x+ 5 kibi9872 users    3 Oct  3 05:47 \u001b[01;34m..\u001b[0m/\n",
      "-rw-rw-r--  1 kibi9872 users 4.7M Oct  3 05:59 anchor-text-intersection-list-ms-marco-v1.txt\n",
      "-rw-rw-r--  1 kibi9872 users  24M Oct  3 05:59 anchor-text-intersection-list-ms-marco-v2.txt\n",
      "-rw-r--r--  1 kibi9872 users  76M Oct  3 05:44 document-ids-in-ms-marco-v1.json\n",
      "-rw-r--r--  1 kibi9872 users 418M Oct  3 05:46 document-ids-in-ms-marco-v2.json\n"
     ]
    }
   ],
   "source": [
    "ls -lha {DIR}"
   ]
  }
 ],
 "metadata": {
  "kernelspec": {
   "display_name": "Python 3",
   "language": "python",
   "name": "python3"
  },
  "language_info": {
   "codemirror_mode": {
    "name": "ipython",
    "version": 3
   },
   "file_extension": ".py",
   "mimetype": "text/x-python",
   "name": "python",
   "nbconvert_exporter": "python",
   "pygments_lexer": "ipython3",
   "version": "3.7.10"
  }
 },
 "nbformat": 4,
 "nbformat_minor": 5
}
