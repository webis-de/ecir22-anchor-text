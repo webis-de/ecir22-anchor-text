{
 "cells": [
  {
   "cell_type": "code",
   "execution_count": 1,
   "id": "f0885e55-5d8d-4b81-b5f6-a208cf77a184",
   "metadata": {},
   "outputs": [],
   "source": [
    "# Figure: Retrieval Effectiveness over time"
   ]
  },
  {
   "cell_type": "code",
   "execution_count": 2,
   "id": "009d6dbb-148b-44d0-9554-8355b7bf3ae7",
   "metadata": {},
   "outputs": [],
   "source": [
    "#!pip install trectools\n",
    "\n",
    "from trectools import TrecQrel, TrecRun, TrecEval"
   ]
  },
  {
   "cell_type": "code",
   "execution_count": 81,
   "id": "c1b06f35-2dfa-407b-968e-3f82f0e64021",
   "metadata": {},
   "outputs": [],
   "source": [
    "QREL_DIR='../../Data/navigational-topics-and-qrels-ms-marco-v1/'\n",
    "QREL_DIR_MARCO_V2='../../Data/navigational-topics-and-qrels-ms-marco-v2/'\n",
    "\n",
    "RUN_DIR='/mnt/ceph/storage/data-in-progress/data-teaching/theses/wstud-thesis-probst/retrievalExperiments/runs-ecir22/'\n",
    "RUN_DIR_MARCO_V2='/mnt/ceph/storage/data-in-progress/data-teaching/theses/wstud-thesis-probst/retrievalExperiments/runs-marco-v2-ecir22/'\n",
    "\n",
    "TOPIC_TO_NAME={'entrypage-random': 'Random@V1', 'entrypage-popular': 'Popular@V1'}\n",
    "QRELS={i: TrecQrel(QREL_DIR + 'qrels.msmarco-' + i + '.txt') for i in TOPIC_TO_NAME.keys()}\n",
    "QRELS_MARCO_V2={i: TrecQrel(QREL_DIR_MARCO_V2 + 'qrels.msmarco-v2-' + i + '.txt') for i in TOPIC_TO_NAME.keys()}"
   ]
  },
  {
   "cell_type": "code",
   "execution_count": 9,
   "id": "70b99118-ae76-4fed-b97a-239779f64419",
   "metadata": {},
   "outputs": [],
   "source": [
    "APPROACH_TO_MARCO_V1_RUN_FILE={\n",
    "    'BM25@2016-07': 'run.intersection-index-2016-07-v1.bm25-default.txt',\n",
    "    'BM25@2017-04': 'run.intersection-index-2017-04-v1.bm25-default.txt',\n",
    "    'BM25@2018-13': 'run.intersection-index-2018-13-v1.bm25-default.txt',\n",
    "    'BM25@2019-47': 'run.intersection-index-2019-47-v1.bm25-default.txt',\n",
    "    'BM25@2020-05': 'run.intersection-index-2020-05-v1.bm25-default.txt',\n",
    "    'BM25@2021-04': 'run.intersection-index-2021-04-v1.bm25-default.txt',\n",
    "    'BM25@16--21': 'run.intersection-index-union-2016-to-2021-v1.bm25-default.txt',\n",
    "}\n",
    "\n",
    "APPROACH_TO_MARCO_V2_RUN_FILE={\n",
    "    'BM25@2016-07': 'run.intersection-index-2016-07-v2.bm25-default.txt',\n",
    "    'BM25@2017-04': 'run.intersection-index-2017-04-v2.bm25-default.txt',\n",
    "    'BM25@2018-13': 'run.intersection-index-2018-13-v2.bm25-default.txt',\n",
    "    'BM25@2019-47': 'run.intersection-index-2019-47-v2.bm25-default.txt',\n",
    "    'BM25@2020-05': 'run.intersection-index-2020-05-v2.bm25-default.txt',\n",
    "    'BM25@2021-04': 'run.intersection-index-2021-04-v2.bm25-default.txt',\n",
    "    'BM25@16--21': 'run.intersection-index-union-2016-to-2021-v2.bm25-default.txt',\n",
    "}"
   ]
  },
  {
   "cell_type": "code",
   "execution_count": 58,
   "id": "bf2b16ac-a7bc-47bc-860e-89bf84ed0fbd",
   "metadata": {},
   "outputs": [],
   "source": [
    "# Topics to remove V1\n",
    "\n",
    "QUERIES_TO_REMOVE_V1 = {'entrypage-random': set(), 'entrypage-popular': set()}\n",
    "RETRIEVED_DOCS_V1 = {'entrypage-random': {}, 'entrypage-popular': {}}\n",
    "\n",
    "for run_file in APPROACH_TO_MARCO_V1_RUN_FILE.values():\n",
    "    for topics in ['entrypage-random', 'entrypage-popular']:\n",
    "        run = TrecRun(RUN_DIR + topics + '-over-time/' + run_file)\n",
    "        tmp = run.run_data[['query', 'system']].groupby('query').count().to_dict()['system']\n",
    "        for topic in range(100):\n",
    "            if topic not in tmp or tmp[topic] < 10:\n",
    "               QUERIES_TO_REMOVE_V1[topics].add(topic)\n",
    "            \n",
    "            if topic not in RETRIEVED_DOCS_V1[topics]:\n",
    "                RETRIEVED_DOCS_V1[topics][topic] = set()\n",
    "            \n",
    "            for doc_id in run.run_data[run.run_data['query'] == topic].docid.unique():\n",
    "                RETRIEVED_DOCS_V1[topics][topic].add(doc_id)\n",
    "\n",
    "for topics, qrels in QRELS.items():\n",
    "    for _, qrel in qrels.qrels_data.iterrows():\n",
    "        if qrel['docid'] not in RETRIEVED_DOCS_V1[topics][qrel['query']]:\n",
    "            QUERIES_TO_REMOVE_V1[topics].add(qrel['query'])\n"
   ]
  },
  {
   "cell_type": "code",
   "execution_count": 61,
   "id": "e7694893-2ca1-4a46-977f-157873400304",
   "metadata": {},
   "outputs": [
    {
     "data": {
      "text/plain": [
       "{'entrypage-random': {0,\n",
       "  1,\n",
       "  15,\n",
       "  19,\n",
       "  20,\n",
       "  22,\n",
       "  23,\n",
       "  27,\n",
       "  29,\n",
       "  32,\n",
       "  35,\n",
       "  36,\n",
       "  38,\n",
       "  40,\n",
       "  41,\n",
       "  42,\n",
       "  45,\n",
       "  51,\n",
       "  53,\n",
       "  58,\n",
       "  65,\n",
       "  73,\n",
       "  74,\n",
       "  75,\n",
       "  96,\n",
       "  97,\n",
       "  99},\n",
       " 'entrypage-popular': {2,\n",
       "  5,\n",
       "  9,\n",
       "  17,\n",
       "  24,\n",
       "  27,\n",
       "  28,\n",
       "  31,\n",
       "  35,\n",
       "  37,\n",
       "  41,\n",
       "  42,\n",
       "  46,\n",
       "  57,\n",
       "  58,\n",
       "  60,\n",
       "  67,\n",
       "  79,\n",
       "  91,\n",
       "  99}}"
      ]
     },
     "execution_count": 61,
     "metadata": {},
     "output_type": "execute_result"
    }
   ],
   "source": [
    "QUERIES_TO_REMOVE_V1"
   ]
  },
  {
   "cell_type": "code",
   "execution_count": null,
   "id": "9e1632aa-4484-4fc8-bdc7-e6a19a125c41",
   "metadata": {},
   "outputs": [],
   "source": []
  },
  {
   "cell_type": "code",
   "execution_count": 60,
   "id": "b0202d5f-a357-46c0-b669-d5b91adc74c1",
   "metadata": {},
   "outputs": [],
   "source": [
    "# Topics to remove V1\n",
    "\n",
    "QUERIES_TO_REMOVE_V2 = {'entrypage-random': set(), 'entrypage-popular': set()}\n",
    "RETRIEVED_DOCS_V2 = {'entrypage-random': {}, 'entrypage-popular': {}}\n",
    "\n",
    "for run_file in APPROACH_TO_MARCO_V2_RUN_FILE.values():\n",
    "    for topics in ['entrypage-random', 'entrypage-popular']:\n",
    "        run = TrecRun(RUN_DIR_MARCO_V2 + topics + '-over-time/' + run_file)\n",
    "        tmp = run.run_data[['query', 'system']].groupby('query').count().to_dict()['system']\n",
    "        for topic in range(100):\n",
    "            if topic not in tmp or tmp[topic] < 10:\n",
    "               QUERIES_TO_REMOVE_V2[topics].add(topic)\n",
    "            \n",
    "            if topic not in RETRIEVED_DOCS_V2[topics]:\n",
    "                RETRIEVED_DOCS_V2[topics][topic] = set()\n",
    "            \n",
    "            for doc_id in run.run_data[run.run_data['query'] == topic].docid.unique():\n",
    "                RETRIEVED_DOCS_V2[topics][topic].add(doc_id)\n",
    "\n",
    "for topics, qrels in QRELS_MARCO_V2.items():\n",
    "    for _, qrel in qrels.qrels_data.iterrows():\n",
    "        if qrel['docid'] not in RETRIEVED_DOCS_V2[topics][qrel['query']]:\n",
    "            QUERIES_TO_REMOVE_V2[topics].add(qrel['query'])\n"
   ]
  },
  {
   "cell_type": "code",
   "execution_count": 62,
   "id": "17564bd7-9a62-465b-b626-8fb584a3dfb2",
   "metadata": {},
   "outputs": [
    {
     "data": {
      "text/plain": [
       "{'entrypage-random': {0,\n",
       "  1,\n",
       "  6,\n",
       "  12,\n",
       "  15,\n",
       "  19,\n",
       "  20,\n",
       "  22,\n",
       "  23,\n",
       "  27,\n",
       "  29,\n",
       "  32,\n",
       "  35,\n",
       "  36,\n",
       "  38,\n",
       "  40,\n",
       "  41,\n",
       "  42,\n",
       "  45,\n",
       "  51,\n",
       "  53,\n",
       "  58,\n",
       "  59,\n",
       "  64,\n",
       "  65,\n",
       "  73,\n",
       "  74,\n",
       "  75,\n",
       "  81,\n",
       "  86,\n",
       "  91,\n",
       "  96,\n",
       "  97,\n",
       "  99},\n",
       " 'entrypage-popular': {2,\n",
       "  5,\n",
       "  9,\n",
       "  17,\n",
       "  24,\n",
       "  27,\n",
       "  28,\n",
       "  31,\n",
       "  35,\n",
       "  38,\n",
       "  41,\n",
       "  42,\n",
       "  46,\n",
       "  58,\n",
       "  60,\n",
       "  67,\n",
       "  79,\n",
       "  95,\n",
       "  99}}"
      ]
     },
     "execution_count": 62,
     "metadata": {},
     "output_type": "execute_result"
    }
   ],
   "source": [
    "QUERIES_TO_REMOVE_V2"
   ]
  },
  {
   "cell_type": "code",
   "execution_count": 82,
   "id": "d2d87647-02e6-478f-99a5-1488e0f1ec96",
   "metadata": {},
   "outputs": [],
   "source": [
    "QRELS['entrypage-random'].qrels_data = QRELS['entrypage-random'].qrels_data[~(QRELS['entrypage-random'].qrels_data['query'].isin(QUERIES_TO_REMOVE_V1['entrypage-random']))]\n",
    "QRELS['entrypage-popular'].qrels_data = QRELS['entrypage-popular'].qrels_data[~(QRELS['entrypage-popular'].qrels_data['query'].isin(QUERIES_TO_REMOVE_V1['entrypage-popular']))]"
   ]
  },
  {
   "cell_type": "code",
   "execution_count": 83,
   "id": "72cde168-c253-4936-b221-4e4b7b844a73",
   "metadata": {},
   "outputs": [
    {
     "name": "stdout",
     "output_type": "stream",
     "text": [
      "73\n",
      "80\n"
     ]
    }
   ],
   "source": [
    "print(len(QRELS['entrypage-random'].qrels_data))\n",
    "print(len(QRELS['entrypage-popular'].qrels_data))"
   ]
  },
  {
   "cell_type": "code",
   "execution_count": null,
   "id": "1237cd2e-a73f-4649-ad2d-3a9e08713ee2",
   "metadata": {},
   "outputs": [],
   "source": []
  },
  {
   "cell_type": "code",
   "execution_count": 85,
   "id": "25efd14e-f314-4573-8330-260cedc8c860",
   "metadata": {},
   "outputs": [],
   "source": [
    "QRELS_MARCO_V2['entrypage-random'].qrels_data = QRELS_MARCO_V2['entrypage-random'].qrels_data[~(QRELS_MARCO_V2['entrypage-random'].qrels_data['query'].isin(QUERIES_TO_REMOVE_V2['entrypage-random']))]\n",
    "QRELS_MARCO_V2['entrypage-popular'].qrels_data = QRELS_MARCO_V2['entrypage-popular'].qrels_data[~(QRELS_MARCO_V2['entrypage-popular'].qrels_data['query'].isin(QUERIES_TO_REMOVE_V2['entrypage-popular']))]"
   ]
  },
  {
   "cell_type": "code",
   "execution_count": 86,
   "id": "3a3639ca-ba27-427f-9028-56161a1a5916",
   "metadata": {},
   "outputs": [
    {
     "name": "stdout",
     "output_type": "stream",
     "text": [
      "66\n",
      "81\n"
     ]
    }
   ],
   "source": [
    "print(len(QRELS_MARCO_V2['entrypage-random'].qrels_data))\n",
    "print(len(QRELS_MARCO_V2['entrypage-popular'].qrels_data))"
   ]
  },
  {
   "cell_type": "code",
   "execution_count": 90,
   "id": "43168e73-920b-4061-b059-234ef93a0854",
   "metadata": {},
   "outputs": [],
   "source": [
    "def recall(trec_eval, depth):\n",
    "    import pandas as pd\n",
    "    trecformat = trec_eval.run.run_data.sort_values([\"query\", \"score\", \"docid\"], ascending=[True,False,False]).reset_index()\n",
    "    topX = trecformat.groupby(\"query\")[[\"query\",\"docid\"]].head(depth)\n",
    "    merged = pd.merge(topX[[\"query\",\"docid\"]], trec_eval.qrels.qrels_data[[\"query\",\"docid\",\"rel\"]])\n",
    "\n",
    "    nqueries = len(trec_eval.qrels.topics())\n",
    "    result = merged[merged[\"rel\"]>0].groupby(\"query\")[\"rel\"].count()\n",
    "    \n",
    "    return result.sum()/nqueries\n",
    "\n",
    "def is_anchor_text(run_file):\n",
    "    return '-anchortext' in run_file\n",
    "\n",
    "def format_score(score, run_file, topics, position):\n",
    "    # Manually maintained\n",
    "    if is_anchor_text(run_file):\n",
    "        max_scores = {\n",
    "            'entrypage-random': [0.74, 0.82, 0.88, 0.61, 0.69, 0.8],\n",
    "            'entrypage-popular': [0.62, 0.71, 0.85, 0.56, 0.63, 0.79],\n",
    "        }\n",
    "    else:\n",
    "        max_scores =  {\n",
    "            'entrypage-random': [0.59, 0.63, 0.69, 0.55, 0.58, 0.65],\n",
    "            'entrypage-popular': [0.28, 0.32, 0.43, 0.27, 0.32, 0.43],\n",
    "        }\n",
    "        \n",
    "    ret = '{:.2f}'.format(score)\n",
    "    if max_scores[topics][position] <= score:\n",
    "        return '{\\\\textbf{' + ret + '}} '\n",
    "    else:\n",
    "        return ret\n",
    "\n",
    "def eval_on_marco_v1(run_file, year):\n",
    "    for topics in ['entrypage-random', 'entrypage-popular']:\n",
    "        run = TrecRun(RUN_DIR + topics + '-over-time/' + run_file)\n",
    "        trec_eval=TrecEval(run, QRELS[topics])\n",
    "        \n",
    "        yield {\n",
    "            'year': year,\n",
    "            'dataset': 'ms-marco-v1',\n",
    "            'topics': topics,\n",
    "            'recall_10': recall(trec_eval, 10)\n",
    "        }\n",
    "\n",
    "def eval_on_marco_v2(run_file, year):\n",
    "    for topics in ['entrypage-random', 'entrypage-popular']:\n",
    "        run = TrecRun(RUN_DIR_MARCO_V2 + topics + '-over-time/' + run_file)\n",
    "        trec_eval=TrecEval(run, QRELS_MARCO_V2[topics])\n",
    "        yield {\n",
    "            'year': year,\n",
    "            'dataset': 'ms-marco-v2',\n",
    "            'topics': topics,\n",
    "            'recall_10': recall(trec_eval, 10)\n",
    "        }\n",
    "\n",
    "def table_row(approach):\n",
    "    v1_eval = ' & --- & --- & --- & --- & --- & --- &'\n",
    "    \n",
    "    if approach in APPROACH_TO_MARCO_V1_RUN_FILE:\n",
    "        v1_eval = eval_on_marco_v1(APPROACH_TO_MARCO_V1_RUN_FILE[approach])\n",
    "    \n",
    "    v2_eval = ' --- & --- & --- & --- & --- & ---'\n",
    "    \n",
    "    if approach in APPROACH_TO_MARCO_V2_RUN_FILE:\n",
    "        v2_eval = eval_on_marco_v2(APPROACH_TO_MARCO_V2_RUN_FILE[approach])\n",
    "    \n",
    "    return '& ' + approach + v1_eval + v2_eval + ' \\\\\\\\'\n",
    "\n",
    "\n",
    "def df_entry_page_retrieval_effectiveness():\n",
    "    import pandas as pd\n",
    "    ret = []\n",
    "    for year, name in [(2016, 'BM25@2016-07'), (2017, 'BM25@2017-04'), (2018, 'BM25@2018-13'), (2019, 'BM25@2019-47'), (2020, 'BM25@2020-05'), (2021, 'BM25@2021-04')]:\n",
    "        for i in eval_on_marco_v1(APPROACH_TO_MARCO_V1_RUN_FILE[name], year):\n",
    "            ret += [i]\n",
    "        for i in eval_on_marco_v2(APPROACH_TO_MARCO_V2_RUN_FILE[name], year):\n",
    "            ret += [i]\n",
    "\n",
    "    return pd.DataFrame(ret)\n",
    "\n",
    "df = df_entry_page_retrieval_effectiveness()"
   ]
  },
  {
   "cell_type": "code",
   "execution_count": 117,
   "id": "20a52ae4-b17f-48f2-a607-28360213827f",
   "metadata": {},
   "outputs": [
    {
     "data": {
      "text/plain": [
       "<seaborn.axisgrid.FacetGrid at 0x7f62955c0610>"
      ]
     },
     "execution_count": 117,
     "metadata": {},
     "output_type": "execute_result"
    },
    {
     "data": {
      "image/png": "[encoded data removed]",
      "text/plain": [
       "<Figure size 849.5x720 with 2 Axes>"
      ]
     },
     "metadata": {
      "needs_background": "light"
     },
     "output_type": "display_data"
    }
   ],
   "source": [
    "import seaborn as sns\n",
    "\n",
    "g = sns.relplot(data=df, y='recall_10', x='year',hue='topics', row='dataset', kind='line', aspect=2)\n",
    "g.set(ylim=(0.75, 1.0))\n",
    "g.savefig('figure-retrieval-effectiveness-over-time.pdf')\n",
    "\n",
    "g"
   ]
  }
 ],
 "metadata": {
  "kernelspec": {
   "display_name": "Python 3",
   "language": "python",
   "name": "python3"
  },
  "language_info": {
   "codemirror_mode": {
    "name": "ipython",
    "version": 3
   },
   "file_extension": ".py",
   "mimetype": "text/x-python",
   "name": "python",
   "nbconvert_exporter": "python",
   "pygments_lexer": "ipython3",
   "version": "3.7.10"
  }
 },
 "nbformat": 4,
 "nbformat_minor": 5
}
