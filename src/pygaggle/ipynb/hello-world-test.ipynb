{
 "cells": [
  {
   "cell_type": "markdown",
   "id": "99ac1579",
   "metadata": {},
   "source": [
    "# PyGaggle Hello World"
   ]
  },
  {
   "cell_type": "code",
   "execution_count": 1,
   "id": "499a267a",
   "metadata": {},
   "outputs": [
    {
     "name": "stdout",
     "output_type": "stream",
     "text": [
      "Thu Sep  2 08:21:22 2021       \r\n",
      "+-----------------------------------------------------------------------------+\r\n",
      "| NVIDIA-SMI 460.84       Driver Version: 460.84       CUDA Version: 11.2     |\r\n",
      "|-------------------------------+----------------------+----------------------+\r\n",
      "| GPU  Name        Persistence-M| Bus-Id        Disp.A | Volatile Uncorr. ECC |\r\n",
      "| Fan  Temp  Perf  Pwr:Usage/Cap|         Memory-Usage | GPU-Util  Compute M. |\r\n",
      "|                               |                      |               MIG M. |\r\n",
      "|===============================+======================+======================|\r\n",
      "|   0  A100-SXM4-40GB      Off  | 00000000:01:00.0 Off |                    0 |\r\n",
      "| N/A   19C    P0    49W / 400W |      0MiB / 40536MiB |      0%      Default |\r\n",
      "|                               |                      |             Disabled |\r\n",
      "+-------------------------------+----------------------+----------------------+\r\n",
      "                                                                               \r\n",
      "+-----------------------------------------------------------------------------+\r\n",
      "| Processes:                                                                  |\r\n",
      "|  GPU   GI   CI        PID   Type   Process name                  GPU Memory |\r\n",
      "|        ID   ID                                                   Usage      |\r\n",
      "|=============================================================================|\r\n",
      "|  No running processes found                                                 |\r\n",
      "+-----------------------------------------------------------------------------+\r\n"
     ]
    }
   ],
   "source": [
    "!nvidia-smi"
   ]
  },
  {
   "cell_type": "code",
   "execution_count": 7,
   "id": "d14241d2",
   "metadata": {},
   "outputs": [],
   "source": [
    "import json\n",
    "\n",
    "queryToDocs = json.load(open('/mnt/ceph/storage/data-in-progress/data-research/web-search/TREC-21/resources/all-top-100.json'))\n"
   ]
  },
  {
   "cell_type": "code",
   "execution_count": 8,
   "id": "3022a88d",
   "metadata": {},
   "outputs": [
    {
     "name": "stderr",
     "output_type": "stream",
     "text": [
      "2021-08-05 17:27:14 [INFO] loader: Loading faiss with AVX2 support.\n",
      "2021-08-05 17:27:14 [INFO] loader: Could not load library with AVX2 support due to:\n",
      "ModuleNotFoundError(\"No module named 'faiss.swigfaiss_avx2'\",)\n",
      "2021-08-05 17:27:14 [INFO] loader: Loading faiss.\n",
      "2021-08-05 17:27:15 [INFO] loader: Successfully loaded faiss.\n"
     ]
    }
   ],
   "source": [
    "from pygaggle.rerank.base import Query, Text\n",
    "from pygaggle.rerank.transformer import MonoT5\n",
    "from pygaggle.rerank.transformer import MonoBERT"
   ]
  },
  {
   "cell_type": "code",
   "execution_count": 9,
   "id": "09520e5f",
   "metadata": {},
   "outputs": [],
   "source": [
    "monoBertReranker = MonoBERT()"
   ]
  },
  {
   "cell_type": "code",
   "execution_count": 10,
   "id": "92a076e5",
   "metadata": {},
   "outputs": [],
   "source": [
    "monoT5Reranker = MonoT5()"
   ]
  },
  {
   "cell_type": "code",
   "execution_count": 20,
   "id": "e9522ef9",
   "metadata": {},
   "outputs": [],
   "source": [
    "docs_store = ir_datasets.load('msmarco-document-v2').docs_store()"
   ]
  },
  {
   "cell_type": "code",
   "execution_count": 5,
   "id": "50dc3f10",
   "metadata": {},
   "outputs": [
    {
     "name": "stderr",
     "output_type": "stream",
     "text": [
      "322196it [00:00, 323915.78it/s]\n",
      "4552it [00:00, 134830.98it/s]\n",
      "5000it [00:00, 118149.41it/s]\n",
      "477it [00:00, 25087.56it/s]\n"
     ]
    }
   ],
   "source": [
    "import ir_datasets\n",
    "from tqdm import tqdm\n",
    "\n",
    "MS_MARCO_V2_QUERY_DATASETS = [\n",
    "    ir_datasets.load('msmarco-document-v2/train'),\n",
    "    ir_datasets.load('msmarco-document-v2/dev1'),\n",
    "    ir_datasets.load('msmarco-document-v2/dev2'),\n",
    "    ir_datasets.create_dataset(queries_tsv=\"/mnt/ceph/storage/data-in-progress/data-research/web-search/TREC-21/resources/2021_queries.tsv\")\n",
    "]\n",
    "\n",
    "queries = {}\n",
    "for query_dataset in MS_MARCO_V2_QUERY_DATASETS:\n",
    "    for query in tqdm(query_dataset.queries_iter()):\n",
    "        queries[query.query_id] = query.text\n"
   ]
  },
  {
   "cell_type": "code",
   "execution_count": 28,
   "id": "3653e6f4",
   "metadata": {},
   "outputs": [],
   "source": [
    "def process_query(query_id, documents):\n",
    "    documentFeatures = {i:{} for i in documents}\n",
    "    \n",
    "    query = queries[query_id]\n",
    "    documents = [Text(docs_store.get(i), {'docid': i}, 0) for i in documents]\n",
    "    if query is None or query.strip() == '':\n",
    "        raise ValueError('Should not happen')\n",
    "    if len(documents) != 100:\n",
    "        raise ValueError('Should not happen')\n",
    "    \n",
    "    #for i in monoBertReranker.rerank(Query(query), documents):\n",
    "    #    documentFeatures[i.metadata[\"docid\"]]['feature_mono_bert'] = i.score\n",
    "\n",
    "    for i in monoT5Reranker.rerank(Query(query), documents):\n",
    "        documentFeatures[i.metadata[\"docid\"]]['feature_mono_t5'] = i.score\n",
    "        \n",
    "    return {\n",
    "        'query': query,\n",
    "        'topic': query_id,\n",
    "        'documentFeatures': documentFeatures\n",
    "    }"
   ]
  },
  {
   "cell_type": "code",
   "execution_count": null,
   "id": "7ab1fc97",
   "metadata": {},
   "outputs": [],
   "source": [
    "# Write the actual Data to "
   ]
  },
  {
   "cell_type": "code",
   "execution_count": null,
   "id": "21fe5993",
   "metadata": {},
   "outputs": [
    {
     "name": "stderr",
     "output_type": "stream",
     "text": [
      "  0%|          | 13/332221 [02:13<680:11:38,  7.37s/it] /usr/local/lib/python3.6/dist-packages/transformers/models/t5/tokenization_t5.py:173: UserWarning: This sequence already has </s>. In future versions this behavior may lead to duplicated eos tokens being added.\n",
      "  f\"This sequence already has {self.eos_token}. In future versions this behavior may lead to duplicated eos tokens being added.\"\n",
      "  1%|          | 2088/332221 [18:15:29<2423:31:03, 26.43s/it]  "
     ]
    }
   ],
   "source": [
    "for query_id in tqdm(queryToDocs):\n",
    "    json.dump(process_query(query_id, queryToDocs[query_id]), open('/mnt/ceph/storage/data-in-progress/data-research/web-search/TREC-21/pygaggle_features/' + query_id + '.json', 'w'))"
   ]
  },
  {
   "cell_type": "code",
   "execution_count": 25,
   "id": "ca0579dc",
   "metadata": {},
   "outputs": [
    {
     "data": {
      "text/plain": [
       "{'query': 'who plays snowden in the movie',\n",
       " 'topic': '1048595',\n",
       " 'documentFeatures': {'msmarco_doc_11_1566855042': {'feature_mono_bert': -11.574138641357422,\n",
       "   'feature_mono_t5': -9.774126052856445},\n",
       "  'msmarco_doc_34_894540006': {'feature_mono_bert': -11.574138641357422,\n",
       "   'feature_mono_t5': -12.008002281188965},\n",
       "  'msmarco_doc_25_13209253': {'feature_mono_bert': -11.574138641357422,\n",
       "   'feature_mono_t5': -7.794625282287598},\n",
       "  'msmarco_doc_06_1679863215': {'feature_mono_bert': -11.574138641357422,\n",
       "   'feature_mono_t5': -8.38987922668457},\n",
       "  'msmarco_doc_17_1201364868': {'feature_mono_bert': -11.574138641357422,\n",
       "   'feature_mono_t5': -13.23913860321045},\n",
       "  'msmarco_doc_36_933724560': {'feature_mono_bert': -11.574138641357422,\n",
       "   'feature_mono_t5': -11.638420104980469},\n",
       "  'msmarco_doc_18_2995196448': {'feature_mono_bert': -11.574138641357422,\n",
       "   'feature_mono_t5': -0.08372984826564789},\n",
       "  'msmarco_doc_56_956040808': {'feature_mono_bert': -11.574138641357422,\n",
       "   'feature_mono_t5': -12.349287986755371},\n",
       "  'msmarco_doc_07_1580987167': {'feature_mono_bert': -11.574138641357422,\n",
       "   'feature_mono_t5': -8.807698249816895},\n",
       "  'msmarco_doc_18_2651320580': {'feature_mono_bert': -11.574138641357422,\n",
       "   'feature_mono_t5': -9.704570770263672},\n",
       "  'msmarco_doc_23_265170867': {'feature_mono_bert': -11.574138641357422,\n",
       "   'feature_mono_t5': -9.596508979797363},\n",
       "  'msmarco_doc_19_975576546': {'feature_mono_bert': -11.574138641357422,\n",
       "   'feature_mono_t5': -6.500493049621582},\n",
       "  'msmarco_doc_18_1336610742': {'feature_mono_bert': -11.574138641357422,\n",
       "   'feature_mono_t5': -13.321866989135742},\n",
       "  'msmarco_doc_14_10033982': {'feature_mono_bert': -11.574138641357422,\n",
       "   'feature_mono_t5': -3.570113182067871},\n",
       "  'msmarco_doc_56_130769024': {'feature_mono_bert': -11.574138641357422,\n",
       "   'feature_mono_t5': -8.656195640563965},\n",
       "  'msmarco_doc_48_435352758': {'feature_mono_bert': -11.574138641357422,\n",
       "   'feature_mono_t5': -12.518403053283691},\n",
       "  'msmarco_doc_17_3563742952': {'feature_mono_bert': -11.574138641357422,\n",
       "   'feature_mono_t5': -10.981379508972168},\n",
       "  'msmarco_doc_34_897578741': {'feature_mono_bert': -11.574138641357422,\n",
       "   'feature_mono_t5': -10.106200218200684},\n",
       "  'msmarco_doc_03_398548674': {'feature_mono_bert': -11.574138641357422,\n",
       "   'feature_mono_t5': -9.143527030944824},\n",
       "  'msmarco_doc_18_3938785621': {'feature_mono_bert': -11.574138641357422,\n",
       "   'feature_mono_t5': -11.774667739868164},\n",
       "  'msmarco_doc_08_1274116734': {'feature_mono_bert': -11.574138641357422,\n",
       "   'feature_mono_t5': -11.576791763305664},\n",
       "  'msmarco_doc_08_626311230': {'feature_mono_bert': -11.574138641357422,\n",
       "   'feature_mono_t5': -6.8743133544921875},\n",
       "  'msmarco_doc_05_781386729': {'feature_mono_bert': -11.574138641357422,\n",
       "   'feature_mono_t5': -1.8935539722442627},\n",
       "  'msmarco_doc_50_1599773858': {'feature_mono_bert': -11.574138641357422,\n",
       "   'feature_mono_t5': -11.919391632080078},\n",
       "  'msmarco_doc_27_1525199215': {'feature_mono_bert': -11.574138641357422,\n",
       "   'feature_mono_t5': -8.445021629333496},\n",
       "  'msmarco_doc_57_886267153': {'feature_mono_bert': -11.574138641357422,\n",
       "   'feature_mono_t5': -12.995302200317383},\n",
       "  'msmarco_doc_54_136129569': {'feature_mono_bert': -11.574138641357422,\n",
       "   'feature_mono_t5': -11.641419410705566},\n",
       "  'msmarco_doc_18_2793884228': {'feature_mono_bert': -11.574138641357422,\n",
       "   'feature_mono_t5': -13.086688995361328},\n",
       "  'msmarco_doc_27_846034859': {'feature_mono_bert': -11.574138641357422,\n",
       "   'feature_mono_t5': -9.616193771362305},\n",
       "  'msmarco_doc_01_356353328': {'feature_mono_bert': -11.574138641357422,\n",
       "   'feature_mono_t5': -13.118158340454102},\n",
       "  'msmarco_doc_48_101583992': {'feature_mono_bert': -11.574138641357422,\n",
       "   'feature_mono_t5': -10.71033000946045},\n",
       "  'msmarco_doc_18_3813588164': {'feature_mono_bert': -11.574138641357422,\n",
       "   'feature_mono_t5': -2.4371228218078613},\n",
       "  'msmarco_doc_02_437808794': {'feature_mono_bert': -11.574138641357422,\n",
       "   'feature_mono_t5': -0.20045003294944763},\n",
       "  'msmarco_doc_45_1469904045': {'feature_mono_bert': -11.574138641357422,\n",
       "   'feature_mono_t5': -9.66445541381836},\n",
       "  'msmarco_doc_36_108599887': {'feature_mono_bert': -11.574138641357422,\n",
       "   'feature_mono_t5': -11.45169448852539},\n",
       "  'msmarco_doc_04_1293550095': {'feature_mono_bert': -11.574138641357422,\n",
       "   'feature_mono_t5': -12.42024040222168},\n",
       "  'msmarco_doc_46_97876166': {'feature_mono_bert': -11.574138641357422,\n",
       "   'feature_mono_t5': -11.943305969238281},\n",
       "  'msmarco_doc_00_1373931903': {'feature_mono_bert': -11.574138641357422,\n",
       "   'feature_mono_t5': -0.033700406551361084},\n",
       "  'msmarco_doc_27_1432167137': {'feature_mono_bert': -11.574138641357422,\n",
       "   'feature_mono_t5': -2.236860990524292},\n",
       "  'msmarco_doc_17_2365839181': {'feature_mono_bert': -11.574138641357422,\n",
       "   'feature_mono_t5': -13.614033699035645},\n",
       "  'msmarco_doc_25_295222915': {'feature_mono_bert': -11.574138641357422,\n",
       "   'feature_mono_t5': -9.261951446533203},\n",
       "  'msmarco_doc_05_1570733030': {'feature_mono_bert': -11.574138641357422,\n",
       "   'feature_mono_t5': -0.5265535712242126},\n",
       "  'msmarco_doc_43_1143323937': {'feature_mono_bert': -11.574138641357422,\n",
       "   'feature_mono_t5': -12.6541748046875},\n",
       "  'msmarco_doc_58_1151086882': {'feature_mono_bert': -11.574138641357422,\n",
       "   'feature_mono_t5': -11.698038101196289},\n",
       "  'msmarco_doc_31_34670494': {'feature_mono_bert': -11.574138641357422,\n",
       "   'feature_mono_t5': -11.827743530273438},\n",
       "  'msmarco_doc_35_384131963': {'feature_mono_bert': -11.574138641357422,\n",
       "   'feature_mono_t5': -0.14244167506694794},\n",
       "  'msmarco_doc_09_1652048080': {'feature_mono_bert': -11.574138641357422,\n",
       "   'feature_mono_t5': -4.7741851806640625},\n",
       "  'msmarco_doc_23_1742022779': {'feature_mono_bert': -11.574138641357422,\n",
       "   'feature_mono_t5': -13.722538948059082},\n",
       "  'msmarco_doc_48_459815269': {'feature_mono_bert': -11.574138641357422,\n",
       "   'feature_mono_t5': -9.80876350402832},\n",
       "  'msmarco_doc_22_1382344055': {'feature_mono_bert': -11.574138641357422,\n",
       "   'feature_mono_t5': -10.273773193359375},\n",
       "  'msmarco_doc_16_955325079': {'feature_mono_bert': -11.574138641357422,\n",
       "   'feature_mono_t5': -0.011772090569138527},\n",
       "  'msmarco_doc_16_720484193': {'feature_mono_bert': -11.574138641357422,\n",
       "   'feature_mono_t5': -13.122581481933594},\n",
       "  'msmarco_doc_08_374326385': {'feature_mono_bert': -11.574138641357422,\n",
       "   'feature_mono_t5': -10.707266807556152},\n",
       "  'msmarco_doc_06_268470791': {'feature_mono_bert': -11.574138641357422,\n",
       "   'feature_mono_t5': -0.03378338739275932},\n",
       "  'msmarco_doc_54_1564550144': {'feature_mono_bert': -11.574138641357422,\n",
       "   'feature_mono_t5': -0.5412513017654419},\n",
       "  'msmarco_doc_41_975100346': {'feature_mono_bert': -11.574138641357422,\n",
       "   'feature_mono_t5': -11.850584983825684},\n",
       "  'msmarco_doc_08_1728110882': {'feature_mono_bert': -11.574138641357422,\n",
       "   'feature_mono_t5': -12.76653003692627},\n",
       "  'msmarco_doc_53_1524599103': {'feature_mono_bert': -11.574138641357422,\n",
       "   'feature_mono_t5': -7.0713725090026855},\n",
       "  'msmarco_doc_25_1769738569': {'feature_mono_bert': -11.574138641357422,\n",
       "   'feature_mono_t5': -0.21960029006004333},\n",
       "  'msmarco_doc_35_384501465': {'feature_mono_bert': -11.574138641357422,\n",
       "   'feature_mono_t5': -1.2716931104660034},\n",
       "  'msmarco_doc_30_371590728': {'feature_mono_bert': -11.574138641357422,\n",
       "   'feature_mono_t5': -8.00739574432373},\n",
       "  'msmarco_doc_17_2227365877': {'feature_mono_bert': -11.574138641357422,\n",
       "   'feature_mono_t5': -13.679742813110352},\n",
       "  'msmarco_doc_43_1462892387': {'feature_mono_bert': -11.574138641357422,\n",
       "   'feature_mono_t5': -7.483456611633301},\n",
       "  'msmarco_doc_17_3564539784': {'feature_mono_bert': -11.574138641357422,\n",
       "   'feature_mono_t5': -13.505739212036133},\n",
       "  'msmarco_doc_34_892331482': {'feature_mono_bert': -11.574138641357422,\n",
       "   'feature_mono_t5': -6.879569053649902},\n",
       "  'msmarco_doc_07_184006037': {'feature_mono_bert': -11.574138641357422,\n",
       "   'feature_mono_t5': -7.533002853393555},\n",
       "  'msmarco_doc_17_532842201': {'feature_mono_bert': -11.574138641357422,\n",
       "   'feature_mono_t5': -11.804405212402344},\n",
       "  'msmarco_doc_27_1525207798': {'feature_mono_bert': -11.574138641357422,\n",
       "   'feature_mono_t5': -8.428794860839844},\n",
       "  'msmarco_doc_14_285775404': {'feature_mono_bert': -11.574138641357422,\n",
       "   'feature_mono_t5': -10.388092994689941},\n",
       "  'msmarco_doc_07_10867662': {'feature_mono_bert': -11.574138641357422,\n",
       "   'feature_mono_t5': -13.382428169250488},\n",
       "  'msmarco_doc_14_1667399948': {'feature_mono_bert': -11.574138641357422,\n",
       "   'feature_mono_t5': -9.678455352783203},\n",
       "  'msmarco_doc_16_945963046': {'feature_mono_bert': -11.574138641357422,\n",
       "   'feature_mono_t5': -13.194466590881348},\n",
       "  'msmarco_doc_06_41070040': {'feature_mono_bert': -11.574138641357422,\n",
       "   'feature_mono_t5': -0.05854872986674309},\n",
       "  'msmarco_doc_42_1346975128': {'feature_mono_bert': -11.574138641357422,\n",
       "   'feature_mono_t5': -10.756644248962402},\n",
       "  'msmarco_doc_51_866945039': {'feature_mono_bert': -11.574138641357422,\n",
       "   'feature_mono_t5': -9.521337509155273},\n",
       "  'msmarco_doc_43_1201117666': {'feature_mono_bert': -11.574138641357422,\n",
       "   'feature_mono_t5': -12.152008056640625},\n",
       "  'msmarco_doc_43_1300359604': {'feature_mono_bert': -11.574138641357422,\n",
       "   'feature_mono_t5': -12.243535041809082},\n",
       "  'msmarco_doc_58_970589200': {'feature_mono_bert': -11.574138641357422,\n",
       "   'feature_mono_t5': -10.283149719238281},\n",
       "  'msmarco_doc_14_1581264991': {'feature_mono_bert': -11.574138641357422,\n",
       "   'feature_mono_t5': -12.745598793029785},\n",
       "  'msmarco_doc_54_522564239': {'feature_mono_bert': -11.574138641357422,\n",
       "   'feature_mono_t5': -0.06399483233690262},\n",
       "  'msmarco_doc_07_104611992': {'feature_mono_bert': -11.574138641357422,\n",
       "   'feature_mono_t5': -4.103247165679932},\n",
       "  'msmarco_doc_24_1816508036': {'feature_mono_bert': -11.574138641357422,\n",
       "   'feature_mono_t5': -0.04638305678963661},\n",
       "  'msmarco_doc_43_1499503624': {'feature_mono_bert': -11.574138641357422,\n",
       "   'feature_mono_t5': -11.845763206481934},\n",
       "  'msmarco_doc_21_931679420': {'feature_mono_bert': -11.574138641357422,\n",
       "   'feature_mono_t5': -8.997265815734863},\n",
       "  'msmarco_doc_37_496906223': {'feature_mono_bert': -11.574138641357422,\n",
       "   'feature_mono_t5': -12.411876678466797},\n",
       "  'msmarco_doc_03_978132103': {'feature_mono_bert': -11.574138641357422,\n",
       "   'feature_mono_t5': -7.380665302276611},\n",
       "  'msmarco_doc_27_1446223959': {'feature_mono_bert': -11.574138641357422,\n",
       "   'feature_mono_t5': -9.546455383300781},\n",
       "  'msmarco_doc_50_1911006951': {'feature_mono_bert': -11.574138641357422,\n",
       "   'feature_mono_t5': -10.616055488586426},\n",
       "  'msmarco_doc_14_1581290571': {'feature_mono_bert': -11.574138641357422,\n",
       "   'feature_mono_t5': -12.817997932434082},\n",
       "  'msmarco_doc_27_1045922107': {'feature_mono_bert': -11.574138641357422,\n",
       "   'feature_mono_t5': -10.378661155700684},\n",
       "  'msmarco_doc_17_2951385821': {'feature_mono_bert': -11.574138641357422,\n",
       "   'feature_mono_t5': -13.399312019348145},\n",
       "  'msmarco_doc_29_105338969': {'feature_mono_bert': -11.574138641357422,\n",
       "   'feature_mono_t5': -10.216981887817383},\n",
       "  'msmarco_doc_16_3624255182': {'feature_mono_bert': -11.574138641357422,\n",
       "   'feature_mono_t5': -0.6060491800308228},\n",
       "  'msmarco_doc_16_2325057500': {'feature_mono_bert': -11.574138641357422,\n",
       "   'feature_mono_t5': -11.219926834106445},\n",
       "  'msmarco_doc_17_3005937572': {'feature_mono_bert': -11.574138641357422,\n",
       "   'feature_mono_t5': -13.102646827697754},\n",
       "  'msmarco_doc_48_620341523': {'feature_mono_bert': -11.574138641357422,\n",
       "   'feature_mono_t5': -9.605875015258789},\n",
       "  'msmarco_doc_48_661541274': {'feature_mono_bert': -11.574138641357422,\n",
       "   'feature_mono_t5': -4.741786003112793},\n",
       "  'msmarco_doc_11_943882228': {'feature_mono_bert': -11.574138641357422,\n",
       "   'feature_mono_t5': -13.374326705932617},\n",
       "  'msmarco_doc_43_962825661': {'feature_mono_bert': -11.574138641357422,\n",
       "   'feature_mono_t5': -13.346461296081543},\n",
       "  'msmarco_doc_48_1467535961': {'feature_mono_bert': -11.574138641357422,\n",
       "   'feature_mono_t5': -11.311946868896484}}}"
      ]
     },
     "execution_count": 25,
     "metadata": {},
     "output_type": "execute_result"
    }
   ],
   "source": [
    "process_query('1048595', queryToDocs['1048595'])"
   ]
  },
  {
   "cell_type": "code",
   "execution_count": 27,
   "id": "b540cea8",
   "metadata": {},
   "outputs": [
    {
     "name": "stdout",
     "output_type": "stream",
     "text": [
      "msmarco_doc_11_1566855042 -> -9.775344848632812\n",
      "msmarco_doc_18_2995196448 -> -0.08368939161300659\n"
     ]
    }
   ],
   "source": [
    "for i in monoT5Reranker.rerank(Query('who plays snowden in the movie'), [Text(docs_store.get('msmarco_doc_11_1566855042'), {'docid': 'msmarco_doc_11_1566855042'}, 0), Text(docs_store.get('msmarco_doc_18_2995196448'), {'docid': 'msmarco_doc_18_2995196448'}, 0)]):\n",
    "    print(i.metadata[\"docid\"] + ' -> ' + str(i.score))"
   ]
  }
 ],
 "metadata": {
  "kernelspec": {
   "display_name": "Python 3",
   "language": "python",
   "name": "python3"
  },
  "language_info": {
   "codemirror_mode": {
    "name": "ipython",
    "version": 3
   },
   "file_extension": ".py",
   "mimetype": "text/x-python",
   "name": "python",
   "nbconvert_exporter": "python",
   "pygments_lexer": "ipython3",
   "version": "3.6.9"
  }
 },
 "nbformat": 4,
 "nbformat_minor": 5
}
