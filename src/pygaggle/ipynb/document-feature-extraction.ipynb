{
 "cells": [
  {
   "cell_type": "markdown",
   "id": "358de4f3",
   "metadata": {},
   "source": [
    "# Extraction of Document Features"
   ]
  },
  {
   "cell_type": "code",
   "execution_count": 105,
   "id": "de6072ab",
   "metadata": {},
   "outputs": [
    {
     "name": "stderr",
     "output_type": "stream",
     "text": [
      "0it [00:00, ?it/s]"
     ]
    },
    {
     "name": "stdout",
     "output_type": "stream",
     "text": [
      "MsMarcoV2Document(doc_id='msmarco_doc_00_0', url='http://0-60.reviews/0-60-times/', title='0-60 Times - 0-60 | 0 to 60 Times & 1/4 Mile Times | Zero to 60 Car Reviews', headings='0-60 Times\\n0-60 Times', body='0-60 Times - 0-60 | 0 to 60 Times & 1/4 Mile Times | Zero to 60 Car Reviews\\n0-60 Times\\nThere are many ways to measure the power a vehicle has – top speed, horsepower, foot-pounds of torque. Those are all important, but the most asked question is, “What’s the 0-60 time?” This is nothing more than a measure of how quickly a vehicle can reach the 60 mile per hour mark. It is a measure of acceleration of a vehicle. 0-60 times differ a great deal depending on the amount of power a motor puts out, of course. But anyone who spends any amount of time with car enthusiasts are sure to hear the ubiquitous term bantered around more often than most other metrics by which cars are measured in terms of power.\\nThe only other measure that comes close as far as how acceleration is commonly measures in cars in the United States is the quarter mile time. Enthusiasts will often ask about how quickly a car can get through a quarter mile, but that can be seen as less accurate a estimate of acceleration than the amount of time it takes a vehicle to reach the sixty miler per hour mark. The quarter mile time can often have more variable such as driver experience.\\nThe 0-60 mph speed is used as the standard in the United States, where the rest of the world prefers the 0-100 km version. But both measure the performance of a car. A lot goes into increasing 0-60 times in performance vehicles. As a normal rule of thumb, performance cars are considered those with 0-60 time of under 6 seconds, while Exotic cars will do 0-60 in 3 to 4 seconds. However, in most cases, a car isn’t simply “stuck with” the acceleration number with which it was born. Engineers and designers work tirelessly to provide better and better numbers with each progressive model of performance and exotic cars. But, even the back yard mechanic or muscle car enthusiast can determine the 0-60 times of their cars and make moves to improve them.\\nThe testing of acceleration is usually done on a closed course away from people other than the team that may be working on the specific car. This limits putting anyone in danger who is not part of the test or the ongoing project. Testers can use something as simple as a stop watch and the vehicle’s speedometer. This is probably good enough for the typical muscle car enthusiast who is just looking for an estimate of how much power his latest improvements will give him. For engineers testing a new exotic sports car, though, a simple estimate is not accurate enough. They want hard and fast 0-60 times, and they use much more highly-technical equipment to get their numbers. With the 0-60 figure being so important in automobile sales, they do everything possible to ensure their numbers are incredibly accurate.\\nIn professional testing situations, highly technical and accurate measuring devices are hooked to computers as the test is performed. The test is run in two different directions, to eliminate any influence of wind, an unseen downhill grade or any differences in traction. The average of these two times will be the recorded 0-60 time for the car. Doppler radar guns are used to ensure the tester is recording exact 0 -60 times. This leaves the driver to focus solely on running through the gears as precisely as possible and simply driving in a straight line. This allow for a more accurate measure, as does running the test first in one direction and then in the exact opposite direction.\\nSome still feel, however, that listing one 0 – 60 time is not truly indicative of what a new owner can expect from a performance or exotic car, or even a muscle car. Instead, some believe the measure should include a range of times rather than one finite mark to which all cars of any particular model should be held. For instance, they believe a BMW M3 should have a listed time of 3.9 – 4.2 seconds and a Corvette Z06 should have a range from 3.6 to 4.0. These people believe that a range of numbers better represents what an owner can honestly expect to see when he or she takes delivery of a new vehicle.\\nThis contingent of car enthusiasts and engineers believes that there is no way for either the time to 60 mph or even a quarter mile time to be completely accurate, as there are simply too many variables that come into play. No matter if you are a 0 – 60 purist, or you believe that it is an inexact science, you can be sure that the measure itself will not be going away any time soon. It is still one of the biggest touted numbers for vehicles, and easier for people to relate to than horsepower and torque.')\n"
     ]
    },
    {
     "name": "stderr",
     "output_type": "stream",
     "text": [
      "\n"
     ]
    }
   ],
   "source": [
    "import ir_datasets\n",
    "from tqdm import tqdm\n",
    "\n",
    "dataset = ir_datasets.load('msmarco-document-v2')\n",
    "\n",
    "for doc in tqdm(dataset.docs_iter()):\n",
    "    print(doc)\n",
    "    break"
   ]
  },
  {
   "cell_type": "code",
   "execution_count": 9,
   "id": "5a73b588",
   "metadata": {},
   "outputs": [
    {
     "data": {
      "text/plain": [
       "MsMarcoV2Document(doc_id='msmarco_doc_00_0', url='http://0-60.reviews/0-60-times/', title='0-60 Times - 0-60 | 0 to 60 Times & 1/4 Mile Times | Zero to 60 Car Reviews', headings='0-60 Times\\n0-60 Times', body='0-60 Times - 0-60 | 0 to 60 Times & 1/4 Mile Times | Zero to 60 Car Reviews\\n0-60 Times\\nThere are many ways to measure the power a vehicle has – top speed, horsepower, foot-pounds of torque. Those are all important, but the most asked question is, “What’s the 0-60 time?” This is nothing more than a measure of how quickly a vehicle can reach the 60 mile per hour mark. It is a measure of acceleration of a vehicle. 0-60 times differ a great deal depending on the amount of power a motor puts out, of course. But anyone who spends any amount of time with car enthusiasts are sure to hear the ubiquitous term bantered around more often than most other metrics by which cars are measured in terms of power.\\nThe only other measure that comes close as far as how acceleration is commonly measures in cars in the United States is the quarter mile time. Enthusiasts will often ask about how quickly a car can get through a quarter mile, but that can be seen as less accurate a estimate of acceleration than the amount of time it takes a vehicle to reach the sixty miler per hour mark. The quarter mile time can often have more variable such as driver experience.\\nThe 0-60 mph speed is used as the standard in the United States, where the rest of the world prefers the 0-100 km version. But both measure the performance of a car. A lot goes into increasing 0-60 times in performance vehicles. As a normal rule of thumb, performance cars are considered those with 0-60 time of under 6 seconds, while Exotic cars will do 0-60 in 3 to 4 seconds. However, in most cases, a car isn’t simply “stuck with” the acceleration number with which it was born. Engineers and designers work tirelessly to provide better and better numbers with each progressive model of performance and exotic cars. But, even the back yard mechanic or muscle car enthusiast can determine the 0-60 times of their cars and make moves to improve them.\\nThe testing of acceleration is usually done on a closed course away from people other than the team that may be working on the specific car. This limits putting anyone in danger who is not part of the test or the ongoing project. Testers can use something as simple as a stop watch and the vehicle’s speedometer. This is probably good enough for the typical muscle car enthusiast who is just looking for an estimate of how much power his latest improvements will give him. For engineers testing a new exotic sports car, though, a simple estimate is not accurate enough. They want hard and fast 0-60 times, and they use much more highly-technical equipment to get their numbers. With the 0-60 figure being so important in automobile sales, they do everything possible to ensure their numbers are incredibly accurate.\\nIn professional testing situations, highly technical and accurate measuring devices are hooked to computers as the test is performed. The test is run in two different directions, to eliminate any influence of wind, an unseen downhill grade or any differences in traction. The average of these two times will be the recorded 0-60 time for the car. Doppler radar guns are used to ensure the tester is recording exact 0 -60 times. This leaves the driver to focus solely on running through the gears as precisely as possible and simply driving in a straight line. This allow for a more accurate measure, as does running the test first in one direction and then in the exact opposite direction.\\nSome still feel, however, that listing one 0 – 60 time is not truly indicative of what a new owner can expect from a performance or exotic car, or even a muscle car. Instead, some believe the measure should include a range of times rather than one finite mark to which all cars of any particular model should be held. For instance, they believe a BMW M3 should have a listed time of 3.9 – 4.2 seconds and a Corvette Z06 should have a range from 3.6 to 4.0. These people believe that a range of numbers better represents what an owner can honestly expect to see when he or she takes delivery of a new vehicle.\\nThis contingent of car enthusiasts and engineers believes that there is no way for either the time to 60 mph or even a quarter mile time to be completely accurate, as there are simply too many variables that come into play. No matter if you are a 0 – 60 purist, or you believe that it is an inexact science, you can be sure that the measure itself will not be going away any time soon. It is still one of the biggest touted numbers for vehicles, and easier for people to relate to than horsepower and torque.')"
      ]
     },
     "execution_count": 9,
     "metadata": {},
     "output_type": "execute_result"
    }
   ],
   "source": [
    "dataset.docs_store().get('msmarco_doc_00_0')"
   ]
  },
  {
   "cell_type": "code",
   "execution_count": 13,
   "id": "a086ac5e",
   "metadata": {},
   "outputs": [
    {
     "data": {
      "text/plain": [
       "2"
      ]
     },
     "execution_count": 13,
     "metadata": {},
     "output_type": "execute_result"
    }
   ],
   "source": [
    "def length_in_tokens(string):\n",
    "    return len(string.replace('\\\\s+', ' ').split(' '))\n",
    "\n",
    "count_slashes_in_url('http://0-60.reviews/0-60-times/')"
   ]
  },
  {
   "cell_type": "code",
   "execution_count": 12,
   "id": "80b3a8cb",
   "metadata": {},
   "outputs": [
    {
     "name": "stdout",
     "output_type": "stream",
     "text": [
      "2\n"
     ]
    },
    {
     "data": {
      "text/plain": [
       "2"
      ]
     },
     "execution_count": 12,
     "metadata": {},
     "output_type": "execute_result"
    }
   ],
   "source": [
    "def count_slashes_in_url(url):\n",
    "    from urllib.parse import urlparse\n",
    "    return urlparse(url).path.count('/')\n",
    "\n",
    "def extract_host_reversed(url):\n",
    "    from urllib.parse import urlparse\n",
    "    return '.'.join(reversed(urlparse(url).hostname.split('.')))\n",
    "\n",
    "def dots_in_host(url):\n",
    "    from urllib.parse import urlparse\n",
    "    return urlparse(url).hostname.count('.')\n",
    "\n",
    "print(count_slashes_in_url('http://fonts.googleapis.com/0-60-times/'))\n",
    "(dots_in_host('http://fonts.googleapis.com/0-60-times/'))"
   ]
  },
  {
   "cell_type": "code",
   "execution_count": 31,
   "id": "3b16c071",
   "metadata": {},
   "outputs": [
    {
     "name": "stderr",
     "output_type": "stream",
     "text": [
      "11959635it [06:21, 31358.04it/s]\n"
     ]
    }
   ],
   "source": [
    "from tqdm import tqdm\n",
    "hosts_in_ms_marco = set()\n",
    "\n",
    "for doc in tqdm(dataset.docs_iter()):\n",
    "    hosts_in_ms_marco.add(extract_host_reversed(doc.url))"
   ]
  },
  {
   "cell_type": "code",
   "execution_count": 15,
   "id": "175000e7",
   "metadata": {},
   "outputs": [
    {
     "data": {
      "text/html": [
       "<div>\n",
       "<style scoped>\n",
       "    .dataframe tbody tr th:only-of-type {\n",
       "        vertical-align: middle;\n",
       "    }\n",
       "\n",
       "    .dataframe tbody tr th {\n",
       "        vertical-align: top;\n",
       "    }\n",
       "\n",
       "    .dataframe thead th {\n",
       "        text-align: right;\n",
       "    }\n",
       "</style>\n",
       "<table border=\"1\" class=\"dataframe\">\n",
       "  <thead>\n",
       "    <tr style=\"text-align: right;\">\n",
       "      <th></th>\n",
       "      <th>rank</th>\n",
       "      <th>domain</th>\n",
       "      <th>dots</th>\n",
       "    </tr>\n",
       "  </thead>\n",
       "  <tbody>\n",
       "    <tr>\n",
       "      <th>0</th>\n",
       "      <td>1</td>\n",
       "      <td>google.com</td>\n",
       "      <td>1</td>\n",
       "    </tr>\n",
       "    <tr>\n",
       "      <th>1</th>\n",
       "      <td>2</td>\n",
       "      <td>youtube.com</td>\n",
       "      <td>1</td>\n",
       "    </tr>\n",
       "    <tr>\n",
       "      <th>2</th>\n",
       "      <td>3</td>\n",
       "      <td>tmall.com</td>\n",
       "      <td>1</td>\n",
       "    </tr>\n",
       "    <tr>\n",
       "      <th>3</th>\n",
       "      <td>4</td>\n",
       "      <td>baidu.com</td>\n",
       "      <td>1</td>\n",
       "    </tr>\n",
       "    <tr>\n",
       "      <th>4</th>\n",
       "      <td>5</td>\n",
       "      <td>qq.com</td>\n",
       "      <td>1</td>\n",
       "    </tr>\n",
       "    <tr>\n",
       "      <th>...</th>\n",
       "      <td>...</td>\n",
       "      <td>...</td>\n",
       "      <td>...</td>\n",
       "    </tr>\n",
       "    <tr>\n",
       "      <th>899849</th>\n",
       "      <td>899850</td>\n",
       "      <td>vk7577.com</td>\n",
       "      <td>1</td>\n",
       "    </tr>\n",
       "    <tr>\n",
       "      <th>899850</th>\n",
       "      <td>899851</td>\n",
       "      <td>vtegroup.com</td>\n",
       "      <td>1</td>\n",
       "    </tr>\n",
       "    <tr>\n",
       "      <th>899851</th>\n",
       "      <td>899852</td>\n",
       "      <td>whoswho.mt</td>\n",
       "      <td>1</td>\n",
       "    </tr>\n",
       "    <tr>\n",
       "      <th>899852</th>\n",
       "      <td>899853</td>\n",
       "      <td>yimgun.com</td>\n",
       "      <td>1</td>\n",
       "    </tr>\n",
       "    <tr>\n",
       "      <th>899853</th>\n",
       "      <td>899854</td>\n",
       "      <td>zengo.io</td>\n",
       "      <td>1</td>\n",
       "    </tr>\n",
       "  </tbody>\n",
       "</table>\n",
       "<p>899854 rows × 3 columns</p>\n",
       "</div>"
      ],
      "text/plain": [
       "          rank        domain  dots\n",
       "0            1    google.com     1\n",
       "1            2   youtube.com     1\n",
       "2            3     tmall.com     1\n",
       "3            4     baidu.com     1\n",
       "4            5        qq.com     1\n",
       "...        ...           ...   ...\n",
       "899849  899850    vk7577.com     1\n",
       "899850  899851  vtegroup.com     1\n",
       "899851  899852    whoswho.mt     1\n",
       "899852  899853    yimgun.com     1\n",
       "899853  899854      zengo.io     1\n",
       "\n",
       "[899854 rows x 3 columns]"
      ]
     },
     "execution_count": 15,
     "metadata": {},
     "output_type": "execute_result"
    }
   ],
   "source": [
    "import pandas as pd\n",
    "df_alexa = pd.read_csv('/mnt/ceph/storage/data-in-progress/data-research/web-search/TREC-21/document-features/alexa-top-1m-wayback-machine-20191115000004.csv.zip', names=['rank', 'domain'])\n",
    "df_alexa['dots'] = df_alexa['domain'].apply(lambda i: i.count('.'))\n",
    "df_alexa"
   ]
  },
  {
   "cell_type": "code",
   "execution_count": 16,
   "id": "6eb7e640",
   "metadata": {},
   "outputs": [
    {
     "data": {
      "text/html": [
       "<div>\n",
       "<style scoped>\n",
       "    .dataframe tbody tr th:only-of-type {\n",
       "        vertical-align: middle;\n",
       "    }\n",
       "\n",
       "    .dataframe tbody tr th {\n",
       "        vertical-align: top;\n",
       "    }\n",
       "\n",
       "    .dataframe thead th {\n",
       "        text-align: right;\n",
       "    }\n",
       "</style>\n",
       "<table border=\"1\" class=\"dataframe\">\n",
       "  <thead>\n",
       "    <tr style=\"text-align: right;\">\n",
       "      <th></th>\n",
       "      <th>rank</th>\n",
       "      <th>domain</th>\n",
       "      <th>dots</th>\n",
       "    </tr>\n",
       "  </thead>\n",
       "  <tbody>\n",
       "    <tr>\n",
       "      <th>878</th>\n",
       "      <td>879</td>\n",
       "      <td>folha.uol.com.br</td>\n",
       "      <td>3</td>\n",
       "    </tr>\n",
       "    <tr>\n",
       "      <th>1041</th>\n",
       "      <td>1042</td>\n",
       "      <td>bol.uol.com.br</td>\n",
       "      <td>3</td>\n",
       "    </tr>\n",
       "    <tr>\n",
       "      <th>1434</th>\n",
       "      <td>1435</td>\n",
       "      <td>pagseguro.uol.com.br</td>\n",
       "      <td>3</td>\n",
       "    </tr>\n",
       "    <tr>\n",
       "      <th>1534</th>\n",
       "      <td>1535</td>\n",
       "      <td>noticias.uol.com.br</td>\n",
       "      <td>3</td>\n",
       "    </tr>\n",
       "    <tr>\n",
       "      <th>1935</th>\n",
       "      <td>1936</td>\n",
       "      <td>brasilescola.uol.com.br</td>\n",
       "      <td>3</td>\n",
       "    </tr>\n",
       "    <tr>\n",
       "      <th>...</th>\n",
       "      <td>...</td>\n",
       "      <td>...</td>\n",
       "      <td>...</td>\n",
       "    </tr>\n",
       "    <tr>\n",
       "      <th>892265</th>\n",
       "      <td>892266</td>\n",
       "      <td>washougal.k12.wa.us</td>\n",
       "      <td>3</td>\n",
       "    </tr>\n",
       "    <tr>\n",
       "      <th>893841</th>\n",
       "      <td>893842</td>\n",
       "      <td>familycourt.wa.gov.au</td>\n",
       "      <td>3</td>\n",
       "    </tr>\n",
       "    <tr>\n",
       "      <th>895443</th>\n",
       "      <td>895444</td>\n",
       "      <td>bethel.k12.or.us</td>\n",
       "      <td>3</td>\n",
       "    </tr>\n",
       "    <tr>\n",
       "      <th>895721</th>\n",
       "      <td>895722</td>\n",
       "      <td>ostroleka.so.gov.pl</td>\n",
       "      <td>3</td>\n",
       "    </tr>\n",
       "    <tr>\n",
       "      <th>898033</th>\n",
       "      <td>898034</td>\n",
       "      <td>cosmosazul.blogs.sapo.pt</td>\n",
       "      <td>3</td>\n",
       "    </tr>\n",
       "  </tbody>\n",
       "</table>\n",
       "<p>1457 rows × 3 columns</p>\n",
       "</div>"
      ],
      "text/plain": [
       "          rank                    domain  dots\n",
       "878        879          folha.uol.com.br     3\n",
       "1041      1042            bol.uol.com.br     3\n",
       "1434      1435      pagseguro.uol.com.br     3\n",
       "1534      1535       noticias.uol.com.br     3\n",
       "1935      1936   brasilescola.uol.com.br     3\n",
       "...        ...                       ...   ...\n",
       "892265  892266       washougal.k12.wa.us     3\n",
       "893841  893842     familycourt.wa.gov.au     3\n",
       "895443  895444          bethel.k12.or.us     3\n",
       "895721  895722       ostroleka.so.gov.pl     3\n",
       "898033  898034  cosmosazul.blogs.sapo.pt     3\n",
       "\n",
       "[1457 rows x 3 columns]"
      ]
     },
     "execution_count": 16,
     "metadata": {},
     "output_type": "execute_result"
    }
   ],
   "source": [
    "df_alexa[df_alexa['dots'] > 2]"
   ]
  },
  {
   "cell_type": "code",
   "execution_count": 17,
   "id": "da35c902",
   "metadata": {},
   "outputs": [
    {
     "data": {
      "text/plain": [
       "{'host': 'com.googleapis.ajax',\n",
       " 'pageRank': 0.001126341255286171,\n",
       " 'harmonicMean': 27496426.0}"
      ]
     },
     "execution_count": 17,
     "metadata": {},
     "output_type": "execute_result"
    }
   ],
   "source": [
    "def parse_cc_hostpath_record(line):\n",
    "    line = line.split('\\t')\n",
    "    if len(line) != 5:\n",
    "        raise ValueError('Could not handle ' + line)\n",
    "    \n",
    "    return {'host': line[4].strip(), 'pageRank': float(line[3].strip()), 'harmonicMean': float(line[1].strip())}\n",
    "\n",
    "\n",
    "parse_cc_hostpath_record('8\t2.7496426E7\t10\t0.001126341255286171\tcom.googleapis.ajax')"
   ]
  },
  {
   "cell_type": "code",
   "execution_count": 21,
   "id": "d5275bc3",
   "metadata": {},
   "outputs": [
    {
     "data": {
      "text/plain": [
       "460770"
      ]
     },
     "execution_count": 21,
     "metadata": {},
     "output_type": "execute_result"
    }
   ],
   "source": [
    "len(hosts_in_ms_marco)"
   ]
  },
  {
   "cell_type": "code",
   "execution_count": 18,
   "id": "df7b355b",
   "metadata": {},
   "outputs": [
    {
     "data": {
      "text/plain": [
       "True"
      ]
     },
     "execution_count": 18,
     "metadata": {},
     "output_type": "execute_result"
    }
   ],
   "source": [
    "parse_cc_hostpath_record('174489\t1.7957228E7\t316900\t4.2665244773258744E-8\torg.wikipedia.sco')['host'] in hosts_in_ms_marco"
   ]
  },
  {
   "cell_type": "code",
   "execution_count": 22,
   "id": "ea1cbc64",
   "metadata": {},
   "outputs": [
    {
     "name": "stderr",
     "output_type": "stream",
     "text": [
      "820304245it [32:23, 422064.69it/s]\n"
     ]
    }
   ],
   "source": [
    "from tqdm import tqdm\n",
    "import gzip\n",
    "df_cc = []\n",
    "\n",
    "with gzip.open('/mnt/ceph/storage/data-in-progress/data-research/web-search/TREC-21/document-features/cc-main-2019-aug-sep-oct-host-ranks.txt.gz','rt') as f:\n",
    "    for l in tqdm(f):\n",
    "        if '#harmonicc_pos\t#harmonicc_val' in l:\n",
    "            continue\n",
    "        l = parse_cc_hostpath_record(l)\n",
    "        if l['host'] in hosts_in_ms_marco:\n",
    "            df_cc += [l]\n"
   ]
  },
  {
   "cell_type": "code",
   "execution_count": 23,
   "id": "eaa413a1",
   "metadata": {},
   "outputs": [
    {
     "data": {
      "text/plain": [
       "185440"
      ]
     },
     "execution_count": 23,
     "metadata": {},
     "output_type": "execute_result"
    }
   ],
   "source": [
    "len(df_cc)"
   ]
  },
  {
   "cell_type": "code",
   "execution_count": 61,
   "id": "d0ee686c",
   "metadata": {},
   "outputs": [
    {
     "data": {
      "text/plain": [
       "485307"
      ]
     },
     "execution_count": 61,
     "metadata": {},
     "output_type": "execute_result"
    }
   ],
   "source": [
    "len(df_cc)"
   ]
  },
  {
   "cell_type": "code",
   "execution_count": 63,
   "id": "f731414f",
   "metadata": {},
   "outputs": [
    {
     "data": {
      "text/plain": [
       "0.4447865046407253"
      ]
     },
     "execution_count": 63,
     "metadata": {},
     "output_type": "execute_result"
    }
   ],
   "source": [
    "len(df_cc)/len(hosts_in_ms_marco)"
   ]
  },
  {
   "cell_type": "code",
   "execution_count": 24,
   "id": "af5054e3",
   "metadata": {},
   "outputs": [
    {
     "data": {
      "text/plain": [
       "0.4024567571673503"
      ]
     },
     "execution_count": 24,
     "metadata": {},
     "output_type": "execute_result"
    }
   ],
   "source": [
    "len(df_cc)/len(hosts_in_ms_marco)"
   ]
  },
  {
   "cell_type": "code",
   "execution_count": 25,
   "id": "e9ee3c3c",
   "metadata": {},
   "outputs": [
    {
     "name": "stdout",
     "output_type": "stream",
     "text": [
      "1\n",
      "10\n"
     ]
    }
   ],
   "source": [
    "df_alexa_dic = {}\n",
    "for _, i in df_alexa.iterrows():\n",
    "    df_alexa_dic[i['domain']]= i['rank']\n",
    "    \n",
    "print(df_alexa_dic['google.com'])\n",
    "print(df_alexa_dic['wikipedia.org'])"
   ]
  },
  {
   "cell_type": "code",
   "execution_count": 26,
   "id": "44279223",
   "metadata": {},
   "outputs": [],
   "source": [
    "def cc_entry(doc):\n",
    "    host = extract_host_reversed(doc.url)\n",
    "    \n",
    "    if host in df_cc_dict:\n",
    "        return df_cc_dict[host]\n",
    "    else:\n",
    "        return None\n",
    "\n",
    "def harmonic_mean(doc):\n",
    "    ret = cc_entry(doc)\n",
    "    return ret['harmonicMean'] if ret is not None else 0\n",
    "\n",
    "\n",
    "def pagerank(doc):\n",
    "    ret = cc_entry(doc)\n",
    "    return ret['pageRank'] if ret is not None else 0\n",
    "\n",
    "def alexa_rank(doc):\n",
    "    from urllib.parse import urlparse\n",
    "    host = urlparse(doc.url).hostname\n",
    "    \n",
    "    if host in df_alexa_dic:\n",
    "        return df_alexa_dic[host]\n",
    "    \n",
    "    if host.count('.') >= 2:\n",
    "        host = '.'.join(host.split('.')[1:])\n",
    "        if host in df_alexa_dic:\n",
    "            return df_alexa_dic[host]\n",
    "\n",
    "    if host.count('.') >= 2:\n",
    "        host = '.'.join(host.split('.')[1:])\n",
    "        if host in df_alexa_dic:\n",
    "            return df_alexa_dic[host]\n",
    "\n",
    "    if host.count('.') >= 2:\n",
    "        host = '.'.join(host.split('.')[1:])\n",
    "        if host in df_alexa_dic:\n",
    "            return df_alexa_dic[host]\n",
    "    \n",
    "    return 1000000"
   ]
  },
  {
   "cell_type": "code",
   "execution_count": 27,
   "id": "d8ae1015",
   "metadata": {},
   "outputs": [],
   "source": [
    "df_cc_dict = {i['host']: i for i in df_cc}"
   ]
  },
  {
   "cell_type": "code",
   "execution_count": 28,
   "id": "f0332966",
   "metadata": {},
   "outputs": [],
   "source": [
    "def calculate_document_features(doc):\n",
    "    return {\n",
    "        'doc_id': doc.doc_id,\n",
    "        'url': doc.url,\n",
    "        'feature_url_length': len(doc.url),\n",
    "        'feature_slashes_in_url': count_slashes_in_url(doc.url),\n",
    "        'feature_dots_in_host': dots_in_host(doc.url),\n",
    "        'feature_body_length': length_in_tokens(doc.body),\n",
    "        'feature_title_length': length_in_tokens(doc.title),\n",
    "        'feature_pagerank': pagerank(doc),\n",
    "        'feature_harmonic_mean': harmonic_mean(doc),\n",
    "        'feature_alexa_rank': alexa_rank(doc)\n",
    "    }"
   ]
  },
  {
   "cell_type": "code",
   "execution_count": 94,
   "id": "6ef61bcf",
   "metadata": {},
   "outputs": [
    {
     "data": {
      "text/plain": [
       "{'doc_id': 'msmarco_doc_01_169961418',\n",
       " 'url': 'http://en.wikipedia.org/WIKI/11/22/63',\n",
       " 'feature_url_length': 37,\n",
       " 'feature_slashes_in_url': 4,\n",
       " 'feature_dots_in_host': 2,\n",
       " 'feature_body_length': 5024,\n",
       " 'feature_title_length': 3,\n",
       " 'feature_pagerank': 0.00012952763541606714,\n",
       " 'feature_harmonic_mean': 24846808.0,\n",
       " 'feature_alexa_rank': 10}"
      ]
     },
     "execution_count": 94,
     "metadata": {},
     "output_type": "execute_result"
    }
   ],
   "source": [
    "calculate_document_features(dataset.docs_store().get('msmarco_doc_01_169961418'))"
   ]
  },
  {
   "cell_type": "code",
   "execution_count": 102,
   "id": "88aba124",
   "metadata": {},
   "outputs": [
    {
     "data": {
      "text/plain": [
       "{'doc_id': 'msmarco_doc_01_170251445',\n",
       " 'url': 'http://en.wikipedia.org/wiki/-eaux',\n",
       " 'feature_url_length': 34,\n",
       " 'feature_slashes_in_url': 2,\n",
       " 'feature_dots_in_host': 2,\n",
       " 'feature_body_length': 634,\n",
       " 'feature_title_length': 3,\n",
       " 'feature_pagerank': 0.00012952763541606714,\n",
       " 'feature_harmonic_mean': 24846808.0,\n",
       " 'feature_alexa_rank': 10}"
      ]
     },
     "execution_count": 102,
     "metadata": {},
     "output_type": "execute_result"
    }
   ],
   "source": [
    "calculate_document_features(dataset.docs_store().get('msmarco_doc_01_170251445'))"
   ]
  },
  {
   "cell_type": "code",
   "execution_count": 104,
   "id": "2a74819b",
   "metadata": {},
   "outputs": [
    {
     "data": {
      "text/plain": [
       "{'doc_id': 'msmarco_doc_01_153290856',\n",
       " 'url': 'http://en-gb.facebook.com/help/103859036372845/',\n",
       " 'feature_url_length': 47,\n",
       " 'feature_slashes_in_url': 3,\n",
       " 'feature_dots_in_host': 2,\n",
       " 'feature_body_length': 238,\n",
       " 'feature_title_length': 14,\n",
       " 'feature_pagerank': 3.9621851258594565e-06,\n",
       " 'feature_harmonic_mean': 20792880.0,\n",
       " 'feature_alexa_rank': 7}"
      ]
     },
     "execution_count": 104,
     "metadata": {},
     "output_type": "execute_result"
    }
   ],
   "source": [
    "calculate_document_features(dataset.docs_store().get('msmarco_doc_01_153290856'))"
   ]
  },
  {
   "cell_type": "code",
   "execution_count": 106,
   "id": "a7d3f80d",
   "metadata": {},
   "outputs": [
    {
     "data": {
      "text/plain": [
       "{'doc_id': 'msmarco_doc_00_0',\n",
       " 'url': 'http://0-60.reviews/0-60-times/',\n",
       " 'feature_url_length': 31,\n",
       " 'feature_slashes_in_url': 2,\n",
       " 'feature_dots_in_host': 1,\n",
       " 'feature_body_length': 816,\n",
       " 'feature_title_length': 19,\n",
       " 'feature_pagerank': 1.0878043580741332e-09,\n",
       " 'feature_harmonic_mean': 14236359.0,\n",
       " 'feature_alexa_rank': 1000000}"
      ]
     },
     "execution_count": 106,
     "metadata": {},
     "output_type": "execute_result"
    }
   ],
   "source": [
    "calculate_document_features(dataset.docs_store().get('msmarco_doc_00_0'))"
   ]
  },
  {
   "cell_type": "markdown",
   "id": "5671c586",
   "metadata": {},
   "source": [
    "# Construction of the Dataset"
   ]
  },
  {
   "cell_type": "code",
   "execution_count": 107,
   "id": "3998d0c1",
   "metadata": {},
   "outputs": [
    {
     "name": "stderr",
     "output_type": "stream",
     "text": [
      "11959635it [22:28, 8871.86it/s] \n"
     ]
    }
   ],
   "source": [
    "import ir_datasets\n",
    "\n",
    "dataset = ir_datasets.load('msmarco-document-v2')\n",
    "df_dataset = []\n",
    "\n",
    "for doc in tqdm(dataset.docs_iter()):\n",
    "    df_dataset += [calculate_document_features(doc)]"
   ]
  },
  {
   "cell_type": "code",
   "execution_count": 108,
   "id": "62ec5e4e",
   "metadata": {},
   "outputs": [],
   "source": [
    "df_calculated_features = pd.DataFrame(df_dataset)\n",
    "df_calculated_features.to_json('/mnt/ceph/storage/data-in-progress/data-research/web-search/TREC-21/document-features/ms-marco-document-features.jsonl', orient='records', lines=True)"
   ]
  },
  {
   "cell_type": "markdown",
   "id": "0ed7cf84",
   "metadata": {},
   "source": [
    "# MS-Marco V1 Feature Extraction"
   ]
  },
  {
   "cell_type": "code",
   "execution_count": 6,
   "id": "4a9a1e19",
   "metadata": {},
   "outputs": [
    {
     "name": "stderr",
     "output_type": "stream",
     "text": [
      "0it [00:00, ?it/s]"
     ]
    },
    {
     "name": "stdout",
     "output_type": "stream",
     "text": [
      "MsMarcoDocument(doc_id='D1555982', url='https://answers.yahoo.com/question/index?qid=20071007114826AAwCFvR', title='The hot glowing surfaces of stars emit energy in the form of electromagnetic radiation.?', body='Science & Mathematics Physics\\nThe hot glowing surfaces of stars emit energy in the form of electromagnetic radiation.?\\nIt is a good approximation to assume that the emissivity e is equal to 1 for these surfaces.\\nFind the radius of the star Rigel, the bright blue star in the constellation Orion that radiates energy at a rate of 2.7 x 10^32 W and has a surface temperature of 11,000 K. Assume that the star is spherical.\\nUse σ =... show more\\nFollow 3 answers\\nAnswers\\nRelevance\\nRating\\nNewest\\nOldest\\nBest Answer: Stefan-Boltzmann law states that the energy flux by radiation is proportional to the forth power of the temperature: q = ε · σ · T^4 The total energy flux at a spherical surface of Radius R is Q = q·π·R² = ε·σ·T^4·π·R² Hence the radius is R = √ ( Q / (ε·σ·T^4·π) ) = √ ( 2.7x10+32 W / (1 · 5.67x10-8W/m²K^4 · (1100K)^4 · π) ) = 3.22x10+13 m\\nSource (s):http://en.wikipedia.org/wiki/Stefan_bolt...schmiso · 1 decade ago0 18 Comment\\nSchmiso, you forgot a 4 in your answer.\\nYour link even says it: L = 4pi (R^2)sigma (T^4).\\nUsing L, luminosity, as the energy in this problem, you can find the radius R by doing sqrt (L/ (4pisigma (T^4)).\\nHope this helps everyone.\\nCaroline · 4 years ago4 1 Comment (Stefan-Boltzmann law) L = 4pi*R^2*sigma*T^4 Solving for R we get: => R = (1/ (2T^2)) * sqrt (L/ (pi*sigma)) Plugging in your values you should get: => R = (1/ (2 (11,000K)^2)) *sqrt ( (2.7*10^32W)/ (pi * (5.67*10^-8 W/m^2K^4))) R = 1.609 * 10^11 m?\\n· 3 years ago0 1 Comment\\nMaybe you would like to learn more about one of these?\\nWant to build a free website?\\nInterested in dating sites?\\nNeed a Home Security Safe?\\nHow to order contacts online?\\n\\n')\n"
     ]
    },
    {
     "name": "stderr",
     "output_type": "stream",
     "text": [
      "\n"
     ]
    }
   ],
   "source": [
    "import ir_datasets\n",
    "from tqdm import tqdm\n",
    "\n",
    "dataset = ir_datasets.load('msmarco-document')\n",
    "\n",
    "for doc in tqdm(dataset.docs_iter()):\n",
    "    print(doc)\n",
    "    break"
   ]
  },
  {
   "cell_type": "code",
   "execution_count": 10,
   "id": "36a99bf8",
   "metadata": {},
   "outputs": [
    {
     "data": {
      "text/plain": [
       "MsMarcoDocument(doc_id='D1555982', url='https://answers.yahoo.com/question/index?qid=20071007114826AAwCFvR', title='The hot glowing surfaces of stars emit energy in the form of electromagnetic radiation.?', body='Science & Mathematics Physics\\nThe hot glowing surfaces of stars emit energy in the form of electromagnetic radiation.?\\nIt is a good approximation to assume that the emissivity e is equal to 1 for these surfaces.\\nFind the radius of the star Rigel, the bright blue star in the constellation Orion that radiates energy at a rate of 2.7 x 10^32 W and has a surface temperature of 11,000 K. Assume that the star is spherical.\\nUse σ =... show more\\nFollow 3 answers\\nAnswers\\nRelevance\\nRating\\nNewest\\nOldest\\nBest Answer: Stefan-Boltzmann law states that the energy flux by radiation is proportional to the forth power of the temperature: q = ε · σ · T^4 The total energy flux at a spherical surface of Radius R is Q = q·π·R² = ε·σ·T^4·π·R² Hence the radius is R = √ ( Q / (ε·σ·T^4·π) ) = √ ( 2.7x10+32 W / (1 · 5.67x10-8W/m²K^4 · (1100K)^4 · π) ) = 3.22x10+13 m\\nSource (s):http://en.wikipedia.org/wiki/Stefan_bolt...schmiso · 1 decade ago0 18 Comment\\nSchmiso, you forgot a 4 in your answer.\\nYour link even says it: L = 4pi (R^2)sigma (T^4).\\nUsing L, luminosity, as the energy in this problem, you can find the radius R by doing sqrt (L/ (4pisigma (T^4)).\\nHope this helps everyone.\\nCaroline · 4 years ago4 1 Comment (Stefan-Boltzmann law) L = 4pi*R^2*sigma*T^4 Solving for R we get: => R = (1/ (2T^2)) * sqrt (L/ (pi*sigma)) Plugging in your values you should get: => R = (1/ (2 (11,000K)^2)) *sqrt ( (2.7*10^32W)/ (pi * (5.67*10^-8 W/m^2K^4))) R = 1.609 * 10^11 m?\\n· 3 years ago0 1 Comment\\nMaybe you would like to learn more about one of these?\\nWant to build a free website?\\nInterested in dating sites?\\nNeed a Home Security Safe?\\nHow to order contacts online?\\n\\n')"
      ]
     },
     "execution_count": 10,
     "metadata": {},
     "output_type": "execute_result"
    }
   ],
   "source": [
    "dataset.docs_store().get('D1555982')"
   ]
  },
  {
   "cell_type": "code",
   "execution_count": 14,
   "id": "1efc57f9",
   "metadata": {},
   "outputs": [
    {
     "name": "stderr",
     "output_type": "stream",
     "text": [
      "3213835it [01:31, 35239.44it/s]\n"
     ]
    }
   ],
   "source": [
    "from tqdm import tqdm\n",
    "hosts_in_ms_marco = set()\n",
    "\n",
    "for doc in tqdm(dataset.docs_iter()):\n",
    "    hosts_in_ms_marco.add(extract_host_reversed(doc.url))"
   ]
  },
  {
   "cell_type": "code",
   "execution_count": 29,
   "id": "ced74059",
   "metadata": {},
   "outputs": [
    {
     "data": {
      "text/plain": [
       "{'doc_id': 'D1555982',\n",
       " 'url': 'https://answers.yahoo.com/question/index?qid=20071007114826AAwCFvR',\n",
       " 'feature_url_length': 66,\n",
       " 'feature_slashes_in_url': 2,\n",
       " 'feature_dots_in_host': 2,\n",
       " 'feature_body_length': 279,\n",
       " 'feature_title_length': 14,\n",
       " 'feature_pagerank': 1.1274305354321944e-06,\n",
       " 'feature_harmonic_mean': 21056770.0,\n",
       " 'feature_alexa_rank': 11}"
      ]
     },
     "execution_count": 29,
     "metadata": {},
     "output_type": "execute_result"
    }
   ],
   "source": [
    "calculate_document_features(dataset.docs_store().get('D1555982'))"
   ]
  },
  {
   "cell_type": "code",
   "execution_count": 30,
   "id": "c48e1011",
   "metadata": {},
   "outputs": [
    {
     "name": "stderr",
     "output_type": "stream",
     "text": [
      "3213835it [05:32, 9676.65it/s] \n"
     ]
    }
   ],
   "source": [
    "import ir_datasets\n",
    "\n",
    "df_dataset = []\n",
    "\n",
    "for doc in tqdm(dataset.docs_iter()):\n",
    "    df_dataset += [calculate_document_features(doc)]"
   ]
  },
  {
   "cell_type": "code",
   "execution_count": 31,
   "id": "6df6847d",
   "metadata": {},
   "outputs": [
    {
     "data": {
      "text/html": [
       "<div>\n",
       "<style scoped>\n",
       "    .dataframe tbody tr th:only-of-type {\n",
       "        vertical-align: middle;\n",
       "    }\n",
       "\n",
       "    .dataframe tbody tr th {\n",
       "        vertical-align: top;\n",
       "    }\n",
       "\n",
       "    .dataframe thead th {\n",
       "        text-align: right;\n",
       "    }\n",
       "</style>\n",
       "<table border=\"1\" class=\"dataframe\">\n",
       "  <thead>\n",
       "    <tr style=\"text-align: right;\">\n",
       "      <th></th>\n",
       "      <th>doc_id</th>\n",
       "      <th>url</th>\n",
       "      <th>feature_url_length</th>\n",
       "      <th>feature_slashes_in_url</th>\n",
       "      <th>feature_dots_in_host</th>\n",
       "      <th>feature_body_length</th>\n",
       "      <th>feature_title_length</th>\n",
       "      <th>feature_pagerank</th>\n",
       "      <th>feature_harmonic_mean</th>\n",
       "      <th>feature_alexa_rank</th>\n",
       "    </tr>\n",
       "  </thead>\n",
       "  <tbody>\n",
       "    <tr>\n",
       "      <th>0</th>\n",
       "      <td>D1555982</td>\n",
       "      <td>https://answers.yahoo.com/question/index?qid=2...</td>\n",
       "      <td>66</td>\n",
       "      <td>2</td>\n",
       "      <td>2</td>\n",
       "      <td>279</td>\n",
       "      <td>14</td>\n",
       "      <td>1.127431e-06</td>\n",
       "      <td>21056770.0</td>\n",
       "      <td>11</td>\n",
       "    </tr>\n",
       "    <tr>\n",
       "      <th>1</th>\n",
       "      <td>D301595</td>\n",
       "      <td>http://childparenting.about.com/od/physicalemo...</td>\n",
       "      <td>109</td>\n",
       "      <td>4</td>\n",
       "      <td>2</td>\n",
       "      <td>889</td>\n",
       "      <td>6</td>\n",
       "      <td>1.136189e-08</td>\n",
       "      <td>17037554.0</td>\n",
       "      <td>10437</td>\n",
       "    </tr>\n",
       "    <tr>\n",
       "      <th>2</th>\n",
       "      <td>D1359209</td>\n",
       "      <td>http://visihow.com/Check_for_Lice_Nits</td>\n",
       "      <td>38</td>\n",
       "      <td>1</td>\n",
       "      <td>1</td>\n",
       "      <td>2573</td>\n",
       "      <td>4</td>\n",
       "      <td>2.064811e-08</td>\n",
       "      <td>18128880.0</td>\n",
       "      <td>42420</td>\n",
       "    </tr>\n",
       "    <tr>\n",
       "      <th>3</th>\n",
       "      <td>D2147834</td>\n",
       "      <td>http://www.nytimes.com/2010/01/05/business/glo...</td>\n",
       "      <td>62</td>\n",
       "      <td>6</td>\n",
       "      <td>2</td>\n",
       "      <td>1175</td>\n",
       "      <td>7</td>\n",
       "      <td>1.254738e-09</td>\n",
       "      <td>15542113.0</td>\n",
       "      <td>94</td>\n",
       "    </tr>\n",
       "    <tr>\n",
       "      <th>4</th>\n",
       "      <td>D1568809</td>\n",
       "      <td>http://www.realtor.com/realestateandhomes-sear...</td>\n",
       "      <td>69</td>\n",
       "      <td>3</td>\n",
       "      <td>2</td>\n",
       "      <td>150</td>\n",
       "      <td>8</td>\n",
       "      <td>1.032820e-09</td>\n",
       "      <td>13069215.0</td>\n",
       "      <td>522</td>\n",
       "    </tr>\n",
       "    <tr>\n",
       "      <th>...</th>\n",
       "      <td>...</td>\n",
       "      <td>...</td>\n",
       "      <td>...</td>\n",
       "      <td>...</td>\n",
       "      <td>...</td>\n",
       "      <td>...</td>\n",
       "      <td>...</td>\n",
       "      <td>...</td>\n",
       "      <td>...</td>\n",
       "      <td>...</td>\n",
       "    </tr>\n",
       "    <tr>\n",
       "      <th>3213830</th>\n",
       "      <td>D2027345</td>\n",
       "      <td>http://www.waspbarcode.com/buzz/organized-tips...</td>\n",
       "      <td>79</td>\n",
       "      <td>3</td>\n",
       "      <td>2</td>\n",
       "      <td>515</td>\n",
       "      <td>10</td>\n",
       "      <td>0.000000e+00</td>\n",
       "      <td>0.0</td>\n",
       "      <td>1000000</td>\n",
       "    </tr>\n",
       "    <tr>\n",
       "      <th>3213831</th>\n",
       "      <td>D3094124</td>\n",
       "      <td>http://www.simplygoodcode.com/2014/04/angularj...</td>\n",
       "      <td>95</td>\n",
       "      <td>4</td>\n",
       "      <td>2</td>\n",
       "      <td>1130</td>\n",
       "      <td>7</td>\n",
       "      <td>0.000000e+00</td>\n",
       "      <td>0.0</td>\n",
       "      <td>1000000</td>\n",
       "    </tr>\n",
       "    <tr>\n",
       "      <th>3213832</th>\n",
       "      <td>D1659457</td>\n",
       "      <td>http://www.ushistory.org/us/11.asp</td>\n",
       "      <td>34</td>\n",
       "      <td>2</td>\n",
       "      <td>2</td>\n",
       "      <td>821</td>\n",
       "      <td>4</td>\n",
       "      <td>0.000000e+00</td>\n",
       "      <td>0.0</td>\n",
       "      <td>8623</td>\n",
       "    </tr>\n",
       "    <tr>\n",
       "      <th>3213833</th>\n",
       "      <td>D1633167</td>\n",
       "      <td>http://www.symbiote.com/</td>\n",
       "      <td>24</td>\n",
       "      <td>1</td>\n",
       "      <td>2</td>\n",
       "      <td>29</td>\n",
       "      <td>5</td>\n",
       "      <td>0.000000e+00</td>\n",
       "      <td>0.0</td>\n",
       "      <td>1000000</td>\n",
       "    </tr>\n",
       "    <tr>\n",
       "      <th>3213834</th>\n",
       "      <td>D1551606</td>\n",
       "      <td>https://www.sciencedaily.com/releases/2014/01/...</td>\n",
       "      <td>62</td>\n",
       "      <td>4</td>\n",
       "      <td>2</td>\n",
       "      <td>962</td>\n",
       "      <td>8</td>\n",
       "      <td>0.000000e+00</td>\n",
       "      <td>0.0</td>\n",
       "      <td>3282</td>\n",
       "    </tr>\n",
       "  </tbody>\n",
       "</table>\n",
       "<p>3213835 rows × 10 columns</p>\n",
       "</div>"
      ],
      "text/plain": [
       "           doc_id                                                url  \\\n",
       "0        D1555982  https://answers.yahoo.com/question/index?qid=2...   \n",
       "1         D301595  http://childparenting.about.com/od/physicalemo...   \n",
       "2        D1359209             http://visihow.com/Check_for_Lice_Nits   \n",
       "3        D2147834  http://www.nytimes.com/2010/01/05/business/glo...   \n",
       "4        D1568809  http://www.realtor.com/realestateandhomes-sear...   \n",
       "...           ...                                                ...   \n",
       "3213830  D2027345  http://www.waspbarcode.com/buzz/organized-tips...   \n",
       "3213831  D3094124  http://www.simplygoodcode.com/2014/04/angularj...   \n",
       "3213832  D1659457                 http://www.ushistory.org/us/11.asp   \n",
       "3213833  D1633167                           http://www.symbiote.com/   \n",
       "3213834  D1551606  https://www.sciencedaily.com/releases/2014/01/...   \n",
       "\n",
       "         feature_url_length  feature_slashes_in_url  feature_dots_in_host  \\\n",
       "0                        66                       2                     2   \n",
       "1                       109                       4                     2   \n",
       "2                        38                       1                     1   \n",
       "3                        62                       6                     2   \n",
       "4                        69                       3                     2   \n",
       "...                     ...                     ...                   ...   \n",
       "3213830                  79                       3                     2   \n",
       "3213831                  95                       4                     2   \n",
       "3213832                  34                       2                     2   \n",
       "3213833                  24                       1                     2   \n",
       "3213834                  62                       4                     2   \n",
       "\n",
       "         feature_body_length  feature_title_length  feature_pagerank  \\\n",
       "0                        279                    14      1.127431e-06   \n",
       "1                        889                     6      1.136189e-08   \n",
       "2                       2573                     4      2.064811e-08   \n",
       "3                       1175                     7      1.254738e-09   \n",
       "4                        150                     8      1.032820e-09   \n",
       "...                      ...                   ...               ...   \n",
       "3213830                  515                    10      0.000000e+00   \n",
       "3213831                 1130                     7      0.000000e+00   \n",
       "3213832                  821                     4      0.000000e+00   \n",
       "3213833                   29                     5      0.000000e+00   \n",
       "3213834                  962                     8      0.000000e+00   \n",
       "\n",
       "         feature_harmonic_mean  feature_alexa_rank  \n",
       "0                   21056770.0                  11  \n",
       "1                   17037554.0               10437  \n",
       "2                   18128880.0               42420  \n",
       "3                   15542113.0                  94  \n",
       "4                   13069215.0                 522  \n",
       "...                        ...                 ...  \n",
       "3213830                    0.0             1000000  \n",
       "3213831                    0.0             1000000  \n",
       "3213832                    0.0                8623  \n",
       "3213833                    0.0             1000000  \n",
       "3213834                    0.0                3282  \n",
       "\n",
       "[3213835 rows x 10 columns]"
      ]
     },
     "execution_count": 31,
     "metadata": {},
     "output_type": "execute_result"
    }
   ],
   "source": [
    "df_calculated_features = pd.DataFrame(df_dataset)\n",
    "df_calculated_features"
   ]
  },
  {
   "cell_type": "code",
   "execution_count": 32,
   "id": "b16c8284",
   "metadata": {},
   "outputs": [],
   "source": [
    "df_calculated_features.to_json('/mnt/ceph/storage/data-in-progress/data-research/web-search/TREC-21/marco-v1-document-features/ms-marco-v1-document-features.jsonl', orient='records', lines=True)"
   ]
  }
 ],
 "metadata": {
  "kernelspec": {
   "display_name": "Python 3",
   "language": "python",
   "name": "python3"
  },
  "language_info": {
   "codemirror_mode": {
    "name": "ipython",
    "version": 3
   },
   "file_extension": ".py",
   "mimetype": "text/x-python",
   "name": "python",
   "nbconvert_exporter": "python",
   "pygments_lexer": "ipython3",
   "version": "3.6.9"
  }
 },
 "nbformat": 4,
 "nbformat_minor": 5
}
