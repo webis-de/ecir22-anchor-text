{
 "cells": [
  {
   "cell_type": "code",
   "execution_count": 1,
   "id": "6ee7495c",
   "metadata": {},
   "outputs": [
    {
     "name": "stdout",
     "output_type": "stream",
     "text": [
      "['i', 'me', 'my', 'myself', 'we', 'our', 'ours', 'ourselves', 'you', \"you're\", \"you've\", \"you'll\", \"you'd\", 'your', 'yours', 'yourself', 'yourselves', 'he', 'him', 'his', 'himself', 'she', \"she's\", 'her', 'hers', 'herself', 'it', \"it's\", 'its', 'itself', 'they', 'them', 'their', 'theirs', 'themselves', 'what', 'which', 'who', 'whom', 'this', 'that', \"that'll\", 'these', 'those', 'am', 'is', 'are', 'was', 'were', 'be', 'been', 'being', 'have', 'has', 'had', 'having', 'do', 'does', 'did', 'doing', 'a', 'an', 'the', 'and', 'but', 'if', 'or', 'because', 'as', 'until', 'while', 'of', 'at', 'by', 'for', 'with', 'about', 'against', 'between', 'into', 'through', 'during', 'before', 'after', 'above', 'below', 'to', 'from', 'up', 'down', 'in', 'out', 'on', 'off', 'over', 'under', 'again', 'further', 'then', 'once', 'here', 'there', 'when', 'where', 'why', 'how', 'all', 'any', 'both', 'each', 'few', 'more', 'most', 'other', 'some', 'such', 'no', 'nor', 'not', 'only', 'own', 'same', 'so', 'than', 'too', 'very', 's', 't', 'can', 'will', 'just', 'don', \"don't\", 'should', \"should've\", 'now', 'd', 'll', 'm', 'o', 're', 've', 'y', 'ain', 'aren', \"aren't\", 'couldn', \"couldn't\", 'didn', \"didn't\", 'doesn', \"doesn't\", 'hadn', \"hadn't\", 'hasn', \"hasn't\", 'haven', \"haven't\", 'isn', \"isn't\", 'ma', 'mightn', \"mightn't\", 'mustn', \"mustn't\", 'needn', \"needn't\", 'shan', \"shan't\", 'shouldn', \"shouldn't\", 'wasn', \"wasn't\", 'weren', \"weren't\", 'won', \"won't\", 'wouldn', \"wouldn't\"]\n",
      ".....\n",
      "----------------------------------------------------------------------\n",
      "Ran 5 tests in 0.661s\n",
      "\n",
      "OK\n"
     ]
    }
   ],
   "source": [
    "import importlib\n",
    "from tqdm import tqdm\n",
    "import json\n",
    "import pandas as pd\n",
    "calculate_doc_term_recall = importlib.import_module('train-deep-ct').calculate_doc_term_recall\n",
    "calculate_qtokens = importlib.import_module('train-deep-ct').calculate_qtokens\n",
    "\n",
    "!nosetests\n",
    "from util import clean_qtokens"
   ]
  },
  {
   "cell_type": "code",
   "execution_count": 2,
   "id": "adf2149b",
   "metadata": {},
   "outputs": [
    {
     "name": "stdout",
     "output_type": "stream",
     "text": [
      "From qtokens with 319927 documents, I filtered terms that may cause train/test overlap so that I now have 249046 documents.\n"
     ]
    }
   ],
   "source": [
    "DIR = '/mnt/ceph/storage/data-in-progress/data-teaching/theses/wstud-thesis-probst/deep-ct/'\n",
    "anchorText = {}\n",
    "\n",
    "try:\n",
    "    anchorText = clean_qtokens(json.load(open(DIR + 'ms-marco-trainig-set-deepct-qtokens.json', 'r')))\n",
    "except Exception as e:\n",
    "    print(e)\n",
    "    print('Comment the following lines to create ms-marco-trainig-set-deepct-qtokens.json.')\n",
    "    #with open(DIR + 'msmarco-document-train.jsonl') as f:\n",
    "    #    for l in tqdm(f):\n",
    "    #        l = json.loads(l)\n",
    "    #        for target_doc in l['target_document']:\n",
    "    #            if target_doc not in anchorText:\n",
    "    #                anchorText[target_doc] = []\n",
    "    #            anchorText[target_doc] += [l['contents']]\n",
    "    #\n",
    "    #for target_doc in tqdm([i for i in anchorText.keys()]):\n",
    "    #    anchorText[target_doc] = calculate_qtokens(anchorText[target_doc])\n",
    "    #json.dump(anchorText, open(DIR + 'ms-marco-trainig-set-deepct-qtokens.json', 'w'))"
   ]
  },
  {
   "cell_type": "code",
   "execution_count": 3,
   "id": "3d88873f",
   "metadata": {},
   "outputs": [
    {
     "data": {
      "text/plain": [
       "249046"
      ]
     },
     "execution_count": 3,
     "metadata": {},
     "output_type": "execute_result"
    }
   ],
   "source": [
    "len(anchorText)"
   ]
  },
  {
   "cell_type": "code",
   "execution_count": 4,
   "id": "f234a90e",
   "metadata": {},
   "outputs": [
    {
     "data": {
      "text/plain": [
       "['D59219',\n",
       " 'D59235',\n",
       " 'D576811',\n",
       " 'D576840',\n",
       " 'D114789',\n",
       " 'D576852',\n",
       " 'D576861',\n",
       " 'D576889',\n",
       " 'D255953',\n",
       " 'D576909']"
      ]
     },
     "execution_count": 4,
     "metadata": {},
     "output_type": "execute_result"
    }
   ],
   "source": [
    "[i for i in anchorText.keys()][:10]"
   ]
  },
  {
   "cell_type": "code",
   "execution_count": 5,
   "id": "0682ef9d",
   "metadata": {},
   "outputs": [
    {
     "data": {
      "text/plain": [
       "{'project': 1.0,\n",
       " 'manhattan': 1.0,\n",
       " 'immedi': 1.0,\n",
       " 'success': 1.0,\n",
       " 'impact': 1.0}"
      ]
     },
     "execution_count": 5,
     "metadata": {},
     "output_type": "execute_result"
    }
   ],
   "source": [
    "anchorText['D59219']"
   ]
  },
  {
   "cell_type": "code",
   "execution_count": 6,
   "id": "ec7e7417",
   "metadata": {},
   "outputs": [
    {
     "name": "stderr",
     "output_type": "stream",
     "text": [
      "3213835it [1:03:08, 848.25it/s] \n"
     ]
    }
   ],
   "source": [
    "with open(DIR + 'msmarco-document-passages.jsonl') as docs, open(DIR + 'deep-ct-training-data-ms-marco-training-set-test-overlap-removed.jsonl', 'w') as out_file:\n",
    "    for doc in tqdm(docs):\n",
    "        doc = json.loads(doc)\n",
    "        doc_id = doc['id']\n",
    "        if doc_id not in anchorText:\n",
    "            continue\n",
    "        for passage_id, passage in doc['passages']:\n",
    "            for i in calculate_doc_term_recall([{\"doc\":{\"title\": passage}}], anchorText[doc_id]):\n",
    "                i['doc']['position'] = passage_id\n",
    "                i['doc']['id'] = doc_id + '___' + str(passage_id)\n",
    "                out_file.write(json.dumps(i) + '\\n')"
   ]
  },
  {
   "cell_type": "code",
   "execution_count": 15,
   "id": "d0b6b4d5",
   "metadata": {},
   "outputs": [
    {
     "name": "stdout",
     "output_type": "stream",
     "text": [
      "Examples:  2079858\n",
      "Covered Documents:  249046\n"
     ]
    }
   ],
   "source": [
    "saved_docs = []\n",
    "examples = 0\n",
    "\n",
    "with open(DIR + 'deep-ct-training-data-ms-marco-training-set-test-overlap-removed.jsonl', 'r') as docs:\n",
    "    for l in docs:\n",
    "        l = json.loads(l)\n",
    "        examples += 1\n",
    "        saved_docs += [l['doc']['id'].split('___')[0]]\n",
    "\n",
    "print('Examples: ', examples)\n",
    "print('Covered Documents: ', len(set(saved_docs)))"
   ]
  },
  {
   "cell_type": "markdown",
   "id": "7a1f2c9c",
   "metadata": {},
   "source": [
    "# Correlations"
   ]
  },
  {
   "cell_type": "code",
   "execution_count": 54,
   "id": "d6f65b49",
   "metadata": {},
   "outputs": [],
   "source": [
    "def correlation(a, b, correlation):\n",
    "    import pandas as pd\n",
    "    import json\n",
    "    # TODO: Add all tokens with weight of 0?\n",
    "    tokens = set([i for i in a.keys()] + [i for i in b.keys()])\n",
    "    \n",
    "    df_corr = []\n",
    "    for token in tokens:\n",
    "        df_corr += [{'word': token, 'weight_a': a.get(token, 0), 'weight_b': b.get(token, 0)}]\n",
    "    \n",
    "    ret = pd.DataFrame(df_corr).corr(correlation)\n",
    "    if len(ret) != 2:\n",
    "        raise ValueError('Could not handle \\n' + json.dumps(a) + '\\n' + json.dumps(b))\n",
    "    ret = ret.iloc[0]\n",
    "\n",
    "    if ret.name != 'weight_a':\n",
    "        raise ValueError('Could not handle \\n' + json.dumps(a) + '\\n' + json.dumps(b))\n",
    "    \n",
    "    return float(ret['weight_b'])\n",
    "\n",
    "def jaccard_similarity(list1, list2):\n",
    "    intersection = len(list(set(list1).intersection(list2)))\n",
    "    union = (len(set(list1)) + len(set(list2))) - intersection\n",
    "    return float(intersection) / union"
   ]
  },
  {
   "cell_type": "code",
   "execution_count": 30,
   "id": "27a25880",
   "metadata": {},
   "outputs": [
    {
     "data": {
      "text/plain": [
       "-1.0"
      ]
     },
     "execution_count": 30,
     "metadata": {},
     "output_type": "execute_result"
    }
   ],
   "source": [
    "correlation({'project': 0.3, 'manhatten': 0.7, 'success': 1.0}, {'project': 1.0, 'manhatten': 0.5, 'success': 0.1})"
   ]
  },
  {
   "cell_type": "code",
   "execution_count": 31,
   "id": "c9b9150f",
   "metadata": {},
   "outputs": [
    {
     "data": {
      "text/plain": [
       "-0.33333333333333337"
      ]
     },
     "execution_count": 31,
     "metadata": {},
     "output_type": "execute_result"
    }
   ],
   "source": [
    "correlation({'project': 0.3, 'manhatten': 0.7, 'success': 1.0}, {'project': .5, 'manhatten': 2, 'success': 0.1})"
   ]
  },
  {
   "cell_type": "code",
   "execution_count": 55,
   "id": "e10c8a0f",
   "metadata": {},
   "outputs": [
    {
     "data": {
      "text/plain": [
       "1.0"
      ]
     },
     "execution_count": 55,
     "metadata": {},
     "output_type": "execute_result"
    }
   ],
   "source": [
    "jaccard_similarity(['a', 'b', 'c'], ['a', 'b', 'c'])"
   ]
  },
  {
   "cell_type": "code",
   "execution_count": 56,
   "id": "6503a6d1",
   "metadata": {},
   "outputs": [
    {
     "data": {
      "text/plain": [
       "0.6666666666666666"
      ]
     },
     "execution_count": 56,
     "metadata": {},
     "output_type": "execute_result"
    }
   ],
   "source": [
    "jaccard_similarity(['a', 'b', 'c'], ['a', 'b'])"
   ]
  },
  {
   "cell_type": "code",
   "execution_count": 57,
   "id": "546a7deb",
   "metadata": {},
   "outputs": [],
   "source": [
    "def calculate_correlation(method_a, method_b):\n",
    "    import json\n",
    "    from tqdm import tqdm\n",
    "    doc_terms_method_a = json.load(open(DIR + method_a))\n",
    "    doc_terms_method_b = json.load(open(DIR + method_b))\n",
    "    ret = []\n",
    "    \n",
    "    for doc in tqdm([i for i in doc_terms_method_a.keys()]):\n",
    "        if  doc not in doc_terms_method_b or len(doc_terms_method_a[doc].keys()) == 0 or len(doc_terms_method_b[doc].keys()) == 0:\n",
    "            continue\n",
    "            \n",
    "        ret += [\n",
    "            {\n",
    "                'doc': doc,\n",
    "                'kendall': correlation(doc_terms_method_a[doc], doc_terms_method_b[doc]  ,'kendall'),\n",
    "                'pearson': correlation(doc_terms_method_a[doc], doc_terms_method_b[doc]  ,'pearson'),\n",
    "                'jaccard': jaccard_similarity(doc_terms_method_a[doc].keys(), doc_terms_method_b[doc].keys())\n",
    "            }\n",
    "        ]\n",
    "    \n",
    "    return ret"
   ]
  },
  {
   "cell_type": "code",
   "execution_count": 62,
   "id": "764da18f",
   "metadata": {},
   "outputs": [
    {
     "name": "stderr",
     "output_type": "stream",
     "text": [
      "100%|██████████| 1147461/1147461 [22:52<00:00, 836.28it/s] \n"
     ]
    },
    {
     "data": {
      "text/html": [
       "<div>\n",
       "<style scoped>\n",
       "    .dataframe tbody tr th:only-of-type {\n",
       "        vertical-align: middle;\n",
       "    }\n",
       "\n",
       "    .dataframe tbody tr th {\n",
       "        vertical-align: top;\n",
       "    }\n",
       "\n",
       "    .dataframe thead th {\n",
       "        text-align: right;\n",
       "    }\n",
       "</style>\n",
       "<table border=\"1\" class=\"dataframe\">\n",
       "  <thead>\n",
       "    <tr style=\"text-align: right;\">\n",
       "      <th></th>\n",
       "      <th>doc</th>\n",
       "      <th>kendall</th>\n",
       "      <th>pearson</th>\n",
       "      <th>jaccard</th>\n",
       "    </tr>\n",
       "  </thead>\n",
       "  <tbody>\n",
       "    <tr>\n",
       "      <th>0</th>\n",
       "      <td>D84115</td>\n",
       "      <td>0.774597</td>\n",
       "      <td>0.996347</td>\n",
       "      <td>0.250000</td>\n",
       "    </tr>\n",
       "    <tr>\n",
       "      <th>1</th>\n",
       "      <td>D920978</td>\n",
       "      <td>-0.141266</td>\n",
       "      <td>0.264215</td>\n",
       "      <td>0.160000</td>\n",
       "    </tr>\n",
       "    <tr>\n",
       "      <th>2</th>\n",
       "      <td>D2577639</td>\n",
       "      <td>-0.840168</td>\n",
       "      <td>-0.441415</td>\n",
       "      <td>0.000000</td>\n",
       "    </tr>\n",
       "    <tr>\n",
       "      <th>3</th>\n",
       "      <td>D579719</td>\n",
       "      <td>-0.124788</td>\n",
       "      <td>0.990972</td>\n",
       "      <td>0.135338</td>\n",
       "    </tr>\n",
       "    <tr>\n",
       "      <th>4</th>\n",
       "      <td>D1094795</td>\n",
       "      <td>-0.284557</td>\n",
       "      <td>0.538009</td>\n",
       "      <td>0.144737</td>\n",
       "    </tr>\n",
       "    <tr>\n",
       "      <th>...</th>\n",
       "      <td>...</td>\n",
       "      <td>...</td>\n",
       "      <td>...</td>\n",
       "      <td>...</td>\n",
       "    </tr>\n",
       "    <tr>\n",
       "      <th>648321</th>\n",
       "      <td>D3011725</td>\n",
       "      <td>-1.000000</td>\n",
       "      <td>-1.000000</td>\n",
       "      <td>0.000000</td>\n",
       "    </tr>\n",
       "    <tr>\n",
       "      <th>648322</th>\n",
       "      <td>D1687148</td>\n",
       "      <td>NaN</td>\n",
       "      <td>NaN</td>\n",
       "      <td>0.333333</td>\n",
       "    </tr>\n",
       "    <tr>\n",
       "      <th>648323</th>\n",
       "      <td>D1093699</td>\n",
       "      <td>-0.617213</td>\n",
       "      <td>-0.246718</td>\n",
       "      <td>0.000000</td>\n",
       "    </tr>\n",
       "    <tr>\n",
       "      <th>648324</th>\n",
       "      <td>D847946</td>\n",
       "      <td>-0.845154</td>\n",
       "      <td>-0.737154</td>\n",
       "      <td>0.000000</td>\n",
       "    </tr>\n",
       "    <tr>\n",
       "      <th>648325</th>\n",
       "      <td>D2385609</td>\n",
       "      <td>-1.000000</td>\n",
       "      <td>-1.000000</td>\n",
       "      <td>0.000000</td>\n",
       "    </tr>\n",
       "  </tbody>\n",
       "</table>\n",
       "<p>648326 rows × 4 columns</p>\n",
       "</div>"
      ],
      "text/plain": [
       "             doc   kendall   pearson   jaccard\n",
       "0         D84115  0.774597  0.996347  0.250000\n",
       "1        D920978 -0.141266  0.264215  0.160000\n",
       "2       D2577639 -0.840168 -0.441415  0.000000\n",
       "3        D579719 -0.124788  0.990972  0.135338\n",
       "4       D1094795 -0.284557  0.538009  0.144737\n",
       "...          ...       ...       ...       ...\n",
       "648321  D3011725 -1.000000 -1.000000  0.000000\n",
       "648322  D1687148       NaN       NaN  0.333333\n",
       "648323  D1093699 -0.617213 -0.246718  0.000000\n",
       "648324   D847946 -0.845154 -0.737154  0.000000\n",
       "648325  D2385609 -1.000000 -1.000000  0.000000\n",
       "\n",
       "[648326 rows x 4 columns]"
      ]
     },
     "execution_count": 62,
     "metadata": {},
     "output_type": "execute_result"
    }
   ],
   "source": [
    "df_corr_orcas_anchor = pd.DataFrame(calculate_correlation('ms-marco-orcas-deepct-qtokens.json', 'cc-2019-47-deepct-qtokens.json'))\n",
    "df_corr_orcas_anchor"
   ]
  },
  {
   "cell_type": "code",
   "execution_count": 64,
   "id": "aeaf0e85",
   "metadata": {},
   "outputs": [
    {
     "data": {
      "text/html": [
       "<div>\n",
       "<style scoped>\n",
       "    .dataframe tbody tr th:only-of-type {\n",
       "        vertical-align: middle;\n",
       "    }\n",
       "\n",
       "    .dataframe tbody tr th {\n",
       "        vertical-align: top;\n",
       "    }\n",
       "\n",
       "    .dataframe thead th {\n",
       "        text-align: right;\n",
       "    }\n",
       "</style>\n",
       "<table border=\"1\" class=\"dataframe\">\n",
       "  <thead>\n",
       "    <tr style=\"text-align: right;\">\n",
       "      <th></th>\n",
       "      <th>kendall</th>\n",
       "      <th>pearson</th>\n",
       "      <th>jaccard</th>\n",
       "    </tr>\n",
       "  </thead>\n",
       "  <tbody>\n",
       "    <tr>\n",
       "      <th>count</th>\n",
       "      <td>615983.000000</td>\n",
       "      <td>616198.000000</td>\n",
       "      <td>648326.000000</td>\n",
       "    </tr>\n",
       "    <tr>\n",
       "      <th>mean</th>\n",
       "      <td>-0.100523</td>\n",
       "      <td>0.244518</td>\n",
       "      <td>0.218530</td>\n",
       "    </tr>\n",
       "    <tr>\n",
       "      <th>std</th>\n",
       "      <td>0.472014</td>\n",
       "      <td>0.598377</td>\n",
       "      <td>0.186786</td>\n",
       "    </tr>\n",
       "    <tr>\n",
       "      <th>min</th>\n",
       "      <td>-1.000000</td>\n",
       "      <td>-1.000000</td>\n",
       "      <td>0.000000</td>\n",
       "    </tr>\n",
       "    <tr>\n",
       "      <th>25%</th>\n",
       "      <td>-0.412313</td>\n",
       "      <td>-0.213213</td>\n",
       "      <td>0.100000</td>\n",
       "    </tr>\n",
       "    <tr>\n",
       "      <th>50%</th>\n",
       "      <td>-0.109422</td>\n",
       "      <td>0.405584</td>\n",
       "      <td>0.176471</td>\n",
       "    </tr>\n",
       "    <tr>\n",
       "      <th>75%</th>\n",
       "      <td>0.200000</td>\n",
       "      <td>0.763133</td>\n",
       "      <td>0.285714</td>\n",
       "    </tr>\n",
       "    <tr>\n",
       "      <th>max</th>\n",
       "      <td>1.000000</td>\n",
       "      <td>1.000000</td>\n",
       "      <td>1.000000</td>\n",
       "    </tr>\n",
       "  </tbody>\n",
       "</table>\n",
       "</div>"
      ],
      "text/plain": [
       "             kendall        pearson        jaccard\n",
       "count  615983.000000  616198.000000  648326.000000\n",
       "mean       -0.100523       0.244518       0.218530\n",
       "std         0.472014       0.598377       0.186786\n",
       "min        -1.000000      -1.000000       0.000000\n",
       "25%        -0.412313      -0.213213       0.100000\n",
       "50%        -0.109422       0.405584       0.176471\n",
       "75%         0.200000       0.763133       0.285714\n",
       "max         1.000000       1.000000       1.000000"
      ]
     },
     "execution_count": 64,
     "metadata": {},
     "output_type": "execute_result"
    }
   ],
   "source": [
    "df_corr_orcas_anchor.describe()"
   ]
  },
  {
   "cell_type": "code",
   "execution_count": 61,
   "id": "5c6f5b68",
   "metadata": {},
   "outputs": [
    {
     "name": "stderr",
     "output_type": "stream",
     "text": [
      "100%|██████████| 319927/319927 [04:15<00:00, 1252.45it/s]\n"
     ]
    },
    {
     "data": {
      "text/html": [
       "<div>\n",
       "<style scoped>\n",
       "    .dataframe tbody tr th:only-of-type {\n",
       "        vertical-align: middle;\n",
       "    }\n",
       "\n",
       "    .dataframe tbody tr th {\n",
       "        vertical-align: top;\n",
       "    }\n",
       "\n",
       "    .dataframe thead th {\n",
       "        text-align: right;\n",
       "    }\n",
       "</style>\n",
       "<table border=\"1\" class=\"dataframe\">\n",
       "  <thead>\n",
       "    <tr style=\"text-align: right;\">\n",
       "      <th></th>\n",
       "      <th>doc</th>\n",
       "      <th>kendall</th>\n",
       "      <th>pearson</th>\n",
       "      <th>jaccard</th>\n",
       "    </tr>\n",
       "  </thead>\n",
       "  <tbody>\n",
       "    <tr>\n",
       "      <th>0</th>\n",
       "      <td>D59235</td>\n",
       "      <td>-0.401559</td>\n",
       "      <td>0.326956</td>\n",
       "      <td>0.181818</td>\n",
       "    </tr>\n",
       "    <tr>\n",
       "      <th>1</th>\n",
       "      <td>D576840</td>\n",
       "      <td>-1.000000</td>\n",
       "      <td>-1.000000</td>\n",
       "      <td>0.000000</td>\n",
       "    </tr>\n",
       "    <tr>\n",
       "      <th>2</th>\n",
       "      <td>D389790</td>\n",
       "      <td>-0.202189</td>\n",
       "      <td>-0.025318</td>\n",
       "      <td>0.062500</td>\n",
       "    </tr>\n",
       "    <tr>\n",
       "      <th>3</th>\n",
       "      <td>D576852</td>\n",
       "      <td>-0.106600</td>\n",
       "      <td>-0.171499</td>\n",
       "      <td>0.166667</td>\n",
       "    </tr>\n",
       "    <tr>\n",
       "      <th>4</th>\n",
       "      <td>D576861</td>\n",
       "      <td>NaN</td>\n",
       "      <td>NaN</td>\n",
       "      <td>1.000000</td>\n",
       "    </tr>\n",
       "    <tr>\n",
       "      <th>...</th>\n",
       "      <td>...</td>\n",
       "      <td>...</td>\n",
       "      <td>...</td>\n",
       "      <td>...</td>\n",
       "    </tr>\n",
       "    <tr>\n",
       "      <th>130714</th>\n",
       "      <td>D576666</td>\n",
       "      <td>-0.547723</td>\n",
       "      <td>-0.457693</td>\n",
       "      <td>0.000000</td>\n",
       "    </tr>\n",
       "    <tr>\n",
       "      <th>130715</th>\n",
       "      <td>D576680</td>\n",
       "      <td>0.267261</td>\n",
       "      <td>0.181071</td>\n",
       "      <td>0.333333</td>\n",
       "    </tr>\n",
       "    <tr>\n",
       "      <th>130716</th>\n",
       "      <td>D576733</td>\n",
       "      <td>NaN</td>\n",
       "      <td>NaN</td>\n",
       "      <td>0.666667</td>\n",
       "    </tr>\n",
       "    <tr>\n",
       "      <th>130717</th>\n",
       "      <td>D135542</td>\n",
       "      <td>0.072696</td>\n",
       "      <td>0.361305</td>\n",
       "      <td>0.052632</td>\n",
       "    </tr>\n",
       "    <tr>\n",
       "      <th>130718</th>\n",
       "      <td>D576775</td>\n",
       "      <td>1.000000</td>\n",
       "      <td>1.000000</td>\n",
       "      <td>0.142857</td>\n",
       "    </tr>\n",
       "  </tbody>\n",
       "</table>\n",
       "<p>130719 rows × 4 columns</p>\n",
       "</div>"
      ],
      "text/plain": [
       "            doc   kendall   pearson   jaccard\n",
       "0        D59235 -0.401559  0.326956  0.181818\n",
       "1       D576840 -1.000000 -1.000000  0.000000\n",
       "2       D389790 -0.202189 -0.025318  0.062500\n",
       "3       D576852 -0.106600 -0.171499  0.166667\n",
       "4       D576861       NaN       NaN  1.000000\n",
       "...         ...       ...       ...       ...\n",
       "130714  D576666 -0.547723 -0.457693  0.000000\n",
       "130715  D576680  0.267261  0.181071  0.333333\n",
       "130716  D576733       NaN       NaN  0.666667\n",
       "130717  D135542  0.072696  0.361305  0.052632\n",
       "130718  D576775  1.000000  1.000000  0.142857\n",
       "\n",
       "[130719 rows x 4 columns]"
      ]
     },
     "execution_count": 61,
     "metadata": {},
     "output_type": "execute_result"
    }
   ],
   "source": [
    "df_corr_orcas_marco_training = pd.DataFrame(calculate_correlation('ms-marco-trainig-set-deepct-qtokens.json', 'ms-marco-orcas-deepct-qtokens.json'))\n",
    "df_corr_orcas_marco_training"
   ]
  },
  {
   "cell_type": "code",
   "execution_count": 65,
   "id": "4e121b86",
   "metadata": {},
   "outputs": [
    {
     "data": {
      "text/html": [
       "<div>\n",
       "<style scoped>\n",
       "    .dataframe tbody tr th:only-of-type {\n",
       "        vertical-align: middle;\n",
       "    }\n",
       "\n",
       "    .dataframe tbody tr th {\n",
       "        vertical-align: top;\n",
       "    }\n",
       "\n",
       "    .dataframe thead th {\n",
       "        text-align: right;\n",
       "    }\n",
       "</style>\n",
       "<table border=\"1\" class=\"dataframe\">\n",
       "  <thead>\n",
       "    <tr style=\"text-align: right;\">\n",
       "      <th></th>\n",
       "      <th>kendall</th>\n",
       "      <th>pearson</th>\n",
       "      <th>jaccard</th>\n",
       "    </tr>\n",
       "  </thead>\n",
       "  <tbody>\n",
       "    <tr>\n",
       "      <th>count</th>\n",
       "      <td>113293.000000</td>\n",
       "      <td>113303.000000</td>\n",
       "      <td>130719.000000</td>\n",
       "    </tr>\n",
       "    <tr>\n",
       "      <th>mean</th>\n",
       "      <td>-0.047983</td>\n",
       "      <td>0.085299</td>\n",
       "      <td>0.321577</td>\n",
       "    </tr>\n",
       "    <tr>\n",
       "      <th>std</th>\n",
       "      <td>0.496645</td>\n",
       "      <td>0.563068</td>\n",
       "      <td>0.243169</td>\n",
       "    </tr>\n",
       "    <tr>\n",
       "      <th>min</th>\n",
       "      <td>-1.000000</td>\n",
       "      <td>-1.000000</td>\n",
       "      <td>0.000000</td>\n",
       "    </tr>\n",
       "    <tr>\n",
       "      <th>25%</th>\n",
       "      <td>-0.427352</td>\n",
       "      <td>-0.408248</td>\n",
       "      <td>0.142857</td>\n",
       "    </tr>\n",
       "    <tr>\n",
       "      <th>50%</th>\n",
       "      <td>0.000000</td>\n",
       "      <td>0.141421</td>\n",
       "      <td>0.250000</td>\n",
       "    </tr>\n",
       "    <tr>\n",
       "      <th>75%</th>\n",
       "      <td>0.290659</td>\n",
       "      <td>0.563884</td>\n",
       "      <td>0.500000</td>\n",
       "    </tr>\n",
       "    <tr>\n",
       "      <th>max</th>\n",
       "      <td>1.000000</td>\n",
       "      <td>1.000000</td>\n",
       "      <td>1.000000</td>\n",
       "    </tr>\n",
       "  </tbody>\n",
       "</table>\n",
       "</div>"
      ],
      "text/plain": [
       "             kendall        pearson        jaccard\n",
       "count  113293.000000  113303.000000  130719.000000\n",
       "mean       -0.047983       0.085299       0.321577\n",
       "std         0.496645       0.563068       0.243169\n",
       "min        -1.000000      -1.000000       0.000000\n",
       "25%        -0.427352      -0.408248       0.142857\n",
       "50%         0.000000       0.141421       0.250000\n",
       "75%         0.290659       0.563884       0.500000\n",
       "max         1.000000       1.000000       1.000000"
      ]
     },
     "execution_count": 65,
     "metadata": {},
     "output_type": "execute_result"
    }
   ],
   "source": [
    "df_corr_orcas_marco_training.describe()"
   ]
  },
  {
   "cell_type": "code",
   "execution_count": 58,
   "id": "0b092058",
   "metadata": {},
   "outputs": [
    {
     "name": "stderr",
     "output_type": "stream",
     "text": [
      "100%|██████████| 319927/319927 [04:39<00:00, 1144.28it/s]\n"
     ]
    },
    {
     "data": {
      "text/html": [
       "<div>\n",
       "<style scoped>\n",
       "    .dataframe tbody tr th:only-of-type {\n",
       "        vertical-align: middle;\n",
       "    }\n",
       "\n",
       "    .dataframe tbody tr th {\n",
       "        vertical-align: top;\n",
       "    }\n",
       "\n",
       "    .dataframe thead th {\n",
       "        text-align: right;\n",
       "    }\n",
       "</style>\n",
       "<table border=\"1\" class=\"dataframe\">\n",
       "  <thead>\n",
       "    <tr style=\"text-align: right;\">\n",
       "      <th></th>\n",
       "      <th>doc</th>\n",
       "      <th>kendall</th>\n",
       "      <th>pearson</th>\n",
       "      <th>jaccard</th>\n",
       "    </tr>\n",
       "  </thead>\n",
       "  <tbody>\n",
       "    <tr>\n",
       "      <th>0</th>\n",
       "      <td>D59219</td>\n",
       "      <td>-1.000000</td>\n",
       "      <td>-1.000000</td>\n",
       "      <td>0.000000</td>\n",
       "    </tr>\n",
       "    <tr>\n",
       "      <th>1</th>\n",
       "      <td>D59235</td>\n",
       "      <td>-0.362459</td>\n",
       "      <td>0.393819</td>\n",
       "      <td>0.076923</td>\n",
       "    </tr>\n",
       "    <tr>\n",
       "      <th>2</th>\n",
       "      <td>D576840</td>\n",
       "      <td>-1.000000</td>\n",
       "      <td>-1.000000</td>\n",
       "      <td>0.000000</td>\n",
       "    </tr>\n",
       "    <tr>\n",
       "      <th>3</th>\n",
       "      <td>D576852</td>\n",
       "      <td>-0.223495</td>\n",
       "      <td>-0.197392</td>\n",
       "      <td>0.066667</td>\n",
       "    </tr>\n",
       "    <tr>\n",
       "      <th>4</th>\n",
       "      <td>D275258</td>\n",
       "      <td>-0.577350</td>\n",
       "      <td>-0.577350</td>\n",
       "      <td>0.250000</td>\n",
       "    </tr>\n",
       "    <tr>\n",
       "      <th>...</th>\n",
       "      <td>...</td>\n",
       "      <td>...</td>\n",
       "      <td>...</td>\n",
       "      <td>...</td>\n",
       "    </tr>\n",
       "    <tr>\n",
       "      <th>132701</th>\n",
       "      <td>D576620</td>\n",
       "      <td>-0.456859</td>\n",
       "      <td>-0.448696</td>\n",
       "      <td>0.200000</td>\n",
       "    </tr>\n",
       "    <tr>\n",
       "      <th>132702</th>\n",
       "      <td>D576733</td>\n",
       "      <td>NaN</td>\n",
       "      <td>NaN</td>\n",
       "      <td>0.666667</td>\n",
       "    </tr>\n",
       "    <tr>\n",
       "      <th>132703</th>\n",
       "      <td>D135542</td>\n",
       "      <td>-0.466371</td>\n",
       "      <td>-0.294740</td>\n",
       "      <td>0.115385</td>\n",
       "    </tr>\n",
       "    <tr>\n",
       "      <th>132704</th>\n",
       "      <td>D576747</td>\n",
       "      <td>NaN</td>\n",
       "      <td>NaN</td>\n",
       "      <td>1.000000</td>\n",
       "    </tr>\n",
       "    <tr>\n",
       "      <th>132705</th>\n",
       "      <td>D576775</td>\n",
       "      <td>0.478714</td>\n",
       "      <td>0.994028</td>\n",
       "      <td>0.083333</td>\n",
       "    </tr>\n",
       "  </tbody>\n",
       "</table>\n",
       "<p>132706 rows × 4 columns</p>\n",
       "</div>"
      ],
      "text/plain": [
       "            doc   kendall   pearson   jaccard\n",
       "0        D59219 -1.000000 -1.000000  0.000000\n",
       "1        D59235 -0.362459  0.393819  0.076923\n",
       "2       D576840 -1.000000 -1.000000  0.000000\n",
       "3       D576852 -0.223495 -0.197392  0.066667\n",
       "4       D275258 -0.577350 -0.577350  0.250000\n",
       "...         ...       ...       ...       ...\n",
       "132701  D576620 -0.456859 -0.448696  0.200000\n",
       "132702  D576733       NaN       NaN  0.666667\n",
       "132703  D135542 -0.466371 -0.294740  0.115385\n",
       "132704  D576747       NaN       NaN  1.000000\n",
       "132705  D576775  0.478714  0.994028  0.083333\n",
       "\n",
       "[132706 rows x 4 columns]"
      ]
     },
     "execution_count": 58,
     "metadata": {},
     "output_type": "execute_result"
    }
   ],
   "source": [
    "df_corr_anchor_marco_training = pd.DataFrame(calculate_correlation('ms-marco-trainig-set-deepct-qtokens.json', 'cc-2019-47-deepct-qtokens.json'))\n",
    "df_corr_anchor_marco_training"
   ]
  },
  {
   "cell_type": "code",
   "execution_count": 66,
   "id": "2101f194",
   "metadata": {},
   "outputs": [
    {
     "data": {
      "text/html": [
       "<div>\n",
       "<style scoped>\n",
       "    .dataframe tbody tr th:only-of-type {\n",
       "        vertical-align: middle;\n",
       "    }\n",
       "\n",
       "    .dataframe tbody tr th {\n",
       "        vertical-align: top;\n",
       "    }\n",
       "\n",
       "    .dataframe thead th {\n",
       "        text-align: right;\n",
       "    }\n",
       "</style>\n",
       "<table border=\"1\" class=\"dataframe\">\n",
       "  <thead>\n",
       "    <tr style=\"text-align: right;\">\n",
       "      <th></th>\n",
       "      <th>kendall</th>\n",
       "      <th>pearson</th>\n",
       "      <th>jaccard</th>\n",
       "    </tr>\n",
       "  </thead>\n",
       "  <tbody>\n",
       "    <tr>\n",
       "      <th>count</th>\n",
       "      <td>117218.000000</td>\n",
       "      <td>117262.000000</td>\n",
       "      <td>132706.000000</td>\n",
       "    </tr>\n",
       "    <tr>\n",
       "      <th>mean</th>\n",
       "      <td>-0.258035</td>\n",
       "      <td>-0.083936</td>\n",
       "      <td>0.197573</td>\n",
       "    </tr>\n",
       "    <tr>\n",
       "      <th>std</th>\n",
       "      <td>0.501333</td>\n",
       "      <td>0.625695</td>\n",
       "      <td>0.212131</td>\n",
       "    </tr>\n",
       "    <tr>\n",
       "      <th>min</th>\n",
       "      <td>-1.000000</td>\n",
       "      <td>-1.000000</td>\n",
       "      <td>0.000000</td>\n",
       "    </tr>\n",
       "    <tr>\n",
       "      <th>25%</th>\n",
       "      <td>-0.659966</td>\n",
       "      <td>-0.632456</td>\n",
       "      <td>0.050000</td>\n",
       "    </tr>\n",
       "    <tr>\n",
       "      <th>50%</th>\n",
       "      <td>-0.258199</td>\n",
       "      <td>-0.082578</td>\n",
       "      <td>0.133333</td>\n",
       "    </tr>\n",
       "    <tr>\n",
       "      <th>75%</th>\n",
       "      <td>0.059235</td>\n",
       "      <td>0.467464</td>\n",
       "      <td>0.266667</td>\n",
       "    </tr>\n",
       "    <tr>\n",
       "      <th>max</th>\n",
       "      <td>1.000000</td>\n",
       "      <td>1.000000</td>\n",
       "      <td>1.000000</td>\n",
       "    </tr>\n",
       "  </tbody>\n",
       "</table>\n",
       "</div>"
      ],
      "text/plain": [
       "             kendall        pearson        jaccard\n",
       "count  117218.000000  117262.000000  132706.000000\n",
       "mean       -0.258035      -0.083936       0.197573\n",
       "std         0.501333       0.625695       0.212131\n",
       "min        -1.000000      -1.000000       0.000000\n",
       "25%        -0.659966      -0.632456       0.050000\n",
       "50%        -0.258199      -0.082578       0.133333\n",
       "75%         0.059235       0.467464       0.266667\n",
       "max         1.000000       1.000000       1.000000"
      ]
     },
     "execution_count": 66,
     "metadata": {},
     "output_type": "execute_result"
    }
   ],
   "source": [
    "df_corr_anchor_marco_training.describe()"
   ]
  }
 ],
 "metadata": {
  "kernelspec": {
   "display_name": "Python 3",
   "language": "python",
   "name": "python3"
  },
  "language_info": {
   "codemirror_mode": {
    "name": "ipython",
    "version": 3
   },
   "file_extension": ".py",
   "mimetype": "text/x-python",
   "name": "python",
   "nbconvert_exporter": "python",
   "pygments_lexer": "ipython3",
   "version": "3.6.9"
  }
 },
 "nbformat": 4,
 "nbformat_minor": 5
}
