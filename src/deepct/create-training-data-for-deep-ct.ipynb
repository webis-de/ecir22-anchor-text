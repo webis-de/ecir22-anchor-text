{
 "cells": [
  {
   "cell_type": "code",
   "execution_count": 1,
   "id": "e0e9e21a",
   "metadata": {},
   "outputs": [
    {
     "name": "stdout",
     "output_type": "stream",
     "text": [
      "['i', 'me', 'my', 'myself', 'we', 'our', 'ours', 'ourselves', 'you', \"you're\", \"you've\", \"you'll\", \"you'd\", 'your', 'yours', 'yourself', 'yourselves', 'he', 'him', 'his', 'himself', 'she', \"she's\", 'her', 'hers', 'herself', 'it', \"it's\", 'its', 'itself', 'they', 'them', 'their', 'theirs', 'themselves', 'what', 'which', 'who', 'whom', 'this', 'that', \"that'll\", 'these', 'those', 'am', 'is', 'are', 'was', 'were', 'be', 'been', 'being', 'have', 'has', 'had', 'having', 'do', 'does', 'did', 'doing', 'a', 'an', 'the', 'and', 'but', 'if', 'or', 'because', 'as', 'until', 'while', 'of', 'at', 'by', 'for', 'with', 'about', 'against', 'between', 'into', 'through', 'during', 'before', 'after', 'above', 'below', 'to', 'from', 'up', 'down', 'in', 'out', 'on', 'off', 'over', 'under', 'again', 'further', 'then', 'once', 'here', 'there', 'when', 'where', 'why', 'how', 'all', 'any', 'both', 'each', 'few', 'more', 'most', 'other', 'some', 'such', 'no', 'nor', 'not', 'only', 'own', 'same', 'so', 'than', 'too', 'very', 's', 't', 'can', 'will', 'just', 'don', \"don't\", 'should', \"should've\", 'now', 'd', 'll', 'm', 'o', 're', 've', 'y', 'ain', 'aren', \"aren't\", 'couldn', \"couldn't\", 'didn', \"didn't\", 'doesn', \"doesn't\", 'hadn', \"hadn't\", 'hasn', \"hasn't\", 'haven', \"haven't\", 'isn', \"isn't\", 'ma', 'mightn', \"mightn't\", 'mustn', \"mustn't\", 'needn', \"needn't\", 'shan', \"shan't\", 'shouldn', \"shouldn't\", 'wasn', \"wasn't\", 'weren', \"weren't\", 'won', \"won't\", 'wouldn', \"wouldn't\"]\n",
      ".....\n",
      "----------------------------------------------------------------------\n",
      "Ran 5 tests in 0.677s\n",
      "\n",
      "OK\n"
     ]
    }
   ],
   "source": [
    "import importlib\n",
    "from tqdm import tqdm\n",
    "import json\n",
    "calculate_doc_term_recall = importlib.import_module('train-deep-ct').calculate_doc_term_recall\n",
    "calculate_qtokens = importlib.import_module('train-deep-ct').calculate_qtokens\n",
    "\n",
    "!nosetests\n",
    "from util import clean_qtokens"
   ]
  },
  {
   "cell_type": "code",
   "execution_count": 2,
   "id": "8592c2d6",
   "metadata": {},
   "outputs": [
    {
     "name": "stdout",
     "output_type": "stream",
     "text": [
      "From qtokens with 1163273 documents, I filtered terms that may cause train/test overlap so that I now have 924621 documents.\n"
     ]
    }
   ],
   "source": [
    "DIR = '/mnt/ceph/storage/data-in-progress/data-teaching/theses/wstud-thesis-probst/deep-ct/'\n",
    "\n",
    "try:\n",
    "    anchorText = clean_qtokens(json.load(open(DIR + 'cc-2019-47-deepct-qtokens.json', 'r')))\n",
    "except Exception as e:\n",
    "    print(e)\n",
    "    print('Comment the following lines to create cc-2019-47-anchors.jsonl.')\n",
    "    #anchorText = {}\n",
    "    #with open(DIR + 'cc-2019-47-anchors.jsonl') as f:\n",
    "        #for l in tqdm(f):\n",
    "            #l = json.loads(l)\n",
    "            #anchorText[l['targetDocumentId']] = calculate_qtokens(l['anchorText'])\n",
    "        #json.dump(anchorText, open(DIR + 'cc-2019-47-deepct-qtokens.json', 'w'))"
   ]
  },
  {
   "cell_type": "code",
   "execution_count": 8,
   "id": "c419988e",
   "metadata": {},
   "outputs": [
    {
     "name": "stdout",
     "output_type": "stream",
     "text": [
      "-rw-rw-r-- 1 root root 346M Sep 10 06:56 /mnt/ceph/storage/data-in-progress/data-teaching/theses/wstud-thesis-probst/deep-ct/cc-2019-47-deepct-qtokens.json\r\n"
     ]
    }
   ],
   "source": [
    "!ls -lha {DIR}cc-2019-47-deepct-qtokens.json"
   ]
  },
  {
   "cell_type": "code",
   "execution_count": 3,
   "id": "3650ba0c",
   "metadata": {},
   "outputs": [
    {
     "data": {
      "text/plain": [
       "{'hotel': 0.8333333333333333,\n",
       " 'islay': 0.3333333333333333,\n",
       " 'hostel': 0.3333333333333333,\n",
       " 'com': 0.16666666666666666,\n",
       " 'http': 0.16666666666666666,\n",
       " 'www': 0.16666666666666666,\n",
       " 'html': 0.16666666666666666,\n",
       " 'islayinfo': 0.16666666666666666}"
      ]
     },
     "execution_count": 3,
     "metadata": {},
     "output_type": "execute_result"
    }
   ],
   "source": [
    "anchorText['D2030531']"
   ]
  },
  {
   "cell_type": "code",
   "execution_count": 4,
   "id": "549c9167",
   "metadata": {},
   "outputs": [
    {
     "data": {
      "text/plain": [
       "924621"
      ]
     },
     "execution_count": 4,
     "metadata": {},
     "output_type": "execute_result"
    }
   ],
   "source": [
    "len(anchorText)"
   ]
  },
  {
   "cell_type": "code",
   "execution_count": 5,
   "id": "ab8064d9",
   "metadata": {},
   "outputs": [
    {
     "name": "stderr",
     "output_type": "stream",
     "text": [
      "3213835it [4:36:22, 193.81it/s]\n"
     ]
    }
   ],
   "source": [
    "with open(DIR + 'msmarco-document-passages.jsonl') as docs, open(DIR + 'deep-ct-training-data-cc-2019-47-test-overlap-removed.jsonl', 'w') as out_file:\n",
    "    for doc in tqdm(docs):\n",
    "        doc = json.loads(doc)\n",
    "        doc_id = doc['id']\n",
    "        if doc_id not in anchorText:\n",
    "            continue\n",
    "            \n",
    "        for passage_id, passage in doc['passages']:\n",
    "            for i in calculate_doc_term_recall([{\"doc\":{\"title\": passage}}], anchorText[doc_id]):\n",
    "                i['doc']['position'] = passage_id\n",
    "                i['doc']['id'] = doc_id + '___' + str(passage_id)\n",
    "                out_file.write(json.dumps(i) + '\\n')"
   ]
  },
  {
   "cell_type": "code",
   "execution_count": 6,
   "id": "03e68f28",
   "metadata": {},
   "outputs": [
    {
     "name": "stderr",
     "output_type": "stream",
     "text": [
      "9412482it [01:35, 98607.53it/s] \n"
     ]
    },
    {
     "name": "stdout",
     "output_type": "stream",
     "text": [
      "Examples:  9412482\n",
      "Covered Documents:  924621\n"
     ]
    }
   ],
   "source": [
    "saved_docs = []\n",
    "examples = 0\n",
    "\n",
    "with open(DIR + 'deep-ct-training-data-cc-2019-47-test-overlap-removed.jsonl', 'r') as docs:\n",
    "    for l in tqdm(docs):\n",
    "        l = json.loads(l)\n",
    "        examples += 1\n",
    "        saved_docs += [l['doc']['id'].split('___')[0]]\n",
    "\n",
    "print('Examples: ', examples)\n",
    "print('Covered Documents: ', len(set(saved_docs)))"
   ]
  },
  {
   "cell_type": "code",
   "execution_count": 7,
   "id": "ea6592c1",
   "metadata": {},
   "outputs": [
    {
     "name": "stderr",
     "output_type": "stream",
     "text": [
      "9412482it [01:41, 92632.14it/s]\n"
     ]
    }
   ],
   "source": [
    "docs_to_passage_count = {}\n",
    "\n",
    "with open(DIR + 'deep-ct-training-data-cc-2019-47-test-overlap-removed.jsonl', 'r') as docs:\n",
    "    for l in tqdm(docs):\n",
    "        l = json.loads(l)\n",
    "        doc_id = l['doc']['id'].split('___')[0]\n",
    "        if doc_id not in docs_to_passage_count:\n",
    "            docs_to_passage_count[doc_id] = 0\n",
    "        docs_to_passage_count[doc_id] = docs_to_passage_count[doc_id] + 1\n"
   ]
  },
  {
   "cell_type": "code",
   "execution_count": 10,
   "id": "ea1b0eea",
   "metadata": {},
   "outputs": [
    {
     "name": "stdout",
     "output_type": "stream",
     "text": [
      "Have  203494  Ids\n",
      "Have  2079888  Examples\n"
     ]
    }
   ],
   "source": [
    "from random import shuffle\n",
    "selected_ids = []\n",
    "count = 0\n",
    "doc_ids = [i for i in docs_to_passage_count.keys()]\n",
    "shuffle(doc_ids)\n",
    "\n",
    "for doc_id in doc_ids:\n",
    "    count += docs_to_passage_count[doc_id]\n",
    "    selected_ids += [doc_id]\n",
    "    if count > 2079858:\n",
    "        break\n",
    "\n",
    "selected_ids = set(selected_ids)\n",
    "print('Have ', len(selected_ids), ' Ids')\n",
    "print('Have ', count, ' Examples')"
   ]
  },
  {
   "cell_type": "code",
   "execution_count": 11,
   "id": "8d47f5be",
   "metadata": {},
   "outputs": [
    {
     "name": "stderr",
     "output_type": "stream",
     "text": [
      "9412482it [01:42, 91779.46it/s] \n"
     ]
    }
   ],
   "source": [
    "with open(DIR + 'deep-ct-training-data-cc-2019-47-test-overlap-removed.jsonl', 'r') as docs, open(DIR + 'deep-ct-training-data-cc-2019-47-sampled-test-overlap-removed.jsonl', 'w') as out_file:\n",
    "    for l in tqdm(docs):\n",
    "        doc_id = json.loads(l)['doc']['id'].split('___')[0]\n",
    "        if doc_id in selected_ids:\n",
    "            out_file.write(l)"
   ]
  },
  {
   "cell_type": "code",
   "execution_count": 14,
   "id": "28b809cb",
   "metadata": {},
   "outputs": [
    {
     "name": "stdout",
     "output_type": "stream",
     "text": [
      "\u001b[1;39m{\r\n",
      "  \u001b[0m\u001b[34;1m\"doc\"\u001b[0m\u001b[1;39m: \u001b[0m\u001b[1;39m{\r\n",
      "    \u001b[0m\u001b[34;1m\"title\"\u001b[0m\u001b[1;39m: \u001b[0m\u001b[0;32m\"Edit Article\\nHow to Learn Martial Arts \\\"Pressure Points\\\"12 Parts: Understanding pressure points Head Neck Shoulder Throat Jaw zone\\nForearm/crevice Hands Torso region Feet Possible therapeutic uses\\nPracticing the pressure points Community Q&AThe traditional definition of a pressure point is a point that, when pressure is applied, produces crippling pain. \\nThis is learnt in a Chinese martial art called Dim Mak based on acupuncture pressure points, but this art is very restricted and needs and understanding of Chinese acupuncture points. \\nBecause of this, this article can only provide information on on fragile areas that we'll call vulnerable points. \\nThis is used to exploit a weakness or vulnerability in the human body to gain an advantage over an opponent. \\nWhen using these pressure points one must be particularly careful as it is easy to kill someone accidentally, such as a friend or even an enemy. \\nAt that point, you enter the legal system, which generally does not know if you were really defending yourself or were actually the aggressor, and in some cases, that may not even matter. \"\u001b[0m\u001b[1;39m,\r\n",
      "    \u001b[0m\u001b[34;1m\"position\"\u001b[0m\u001b[1;39m: \u001b[0m\u001b[0;39m2\u001b[0m\u001b[1;39m,\r\n",
      "    \u001b[0m\u001b[34;1m\"id\"\u001b[0m\u001b[1;39m: \u001b[0m\u001b[0;32m\"D15500___2\"\u001b[0m\u001b[1;39m\r\n",
      "  \u001b[1;39m}\u001b[0m\u001b[1;39m,\r\n",
      "  \u001b[0m\u001b[34;1m\"term_recall\"\u001b[0m\u001b[1;39m: \u001b[0m\u001b[1;39m{\r\n",
      "    \u001b[0m\u001b[34;1m\"points\"\u001b[0m\u001b[1;39m: \u001b[0m\u001b[0;39m0.8\u001b[0m\u001b[1;39m,\r\n",
      "    \u001b[0m\u001b[34;1m\"arts\"\u001b[0m\u001b[1;39m: \u001b[0m\u001b[0;39m0.8\u001b[0m\u001b[1;39m,\r\n",
      "    \u001b[0m\u001b[34;1m\"martial\"\u001b[0m\u001b[1;39m: \u001b[0m\u001b[0;39m0.8\u001b[0m\u001b[1;39m,\r\n",
      "    \u001b[0m\u001b[34;1m\"point\"\u001b[0m\u001b[1;39m: \u001b[0m\u001b[0;39m0.8\u001b[0m\u001b[1;39m,\r\n",
      "    \u001b[0m\u001b[34;1m\"learn\"\u001b[0m\u001b[1;39m: \u001b[0m\u001b[0;39m0.8\u001b[0m\u001b[1;39m,\r\n",
      "    \u001b[0m\u001b[34;1m\"art\"\u001b[0m\u001b[1;39m: \u001b[0m\u001b[0;39m0.8\u001b[0m\u001b[1;39m,\r\n",
      "    \u001b[0m\u001b[34;1m\"pressure\"\u001b[0m\u001b[1;39m: \u001b[0m\u001b[0;39m0.8\u001b[0m\u001b[1;39m\r\n",
      "  \u001b[1;39m}\u001b[0m\u001b[1;39m\r\n",
      "\u001b[1;39m}\u001b[0m\r\n"
     ]
    }
   ],
   "source": [
    "!cat {DIR}deep-ct-training-data-cc-2019-47-sampled-test-overlap-removed.jsonl|grep 'D15500___2' | jq '.'"
   ]
  },
  {
   "cell_type": "code",
   "execution_count": 15,
   "id": "4ec5ba41",
   "metadata": {},
   "outputs": [
    {
     "name": "stdout",
     "output_type": "stream",
     "text": [
      "\u001b[1;39m{\r\n",
      "  \u001b[0m\u001b[34;1m\"doc\"\u001b[0m\u001b[1;39m: \u001b[0m\u001b[1;39m{\r\n",
      "    \u001b[0m\u001b[34;1m\"title\"\u001b[0m\u001b[1;39m: \u001b[0m\u001b[0;32m\"Edit Article\\nHow to Learn Martial Arts \\\"Pressure Points\\\"12 Parts: Understanding pressure points Head Neck Shoulder Throat Jaw zone\\nForearm/crevice Hands Torso region Feet Possible therapeutic uses\\nPracticing the pressure points Community Q&AThe traditional definition of a pressure point is a point that, when pressure is applied, produces crippling pain. \\nThis is learnt in a Chinese martial art called Dim Mak based on acupuncture pressure points, but this art is very restricted and needs and understanding of Chinese acupuncture points. \\nBecause of this, this article can only provide information on on fragile areas that we'll call vulnerable points. \\nThis is used to exploit a weakness or vulnerability in the human body to gain an advantage over an opponent. \\nWhen using these pressure points one must be particularly careful as it is easy to kill someone accidentally, such as a friend or even an enemy. \\nAt that point, you enter the legal system, which generally does not know if you were really defending yourself or were actually the aggressor, and in some cases, that may not even matter. \"\u001b[0m\u001b[1;39m,\r\n",
      "    \u001b[0m\u001b[34;1m\"position\"\u001b[0m\u001b[1;39m: \u001b[0m\u001b[0;39m2\u001b[0m\u001b[1;39m,\r\n",
      "    \u001b[0m\u001b[34;1m\"id\"\u001b[0m\u001b[1;39m: \u001b[0m\u001b[0;32m\"D15500___2\"\u001b[0m\u001b[1;39m\r\n",
      "  \u001b[1;39m}\u001b[0m\u001b[1;39m,\r\n",
      "  \u001b[0m\u001b[34;1m\"term_recall\"\u001b[0m\u001b[1;39m: \u001b[0m\u001b[1;39m{\r\n",
      "    \u001b[0m\u001b[34;1m\"points\"\u001b[0m\u001b[1;39m: \u001b[0m\u001b[0;39m0.8\u001b[0m\u001b[1;39m,\r\n",
      "    \u001b[0m\u001b[34;1m\"arts\"\u001b[0m\u001b[1;39m: \u001b[0m\u001b[0;39m0.8\u001b[0m\u001b[1;39m,\r\n",
      "    \u001b[0m\u001b[34;1m\"martial\"\u001b[0m\u001b[1;39m: \u001b[0m\u001b[0;39m0.8\u001b[0m\u001b[1;39m,\r\n",
      "    \u001b[0m\u001b[34;1m\"point\"\u001b[0m\u001b[1;39m: \u001b[0m\u001b[0;39m0.8\u001b[0m\u001b[1;39m,\r\n",
      "    \u001b[0m\u001b[34;1m\"learn\"\u001b[0m\u001b[1;39m: \u001b[0m\u001b[0;39m0.8\u001b[0m\u001b[1;39m,\r\n",
      "    \u001b[0m\u001b[34;1m\"art\"\u001b[0m\u001b[1;39m: \u001b[0m\u001b[0;39m0.8\u001b[0m\u001b[1;39m,\r\n",
      "    \u001b[0m\u001b[34;1m\"pressure\"\u001b[0m\u001b[1;39m: \u001b[0m\u001b[0;39m0.8\u001b[0m\u001b[1;39m\r\n",
      "  \u001b[1;39m}\u001b[0m\u001b[1;39m\r\n",
      "\u001b[1;39m}\u001b[0m\r\n"
     ]
    }
   ],
   "source": [
    "!cat {DIR}deep-ct-training-data-cc-2019-47-test-overlap-removed.jsonl|grep 'D15500___2' | jq '.'"
   ]
  }
 ],
 "metadata": {
  "kernelspec": {
   "display_name": "Python 3",
   "language": "python",
   "name": "python3"
  },
  "language_info": {
   "codemirror_mode": {
    "name": "ipython",
    "version": 3
   },
   "file_extension": ".py",
   "mimetype": "text/x-python",
   "name": "python",
   "nbconvert_exporter": "python",
   "pygments_lexer": "ipython3",
   "version": "3.6.9"
  }
 },
 "nbformat": 4,
 "nbformat_minor": 5
}
