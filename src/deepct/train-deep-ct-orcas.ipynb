{
 "cells": [
  {
   "cell_type": "code",
   "execution_count": 1,
   "id": "ade65265",
   "metadata": {},
   "outputs": [
    {
     "name": "stdout",
     "output_type": "stream",
     "text": [
      "['i', 'me', 'my', 'myself', 'we', 'our', 'ours', 'ourselves', 'you', \"you're\", \"you've\", \"you'll\", \"you'd\", 'your', 'yours', 'yourself', 'yourselves', 'he', 'him', 'his', 'himself', 'she', \"she's\", 'her', 'hers', 'herself', 'it', \"it's\", 'its', 'itself', 'they', 'them', 'their', 'theirs', 'themselves', 'what', 'which', 'who', 'whom', 'this', 'that', \"that'll\", 'these', 'those', 'am', 'is', 'are', 'was', 'were', 'be', 'been', 'being', 'have', 'has', 'had', 'having', 'do', 'does', 'did', 'doing', 'a', 'an', 'the', 'and', 'but', 'if', 'or', 'because', 'as', 'until', 'while', 'of', 'at', 'by', 'for', 'with', 'about', 'against', 'between', 'into', 'through', 'during', 'before', 'after', 'above', 'below', 'to', 'from', 'up', 'down', 'in', 'out', 'on', 'off', 'over', 'under', 'again', 'further', 'then', 'once', 'here', 'there', 'when', 'where', 'why', 'how', 'all', 'any', 'both', 'each', 'few', 'more', 'most', 'other', 'some', 'such', 'no', 'nor', 'not', 'only', 'own', 'same', 'so', 'than', 'too', 'very', 's', 't', 'can', 'will', 'just', 'don', \"don't\", 'should', \"should've\", 'now', 'd', 'll', 'm', 'o', 're', 've', 'y', 'ain', 'aren', \"aren't\", 'couldn', \"couldn't\", 'didn', \"didn't\", 'doesn', \"doesn't\", 'hadn', \"hadn't\", 'hasn', \"hasn't\", 'haven', \"haven't\", 'isn', \"isn't\", 'ma', 'mightn', \"mightn't\", 'mustn', \"mustn't\", 'needn', \"needn't\", 'shan', \"shan't\", 'shouldn', \"shouldn't\", 'wasn', \"wasn't\", 'weren', \"weren't\", 'won', \"won't\", 'wouldn', \"wouldn't\"]\n",
      ".....\n",
      "----------------------------------------------------------------------\n",
      "Ran 5 tests in 0.574s\n",
      "\n",
      "OK\n"
     ]
    }
   ],
   "source": [
    "import importlib\n",
    "from tqdm import tqdm\n",
    "import json\n",
    "calculate_doc_term_recall = importlib.import_module('train-deep-ct').calculate_doc_term_recall\n",
    "calculate_qtokens = importlib.import_module('train-deep-ct').calculate_qtokens\n",
    "\n",
    "!nosetests\n",
    "from util import clean_qtokens"
   ]
  },
  {
   "cell_type": "code",
   "execution_count": 2,
   "id": "8ed95d3b",
   "metadata": {},
   "outputs": [
    {
     "name": "stdout",
     "output_type": "stream",
     "text": [
      "From qtokens with 1147461 documents, I filtered terms that may cause train/test overlap so that I now have 876950 documents.\n"
     ]
    }
   ],
   "source": [
    "DIR = '/mnt/ceph/storage/data-in-progress/data-teaching/theses/wstud-thesis-probst/deep-ct/'\n",
    "anchorText = {}\n",
    "\n",
    "try:\n",
    "    anchorText = clean_qtokens(json.load(open(DIR + 'ms-marco-orcas-deepct-qtokens.json', 'r')))\n",
    "except Exception as e:\n",
    "    print(e)\n",
    "    print('Comment the following lines to create ms-marco-orcas-deepct-qtokens.json.')\n",
    "    #with open(DIR + 'msmarco-document-orcas.jsonl') as f:\n",
    "    #    for l in tqdm(f):\n",
    "    #        l = json.loads(l)\n",
    "    #        for target_doc in l['target_document']:\n",
    "    #            if target_doc not in anchorText:\n",
    "    #                anchorText[target_doc] = []\n",
    "    #            anchorText[target_doc] += [l['contents']]\n",
    "    #\n",
    "    #for target_doc in tqdm([i for i in anchorText.keys()]):\n",
    "    #    anchorText[target_doc] = calculate_qtokens(anchorText[target_doc])\n",
    "    #json.dump(anchorText, open(DIR + 'ms-marco-orcas-deepct-qtokens.json', 'w'))"
   ]
  },
  {
   "cell_type": "code",
   "execution_count": 3,
   "id": "e39c52a2",
   "metadata": {},
   "outputs": [
    {
     "data": {
      "text/plain": [
       "876950"
      ]
     },
     "execution_count": 3,
     "metadata": {},
     "output_type": "execute_result"
    }
   ],
   "source": [
    "len(anchorText)"
   ]
  },
  {
   "cell_type": "code",
   "execution_count": 4,
   "id": "962bf229",
   "metadata": {},
   "outputs": [
    {
     "name": "stderr",
     "output_type": "stream",
     "text": [
      "3213835it [3:55:05, 227.84it/s]\n"
     ]
    }
   ],
   "source": [
    "with open(DIR + 'msmarco-document-passages.jsonl') as docs, open(DIR + 'deep-ct-training-data-orcas-test-overlap-removed.jsonl', 'w') as out_file:\n",
    "    for doc in tqdm(docs):\n",
    "        doc = json.loads(doc)\n",
    "        doc_id = doc['id']\n",
    "        if doc_id not in anchorText:\n",
    "            continue\n",
    "        for passage_id, passage in doc['passages']:\n",
    "            for i in calculate_doc_term_recall([{\"doc\":{\"title\": passage}}], anchorText[doc_id]):\n",
    "                i['doc']['position'] = passage_id\n",
    "                i['doc']['id'] = doc_id + '___' + str(passage_id)\n",
    "                out_file.write(json.dumps(i) + '\\n')"
   ]
  },
  {
   "cell_type": "code",
   "execution_count": 5,
   "id": "6dd96e96",
   "metadata": {},
   "outputs": [
    {
     "name": "stdout",
     "output_type": "stream",
     "text": [
      "Examples:  8171433\n",
      "Covered Documents:  876950\n"
     ]
    }
   ],
   "source": [
    "saved_docs = []\n",
    "examples = 0\n",
    "\n",
    "with open(DIR + 'deep-ct-training-data-orcas-test-overlap-removed.jsonl', 'r') as docs:\n",
    "    for l in docs:\n",
    "        l = json.loads(l)\n",
    "        examples += 1\n",
    "        saved_docs += [l['doc']['id'].split('___')[0]]\n",
    "\n",
    "print('Examples: ', examples)\n",
    "print('Covered Documents: ', len(set(saved_docs)))"
   ]
  },
  {
   "cell_type": "code",
   "execution_count": 6,
   "id": "ead4f744",
   "metadata": {},
   "outputs": [
    {
     "name": "stderr",
     "output_type": "stream",
     "text": [
      "8171433it [01:15, 108632.85it/s]\n"
     ]
    }
   ],
   "source": [
    "docs_to_passage_count = {}\n",
    "\n",
    "with open(DIR + 'deep-ct-training-data-orcas-test-overlap-removed.jsonl', 'r') as docs:\n",
    "    for l in tqdm(docs):\n",
    "        l = json.loads(l)\n",
    "        doc_id = l['doc']['id'].split('___')[0]\n",
    "        if doc_id not in docs_to_passage_count:\n",
    "            docs_to_passage_count[doc_id] = 0\n",
    "        docs_to_passage_count[doc_id] = docs_to_passage_count[doc_id] + 1\n"
   ]
  },
  {
   "cell_type": "code",
   "execution_count": 19,
   "id": "e5360b6c",
   "metadata": {},
   "outputs": [
    {
     "name": "stdout",
     "output_type": "stream",
     "text": [
      "Have  224149  Ids\n",
      "Have  2080050  Examples\n"
     ]
    }
   ],
   "source": [
    "from random import shuffle\n",
    "selected_ids = []\n",
    "count = 0\n",
    "doc_ids = [i for i in docs_to_passage_count.keys()]\n",
    "shuffle(doc_ids)\n",
    "\n",
    "for doc_id in doc_ids:\n",
    "    count += docs_to_passage_count[doc_id]\n",
    "    selected_ids += [doc_id]\n",
    "    if count > 2079858:\n",
    "        break\n",
    "\n",
    "selected_ids = set(selected_ids)\n",
    "print('Have ', len(selected_ids), ' Ids')\n",
    "print('Have ', count, ' Examples')"
   ]
  },
  {
   "cell_type": "code",
   "execution_count": 20,
   "id": "72019000",
   "metadata": {},
   "outputs": [
    {
     "name": "stderr",
     "output_type": "stream",
     "text": [
      "8171433it [01:28, 92193.97it/s] \n"
     ]
    }
   ],
   "source": [
    "with open(DIR + 'deep-ct-training-data-orcas-test-overlap-removed.jsonl', 'r') as docs, open(DIR + 'deep-ct-training-data-orcas-sampled-test-overlap-removed.jsonl', 'w') as out_file:\n",
    "    for l in tqdm(docs):\n",
    "        doc_id = json.loads(l)['doc']['id'].split('___')[0]\n",
    "        if doc_id in selected_ids:\n",
    "            out_file.write(l)"
   ]
  },
  {
   "cell_type": "code",
   "execution_count": 22,
   "id": "273e64df",
   "metadata": {},
   "outputs": [
    {
     "name": "stdout",
     "output_type": "stream",
     "text": [
      "\u001b[1;39m{\r\n",
      "  \u001b[0m\u001b[34;1m\"doc\"\u001b[0m\u001b[1;39m: \u001b[0m\u001b[1;39m{\r\n",
      "    \u001b[0m\u001b[34;1m\"title\"\u001b[0m\u001b[1;39m: \u001b[0m\u001b[0;32m\"\\nEach of our private cabanas are available for rent and include cool ceiling fans, refrigerators and comfortable chaise loungers. \\nThe Hotel and Resort pools are available for use by Win\\nStar World Casino Hotel guests only. \\nThe hotel property also offers other leisurely amenities aside from poolside fun. \\nStay in shape at the fitness center with our state-of-the-art exercise equipment. \\nOr, make use of our two business centers to cover all of your business needs, so you can get back to relaxing. \\nLearn More\\nMeeting Rooms/Ballroom\\nSpoil your guests with the hotel’s top-notch meeting facilities. \\nYour corporate meeting, wedding, reunion or party is guaranteed to be a spectacular event in our 2,588 square foot versatile function space. \\nPersonal sales and catering specialists are at your service to make sure your event is exactly the way you envisioned. \\nOur meeting facilities consist of:\\nAccommodating up to 100 and 150 guest for a cocktail social.1,950 square foot ballroom\\nExecutive boardroom\\nComplimentary high-speed internet24-hour business center\\nOutdoor function space available\\nAudio and Visual available (ADD)For more information, please call 866-WIN-RSVP (866-946-7787).2015 Trip\\nAdvisor® Award\\nWin\\nStar World Casino Hotel has received a 2015 Trip\\nAdvisor® Certificate of Excellence award. \"\u001b[0m\u001b[1;39m,\r\n",
      "    \u001b[0m\u001b[34;1m\"position\"\u001b[0m\u001b[1;39m: \u001b[0m\u001b[0;39m5\u001b[0m\u001b[1;39m,\r\n",
      "    \u001b[0m\u001b[34;1m\"id\"\u001b[0m\u001b[1;39m: \u001b[0m\u001b[0;32m\"D1683937___5\"\u001b[0m\u001b[1;39m\r\n",
      "  \u001b[1;39m}\u001b[0m\u001b[1;39m,\r\n",
      "  \u001b[0m\u001b[34;1m\"term_recall\"\u001b[0m\u001b[1;39m: \u001b[0m\u001b[1;39m{\r\n",
      "    \u001b[0m\u001b[34;1m\"hotel\"\u001b[0m\u001b[1;39m: \u001b[0m\u001b[0;39m0.21428571428571427\u001b[0m\u001b[1;39m,\r\n",
      "    \u001b[0m\u001b[34;1m\"win\"\u001b[0m\u001b[1;39m: \u001b[0m\u001b[0;39m0.07142857142857142\u001b[0m\u001b[1;39m,\r\n",
      "    \u001b[0m\u001b[34;1m\"casino\"\u001b[0m\u001b[1;39m: \u001b[0m\u001b[0;39m0.07142857142857142\u001b[0m\u001b[1;39m,\r\n",
      "    \u001b[0m\u001b[34;1m\"star\"\u001b[0m\u001b[1;39m: \u001b[0m\u001b[0;39m0.07142857142857142\u001b[0m\u001b[1;39m\r\n",
      "  \u001b[1;39m}\u001b[0m\u001b[1;39m\r\n",
      "\u001b[1;39m}\u001b[0m\r\n"
     ]
    }
   ],
   "source": [
    "!cat {DIR}deep-ct-training-data-orcas-sampled-test-overlap-removed.jsonl|grep 'D1683937___5' | jq '.'"
   ]
  },
  {
   "cell_type": "code",
   "execution_count": 23,
   "id": "4a8dea34",
   "metadata": {},
   "outputs": [
    {
     "name": "stdout",
     "output_type": "stream",
     "text": [
      "\u001b[1;39m{\r\n",
      "  \u001b[0m\u001b[34;1m\"doc\"\u001b[0m\u001b[1;39m: \u001b[0m\u001b[1;39m{\r\n",
      "    \u001b[0m\u001b[34;1m\"title\"\u001b[0m\u001b[1;39m: \u001b[0m\u001b[0;32m\"\\nEach of our private cabanas are available for rent and include cool ceiling fans, refrigerators and comfortable chaise loungers. \\nThe Hotel and Resort pools are available for use by Win\\nStar World Casino Hotel guests only. \\nThe hotel property also offers other leisurely amenities aside from poolside fun. \\nStay in shape at the fitness center with our state-of-the-art exercise equipment. \\nOr, make use of our two business centers to cover all of your business needs, so you can get back to relaxing. \\nLearn More\\nMeeting Rooms/Ballroom\\nSpoil your guests with the hotel’s top-notch meeting facilities. \\nYour corporate meeting, wedding, reunion or party is guaranteed to be a spectacular event in our 2,588 square foot versatile function space. \\nPersonal sales and catering specialists are at your service to make sure your event is exactly the way you envisioned. \\nOur meeting facilities consist of:\\nAccommodating up to 100 and 150 guest for a cocktail social.1,950 square foot ballroom\\nExecutive boardroom\\nComplimentary high-speed internet24-hour business center\\nOutdoor function space available\\nAudio and Visual available (ADD)For more information, please call 866-WIN-RSVP (866-946-7787).2015 Trip\\nAdvisor® Award\\nWin\\nStar World Casino Hotel has received a 2015 Trip\\nAdvisor® Certificate of Excellence award. \"\u001b[0m\u001b[1;39m,\r\n",
      "    \u001b[0m\u001b[34;1m\"position\"\u001b[0m\u001b[1;39m: \u001b[0m\u001b[0;39m5\u001b[0m\u001b[1;39m,\r\n",
      "    \u001b[0m\u001b[34;1m\"id\"\u001b[0m\u001b[1;39m: \u001b[0m\u001b[0;32m\"D1683937___5\"\u001b[0m\u001b[1;39m\r\n",
      "  \u001b[1;39m}\u001b[0m\u001b[1;39m,\r\n",
      "  \u001b[0m\u001b[34;1m\"term_recall\"\u001b[0m\u001b[1;39m: \u001b[0m\u001b[1;39m{\r\n",
      "    \u001b[0m\u001b[34;1m\"hotel\"\u001b[0m\u001b[1;39m: \u001b[0m\u001b[0;39m0.21428571428571427\u001b[0m\u001b[1;39m,\r\n",
      "    \u001b[0m\u001b[34;1m\"win\"\u001b[0m\u001b[1;39m: \u001b[0m\u001b[0;39m0.07142857142857142\u001b[0m\u001b[1;39m,\r\n",
      "    \u001b[0m\u001b[34;1m\"casino\"\u001b[0m\u001b[1;39m: \u001b[0m\u001b[0;39m0.07142857142857142\u001b[0m\u001b[1;39m,\r\n",
      "    \u001b[0m\u001b[34;1m\"star\"\u001b[0m\u001b[1;39m: \u001b[0m\u001b[0;39m0.07142857142857142\u001b[0m\u001b[1;39m\r\n",
      "  \u001b[1;39m}\u001b[0m\u001b[1;39m\r\n",
      "\u001b[1;39m}\u001b[0m\r\n"
     ]
    }
   ],
   "source": [
    "!cat {DIR}deep-ct-training-data-orcas-test-overlap-removed.jsonl|grep 'D1683937___5' | jq '.'"
   ]
  }
 ],
 "metadata": {
  "kernelspec": {
   "display_name": "Python 3",
   "language": "python",
   "name": "python3"
  },
  "language_info": {
   "codemirror_mode": {
    "name": "ipython",
    "version": 3
   },
   "file_extension": ".py",
   "mimetype": "text/x-python",
   "name": "python",
   "nbconvert_exporter": "python",
   "pygments_lexer": "ipython3",
   "version": "3.6.9"
  }
 },
 "nbformat": 4,
 "nbformat_minor": 5
}
