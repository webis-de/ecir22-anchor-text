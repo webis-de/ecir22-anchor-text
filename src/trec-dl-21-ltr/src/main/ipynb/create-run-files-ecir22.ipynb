{
 "cells": [
  {
   "cell_type": "markdown",
   "metadata": {},
   "source": [
    "# Create Run-Files for ECIR 22"
   ]
  },
  {
   "cell_type": "code",
   "execution_count": 1,
   "metadata": {},
   "outputs": [
    {
     "name": "stdout",
     "output_type": "stream",
     "text": [
      "Collecting nose\n",
      "  Downloading nose-1.3.7-py3-none-any.whl (154 kB)\n",
      "\u001b[K     |████████████████████████████████| 154 kB 2.6 MB/s eta 0:00:01\n",
      "\u001b[?25hCollecting lightgbm\n",
      "  Downloading lightgbm-3.3.0-py3-none-manylinux1_x86_64.whl (2.0 MB)\n",
      "\u001b[K     |████████████████████████████████| 2.0 MB 14.5 MB/s eta 0:00:01     |██████████████████████▎         | 1.4 MB 14.5 MB/s eta 0:00:01\n",
      "\u001b[?25hCollecting trectools\n",
      "  Downloading trectools-0.0.45-py3-none-any.whl (26 kB)\n",
      "Requirement already satisfied: seaborn in /opt/conda/lib/python3.7/site-packages (0.10.0)\n",
      "Requirement already satisfied: numpy in /opt/conda/lib/python3.7/site-packages (from lightgbm) (1.18.1)\n",
      "Requirement already satisfied: scikit-learn!=0.22.0 in /opt/conda/lib/python3.7/site-packages (from lightgbm) (0.22.2.post1)\n",
      "Requirement already satisfied: scipy in /opt/conda/lib/python3.7/site-packages (from lightgbm) (1.4.1)\n",
      "Requirement already satisfied: wheel in /opt/conda/lib/python3.7/site-packages (from lightgbm) (0.34.2)\n",
      "Collecting sarge>=0.1.1\n",
      "  Downloading sarge-0.1.6.tar.gz (26 kB)\n",
      "Requirement already satisfied: matplotlib>=1.5 in /opt/conda/lib/python3.7/site-packages (from trectools) (3.1.3)\n",
      "Requirement already satisfied: pandas>=0.15.0 in /opt/conda/lib/python3.7/site-packages (from trectools) (1.0.2)\n",
      "Collecting lxml>=3.6.0\n",
      "  Downloading lxml-4.6.3-cp37-cp37m-manylinux2014_x86_64.whl (6.3 MB)\n",
      "\u001b[K     |████████████████████████████████| 6.3 MB 12.0 MB/s eta 0:00:01\n",
      "\u001b[?25hCollecting bs4>=0.0.0.1\n",
      "  Downloading bs4-0.0.1.tar.gz (1.1 kB)\n",
      "Requirement already satisfied: joblib>=0.11 in /opt/conda/lib/python3.7/site-packages (from scikit-learn!=0.22.0->lightgbm) (0.14.1)\n",
      "Requirement already satisfied: kiwisolver>=1.0.1 in /opt/conda/lib/python3.7/site-packages (from matplotlib>=1.5->trectools) (1.1.0)\n",
      "Requirement already satisfied: cycler>=0.10 in /opt/conda/lib/python3.7/site-packages (from matplotlib>=1.5->trectools) (0.10.0)\n",
      "Requirement already satisfied: pyparsing!=2.0.4,!=2.1.2,!=2.1.6,>=2.0.1 in /opt/conda/lib/python3.7/site-packages (from matplotlib>=1.5->trectools) (2.4.6)\n",
      "Requirement already satisfied: python-dateutil>=2.1 in /opt/conda/lib/python3.7/site-packages (from matplotlib>=1.5->trectools) (2.8.1)\n",
      "Requirement already satisfied: pytz>=2017.2 in /opt/conda/lib/python3.7/site-packages (from pandas>=0.15.0->trectools) (2019.3)\n",
      "Requirement already satisfied: beautifulsoup4 in /opt/conda/lib/python3.7/site-packages (from bs4>=0.0.0.1->trectools) (4.8.2)\n",
      "Requirement already satisfied: setuptools in /opt/conda/lib/python3.7/site-packages (from kiwisolver>=1.0.1->matplotlib>=1.5->trectools) (46.0.0.post20200311)\n",
      "Requirement already satisfied: six in /opt/conda/lib/python3.7/site-packages (from cycler>=0.10->matplotlib>=1.5->trectools) (1.14.0)\n",
      "Requirement already satisfied: soupsieve>=1.2 in /opt/conda/lib/python3.7/site-packages (from beautifulsoup4->bs4>=0.0.0.1->trectools) (1.9.4)\n",
      "Building wheels for collected packages: sarge, bs4\n",
      "  Building wheel for sarge (setup.py) ... \u001b[?25ldone\n",
      "\u001b[?25h  Created wheel for sarge: filename=sarge-0.1.6-py3-none-any.whl size=19051 sha256=6d0caed079d6c26ca8ef8d7af1464201338d94bc548d973a14f7afbb4f84da33\n",
      "  Stored in directory: /home/jovyan/.cache/pip/wheels/47/38/0b/a91d1330e10bfb64e1c44febad044e00db2bba1bf2ab24e053\n",
      "  Building wheel for bs4 (setup.py) ... \u001b[?25ldone\n",
      "\u001b[?25h  Created wheel for bs4: filename=bs4-0.0.1-py3-none-any.whl size=1272 sha256=c35d6079fe790a23f1e4c498fcf1c4af2ded4ddd9ea7ee6cf71e076f2cd0edf1\n",
      "  Stored in directory: /home/jovyan/.cache/pip/wheels/0a/9e/ba/20e5bbc1afef3a491f0b3bb74d508f99403aabe76eda2167ca\n",
      "Successfully built sarge bs4\n",
      "Installing collected packages: nose, lightgbm, sarge, lxml, bs4, trectools\n",
      "Successfully installed bs4-0.0.1 lightgbm-3.3.0 lxml-4.6.3 nose-1.3.7 sarge-0.1.6 trectools-0.0.45\n"
     ]
    }
   ],
   "source": [
    "!pip install nose lightgbm trectools seaborn"
   ]
  },
  {
   "cell_type": "code",
   "execution_count": 2,
   "metadata": {},
   "outputs": [
    {
     "name": "stdout",
     "output_type": "stream",
     "text": [
      "...\n",
      "----------------------------------------------------------------------\n",
      "Ran 3 tests in 1.613s\n",
      "\n",
      "OK\n"
     ]
    }
   ],
   "source": [
    "!bash -c 'cd ../../.. && make test-python'"
   ]
  },
  {
   "cell_type": "markdown",
   "metadata": {},
   "source": [
    "# Marco-V1"
   ]
  },
  {
   "cell_type": "code",
   "execution_count": 3,
   "metadata": {},
   "outputs": [],
   "source": [
    "from tqdm import tqdm\n",
    "import sys\n",
    "sys.path.append('../python')\n",
    "from util import write_run_file\n",
    "\n",
    "MODELS = {}\n",
    "for i in ['100', '1000', '5000']:\n",
    "    MODELS['lambda-mart-ctoa-trees-' + i] = '/mnt/ceph/storage/data-in-progress/data-research/web-search/TREC-21/lightgbm/marco-v1-ecir22-all-36-features/LightGBM-model-' + i + '-trees.txt'   \n",
    "    MODELS['lambda-mart-cto-trees-' + i] = '/mnt/ceph/storage/data-in-progress/data-research/web-search/TREC-21/lightgbm/marco-v1-ecir22-no-anchor-features/LightGBM-model-' + i + '-trees.txt'\n",
    "    MODELS['lambda-mart-cta-trees-' + i] = '/mnt/ceph/storage/data-in-progress/data-research/web-search/TREC-21/lightgbm/marco-v1-ecir22-no-orcas-features/LightGBM-model-' + i + '-trees.txt'\n",
    "    MODELS['lambda-mart-ct-trees-' + i] = '/mnt/ceph/storage/data-in-progress/data-research/web-search/TREC-21/lightgbm/marco-v1-ecir22-no-anchor-no-orcas-features/LightGBM-model-' + i + '-trees.txt'\n",
    "\n",
    "FEATURE_FILES = {\n",
    "    'lambda-mart-ctoa': 'marco-v1-ecir22-all-36-features',\n",
    "    'lambda-mart-cto': 'marco-v1-ecir22-no-anchor-features',\n",
    "    'lambda-mart-cta': 'marco-v1-ecir22-no-orcas-features',\n",
    "    'lambda-mart-ct': 'marco-v1-ecir22-no-anchor-no-orcas-features',\n",
    "}\n",
    "\n",
    "TOPICS = ['entrypage-popular', 'entrypage-random', 'dl19+20']\n",
    "\n",
    "for model in tqdm(MODELS):\n",
    "    for topic in TOPICS:\n",
    "        feature_file = '/mnt/ceph/storage/data-in-progress/data-research/web-search/TREC-21/lightgbm/' + (FEATURE_FILES[model.split('-trees-')[0]]) +'/' + topic + '/2021_trec_dl_test.rerank'\n",
    "        out_file = '/mnt/ceph/storage/data-in-progress/data-teaching/theses/wstud-thesis-probst/retrievalExperiments/runs-ecir22/' + topic +'/run.ms-marco.' + model + '.txt'\n",
    "        write_run_file(\n",
    "            model_file=MODELS[model],\n",
    "            feature_file=feature_file, \n",
    "            system_name=model,\n",
    "            out_file=out_file\n",
    "        )"
   ]
  },
  {
   "cell_type": "markdown",
   "metadata": {},
   "source": [
    "# Marco-V2"
   ]
  },
  {
   "cell_type": "code",
   "execution_count": 5,
   "metadata": {},
   "outputs": [
    {
     "name": "stderr",
     "output_type": "stream",
     "text": [
      "\n",
      "  0%|          | 0/12 [00:00<?, ?it/s]\u001b[A\n",
      "  8%|▊         | 1/12 [00:27<05:05, 27.81s/it]\u001b[A\n",
      " 17%|█▋        | 2/12 [00:49<04:20, 26.01s/it]\u001b[A\n",
      " 25%|██▌       | 3/12 [01:16<03:56, 26.31s/it]\u001b[A\n",
      " 33%|███▎      | 4/12 [01:39<03:21, 25.17s/it]\u001b[A\n",
      " 42%|████▏     | 5/12 [02:20<03:29, 29.96s/it]\u001b[A\n",
      " 50%|█████     | 6/12 [02:52<03:04, 30.68s/it]\u001b[A\n",
      " 58%|█████▊    | 7/12 [03:24<02:34, 30.96s/it]\u001b[A\n",
      " 67%|██████▋   | 8/12 [03:53<02:02, 30.50s/it]\u001b[A\n",
      " 75%|███████▌  | 9/12 [05:09<02:11, 43.96s/it]\u001b[A\n",
      " 83%|████████▎ | 10/12 [06:21<01:45, 52.50s/it]\u001b[A\n",
      " 92%|█████████▏| 11/12 [07:31<00:57, 57.65s/it]\u001b[A\n",
      "100%|██████████| 12/12 [08:44<00:00, 43.69s/it]\u001b[A\n"
     ]
    }
   ],
   "source": [
    "TOPICS = ['entrypage-popular', 'entrypage-random']\n",
    "FEATURE_FILES = {\n",
    "    'lambda-mart-ctoa': 'marco-v2-ecir22-all-36-features',\n",
    "    'lambda-mart-cto': 'marco-v2-ecir22-no-anchor-features',\n",
    "    'lambda-mart-cta': 'marco-v2-ecir22-no-orcas-features',\n",
    "    'lambda-mart-ct': 'marco-v2-ecir22-no-anchor-no-orcas-features',\n",
    "}\n",
    "\n",
    "for model in tqdm(MODELS):\n",
    "    for topic in TOPICS:\n",
    "        feature_file = '/mnt/ceph/storage/data-in-progress/data-research/web-search/TREC-21/lightgbm/' + (FEATURE_FILES[model.split('-trees-')[0]]) +'/' + topic + '/2021_trec_dl_test.rerank'\n",
    "        out_file = '/mnt/ceph/storage/data-in-progress/data-teaching/theses/wstud-thesis-probst/retrievalExperiments/runs-marco-v2-ecir22/' + topic +'/run.ms-marco.' + model + '.txt'\n",
    "        write_run_file(\n",
    "            model_file=MODELS[model],\n",
    "            feature_file=feature_file, \n",
    "            system_name=model,\n",
    "            out_file=out_file\n",
    "        )"
   ]
  }
 ],
 "metadata": {
  "kernelspec": {
   "display_name": "Python 3",
   "language": "python",
   "name": "python3"
  },
  "language_info": {
   "codemirror_mode": {
    "name": "ipython",
    "version": 3
   },
   "file_extension": ".py",
   "mimetype": "text/x-python",
   "name": "python",
   "nbconvert_exporter": "python",
   "pygments_lexer": "ipython3",
   "version": "3.7.6"
  }
 },
 "nbformat": 4,
 "nbformat_minor": 4
}
