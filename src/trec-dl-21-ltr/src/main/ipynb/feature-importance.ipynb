{
 "cells": [
  {
   "cell_type": "markdown",
   "metadata": {},
   "source": [
    "# Feature Importance"
   ]
  },
  {
   "cell_type": "code",
   "execution_count": 3,
   "metadata": {},
   "outputs": [
    {
     "name": "stdout",
     "output_type": "stream",
     "text": [
      "Requirement already satisfied: lightgbm in /usr/local/lib/python3.6/dist-packages (3.2.1)\n",
      "Requirement already satisfied: numpy in /usr/local/lib/python3.6/dist-packages (from lightgbm) (1.19.5)\n",
      "Requirement already satisfied: scikit-learn!=0.22.0 in /usr/local/lib/python3.6/dist-packages (from lightgbm) (0.24.2)\n",
      "Requirement already satisfied: scipy in /usr/local/lib/python3.6/dist-packages (from lightgbm) (1.5.4)\n",
      "Requirement already satisfied: wheel in /usr/local/lib/python3.6/dist-packages (from lightgbm) (0.36.2)\n",
      "Requirement already satisfied: threadpoolctl>=2.0.0 in /usr/local/lib/python3.6/dist-packages (from scikit-learn!=0.22.0->lightgbm) (2.2.0)\n",
      "Requirement already satisfied: joblib>=0.11 in /usr/local/lib/python3.6/dist-packages (from scikit-learn!=0.22.0->lightgbm) (1.0.1)\n",
      "\u001b[33mWARNING: Running pip as the 'root' user can result in broken permissions and conflicting behaviour with the system package manager. It is recommended to use a virtual environment instead: https://pip.pypa.io/warnings/venv\u001b[0m\n"
     ]
    }
   ],
   "source": [
    "!pip install lightgbm"
   ]
  },
  {
   "cell_type": "code",
   "execution_count": 9,
   "metadata": {},
   "outputs": [],
   "source": [
    "BASE_DIR = '/mnt/ceph/storage/data-in-progress/data-research/web-search/TREC-21/lightgbm/all-50-features/'\n",
    "TRAIN_APPROACHES = !ls $BASE_DIR |grep 'train-with-'"
   ]
  },
  {
   "cell_type": "code",
   "execution_count": 11,
   "metadata": {},
   "outputs": [],
   "source": [
    "def load_model(training_approach):\n",
    "    from lightgbm import Booster\n",
    "    print('Load model: ' + training_approach)\n",
    "    return Booster(model_file=BASE_DIR + training_approach + '/LightGBM_model.txt')\n",
    "\n",
    "def plot_importance(model):\n",
    "    from lightgbm import plot_importance\n",
    "    return plot_importance(model, height=1,dpi=1024, figsize=(8,16))\n",
    "\n",
    "#plot_importance(load_model(TRAIN_APPROACHES[1]))"
   ]
  },
  {
   "cell_type": "code",
   "execution_count": 15,
   "metadata": {},
   "outputs": [],
   "source": [
    "def importance(model_name):\n",
    "    import json\n",
    "    import pandas as pd\n",
    "    model = load_model(model_name)\n",
    "    feature_name = json.load(open('/mnt/ceph/storage/data-in-progress/data-research/web-search/TREC-21/lightgbm/all-features.jsonl'))\n",
    "    feature_importance = model.feature_importance(importance_type='split')\n",
    "    split_importance = {}\n",
    "    for i in range(len(feature_importance)):\n",
    "        split_importance[str(i)] = feature_importance[i]\n",
    "            \n",
    "    feature_importance = model.feature_importance(importance_type='gain')\n",
    "    gain_importance = {}\n",
    "    for i in range(len(feature_importance)):\n",
    "        gain_importance[str(i)] = feature_importance[i]\n",
    "\n",
    "    ret = []\n",
    "    for k in feature_name:\n",
    "        ret += [{\n",
    "            'model_name': model_name.replace('train-with-', ''),\n",
    "            'feature_name': feature_name[k],\n",
    "            'gain_importance': gain_importance[k],\n",
    "            'split_importance': split_importance[k],\n",
    "        }]\n",
    "       \n",
    "    return pd.DataFrame(ret)"
   ]
  },
  {
   "cell_type": "code",
   "execution_count": 16,
   "metadata": {},
   "outputs": [
    {
     "name": "stdout",
     "output_type": "stream",
     "text": [
      "Load model: train-with-1000-trees\n",
      "Load model: train-with-100-trees\n",
      "Load model: train-with-5000-trees\n"
     ]
    },
    {
     "data": {
      "text/html": [
       "<div>\n",
       "<style scoped>\n",
       "    .dataframe tbody tr th:only-of-type {\n",
       "        vertical-align: middle;\n",
       "    }\n",
       "\n",
       "    .dataframe tbody tr th {\n",
       "        vertical-align: top;\n",
       "    }\n",
       "\n",
       "    .dataframe thead th {\n",
       "        text-align: right;\n",
       "    }\n",
       "</style>\n",
       "<table border=\"1\" class=\"dataframe\">\n",
       "  <thead>\n",
       "    <tr style=\"text-align: right;\">\n",
       "      <th></th>\n",
       "      <th>model_name</th>\n",
       "      <th>feature_name</th>\n",
       "      <th>gain_importance</th>\n",
       "      <th>split_importance</th>\n",
       "    </tr>\n",
       "  </thead>\n",
       "  <tbody>\n",
       "    <tr>\n",
       "      <th>32</th>\n",
       "      <td>5000-trees</td>\n",
       "      <td>title-tf-idf-similarity</td>\n",
       "      <td>1.578267e+06</td>\n",
       "      <td>2978</td>\n",
       "    </tr>\n",
       "    <tr>\n",
       "      <th>32</th>\n",
       "      <td>1000-trees</td>\n",
       "      <td>title-tf-idf-similarity</td>\n",
       "      <td>1.554976e+06</td>\n",
       "      <td>484</td>\n",
       "    </tr>\n",
       "    <tr>\n",
       "      <th>32</th>\n",
       "      <td>100-trees</td>\n",
       "      <td>title-tf-idf-similarity</td>\n",
       "      <td>1.547519e+06</td>\n",
       "      <td>104</td>\n",
       "    </tr>\n",
       "    <tr>\n",
       "      <th>16</th>\n",
       "      <td>5000-trees</td>\n",
       "      <td>body-spl-similarity</td>\n",
       "      <td>7.098591e+05</td>\n",
       "      <td>4744</td>\n",
       "    </tr>\n",
       "    <tr>\n",
       "      <th>16</th>\n",
       "      <td>1000-trees</td>\n",
       "      <td>body-spl-similarity</td>\n",
       "      <td>6.765128e+05</td>\n",
       "      <td>839</td>\n",
       "    </tr>\n",
       "    <tr>\n",
       "      <th>...</th>\n",
       "      <td>...</td>\n",
       "      <td>...</td>\n",
       "      <td>...</td>\n",
       "      <td>...</td>\n",
       "    </tr>\n",
       "    <tr>\n",
       "      <th>48</th>\n",
       "      <td>100-trees</td>\n",
       "      <td>feature_person_entities</td>\n",
       "      <td>6.682835e+02</td>\n",
       "      <td>6</td>\n",
       "    </tr>\n",
       "    <tr>\n",
       "      <th>27</th>\n",
       "      <td>100-trees</td>\n",
       "      <td>title-tf-similarity</td>\n",
       "      <td>5.520597e+02</td>\n",
       "      <td>6</td>\n",
       "    </tr>\n",
       "    <tr>\n",
       "      <th>49</th>\n",
       "      <td>1000-trees</td>\n",
       "      <td>feature_query_is_comparative</td>\n",
       "      <td>5.064017e+02</td>\n",
       "      <td>31</td>\n",
       "    </tr>\n",
       "    <tr>\n",
       "      <th>47</th>\n",
       "      <td>100-trees</td>\n",
       "      <td>feature_org_entities</td>\n",
       "      <td>2.617580e+02</td>\n",
       "      <td>2</td>\n",
       "    </tr>\n",
       "    <tr>\n",
       "      <th>49</th>\n",
       "      <td>100-trees</td>\n",
       "      <td>feature_query_is_comparative</td>\n",
       "      <td>0.000000e+00</td>\n",
       "      <td>0</td>\n",
       "    </tr>\n",
       "  </tbody>\n",
       "</table>\n",
       "<p>150 rows × 4 columns</p>\n",
       "</div>"
      ],
      "text/plain": [
       "    model_name                  feature_name  gain_importance  \\\n",
       "32  5000-trees       title-tf-idf-similarity     1.578267e+06   \n",
       "32  1000-trees       title-tf-idf-similarity     1.554976e+06   \n",
       "32   100-trees       title-tf-idf-similarity     1.547519e+06   \n",
       "16  5000-trees           body-spl-similarity     7.098591e+05   \n",
       "16  1000-trees           body-spl-similarity     6.765128e+05   \n",
       "..         ...                           ...              ...   \n",
       "48   100-trees       feature_person_entities     6.682835e+02   \n",
       "27   100-trees           title-tf-similarity     5.520597e+02   \n",
       "49  1000-trees  feature_query_is_comparative     5.064017e+02   \n",
       "47   100-trees          feature_org_entities     2.617580e+02   \n",
       "49   100-trees  feature_query_is_comparative     0.000000e+00   \n",
       "\n",
       "    split_importance  \n",
       "32              2978  \n",
       "32               484  \n",
       "32               104  \n",
       "16              4744  \n",
       "16               839  \n",
       "..               ...  \n",
       "48                 6  \n",
       "27                 6  \n",
       "49                31  \n",
       "47                 2  \n",
       "49                 0  \n",
       "\n",
       "[150 rows x 4 columns]"
      ]
     },
     "execution_count": 16,
     "metadata": {},
     "output_type": "execute_result"
    }
   ],
   "source": [
    "import pandas as pd\n",
    "df_importance = pd.concat([importance(TRAIN_APPROACHES[0]), importance(TRAIN_APPROACHES[1]), importance(TRAIN_APPROACHES[2])])\n",
    "df_importance = df_importance.sort_values('gain_importance', ascending=False)\n",
    "df_importance"
   ]
  },
  {
   "cell_type": "code",
   "execution_count": 17,
   "metadata": {},
   "outputs": [
    {
     "data": {
      "text/plain": [
       "<seaborn.axisgrid.FacetGrid at 0x7f364b1c2da0>"
      ]
     },
     "execution_count": 17,
     "metadata": {},
     "output_type": "execute_result"
    },
    {
     "data": {
      "image/png": "[encoded data removed]",
      "text/plain": [
       "<Figure size 810x360 with 1 Axes>"
      ]
     },
     "metadata": {
      "needs_background": "light"
     },
     "output_type": "display_data"
    }
   ],
   "source": [
    "import seaborn as sb\n",
    "import matplotlib.pyplot as plt\n",
    "\n",
    "most_important_features = [i for i in df_importance[df_importance['model_name'] == '5000-trees'].feature_name[:10]]\n",
    "\n",
    "ax = sb.catplot(\n",
    "    #data=df_importance,\n",
    "    data=df_importance[df_importance['feature_name'].isin(most_important_features)],\n",
    "    x='feature_name',\n",
    "    y='gain_importance',\n",
    "    hue='model_name',\n",
    "    kind='bar',\n",
    "    aspect=2,\n",
    "    #aspect=10\n",
    ")\n",
    "plt.xticks(rotation=45)\n",
    "ax"
   ]
  },
  {
   "cell_type": "code",
   "execution_count": null,
   "metadata": {},
   "outputs": [],
   "source": [
    "import seaborn as sb\n",
    "import matplotlib.pyplot as plt\n",
    "\n",
    "most_important_features = [i for i in df_importance[df_importance['model_name'] == '5000-trees'].feature_name[:10]]\n",
    "\n",
    "ax = sb.catplot(\n",
    "    #data=df_importance,\n",
    "    data=df_importance[df_importance['feature_name'].isin(most_important_features)],\n",
    "    x='feature_name',\n",
    "    y='gain_importance',\n",
    "    hue='model_name',\n",
    "    kind='bar',\n",
    "    aspect=2,\n",
    "    #aspect=10\n",
    ")\n",
    "plt.xticks(rotation=45)\n",
    "ax"
   ]
  },
  {
   "cell_type": "code",
   "execution_count": 18,
   "metadata": {},
   "outputs": [
    {
     "data": {
      "text/plain": [
       "['title-tf-idf-similarity',\n",
       " 'body-spl-similarity',\n",
       " 'body-tf-idf-similarity',\n",
       " 'feature_alexa_rank',\n",
       " 'feature_url_length',\n",
       " 'feature_title_length',\n",
       " 'anchor-ql-similarity',\n",
       " 'feature_body_length',\n",
       " 'feature_harmonic_mean',\n",
       " 'body-ql-similarity',\n",
       " 'title-qljm-similarity',\n",
       " 'anchor-qljm-similarity',\n",
       " 'body-pl2-similarity',\n",
       " 'feature_pagerank',\n",
       " 'body-tf-similarity',\n",
       " 'body-qljm-similarity',\n",
       " 'body-f2exp-similarity',\n",
       " 'body-f2log-similarity',\n",
       " 'feature_dots_in_host',\n",
       " 'url-tf-idf-similarity',\n",
       " 'feature_slashes_in_url',\n",
       " 'anchor-f2log-similarity',\n",
       " 'feature_query_length_in_tokens',\n",
       " 'url-qljm-similarity',\n",
       " 'anchor-bm25-similarity',\n",
       " 'title-f2exp-similarity',\n",
       " 'title-ql-similarity',\n",
       " 'url-ql-similarity',\n",
       " 'anchor-f2exp-similarity',\n",
       " 'body-bm25-similarity',\n",
       " 'anchor-tf-idf-similarity',\n",
       " 'url-f2exp-similarity',\n",
       " 'url-bm25-similarity',\n",
       " 'anchor-tf-similarity',\n",
       " 'title-f2log-similarity',\n",
       " 'anchor-spl-similarity',\n",
       " 'url-pl2-similarity',\n",
       " 'url-spl-similarity',\n",
       " 'title-pl2-similarity',\n",
       " 'title-spl-similarity',\n",
       " 'title-bm25-similarity',\n",
       " 'feature_is_5w1h_query',\n",
       " 'url-f2log-similarity',\n",
       " 'anchor-pl2-similarity',\n",
       " 'title-tf-similarity',\n",
       " 'feature_gpe_entities',\n",
       " 'url-tf-similarity',\n",
       " 'feature_person_entities',\n",
       " 'feature_org_entities',\n",
       " 'feature_query_is_comparative']"
      ]
     },
     "execution_count": 18,
     "metadata": {},
     "output_type": "execute_result"
    }
   ],
   "source": [
    "[i for i in df_importance[df_importance['model_name'] == '5000-trees'].feature_name]"
   ]
  }
 ],
 "metadata": {
  "kernelspec": {
   "display_name": "Python 3",
   "language": "python",
   "name": "python3"
  },
  "language_info": {
   "codemirror_mode": {
    "name": "ipython",
    "version": 3
   },
   "file_extension": ".py",
   "mimetype": "text/x-python",
   "name": "python",
   "nbconvert_exporter": "python",
   "pygments_lexer": "ipython3",
   "version": "3.6.9"
  }
 },
 "nbformat": 4,
 "nbformat_minor": 4
}
