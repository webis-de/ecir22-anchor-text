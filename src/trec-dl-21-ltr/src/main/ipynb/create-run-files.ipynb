{
 "cells": [
  {
   "cell_type": "markdown",
   "metadata": {},
   "source": [
    "# Create All Run Files"
   ]
  },
  {
   "cell_type": "markdown",
   "metadata": {},
   "source": [
    "### Prepare everything"
   ]
  },
  {
   "cell_type": "code",
   "execution_count": 1,
   "metadata": {},
   "outputs": [
    {
     "name": "stdout",
     "output_type": "stream",
     "text": [
      "Requirement already satisfied: nose in /usr/local/lib/python3.6/dist-packages (1.3.7)\n",
      "Requirement already satisfied: lightgbm in /usr/local/lib/python3.6/dist-packages (3.2.1)\n",
      "Requirement already satisfied: trectools in /usr/local/lib/python3.6/dist-packages (0.0.45)\n",
      "Requirement already satisfied: seaborn in /usr/local/lib/python3.6/dist-packages (0.11.1)\n",
      "Requirement already satisfied: scipy in /usr/local/lib/python3.6/dist-packages (from lightgbm) (1.5.4)\n",
      "Requirement already satisfied: wheel in /usr/local/lib/python3.6/dist-packages (from lightgbm) (0.36.2)\n",
      "Requirement already satisfied: scikit-learn!=0.22.0 in /usr/local/lib/python3.6/dist-packages (from lightgbm) (0.24.2)\n",
      "Requirement already satisfied: numpy in /usr/local/lib/python3.6/dist-packages (from lightgbm) (1.19.5)\n",
      "Requirement already satisfied: sarge>=0.1.1 in /usr/local/lib/python3.6/dist-packages (from trectools) (0.1.6)\n",
      "Requirement already satisfied: pandas>=0.15.0 in /usr/local/lib/python3.6/dist-packages (from trectools) (1.1.5)\n",
      "Requirement already satisfied: bs4>=0.0.0.1 in /usr/local/lib/python3.6/dist-packages (from trectools) (0.0.1)\n",
      "Requirement already satisfied: matplotlib>=1.5 in /usr/local/lib/python3.6/dist-packages (from trectools) (3.3.4)\n",
      "Requirement already satisfied: lxml>=3.6.0 in /usr/local/lib/python3.6/dist-packages (from trectools) (4.6.3)\n",
      "Requirement already satisfied: beautifulsoup4 in /usr/local/lib/python3.6/dist-packages (from bs4>=0.0.0.1->trectools) (4.9.3)\n",
      "Requirement already satisfied: pillow>=6.2.0 in /usr/local/lib/python3.6/dist-packages (from matplotlib>=1.5->trectools) (8.3.1)\n",
      "Requirement already satisfied: cycler>=0.10 in /usr/local/lib/python3.6/dist-packages (from matplotlib>=1.5->trectools) (0.10.0)\n",
      "Requirement already satisfied: kiwisolver>=1.0.1 in /usr/local/lib/python3.6/dist-packages (from matplotlib>=1.5->trectools) (1.3.1)\n",
      "Requirement already satisfied: python-dateutil>=2.1 in /usr/local/lib/python3.6/dist-packages (from matplotlib>=1.5->trectools) (2.8.2)\n",
      "Requirement already satisfied: pyparsing!=2.0.4,!=2.1.2,!=2.1.6,>=2.0.3 in /usr/local/lib/python3.6/dist-packages (from matplotlib>=1.5->trectools) (2.4.7)\n",
      "Requirement already satisfied: six in /usr/local/lib/python3.6/dist-packages (from cycler>=0.10->matplotlib>=1.5->trectools) (1.15.0)\n",
      "Requirement already satisfied: pytz>=2017.2 in /usr/local/lib/python3.6/dist-packages (from pandas>=0.15.0->trectools) (2021.1)\n",
      "Requirement already satisfied: joblib>=0.11 in /usr/local/lib/python3.6/dist-packages (from scikit-learn!=0.22.0->lightgbm) (1.0.1)\n",
      "Requirement already satisfied: threadpoolctl>=2.0.0 in /usr/local/lib/python3.6/dist-packages (from scikit-learn!=0.22.0->lightgbm) (2.2.0)\n",
      "Requirement already satisfied: soupsieve>1.2 in /usr/local/lib/python3.6/dist-packages (from beautifulsoup4->bs4>=0.0.0.1->trectools) (2.2.1)\n",
      "\u001b[33mWARNING: Running pip as the 'root' user can result in broken permissions and conflicting behaviour with the system package manager. It is recommended to use a virtual environment instead: https://pip.pypa.io/warnings/venv\u001b[0m\n",
      "\u001b[33mWARNING: You are using pip version 21.2.2; however, version 21.2.3 is available.\n",
      "You should consider upgrading via the '/usr/bin/python3 -m pip install --upgrade pip' command.\u001b[0m\n"
     ]
    }
   ],
   "source": [
    "!pip install nose lightgbm trectools seaborn"
   ]
  },
  {
   "cell_type": "code",
   "execution_count": 2,
   "metadata": {},
   "outputs": [
    {
     "name": "stdout",
     "output_type": "stream",
     "text": [
      "make[1]: Entering directory '/workspace/trec-dl-21-ltr'\n",
      "...\n",
      "----------------------------------------------------------------------\n",
      "Ran 3 tests in 29.979s\n",
      "\n",
      "OK\n",
      "make[1]: Leaving directory '/workspace/trec-dl-21-ltr'\n"
     ]
    }
   ],
   "source": [
    "!bash -c 'cd ../../.. && make test-python'"
   ]
  },
  {
   "cell_type": "code",
   "execution_count": 15,
   "metadata": {},
   "outputs": [],
   "source": [
    "import sys\n",
    "from trectools import TrecQrel, TrecRun, TrecEval\n",
    "sys.path.append('../python')\n",
    "\n",
    "from util import write_run_file\n",
    "\n",
    "def used_anchor_text(run):\n",
    "    if 'marco-v1-no-anchor-no-orcas' in run.filename:\n",
    "        return False\n",
    "    names = ['all-50-features', 'marco-v1-all-121-features', 'marco-v1-no-orcas']\n",
    "    for i in names:\n",
    "        if i in run.filename:\n",
    "            return True\n",
    "    return False\n",
    "\n",
    "def used_orcas_text(run):\n",
    "    if 'marco-v1-no-anchor-no-orcas' in run.filename:\n",
    "        return False\n",
    "    names = ['marco-v1-all-121-features', 'marco-v1-no-anchor']\n",
    "    for i in names:\n",
    "        if i in run.filename:\n",
    "            return True\n",
    "    return False\n",
    "\n",
    "def eval_run(run, qrels):\n",
    "    return {\n",
    "        'run': run.get_runid().replace('train-with-', ''),\n",
    "        'used-anchor-text': used_anchor_text(run),\n",
    "        'used-orcas-text': used_orcas_text(run),\n",
    "        'MRR': TrecEval(run, qrels).get_reciprocal_rank(),\n",
    "        'MRR (Unjudged Removed)': TrecEval(run, qrels).get_reciprocal_rank(removeUnjudged=True),\n",
    "        'ndcg@5': TrecEval(run, qrels).get_ndcg(depth=5),\n",
    "        'ndcg@5 (Unjudged Removed)': TrecEval(run, qrels).get_ndcg(depth=5,removeUnjudged=True),\n",
    "        'ndcg@10': TrecEval(run, qrels).get_ndcg(depth=10),\n",
    "        'ndcg@10 (Unjudged Removed)': TrecEval(run, qrels).get_ndcg(depth=10,removeUnjudged=True)\n",
    "    }"
   ]
  },
  {
   "cell_type": "markdown",
   "metadata": {},
   "source": [
    "# Create Rankings for All 50 Features"
   ]
  },
  {
   "cell_type": "code",
   "execution_count": 55,
   "metadata": {},
   "outputs": [],
   "source": [
    "DIR='/mnt/ceph/storage/data-in-progress/data-research/web-search/TREC-21/lightgbm/all-50-features/'\n",
    "MODELS=!ls $DIR |grep 'train-with'\n",
    "FEATURE_FILES = ['2021_trec_dl_test.rerank', 'docv2_dev1.rerank', 'docv2_dev2.rerank']"
   ]
  },
  {
   "cell_type": "code",
   "execution_count": 6,
   "metadata": {},
   "outputs": [
    {
     "data": {
      "text/plain": [
       "['train-with-1000-trees',\n",
       " 'train-with-100-trees',\n",
       " 'train-with-5000-trees',\n",
       " 'train-with-5000-trees-var-02']"
      ]
     },
     "execution_count": 6,
     "metadata": {},
     "output_type": "execute_result"
    }
   ],
   "source": [
    "MODELS"
   ]
  },
  {
   "cell_type": "code",
   "execution_count": 8,
   "metadata": {},
   "outputs": [
    {
     "name": "stderr",
     "output_type": "stream",
     "text": [
      "100%|██████████| 4/4 [19:33<00:00, 293.26s/it]\n"
     ]
    }
   ],
   "source": [
    "from tqdm import tqdm\n",
    "\n",
    "for model in tqdm(MODELS):\n",
    "    for feature_file in FEATURE_FILES:\n",
    "        out_file = DIR + model + '/' + (feature_file.replace('.rerank', '').replace('_', '-')) + '-run-file.txt'\n",
    "        write_run_file(\n",
    "            model_file=DIR + model + '/LightGBM_model.txt',\n",
    "            feature_file=DIR + feature_file, \n",
    "            system_name=model,\n",
    "            out_file=out_file\n",
    "        )"
   ]
  },
  {
   "cell_type": "markdown",
   "metadata": {},
   "source": [
    "# Create Rankings for 41 Features Without Anchor Text"
   ]
  },
  {
   "cell_type": "code",
   "execution_count": 5,
   "metadata": {},
   "outputs": [],
   "source": [
    "DIR='/mnt/ceph/storage/data-in-progress/data-research/web-search/TREC-21/lightgbm/2-no-anchor/'\n",
    "MODELS=!ls $DIR |grep 'train-with'\n",
    "FEATURE_FILES = ['2021_trec_dl_test.rerank', 'docv2_dev1.rerank', 'docv2_dev2.rerank']"
   ]
  },
  {
   "cell_type": "code",
   "execution_count": 6,
   "metadata": {},
   "outputs": [
    {
     "data": {
      "text/plain": [
       "['train-with-1000-trees',\n",
       " 'train-with-100-trees',\n",
       " 'train-with-5000-trees',\n",
       " 'train-with-5000-trees-var-02']"
      ]
     },
     "execution_count": 6,
     "metadata": {},
     "output_type": "execute_result"
    }
   ],
   "source": [
    "MODELS"
   ]
  },
  {
   "cell_type": "code",
   "execution_count": 8,
   "metadata": {},
   "outputs": [
    {
     "name": "stderr",
     "output_type": "stream",
     "text": [
      "100%|██████████| 4/4 [04:54<00:00, 73.75s/it]\n"
     ]
    }
   ],
   "source": [
    "from tqdm import tqdm\n",
    "\n",
    "for model in tqdm(MODELS):\n",
    "    for feature_file in FEATURE_FILES:\n",
    "        out_file = DIR + model + '/' + (feature_file.replace('.rerank', '').replace('_', '-')) + '-run-file.txt'\n",
    "        write_run_file(\n",
    "            model_file=DIR + model + '/LightGBM_model.txt',\n",
    "            feature_file=DIR + feature_file, \n",
    "            system_name=model,\n",
    "            out_file=out_file\n",
    "        )"
   ]
  },
  {
   "cell_type": "markdown",
   "metadata": {},
   "source": [
    "# Evaluation of Runs on DEV1"
   ]
  },
  {
   "cell_type": "code",
   "execution_count": null,
   "metadata": {},
   "outputs": [],
   "source": []
  },
  {
   "cell_type": "markdown",
   "metadata": {},
   "source": [
    "# Evaluation of Runs on DEV2"
   ]
  },
  {
   "cell_type": "code",
   "execution_count": 12,
   "metadata": {},
   "outputs": [
    {
     "name": "stderr",
     "output_type": "stream",
     "text": [
      "100%|██████████| 4/4 [00:07<00:00,  1.77s/it]\n",
      "100%|██████████| 4/4 [00:06<00:00,  1.67s/it]\n"
     ]
    }
   ],
   "source": [
    "from trectools import TrecQrel, TrecRun, TrecEval\n",
    "\n",
    "qrels = TrecQrel(\"/mnt/ceph/storage/data-in-progress/data-research/web-search/TREC-21/resources/docv2_dev2_qrels.tsv\")\n",
    "\n",
    "run_files = [TrecRun('/mnt/ceph/storage/data-in-progress/data-research/web-search/TREC-21/lightgbm/anserini-docv2-dev2-run-file.txt')]\n",
    "\n",
    "DIR='/mnt/ceph/storage/data-in-progress/data-research/web-search/TREC-21/lightgbm/'\n",
    "DIRS= ['all-50-features/', '2-no-anchor/']\n",
    "\n",
    "for dir_name in DIRS:\n",
    "    dir_name = DIR + dir_name\n",
    "    models = !ls $dir_name |grep 'train-with'\n",
    "    for model in tqdm(models):\n",
    "        run_files += [TrecRun(dir_name + model + '/docv2-dev2-run-file.txt')]\n"
   ]
  },
  {
   "cell_type": "code",
   "execution_count": 33,
   "metadata": {},
   "outputs": [
    {
     "data": {
      "text/plain": [
       "{'run': 'Anserini',\n",
       " 'used-anchor-text': False,\n",
       " 'MRR': 0.1658962272297557,\n",
       " 'ndcg@5': 0.1661040831883196}"
      ]
     },
     "execution_count": 33,
     "metadata": {},
     "output_type": "execute_result"
    }
   ],
   "source": [
    "# Expect from anserini docs an MRR of 0.1659\n",
    "eval_run(run_files[0])"
   ]
  },
  {
   "cell_type": "code",
   "execution_count": 34,
   "metadata": {},
   "outputs": [
    {
     "name": "stderr",
     "output_type": "stream",
     "text": [
      "100%|██████████| 9/9 [00:13<00:00,  1.53s/it]\n"
     ]
    },
    {
     "data": {
      "text/html": [
       "<div>\n",
       "<style scoped>\n",
       "    .dataframe tbody tr th:only-of-type {\n",
       "        vertical-align: middle;\n",
       "    }\n",
       "\n",
       "    .dataframe tbody tr th {\n",
       "        vertical-align: top;\n",
       "    }\n",
       "\n",
       "    .dataframe thead th {\n",
       "        text-align: right;\n",
       "    }\n",
       "</style>\n",
       "<table border=\"1\" class=\"dataframe\">\n",
       "  <thead>\n",
       "    <tr style=\"text-align: right;\">\n",
       "      <th></th>\n",
       "      <th>run</th>\n",
       "      <th>used-anchor-text</th>\n",
       "      <th>MRR</th>\n",
       "      <th>ndcg@5</th>\n",
       "    </tr>\n",
       "  </thead>\n",
       "  <tbody>\n",
       "    <tr>\n",
       "      <th>4</th>\n",
       "      <td>5000-trees-var-02</td>\n",
       "      <td>True</td>\n",
       "      <td>0.270415</td>\n",
       "      <td>0.284317</td>\n",
       "    </tr>\n",
       "    <tr>\n",
       "      <th>3</th>\n",
       "      <td>5000-trees</td>\n",
       "      <td>True</td>\n",
       "      <td>0.269390</td>\n",
       "      <td>0.282943</td>\n",
       "    </tr>\n",
       "    <tr>\n",
       "      <th>1</th>\n",
       "      <td>1000-trees</td>\n",
       "      <td>True</td>\n",
       "      <td>0.268794</td>\n",
       "      <td>0.282191</td>\n",
       "    </tr>\n",
       "    <tr>\n",
       "      <th>7</th>\n",
       "      <td>5000-trees</td>\n",
       "      <td>False</td>\n",
       "      <td>0.264467</td>\n",
       "      <td>0.277496</td>\n",
       "    </tr>\n",
       "    <tr>\n",
       "      <th>8</th>\n",
       "      <td>5000-trees-var-02</td>\n",
       "      <td>False</td>\n",
       "      <td>0.262023</td>\n",
       "      <td>0.275887</td>\n",
       "    </tr>\n",
       "    <tr>\n",
       "      <th>5</th>\n",
       "      <td>1000-trees</td>\n",
       "      <td>False</td>\n",
       "      <td>0.260175</td>\n",
       "      <td>0.273724</td>\n",
       "    </tr>\n",
       "    <tr>\n",
       "      <th>2</th>\n",
       "      <td>100-trees</td>\n",
       "      <td>True</td>\n",
       "      <td>0.247282</td>\n",
       "      <td>0.259980</td>\n",
       "    </tr>\n",
       "    <tr>\n",
       "      <th>6</th>\n",
       "      <td>100-trees</td>\n",
       "      <td>False</td>\n",
       "      <td>0.242383</td>\n",
       "      <td>0.256555</td>\n",
       "    </tr>\n",
       "    <tr>\n",
       "      <th>0</th>\n",
       "      <td>Anserini</td>\n",
       "      <td>False</td>\n",
       "      <td>0.165896</td>\n",
       "      <td>0.166104</td>\n",
       "    </tr>\n",
       "  </tbody>\n",
       "</table>\n",
       "</div>"
      ],
      "text/plain": [
       "                 run  used-anchor-text       MRR    ndcg@5\n",
       "4  5000-trees-var-02              True  0.270415  0.284317\n",
       "3         5000-trees              True  0.269390  0.282943\n",
       "1         1000-trees              True  0.268794  0.282191\n",
       "7         5000-trees             False  0.264467  0.277496\n",
       "8  5000-trees-var-02             False  0.262023  0.275887\n",
       "5         1000-trees             False  0.260175  0.273724\n",
       "2          100-trees              True  0.247282  0.259980\n",
       "6          100-trees             False  0.242383  0.256555\n",
       "0           Anserini             False  0.165896  0.166104"
      ]
     },
     "execution_count": 34,
     "metadata": {},
     "output_type": "execute_result"
    }
   ],
   "source": [
    "import pandas as pd\n",
    "\n",
    "df = []\n",
    "for run in tqdm(run_files):\n",
    "    df += [eval_run(run)]\n",
    "\n",
    "df = pd.DataFrame(df)\n",
    "df.sort_values('MRR', ascending=False)"
   ]
  },
  {
   "cell_type": "code",
   "execution_count": 35,
   "metadata": {},
   "outputs": [
    {
     "data": {
      "text/html": [
       "<div>\n",
       "<style scoped>\n",
       "    .dataframe tbody tr th:only-of-type {\n",
       "        vertical-align: middle;\n",
       "    }\n",
       "\n",
       "    .dataframe tbody tr th {\n",
       "        vertical-align: top;\n",
       "    }\n",
       "\n",
       "    .dataframe thead th {\n",
       "        text-align: right;\n",
       "    }\n",
       "</style>\n",
       "<table border=\"1\" class=\"dataframe\">\n",
       "  <thead>\n",
       "    <tr style=\"text-align: right;\">\n",
       "      <th></th>\n",
       "      <th>run</th>\n",
       "      <th>used-anchor-text</th>\n",
       "      <th>MRR</th>\n",
       "      <th>ndcg@5</th>\n",
       "    </tr>\n",
       "  </thead>\n",
       "  <tbody>\n",
       "    <tr>\n",
       "      <th>4</th>\n",
       "      <td>5000-trees-var-02</td>\n",
       "      <td>True</td>\n",
       "      <td>0.270415</td>\n",
       "      <td>0.284317</td>\n",
       "    </tr>\n",
       "    <tr>\n",
       "      <th>3</th>\n",
       "      <td>5000-trees</td>\n",
       "      <td>True</td>\n",
       "      <td>0.269390</td>\n",
       "      <td>0.282943</td>\n",
       "    </tr>\n",
       "    <tr>\n",
       "      <th>1</th>\n",
       "      <td>1000-trees</td>\n",
       "      <td>True</td>\n",
       "      <td>0.268794</td>\n",
       "      <td>0.282191</td>\n",
       "    </tr>\n",
       "    <tr>\n",
       "      <th>7</th>\n",
       "      <td>5000-trees</td>\n",
       "      <td>False</td>\n",
       "      <td>0.264467</td>\n",
       "      <td>0.277496</td>\n",
       "    </tr>\n",
       "    <tr>\n",
       "      <th>8</th>\n",
       "      <td>5000-trees-var-02</td>\n",
       "      <td>False</td>\n",
       "      <td>0.262023</td>\n",
       "      <td>0.275887</td>\n",
       "    </tr>\n",
       "    <tr>\n",
       "      <th>5</th>\n",
       "      <td>1000-trees</td>\n",
       "      <td>False</td>\n",
       "      <td>0.260175</td>\n",
       "      <td>0.273724</td>\n",
       "    </tr>\n",
       "    <tr>\n",
       "      <th>2</th>\n",
       "      <td>100-trees</td>\n",
       "      <td>True</td>\n",
       "      <td>0.247282</td>\n",
       "      <td>0.259980</td>\n",
       "    </tr>\n",
       "    <tr>\n",
       "      <th>6</th>\n",
       "      <td>100-trees</td>\n",
       "      <td>False</td>\n",
       "      <td>0.242383</td>\n",
       "      <td>0.256555</td>\n",
       "    </tr>\n",
       "    <tr>\n",
       "      <th>0</th>\n",
       "      <td>Anserini</td>\n",
       "      <td>False</td>\n",
       "      <td>0.165896</td>\n",
       "      <td>0.166104</td>\n",
       "    </tr>\n",
       "  </tbody>\n",
       "</table>\n",
       "</div>"
      ],
      "text/plain": [
       "                 run  used-anchor-text       MRR    ndcg@5\n",
       "4  5000-trees-var-02              True  0.270415  0.284317\n",
       "3         5000-trees              True  0.269390  0.282943\n",
       "1         1000-trees              True  0.268794  0.282191\n",
       "7         5000-trees             False  0.264467  0.277496\n",
       "8  5000-trees-var-02             False  0.262023  0.275887\n",
       "5         1000-trees             False  0.260175  0.273724\n",
       "2          100-trees              True  0.247282  0.259980\n",
       "6          100-trees             False  0.242383  0.256555\n",
       "0           Anserini             False  0.165896  0.166104"
      ]
     },
     "execution_count": 35,
     "metadata": {},
     "output_type": "execute_result"
    }
   ],
   "source": [
    "df.sort_values('ndcg@5', ascending=False)"
   ]
  },
  {
   "cell_type": "code",
   "execution_count": 44,
   "metadata": {},
   "outputs": [
    {
     "data": {
      "image/png": "[encoded data removed]",
      "text/plain": [
       "<Figure size 452.875x360 with 1 Axes>"
      ]
     },
     "metadata": {
      "needs_background": "light"
     },
     "output_type": "display_data"
    }
   ],
   "source": [
    "import seaborn as sns\n",
    "import matplotlib.pyplot as plt\n",
    "\n",
    "sns.catplot(data=df, x='run', y='ndcg@5', hue='used-anchor-text', kind='bar')\n",
    "plt.xticks(rotation=45)\n",
    "None"
   ]
  },
  {
   "cell_type": "markdown",
   "metadata": {},
   "source": [
    "# Double Check that all files are parseable with trec_eval"
   ]
  },
  {
   "cell_type": "code",
   "execution_count": 53,
   "metadata": {},
   "outputs": [
    {
     "name": "stdout",
     "output_type": "stream",
     "text": [
      "\n",
      "\n",
      "\n",
      "/mnt/ceph/storage/data-in-progress/data-research/web-search/TREC-21/lightgbm/anserini-docv2-dev2-run-file.txt\n",
      "recip_rank            \tall\t0.1659\n",
      "\n",
      "\n",
      "\n",
      "/mnt/ceph/storage/data-in-progress/data-research/web-search/TREC-21/lightgbm/all-50-features/train-with-1000-trees/docv2-dev2-run-file.txt\n",
      "recip_rank            \tall\t0.2688\n",
      "\n",
      "\n",
      "\n",
      "/mnt/ceph/storage/data-in-progress/data-research/web-search/TREC-21/lightgbm/all-50-features/train-with-100-trees/docv2-dev2-run-file.txt\n",
      "recip_rank            \tall\t0.2473\n",
      "\n",
      "\n",
      "\n",
      "/mnt/ceph/storage/data-in-progress/data-research/web-search/TREC-21/lightgbm/all-50-features/train-with-5000-trees/docv2-dev2-run-file.txt\n",
      "recip_rank            \tall\t0.2694\n",
      "\n",
      "\n",
      "\n",
      "/mnt/ceph/storage/data-in-progress/data-research/web-search/TREC-21/lightgbm/all-50-features/train-with-5000-trees-var-02/docv2-dev2-run-file.txt\n",
      "recip_rank            \tall\t0.2704\n",
      "\n",
      "\n",
      "\n",
      "/mnt/ceph/storage/data-in-progress/data-research/web-search/TREC-21/lightgbm/2-no-anchor/train-with-1000-trees/docv2-dev2-run-file.txt\n",
      "recip_rank            \tall\t0.2602\n",
      "\n",
      "\n",
      "\n",
      "/mnt/ceph/storage/data-in-progress/data-research/web-search/TREC-21/lightgbm/2-no-anchor/train-with-100-trees/docv2-dev2-run-file.txt\n",
      "recip_rank            \tall\t0.2424\n",
      "\n",
      "\n",
      "\n",
      "/mnt/ceph/storage/data-in-progress/data-research/web-search/TREC-21/lightgbm/2-no-anchor/train-with-5000-trees/docv2-dev2-run-file.txt\n",
      "recip_rank            \tall\t0.2645\n",
      "\n",
      "\n",
      "\n",
      "/mnt/ceph/storage/data-in-progress/data-research/web-search/TREC-21/lightgbm/2-no-anchor/train-with-5000-trees-var-02/docv2-dev2-run-file.txt\n",
      "recip_rank            \tall\t0.2620\n"
     ]
    }
   ],
   "source": [
    "for f in run_files:\n",
    "    print('\\n\\n\\n' + f.filename)\n",
    "    !trec_eval -m recip_rank $qrels.filename $f.filename"
   ]
  },
  {
   "cell_type": "code",
   "execution_count": 57,
   "metadata": {},
   "outputs": [
    {
     "name": "stdout",
     "output_type": "stream",
     "text": [
      "recip_rank            \tall\t0.2473\r\n"
     ]
    }
   ],
   "source": [
    "!trec_eval -m recip_rank $qrels.filename /mnt/ceph/storage/data-in-progress/data-research/web-search/TREC-21/lightgbm/all-50-features/train-with-100-trees-no-val/docv2-dev2-run-file.txt"
   ]
  },
  {
   "cell_type": "code",
   "execution_count": 60,
   "metadata": {},
   "outputs": [
    {
     "name": "stdout",
     "output_type": "stream",
     "text": [
      "recip_rank            \tall\t0.2688\r\n"
     ]
    }
   ],
   "source": [
    "!trec_eval -m recip_rank $qrels.filename /mnt/ceph/storage/data-in-progress/data-research/web-search/TREC-21/lightgbm/all-50-features/train-with-1000-trees-no-val/docv2-dev2-run-file.txt"
   ]
  },
  {
   "cell_type": "markdown",
   "metadata": {},
   "source": [
    "# Submitted Files\n",
    "\n",
    "- test topics\n",
    "- test reranking for one topc"
   ]
  },
  {
   "cell_type": "code",
   "execution_count": 61,
   "metadata": {},
   "outputs": [
    {
     "name": "stdout",
     "output_type": "stream",
     "text": [
      "89d885c7bf076a84becb68635dfc7d20  /mnt/ceph/storage/data-in-progress/data-research/web-search/TREC-21/lightgbm/all-50-features/train-with-5000-trees-var-02/2021-trec-dl-test-run-file.txt\r\n"
     ]
    }
   ],
   "source": [
    "!md5sum /mnt/ceph/storage/data-in-progress/data-research/web-search/TREC-21/lightgbm/all-50-features/train-with-5000-trees-var-02/2021-trec-dl-test-run-file.txt"
   ]
  },
  {
   "cell_type": "code",
   "execution_count": 63,
   "metadata": {},
   "outputs": [
    {
     "name": "stdout",
     "output_type": "stream",
     "text": [
      "e524c301783b32caa6a5003b1820a50c  /mnt/ceph/storage/data-in-progress/data-research/web-search/TREC-21/lightgbm/2-no-anchor/train-with-5000-trees-var-02/2021-trec-dl-test-run-file.txt\r\n"
     ]
    }
   ],
   "source": [
    "!md5sum /mnt/ceph/storage/data-in-progress/data-research/web-search/TREC-21/lightgbm/2-no-anchor/train-with-5000-trees-var-02/2021-trec-dl-test-run-file.txt"
   ]
  },
  {
   "cell_type": "code",
   "execution_count": 64,
   "metadata": {},
   "outputs": [
    {
     "name": "stdout",
     "output_type": "stream",
     "text": [
      "7b8a65fe1eccfc2f9431e5a578704cc3  /mnt/ceph/storage/data-in-progress/data-research/web-search/TREC-21/lightgbm/all-50-features/train-with-1000-trees/2021-trec-dl-test-run-file.txt\r\n"
     ]
    }
   ],
   "source": [
    "!md5sum /mnt/ceph/storage/data-in-progress/data-research/web-search/TREC-21/lightgbm/all-50-features/train-with-1000-trees/2021-trec-dl-test-run-file.txt"
   ]
  },
  {
   "cell_type": "code",
   "execution_count": 69,
   "metadata": {},
   "outputs": [
    {
     "name": "stdout",
     "output_type": "stream",
     "text": [
      "webis-dl-1.txt\twebis-dl-2.txt\twebis-dl-3.txt\r\n"
     ]
    }
   ],
   "source": [
    "!ls "
   ]
  },
  {
   "cell_type": "code",
   "execution_count": 74,
   "metadata": {},
   "outputs": [
    {
     "name": "stdout",
     "output_type": "stream",
     "text": [
      "\n",
      "\n",
      "\n",
      "webis-dl-1\n",
      "477\n",
      "[2082, 7551, 7578, 13365, 19335, 23287, 29624, 30611, 42255, 47210, 62152, 64588, 67316, 67637, 68196, 70509, 76900, 83724, 87452, 89381, 100043, 104861, 105804, 107320, 112674, 112700, 116187, 118440, 119184, 120938, 120961, 121171, 122354, 122436, 123350, 124178, 126889, 130510, 131843, 135802, 138029, 141630, 143116, 144414, 146187, 148538, 156276, 156498, 156873, 168216, 168329, 169208, 174463, 177465, 180176, 182539, 183378, 190623, 191893, 194779, 194927, 195960, 200944, 201129, 207786, 226975, 230174, 234536, 237669, 239192, 239480, 240206, 242176, 245438, 248704, 252284, 252692, 252915, 253263, 255223, 255892, 258062, 258441, 265593, 265953, 272996, 273270, 276356, 277215, 281250, 282148, 287683, 288850, 290916, 292792, 293523, 294028, 295266, 300025, 300487, 300986, 301866, 303293, 303586, 305966, 311125, 312764, 315330, 315378, 315638, 316697, 316914, 322228, 323347, 324720, 330975, 332000, 332593, 333407, 337656, 363049, 364210, 366370, 390360, 395948, 397621, 398750, 399492, 405163, 405717, 406721, 421946, 426764, 431958, 441949, 451602, 456466, 461277, 468525, 490595, 493490, 499370, 502406, 504404, 505390, 506772, 508292, 527433, 529397, 537968, 538755, 540006, 547849, 555530, 563799, 568750, 570248, 573724, 573933, 576538, 578816, 583468, 596569, 599782, 600960, 608920, 615176, 619768, 623215, 626083, 629937, 630651, 632075, 639351, 640502, 641072, 645682, 646091, 647362, 654354, 656599, 657476, 660766, 661905, 672128, 672392, 673670, 677533, 681645, 688007, 688365, 693059, 697123, 701453, 704564, 706503, 706845, 707882, 709042, 715981, 718448, 722775, 730539, 734004, 741804, 746571, 764738, 768208, 769280, 774736, 783076, 783322, 787021, 788054, 803542, 806694, 816172, 816390, 816748, 817848, 818295, 818583, 821914, 822191, 826968, 827885, 832573, 833860, 835301, 835608, 835760, 835851, 838673, 840276, 841092, 842827, 843373, 844331, 845121, 855410, 856715, 868825, 869874, 877809, 883278, 883547, 884945, 887500, 891547, 891757, 891781, 899842, 899853, 902691, 911232, 911764, 914916, 916917, 917605, 924322, 928591, 929263, 931688, 935353, 935964, 938400, 940547, 942395, 945747, 947019, 952262, 952284, 956549, 960857, 960970, 962179, 964837, 975079, 977084, 980697, 985456, 989969, 990537, 996519, 997622, 1006728, 1013854, 1014799, 1014847, 1015092, 1015504, 1017710, 1018358, 1019430, 1023812, 1030303, 1037496, 1037798, 1040198, 1042077, 1043135, 1045262, 1049187, 1049519, 1051399, 1051909, 1052368, 1063750, 1064670, 1068235, 1068356, 1068734, 1069207, 1071750, 1078832, 1102663, 1102690, 1102843, 1102932, 1103034, 1103153, 1103178, 1103471, 1103547, 1103617, 1103812, 1104049, 1104164, 1104213, 1104300, 1104398, 1104447, 1104462, 1104510, 1104706, 1105680, 1105792, 1105879, 1106007, 1106499, 1106979, 1107080, 1107387, 1107461, 1107678, 1107704, 1107821, 1108651, 1108686, 1109194, 1109313, 1109358, 1109415, 1109489, 1109515, 1109544, 1109707, 1109840, 1110199, 1110201, 1110892, 1110996, 1111084, 1111198, 1111422, 1111577, 1111758, 1111970, 1112103, 1112190, 1112209, 1112219, 1112307, 1112341, 1112560, 1112631, 1112761, 1113361, 1113437, 1113652, 1113664, 1113686, 1113741, 1114143, 1114391, 1114469, 1114646, 1114819, 1115127, 1115210, 1115705, 1115776, 1115963, 1116380, 1116388, 1116622, 1117099, 1117169, 1117243, 1117298, 1117523, 1118547, 1118716, 1119154, 1119157, 1119543, 1119594, 1119719, 1120027, 1120094, 1120387, 1120751, 1120977, 1121353, 1121402, 1121568, 1121610, 1121709, 1121746, 1121909, 1122627, 1122764, 1122767, 1124092, 1124210, 1124450, 1124614, 1124684, 1125718, 1126413, 1126458, 1127356, 1127540, 1127763, 1128488, 1128632, 1129237, 1129558, 1129560, 1129747, 1129908, 1129909, 1130099, 1130145, 1130665, 1130982, 1131069, 1131269, 1131296, 1131645, 1131773, 1131866, 1132028, 1132213, 1132532, 1132748, 1132805, 1132924, 1132933, 1133138, 1133167, 1133169, 1133579, 1134044, 1134856, 1135131, 1135155, 1135424, 1135488, 1135557, 1135564, 1135969, 1136043, 1136047, 1136581, 1136649, 1136769]\n",
      "\n",
      "\n",
      "\n",
      "webis-dl-2\n",
      "477\n",
      "[2082, 7551, 7578, 13365, 19335, 23287, 29624, 30611, 42255, 47210, 62152, 64588, 67316, 67637, 68196, 70509, 76900, 83724, 87452, 89381, 100043, 104861, 105804, 107320, 112674, 112700, 116187, 118440, 119184, 120938, 120961, 121171, 122354, 122436, 123350, 124178, 126889, 130510, 131843, 135802, 138029, 141630, 143116, 144414, 146187, 148538, 156276, 156498, 156873, 168216, 168329, 169208, 174463, 177465, 180176, 182539, 183378, 190623, 191893, 194779, 194927, 195960, 200944, 201129, 207786, 226975, 230174, 234536, 237669, 239192, 239480, 240206, 242176, 245438, 248704, 252284, 252692, 252915, 253263, 255223, 255892, 258062, 258441, 265593, 265953, 272996, 273270, 276356, 277215, 281250, 282148, 287683, 288850, 290916, 292792, 293523, 294028, 295266, 300025, 300487, 300986, 301866, 303293, 303586, 305966, 311125, 312764, 315330, 315378, 315638, 316697, 316914, 322228, 323347, 324720, 330975, 332000, 332593, 333407, 337656, 363049, 364210, 366370, 390360, 395948, 397621, 398750, 399492, 405163, 405717, 406721, 421946, 426764, 431958, 441949, 451602, 456466, 461277, 468525, 490595, 493490, 499370, 502406, 504404, 505390, 506772, 508292, 527433, 529397, 537968, 538755, 540006, 547849, 555530, 563799, 568750, 570248, 573724, 573933, 576538, 578816, 583468, 596569, 599782, 600960, 608920, 615176, 619768, 623215, 626083, 629937, 630651, 632075, 639351, 640502, 641072, 645682, 646091, 647362, 654354, 656599, 657476, 660766, 661905, 672128, 672392, 673670, 677533, 681645, 688007, 688365, 693059, 697123, 701453, 704564, 706503, 706845, 707882, 709042, 715981, 718448, 722775, 730539, 734004, 741804, 746571, 764738, 768208, 769280, 774736, 783076, 783322, 787021, 788054, 803542, 806694, 816172, 816390, 816748, 817848, 818295, 818583, 821914, 822191, 826968, 827885, 832573, 833860, 835301, 835608, 835760, 835851, 838673, 840276, 841092, 842827, 843373, 844331, 845121, 855410, 856715, 868825, 869874, 877809, 883278, 883547, 884945, 887500, 891547, 891757, 891781, 899842, 899853, 902691, 911232, 911764, 914916, 916917, 917605, 924322, 928591, 929263, 931688, 935353, 935964, 938400, 940547, 942395, 945747, 947019, 952262, 952284, 956549, 960857, 960970, 962179, 964837, 975079, 977084, 980697, 985456, 989969, 990537, 996519, 997622, 1006728, 1013854, 1014799, 1014847, 1015092, 1015504, 1017710, 1018358, 1019430, 1023812, 1030303, 1037496, 1037798, 1040198, 1042077, 1043135, 1045262, 1049187, 1049519, 1051399, 1051909, 1052368, 1063750, 1064670, 1068235, 1068356, 1068734, 1069207, 1071750, 1078832, 1102663, 1102690, 1102843, 1102932, 1103034, 1103153, 1103178, 1103471, 1103547, 1103617, 1103812, 1104049, 1104164, 1104213, 1104300, 1104398, 1104447, 1104462, 1104510, 1104706, 1105680, 1105792, 1105879, 1106007, 1106499, 1106979, 1107080, 1107387, 1107461, 1107678, 1107704, 1107821, 1108651, 1108686, 1109194, 1109313, 1109358, 1109415, 1109489, 1109515, 1109544, 1109707, 1109840, 1110199, 1110201, 1110892, 1110996, 1111084, 1111198, 1111422, 1111577, 1111758, 1111970, 1112103, 1112190, 1112209, 1112219, 1112307, 1112341, 1112560, 1112631, 1112761, 1113361, 1113437, 1113652, 1113664, 1113686, 1113741, 1114143, 1114391, 1114469, 1114646, 1114819, 1115127, 1115210, 1115705, 1115776, 1115963, 1116380, 1116388, 1116622, 1117099, 1117169, 1117243, 1117298, 1117523, 1118547, 1118716, 1119154, 1119157, 1119543, 1119594, 1119719, 1120027, 1120094, 1120387, 1120751, 1120977, 1121353, 1121402, 1121568, 1121610, 1121709, 1121746, 1121909, 1122627, 1122764, 1122767, 1124092, 1124210, 1124450, 1124614, 1124684, 1125718, 1126413, 1126458, 1127356, 1127540, 1127763, 1128488, 1128632, 1129237, 1129558, 1129560, 1129747, 1129908, 1129909, 1130099, 1130145, 1130665, 1130982, 1131069, 1131269, 1131296, 1131645, 1131773, 1131866, 1132028, 1132213, 1132532, 1132748, 1132805, 1132924, 1132933, 1133138, 1133167, 1133169, 1133579, 1134044, 1134856, 1135131, 1135155, 1135424, 1135488, 1135557, 1135564, 1135969, 1136043, 1136047, 1136581, 1136649, 1136769]\n",
      "\n",
      "\n",
      "\n",
      "webis-dl-3\n",
      "477\n",
      "[2082, 7551, 7578, 13365, 19335, 23287, 29624, 30611, 42255, 47210, 62152, 64588, 67316, 67637, 68196, 70509, 76900, 83724, 87452, 89381, 100043, 104861, 105804, 107320, 112674, 112700, 116187, 118440, 119184, 120938, 120961, 121171, 122354, 122436, 123350, 124178, 126889, 130510, 131843, 135802, 138029, 141630, 143116, 144414, 146187, 148538, 156276, 156498, 156873, 168216, 168329, 169208, 174463, 177465, 180176, 182539, 183378, 190623, 191893, 194779, 194927, 195960, 200944, 201129, 207786, 226975, 230174, 234536, 237669, 239192, 239480, 240206, 242176, 245438, 248704, 252284, 252692, 252915, 253263, 255223, 255892, 258062, 258441, 265593, 265953, 272996, 273270, 276356, 277215, 281250, 282148, 287683, 288850, 290916, 292792, 293523, 294028, 295266, 300025, 300487, 300986, 301866, 303293, 303586, 305966, 311125, 312764, 315330, 315378, 315638, 316697, 316914, 322228, 323347, 324720, 330975, 332000, 332593, 333407, 337656, 363049, 364210, 366370, 390360, 395948, 397621, 398750, 399492, 405163, 405717, 406721, 421946, 426764, 431958, 441949, 451602, 456466, 461277, 468525, 490595, 493490, 499370, 502406, 504404, 505390, 506772, 508292, 527433, 529397, 537968, 538755, 540006, 547849, 555530, 563799, 568750, 570248, 573724, 573933, 576538, 578816, 583468, 596569, 599782, 600960, 608920, 615176, 619768, 623215, 626083, 629937, 630651, 632075, 639351, 640502, 641072, 645682, 646091, 647362, 654354, 656599, 657476, 660766, 661905, 672128, 672392, 673670, 677533, 681645, 688007, 688365, 693059, 697123, 701453, 704564, 706503, 706845, 707882, 709042, 715981, 718448, 722775, 730539, 734004, 741804, 746571, 764738, 768208, 769280, 774736, 783076, 783322, 787021, 788054, 803542, 806694, 816172, 816390, 816748, 817848, 818295, 818583, 821914, 822191, 826968, 827885, 832573, 833860, 835301, 835608, 835760, 835851, 838673, 840276, 841092, 842827, 843373, 844331, 845121, 855410, 856715, 868825, 869874, 877809, 883278, 883547, 884945, 887500, 891547, 891757, 891781, 899842, 899853, 902691, 911232, 911764, 914916, 916917, 917605, 924322, 928591, 929263, 931688, 935353, 935964, 938400, 940547, 942395, 945747, 947019, 952262, 952284, 956549, 960857, 960970, 962179, 964837, 975079, 977084, 980697, 985456, 989969, 990537, 996519, 997622, 1006728, 1013854, 1014799, 1014847, 1015092, 1015504, 1017710, 1018358, 1019430, 1023812, 1030303, 1037496, 1037798, 1040198, 1042077, 1043135, 1045262, 1049187, 1049519, 1051399, 1051909, 1052368, 1063750, 1064670, 1068235, 1068356, 1068734, 1069207, 1071750, 1078832, 1102663, 1102690, 1102843, 1102932, 1103034, 1103153, 1103178, 1103471, 1103547, 1103617, 1103812, 1104049, 1104164, 1104213, 1104300, 1104398, 1104447, 1104462, 1104510, 1104706, 1105680, 1105792, 1105879, 1106007, 1106499, 1106979, 1107080, 1107387, 1107461, 1107678, 1107704, 1107821, 1108651, 1108686, 1109194, 1109313, 1109358, 1109415, 1109489, 1109515, 1109544, 1109707, 1109840, 1110199, 1110201, 1110892, 1110996, 1111084, 1111198, 1111422, 1111577, 1111758, 1111970, 1112103, 1112190, 1112209, 1112219, 1112307, 1112341, 1112560, 1112631, 1112761, 1113361, 1113437, 1113652, 1113664, 1113686, 1113741, 1114143, 1114391, 1114469, 1114646, 1114819, 1115127, 1115210, 1115705, 1115776, 1115963, 1116380, 1116388, 1116622, 1117099, 1117169, 1117243, 1117298, 1117523, 1118547, 1118716, 1119154, 1119157, 1119543, 1119594, 1119719, 1120027, 1120094, 1120387, 1120751, 1120977, 1121353, 1121402, 1121568, 1121610, 1121709, 1121746, 1121909, 1122627, 1122764, 1122767, 1124092, 1124210, 1124450, 1124614, 1124684, 1125718, 1126413, 1126458, 1127356, 1127540, 1127763, 1128488, 1128632, 1129237, 1129558, 1129560, 1129747, 1129908, 1129909, 1130099, 1130145, 1130665, 1130982, 1131069, 1131269, 1131296, 1131645, 1131773, 1131866, 1132028, 1132213, 1132532, 1132748, 1132805, 1132924, 1132933, 1133138, 1133167, 1133169, 1133579, 1134044, 1134856, 1135131, 1135155, 1135424, 1135488, 1135557, 1135564, 1135969, 1136043, 1136047, 1136581, 1136649, 1136769]\n"
     ]
    }
   ],
   "source": [
    "for i in range(3):\n",
    "    t = TrecRun('../../../runs-submitted/webis-dl-' + str(i+1) + '.txt')\n",
    "    print('\\n\\n\\n' + t.get_runid())\n",
    "    print(len(t.topics()))\n",
    "    print(t.topics())"
   ]
  },
  {
   "cell_type": "markdown",
   "metadata": {},
   "source": [
    "# Create rankings on MS-Marco V1"
   ]
  },
  {
   "cell_type": "code",
   "execution_count": 4,
   "metadata": {},
   "outputs": [],
   "source": [
    "DIR='/mnt/ceph/storage/data-in-progress/data-research/web-search/TREC-21/lightgbm/marco-v1-all-121-features/'\n",
    "MODELS=!ls $DIR |grep 'train-with'\n",
    "FEATURE_FILES = ['2021_trec_dl_test.rerank', 'docv2_dev1.rerank']"
   ]
  },
  {
   "cell_type": "code",
   "execution_count": 5,
   "metadata": {},
   "outputs": [
    {
     "data": {
      "text/plain": [
       "['train-with-1000-trees',\n",
       " 'train-with-100-trees',\n",
       " 'train-with-5000-trees',\n",
       " 'train-with-5000-trees-var-02']"
      ]
     },
     "execution_count": 5,
     "metadata": {},
     "output_type": "execute_result"
    }
   ],
   "source": [
    "MODELS"
   ]
  },
  {
   "cell_type": "code",
   "execution_count": 6,
   "metadata": {},
   "outputs": [
    {
     "name": "stderr",
     "output_type": "stream",
     "text": [
      "100%|██████████| 2/2 [00:41<00:00, 20.94s/it]\n",
      "100%|██████████| 2/2 [00:19<00:00,  9.92s/it]\n",
      "100%|██████████| 2/2 [00:39<00:00, 19.67s/it]\n",
      "100%|██████████| 2/2 [00:16<00:00,  8.37s/it]\n",
      "100%|██████████| 2/2 [00:38<00:00, 19.35s/it]\n",
      "100%|██████████| 2/2 [00:17<00:00,  8.77s/it]\n",
      "100%|██████████| 2/2 [00:35<00:00, 17.92s/it]\n",
      "100%|██████████| 2/2 [00:14<00:00,  7.27s/it]\n",
      "100%|██████████| 2/2 [00:53<00:00, 26.89s/it]\n",
      "100%|██████████| 2/2 [00:28<00:00, 14.12s/it]\n",
      "100%|██████████| 2/2 [00:45<00:00, 23.00s/it]\n",
      "100%|██████████| 2/2 [00:24<00:00, 12.48s/it]\n",
      "100%|██████████| 2/2 [00:49<00:00, 24.87s/it]\n",
      "100%|██████████| 2/2 [00:29<00:00, 14.73s/it]\n",
      "100%|██████████| 2/2 [00:47<00:00, 23.50s/it]\n",
      "100%|██████████| 2/2 [00:24<00:00, 12.37s/it]\n"
     ]
    }
   ],
   "source": [
    "from tqdm import tqdm\n",
    "\n",
    "DIRS= ['marco-v1-all-121-features/', 'marco-v1-no-anchor/', 'marco-v1-no-orcas/', 'marco-v1-no-anchor-no-orcas/']\n",
    "\n",
    "for model in MODELS:\n",
    "    for tmp_dir in DIRS:\n",
    "        DIR = '/mnt/ceph/storage/data-in-progress/data-research/web-search/TREC-21/lightgbm/' + tmp_dir\n",
    "        for feature_file in tqdm(FEATURE_FILES):\n",
    "            out_file = DIR + model + '/' + (feature_file.replace('.rerank', '').replace('_', '-')) + '-run-file.txt'\n",
    "            write_run_file(\n",
    "                model_file=DIR + model + '/LightGBM_model.txt',\n",
    "                feature_file=DIR + feature_file, \n",
    "                system_name=model,\n",
    "                out_file=out_file\n",
    "            )"
   ]
  },
  {
   "cell_type": "code",
   "execution_count": 10,
   "metadata": {},
   "outputs": [
    {
     "name": "stderr",
     "output_type": "stream",
     "text": [
      "100%|██████████| 4/4 [00:05<00:00,  1.34s/it]\n",
      "100%|██████████| 4/4 [00:05<00:00,  1.41s/it]\n",
      "100%|██████████| 4/4 [00:05<00:00,  1.33s/it]\n",
      "  0%|          | 0/1 [00:00<?, ?it/s]\n"
     ]
    },
    {
     "ename": "FileNotFoundError",
     "evalue": "[Errno 2] No such file or directory: \"/mnt/ceph/storage/data-in-progress/data-research/web-search/TREC-21/lightgbm/v1-no-anchor-no-orcasls: cannot access '/mnt/ceph/storage/data-in-progress/data-research/web-search/TREC-21/lightgbm/v1-no-anchor-no-orcas': No such file or directory/docv2-dev1-run-file.txt\"",
     "output_type": "error",
     "traceback": [
      "\u001b[0;31m---------------------------------------------------------------------------\u001b[0m",
      "\u001b[0;31mFileNotFoundError\u001b[0m                         Traceback (most recent call last)",
      "\u001b[0;32m<ipython-input-10-be44b94fdf83>\u001b[0m in \u001b[0;36m<module>\u001b[0;34m\u001b[0m\n\u001b[1;32m     13\u001b[0m     \u001b[0mmodels\u001b[0m \u001b[0;34m=\u001b[0m \u001b[0mget_ipython\u001b[0m\u001b[0;34m(\u001b[0m\u001b[0;34m)\u001b[0m\u001b[0;34m.\u001b[0m\u001b[0mgetoutput\u001b[0m\u001b[0;34m(\u001b[0m\u001b[0;34m\"ls $dir_name |grep 'train-with'\"\u001b[0m\u001b[0;34m)\u001b[0m\u001b[0;34m\u001b[0m\u001b[0;34m\u001b[0m\u001b[0m\n\u001b[1;32m     14\u001b[0m     \u001b[0;32mfor\u001b[0m \u001b[0mmodel\u001b[0m \u001b[0;32min\u001b[0m \u001b[0mtqdm\u001b[0m\u001b[0;34m(\u001b[0m\u001b[0mmodels\u001b[0m\u001b[0;34m)\u001b[0m\u001b[0;34m:\u001b[0m\u001b[0;34m\u001b[0m\u001b[0;34m\u001b[0m\u001b[0m\n\u001b[0;32m---> 15\u001b[0;31m         \u001b[0mrun_files\u001b[0m \u001b[0;34m+=\u001b[0m \u001b[0;34m[\u001b[0m\u001b[0mTrecRun\u001b[0m\u001b[0;34m(\u001b[0m\u001b[0mdir_name\u001b[0m \u001b[0;34m+\u001b[0m \u001b[0mmodel\u001b[0m \u001b[0;34m+\u001b[0m \u001b[0;34m'/docv2-dev1-run-file.txt'\u001b[0m\u001b[0;34m)\u001b[0m\u001b[0;34m]\u001b[0m\u001b[0;34m\u001b[0m\u001b[0;34m\u001b[0m\u001b[0m\n\u001b[0m",
      "\u001b[0;32m/usr/local/lib/python3.6/dist-packages/trectools/trec_run.py\u001b[0m in \u001b[0;36m__init__\u001b[0;34m(self, filename)\u001b[0m\n\u001b[1;32m     20\u001b[0m     \u001b[0;32mdef\u001b[0m \u001b[0m__init__\u001b[0m\u001b[0;34m(\u001b[0m\u001b[0mself\u001b[0m\u001b[0;34m,\u001b[0m \u001b[0mfilename\u001b[0m\u001b[0;34m=\u001b[0m\u001b[0;32mNone\u001b[0m\u001b[0;34m)\u001b[0m\u001b[0;34m:\u001b[0m\u001b[0;34m\u001b[0m\u001b[0;34m\u001b[0m\u001b[0m\n\u001b[1;32m     21\u001b[0m         \u001b[0;32mif\u001b[0m \u001b[0mfilename\u001b[0m\u001b[0;34m:\u001b[0m\u001b[0;34m\u001b[0m\u001b[0;34m\u001b[0m\u001b[0m\n\u001b[0;32m---> 22\u001b[0;31m             \u001b[0mself\u001b[0m\u001b[0;34m.\u001b[0m\u001b[0mread_run\u001b[0m\u001b[0;34m(\u001b[0m\u001b[0mfilename\u001b[0m\u001b[0;34m)\u001b[0m\u001b[0;34m\u001b[0m\u001b[0;34m\u001b[0m\u001b[0m\n\u001b[0m\u001b[1;32m     23\u001b[0m         \u001b[0;32melse\u001b[0m\u001b[0;34m:\u001b[0m\u001b[0;34m\u001b[0m\u001b[0;34m\u001b[0m\u001b[0m\n\u001b[1;32m     24\u001b[0m             \u001b[0mself\u001b[0m\u001b[0;34m.\u001b[0m\u001b[0mfilename\u001b[0m \u001b[0;34m=\u001b[0m \u001b[0;32mNone\u001b[0m\u001b[0;34m\u001b[0m\u001b[0;34m\u001b[0m\u001b[0m\n",
      "\u001b[0;32m/usr/local/lib/python3.6/dist-packages/trectools/trec_run.py\u001b[0m in \u001b[0;36mread_run\u001b[0;34m(self, filename)\u001b[0m\n\u001b[1;32m     41\u001b[0m \u001b[0;34m\u001b[0m\u001b[0m\n\u001b[1;32m     42\u001b[0m     \u001b[0;32mdef\u001b[0m \u001b[0mread_run\u001b[0m\u001b[0;34m(\u001b[0m\u001b[0mself\u001b[0m\u001b[0;34m,\u001b[0m \u001b[0mfilename\u001b[0m\u001b[0;34m)\u001b[0m\u001b[0;34m:\u001b[0m\u001b[0;34m\u001b[0m\u001b[0;34m\u001b[0m\u001b[0m\n\u001b[0;32m---> 43\u001b[0;31m         \u001b[0mself\u001b[0m\u001b[0;34m.\u001b[0m\u001b[0mrun_data\u001b[0m \u001b[0;34m=\u001b[0m \u001b[0mpd\u001b[0m\u001b[0;34m.\u001b[0m\u001b[0mread_csv\u001b[0m\u001b[0;34m(\u001b[0m\u001b[0mfilename\u001b[0m\u001b[0;34m,\u001b[0m \u001b[0msep\u001b[0m\u001b[0;34m=\u001b[0m\u001b[0;34m\"\\s+\"\u001b[0m\u001b[0;34m,\u001b[0m \u001b[0mnames\u001b[0m\u001b[0;34m=\u001b[0m\u001b[0;34m[\u001b[0m\u001b[0;34m\"query\"\u001b[0m\u001b[0;34m,\u001b[0m \u001b[0;34m\"q0\"\u001b[0m\u001b[0;34m,\u001b[0m \u001b[0;34m\"docid\"\u001b[0m\u001b[0;34m,\u001b[0m \u001b[0;34m\"rank\"\u001b[0m\u001b[0;34m,\u001b[0m \u001b[0;34m\"score\"\u001b[0m\u001b[0;34m,\u001b[0m \u001b[0;34m\"system\"\u001b[0m\u001b[0;34m]\u001b[0m\u001b[0;34m)\u001b[0m\u001b[0;34m\u001b[0m\u001b[0;34m\u001b[0m\u001b[0m\n\u001b[0m\u001b[1;32m     44\u001b[0m         \u001b[0;31m# Make sure the values are correclty sorted by score\u001b[0m\u001b[0;34m\u001b[0m\u001b[0;34m\u001b[0m\u001b[0;34m\u001b[0m\u001b[0m\n\u001b[1;32m     45\u001b[0m         \u001b[0mself\u001b[0m\u001b[0;34m.\u001b[0m\u001b[0mrun_data\u001b[0m\u001b[0;34m.\u001b[0m\u001b[0msort_values\u001b[0m\u001b[0;34m(\u001b[0m\u001b[0;34m[\u001b[0m\u001b[0;34m\"query\"\u001b[0m\u001b[0;34m,\u001b[0m \u001b[0;34m\"score\"\u001b[0m\u001b[0;34m,\u001b[0m \u001b[0;34m\"docid\"\u001b[0m\u001b[0;34m]\u001b[0m\u001b[0;34m,\u001b[0m \u001b[0minplace\u001b[0m\u001b[0;34m=\u001b[0m\u001b[0;32mTrue\u001b[0m\u001b[0;34m,\u001b[0m \u001b[0mascending\u001b[0m\u001b[0;34m=\u001b[0m\u001b[0;34m[\u001b[0m\u001b[0;32mTrue\u001b[0m\u001b[0;34m,\u001b[0m \u001b[0;32mFalse\u001b[0m\u001b[0;34m,\u001b[0m \u001b[0;32mTrue\u001b[0m\u001b[0;34m]\u001b[0m\u001b[0;34m)\u001b[0m\u001b[0;34m\u001b[0m\u001b[0;34m\u001b[0m\u001b[0m\n",
      "\u001b[0;32m/usr/local/lib/python3.6/dist-packages/pandas/io/parsers.py\u001b[0m in \u001b[0;36mread_csv\u001b[0;34m(filepath_or_buffer, sep, delimiter, header, names, index_col, usecols, squeeze, prefix, mangle_dupe_cols, dtype, engine, converters, true_values, false_values, skipinitialspace, skiprows, skipfooter, nrows, na_values, keep_default_na, na_filter, verbose, skip_blank_lines, parse_dates, infer_datetime_format, keep_date_col, date_parser, dayfirst, cache_dates, iterator, chunksize, compression, thousands, decimal, lineterminator, quotechar, quoting, doublequote, escapechar, comment, encoding, dialect, error_bad_lines, warn_bad_lines, delim_whitespace, low_memory, memory_map, float_precision)\u001b[0m\n\u001b[1;32m    686\u001b[0m     )\n\u001b[1;32m    687\u001b[0m \u001b[0;34m\u001b[0m\u001b[0m\n\u001b[0;32m--> 688\u001b[0;31m     \u001b[0;32mreturn\u001b[0m \u001b[0m_read\u001b[0m\u001b[0;34m(\u001b[0m\u001b[0mfilepath_or_buffer\u001b[0m\u001b[0;34m,\u001b[0m \u001b[0mkwds\u001b[0m\u001b[0;34m)\u001b[0m\u001b[0;34m\u001b[0m\u001b[0;34m\u001b[0m\u001b[0m\n\u001b[0m\u001b[1;32m    689\u001b[0m \u001b[0;34m\u001b[0m\u001b[0m\n\u001b[1;32m    690\u001b[0m \u001b[0;34m\u001b[0m\u001b[0m\n",
      "\u001b[0;32m/usr/local/lib/python3.6/dist-packages/pandas/io/parsers.py\u001b[0m in \u001b[0;36m_read\u001b[0;34m(filepath_or_buffer, kwds)\u001b[0m\n\u001b[1;32m    452\u001b[0m \u001b[0;34m\u001b[0m\u001b[0m\n\u001b[1;32m    453\u001b[0m     \u001b[0;31m# Create the parser.\u001b[0m\u001b[0;34m\u001b[0m\u001b[0;34m\u001b[0m\u001b[0;34m\u001b[0m\u001b[0m\n\u001b[0;32m--> 454\u001b[0;31m     \u001b[0mparser\u001b[0m \u001b[0;34m=\u001b[0m \u001b[0mTextFileReader\u001b[0m\u001b[0;34m(\u001b[0m\u001b[0mfp_or_buf\u001b[0m\u001b[0;34m,\u001b[0m \u001b[0;34m**\u001b[0m\u001b[0mkwds\u001b[0m\u001b[0;34m)\u001b[0m\u001b[0;34m\u001b[0m\u001b[0;34m\u001b[0m\u001b[0m\n\u001b[0m\u001b[1;32m    455\u001b[0m \u001b[0;34m\u001b[0m\u001b[0m\n\u001b[1;32m    456\u001b[0m     \u001b[0;32mif\u001b[0m \u001b[0mchunksize\u001b[0m \u001b[0;32mor\u001b[0m \u001b[0miterator\u001b[0m\u001b[0;34m:\u001b[0m\u001b[0;34m\u001b[0m\u001b[0;34m\u001b[0m\u001b[0m\n",
      "\u001b[0;32m/usr/local/lib/python3.6/dist-packages/pandas/io/parsers.py\u001b[0m in \u001b[0;36m__init__\u001b[0;34m(self, f, engine, **kwds)\u001b[0m\n\u001b[1;32m    946\u001b[0m             \u001b[0mself\u001b[0m\u001b[0;34m.\u001b[0m\u001b[0moptions\u001b[0m\u001b[0;34m[\u001b[0m\u001b[0;34m\"has_index_names\"\u001b[0m\u001b[0;34m]\u001b[0m \u001b[0;34m=\u001b[0m \u001b[0mkwds\u001b[0m\u001b[0;34m[\u001b[0m\u001b[0;34m\"has_index_names\"\u001b[0m\u001b[0;34m]\u001b[0m\u001b[0;34m\u001b[0m\u001b[0;34m\u001b[0m\u001b[0m\n\u001b[1;32m    947\u001b[0m \u001b[0;34m\u001b[0m\u001b[0m\n\u001b[0;32m--> 948\u001b[0;31m         \u001b[0mself\u001b[0m\u001b[0;34m.\u001b[0m\u001b[0m_make_engine\u001b[0m\u001b[0;34m(\u001b[0m\u001b[0mself\u001b[0m\u001b[0;34m.\u001b[0m\u001b[0mengine\u001b[0m\u001b[0;34m)\u001b[0m\u001b[0;34m\u001b[0m\u001b[0;34m\u001b[0m\u001b[0m\n\u001b[0m\u001b[1;32m    949\u001b[0m \u001b[0;34m\u001b[0m\u001b[0m\n\u001b[1;32m    950\u001b[0m     \u001b[0;32mdef\u001b[0m \u001b[0mclose\u001b[0m\u001b[0;34m(\u001b[0m\u001b[0mself\u001b[0m\u001b[0;34m)\u001b[0m\u001b[0;34m:\u001b[0m\u001b[0;34m\u001b[0m\u001b[0;34m\u001b[0m\u001b[0m\n",
      "\u001b[0;32m/usr/local/lib/python3.6/dist-packages/pandas/io/parsers.py\u001b[0m in \u001b[0;36m_make_engine\u001b[0;34m(self, engine)\u001b[0m\n\u001b[1;32m   1178\u001b[0m     \u001b[0;32mdef\u001b[0m \u001b[0m_make_engine\u001b[0m\u001b[0;34m(\u001b[0m\u001b[0mself\u001b[0m\u001b[0;34m,\u001b[0m \u001b[0mengine\u001b[0m\u001b[0;34m=\u001b[0m\u001b[0;34m\"c\"\u001b[0m\u001b[0;34m)\u001b[0m\u001b[0;34m:\u001b[0m\u001b[0;34m\u001b[0m\u001b[0;34m\u001b[0m\u001b[0m\n\u001b[1;32m   1179\u001b[0m         \u001b[0;32mif\u001b[0m \u001b[0mengine\u001b[0m \u001b[0;34m==\u001b[0m \u001b[0;34m\"c\"\u001b[0m\u001b[0;34m:\u001b[0m\u001b[0;34m\u001b[0m\u001b[0;34m\u001b[0m\u001b[0m\n\u001b[0;32m-> 1180\u001b[0;31m             \u001b[0mself\u001b[0m\u001b[0;34m.\u001b[0m\u001b[0m_engine\u001b[0m \u001b[0;34m=\u001b[0m \u001b[0mCParserWrapper\u001b[0m\u001b[0;34m(\u001b[0m\u001b[0mself\u001b[0m\u001b[0;34m.\u001b[0m\u001b[0mf\u001b[0m\u001b[0;34m,\u001b[0m \u001b[0;34m**\u001b[0m\u001b[0mself\u001b[0m\u001b[0;34m.\u001b[0m\u001b[0moptions\u001b[0m\u001b[0;34m)\u001b[0m\u001b[0;34m\u001b[0m\u001b[0;34m\u001b[0m\u001b[0m\n\u001b[0m\u001b[1;32m   1181\u001b[0m         \u001b[0;32melse\u001b[0m\u001b[0;34m:\u001b[0m\u001b[0;34m\u001b[0m\u001b[0;34m\u001b[0m\u001b[0m\n\u001b[1;32m   1182\u001b[0m             \u001b[0;32mif\u001b[0m \u001b[0mengine\u001b[0m \u001b[0;34m==\u001b[0m \u001b[0;34m\"python\"\u001b[0m\u001b[0;34m:\u001b[0m\u001b[0;34m\u001b[0m\u001b[0;34m\u001b[0m\u001b[0m\n",
      "\u001b[0;32m/usr/local/lib/python3.6/dist-packages/pandas/io/parsers.py\u001b[0m in \u001b[0;36m__init__\u001b[0;34m(self, src, **kwds)\u001b[0m\n\u001b[1;32m   2008\u001b[0m         \u001b[0mkwds\u001b[0m\u001b[0;34m[\u001b[0m\u001b[0;34m\"usecols\"\u001b[0m\u001b[0;34m]\u001b[0m \u001b[0;34m=\u001b[0m \u001b[0mself\u001b[0m\u001b[0;34m.\u001b[0m\u001b[0musecols\u001b[0m\u001b[0;34m\u001b[0m\u001b[0;34m\u001b[0m\u001b[0m\n\u001b[1;32m   2009\u001b[0m \u001b[0;34m\u001b[0m\u001b[0m\n\u001b[0;32m-> 2010\u001b[0;31m         \u001b[0mself\u001b[0m\u001b[0;34m.\u001b[0m\u001b[0m_reader\u001b[0m \u001b[0;34m=\u001b[0m \u001b[0mparsers\u001b[0m\u001b[0;34m.\u001b[0m\u001b[0mTextReader\u001b[0m\u001b[0;34m(\u001b[0m\u001b[0msrc\u001b[0m\u001b[0;34m,\u001b[0m \u001b[0;34m**\u001b[0m\u001b[0mkwds\u001b[0m\u001b[0;34m)\u001b[0m\u001b[0;34m\u001b[0m\u001b[0;34m\u001b[0m\u001b[0m\n\u001b[0m\u001b[1;32m   2011\u001b[0m         \u001b[0mself\u001b[0m\u001b[0;34m.\u001b[0m\u001b[0munnamed_cols\u001b[0m \u001b[0;34m=\u001b[0m \u001b[0mself\u001b[0m\u001b[0;34m.\u001b[0m\u001b[0m_reader\u001b[0m\u001b[0;34m.\u001b[0m\u001b[0munnamed_cols\u001b[0m\u001b[0;34m\u001b[0m\u001b[0;34m\u001b[0m\u001b[0m\n\u001b[1;32m   2012\u001b[0m \u001b[0;34m\u001b[0m\u001b[0m\n",
      "\u001b[0;32mpandas/_libs/parsers.pyx\u001b[0m in \u001b[0;36mpandas._libs.parsers.TextReader.__cinit__\u001b[0;34m()\u001b[0m\n",
      "\u001b[0;32mpandas/_libs/parsers.pyx\u001b[0m in \u001b[0;36mpandas._libs.parsers.TextReader._setup_parser_source\u001b[0;34m()\u001b[0m\n",
      "\u001b[0;31mFileNotFoundError\u001b[0m: [Errno 2] No such file or directory: \"/mnt/ceph/storage/data-in-progress/data-research/web-search/TREC-21/lightgbm/v1-no-anchor-no-orcasls: cannot access '/mnt/ceph/storage/data-in-progress/data-research/web-search/TREC-21/lightgbm/v1-no-anchor-no-orcas': No such file or directory/docv2-dev1-run-file.txt\""
     ]
    }
   ],
   "source": [
    "from trectools import TrecQrel, TrecRun, TrecEval\n",
    "\n",
    "qrels = TrecQrel(\"/mnt/ceph/storage/data-in-progress/data-research/web-search/TREC-21/resources-trec-dl-20/msmarco-docdev-qrels.tsv\")\n",
    "\n",
    "DIR='/mnt/ceph/storage/data-in-progress/data-research/web-search/TREC-21/lightgbm/'\n",
    "DIRS= ['marco-v1-all-121-features/', 'marco-v1-no-anchor/', 'marco-v1-no-orcas/', 'v1-no-anchor-no-orcas']\n",
    "\n",
    "# TODO: ADD Baseline\n",
    "run_files = []\n",
    "\n",
    "for dir_name in DIRS:\n",
    "    dir_name = DIR + dir_name\n",
    "    models = !ls $dir_name |grep 'train-with'\n",
    "    for model in tqdm(models):\n",
    "        run_files += [TrecRun(dir_name + model + '/docv2-dev1-run-file.txt')]"
   ]
  },
  {
   "cell_type": "code",
   "execution_count": 27,
   "metadata": {},
   "outputs": [
    {
     "name": "stderr",
     "output_type": "stream",
     "text": [
      "100%|██████████| 12/12 [00:14<00:00,  1.21s/it]\n"
     ]
    },
    {
     "data": {
      "text/html": [
       "<div>\n",
       "<style scoped>\n",
       "    .dataframe tbody tr th:only-of-type {\n",
       "        vertical-align: middle;\n",
       "    }\n",
       "\n",
       "    .dataframe tbody tr th {\n",
       "        vertical-align: top;\n",
       "    }\n",
       "\n",
       "    .dataframe thead th {\n",
       "        text-align: right;\n",
       "    }\n",
       "</style>\n",
       "<table border=\"1\" class=\"dataframe\">\n",
       "  <thead>\n",
       "    <tr style=\"text-align: right;\">\n",
       "      <th></th>\n",
       "      <th>run</th>\n",
       "      <th>used-anchor-text</th>\n",
       "      <th>used-orcas-text</th>\n",
       "      <th>MRR</th>\n",
       "      <th>ndcg@5</th>\n",
       "    </tr>\n",
       "  </thead>\n",
       "  <tbody>\n",
       "    <tr>\n",
       "      <th>6</th>\n",
       "      <td>5000-trees</td>\n",
       "      <td>False</td>\n",
       "      <td>True</td>\n",
       "      <td>0.353153</td>\n",
       "      <td>0.377771</td>\n",
       "    </tr>\n",
       "    <tr>\n",
       "      <th>4</th>\n",
       "      <td>1000-trees</td>\n",
       "      <td>False</td>\n",
       "      <td>True</td>\n",
       "      <td>0.352507</td>\n",
       "      <td>0.376777</td>\n",
       "    </tr>\n",
       "    <tr>\n",
       "      <th>2</th>\n",
       "      <td>5000-trees</td>\n",
       "      <td>True</td>\n",
       "      <td>True</td>\n",
       "      <td>0.352140</td>\n",
       "      <td>0.376584</td>\n",
       "    </tr>\n",
       "    <tr>\n",
       "      <th>0</th>\n",
       "      <td>1000-trees</td>\n",
       "      <td>True</td>\n",
       "      <td>True</td>\n",
       "      <td>0.351516</td>\n",
       "      <td>0.374667</td>\n",
       "    </tr>\n",
       "    <tr>\n",
       "      <th>3</th>\n",
       "      <td>5000-trees-var-02</td>\n",
       "      <td>True</td>\n",
       "      <td>True</td>\n",
       "      <td>0.350257</td>\n",
       "      <td>0.375069</td>\n",
       "    </tr>\n",
       "    <tr>\n",
       "      <th>7</th>\n",
       "      <td>5000-trees-var-02</td>\n",
       "      <td>False</td>\n",
       "      <td>True</td>\n",
       "      <td>0.349041</td>\n",
       "      <td>0.372642</td>\n",
       "    </tr>\n",
       "    <tr>\n",
       "      <th>10</th>\n",
       "      <td>5000-trees</td>\n",
       "      <td>True</td>\n",
       "      <td>False</td>\n",
       "      <td>0.345065</td>\n",
       "      <td>0.365906</td>\n",
       "    </tr>\n",
       "    <tr>\n",
       "      <th>8</th>\n",
       "      <td>1000-trees</td>\n",
       "      <td>True</td>\n",
       "      <td>False</td>\n",
       "      <td>0.341722</td>\n",
       "      <td>0.364292</td>\n",
       "    </tr>\n",
       "    <tr>\n",
       "      <th>11</th>\n",
       "      <td>5000-trees-var-02</td>\n",
       "      <td>True</td>\n",
       "      <td>False</td>\n",
       "      <td>0.341325</td>\n",
       "      <td>0.364257</td>\n",
       "    </tr>\n",
       "    <tr>\n",
       "      <th>5</th>\n",
       "      <td>100-trees</td>\n",
       "      <td>False</td>\n",
       "      <td>True</td>\n",
       "      <td>0.336447</td>\n",
       "      <td>0.359483</td>\n",
       "    </tr>\n",
       "    <tr>\n",
       "      <th>1</th>\n",
       "      <td>100-trees</td>\n",
       "      <td>True</td>\n",
       "      <td>True</td>\n",
       "      <td>0.334580</td>\n",
       "      <td>0.357053</td>\n",
       "    </tr>\n",
       "    <tr>\n",
       "      <th>9</th>\n",
       "      <td>100-trees</td>\n",
       "      <td>True</td>\n",
       "      <td>False</td>\n",
       "      <td>0.325031</td>\n",
       "      <td>0.346225</td>\n",
       "    </tr>\n",
       "  </tbody>\n",
       "</table>\n",
       "</div>"
      ],
      "text/plain": [
       "                  run  used-anchor-text  used-orcas-text       MRR    ndcg@5\n",
       "6          5000-trees             False             True  0.353153  0.377771\n",
       "4          1000-trees             False             True  0.352507  0.376777\n",
       "2          5000-trees              True             True  0.352140  0.376584\n",
       "0          1000-trees              True             True  0.351516  0.374667\n",
       "3   5000-trees-var-02              True             True  0.350257  0.375069\n",
       "7   5000-trees-var-02             False             True  0.349041  0.372642\n",
       "10         5000-trees              True            False  0.345065  0.365906\n",
       "8          1000-trees              True            False  0.341722  0.364292\n",
       "11  5000-trees-var-02              True            False  0.341325  0.364257\n",
       "5           100-trees             False             True  0.336447  0.359483\n",
       "1           100-trees              True             True  0.334580  0.357053\n",
       "9           100-trees              True            False  0.325031  0.346225"
      ]
     },
     "execution_count": 27,
     "metadata": {},
     "output_type": "execute_result"
    }
   ],
   "source": [
    "import pandas as pd\n",
    "\n",
    "df = []\n",
    "for run in tqdm(run_files):\n",
    "    df += [eval_run(run,qrels)]\n",
    "\n",
    "df = pd.DataFrame(df)\n",
    "df.sort_values('MRR', ascending=False)"
   ]
  },
  {
   "cell_type": "code",
   "execution_count": null,
   "metadata": {},
   "outputs": [],
   "source": [
    "# https://github.com/castorini/anserini/blob/master/docs/regressions-msmarco-doc.md\n",
    "# BM25 0.2310 (MAP)\n",
    "# BM25 (tuned) 0.2788 (MAP)\n",
    "# BM25 (tuned) with docTTTTTquery 0.3270 (MRR)\n",
    "\n",
    "# TODO Add: https://github.com/castorini/anserini/blob/master/docs/regressions-dl20-doc.md"
   ]
  },
  {
   "cell_type": "code",
   "execution_count": 29,
   "metadata": {},
   "outputs": [
    {
     "data": {
      "image/png": "[encoded data removed]",
      "text/plain": [
       "<Figure size 452.875x360 with 1 Axes>"
      ]
     },
     "metadata": {
      "needs_background": "light"
     },
     "output_type": "display_data"
    }
   ],
   "source": [
    "import seaborn as sns\n",
    "import matplotlib.pyplot as plt\n",
    "\n",
    "sns.catplot(data=df[df['used-orcas-text'] == False], x='run', y='ndcg@5', hue='used-anchor-text', kind='bar')\n",
    "plt.xticks(rotation=45)\n",
    "None"
   ]
  },
  {
   "cell_type": "code",
   "execution_count": 11,
   "metadata": {},
   "outputs": [
    {
     "name": "stderr",
     "output_type": "stream",
     "text": [
      "100%|██████████| 4/4 [00:00<00:00, 24.75it/s]\n",
      "100%|██████████| 4/4 [00:00<00:00, 24.99it/s]\n",
      "100%|██████████| 4/4 [00:00<00:00, 24.76it/s]\n",
      "100%|██████████| 4/4 [00:00<00:00, 21.26it/s]\n"
     ]
    }
   ],
   "source": [
    "from trectools import TrecQrel, TrecRun, TrecEval\n",
    "\n",
    "qrels = TrecQrel(\"/mnt/ceph/storage/data-in-progress/data-research/web-search/TREC-21/resources-trec-dl-20/qrels.dl20-doc.txt\")\n",
    "\n",
    "DIR='/mnt/ceph/storage/data-in-progress/data-research/web-search/TREC-21/lightgbm/'\n",
    "DIRS= ['marco-v1-all-121-features/', 'marco-v1-no-anchor/', 'marco-v1-no-orcas/', 'marco-v1-no-anchor-no-orcas/']\n",
    "\n",
    "run_files = [TrecRun('/mnt/ceph/storage/data-in-progress/data-research/web-search/TREC-21/resources-trec-dl-20/msmarco-doctest2020-top100')]\n",
    "\n",
    "for dir_name in DIRS:\n",
    "    dir_name = DIR + dir_name\n",
    "    models = !ls $dir_name |grep 'train-with'\n",
    "    for model in tqdm(models):\n",
    "        run_files += [TrecRun(dir_name + model + '/2021-trec-dl-test-run-file.txt')]"
   ]
  },
  {
   "cell_type": "code",
   "execution_count": 20,
   "metadata": {},
   "outputs": [
    {
     "name": "stderr",
     "output_type": "stream",
     "text": [
      "100%|██████████| 17/17 [00:01<00:00,  9.24it/s]\n"
     ]
    },
    {
     "data": {
      "text/html": [
       "<div>\n",
       "<style scoped>\n",
       "    .dataframe tbody tr th:only-of-type {\n",
       "        vertical-align: middle;\n",
       "    }\n",
       "\n",
       "    .dataframe tbody tr th {\n",
       "        vertical-align: top;\n",
       "    }\n",
       "\n",
       "    .dataframe thead th {\n",
       "        text-align: right;\n",
       "    }\n",
       "</style>\n",
       "<table border=\"1\" class=\"dataframe\">\n",
       "  <thead>\n",
       "    <tr style=\"text-align: right;\">\n",
       "      <th></th>\n",
       "      <th>run</th>\n",
       "      <th>used-anchor-text</th>\n",
       "      <th>used-orcas-text</th>\n",
       "      <th>MRR</th>\n",
       "      <th>MRR (Unjudged Removed)</th>\n",
       "      <th>ndcg@5</th>\n",
       "      <th>ndcg@5 (Unjudged Removed)</th>\n",
       "      <th>ndcg@10</th>\n",
       "      <th>ndcg@10 (Unjudged Removed)</th>\n",
       "    </tr>\n",
       "  </thead>\n",
       "  <tbody>\n",
       "    <tr>\n",
       "      <th>3</th>\n",
       "      <td>5000-trees</td>\n",
       "      <td>True</td>\n",
       "      <td>True</td>\n",
       "      <td>0.944444</td>\n",
       "      <td>0.944444</td>\n",
       "      <td>0.593711</td>\n",
       "      <td>0.593711</td>\n",
       "      <td>0.595666</td>\n",
       "      <td>0.599775</td>\n",
       "    </tr>\n",
       "    <tr>\n",
       "      <th>11</th>\n",
       "      <td>5000-trees</td>\n",
       "      <td>True</td>\n",
       "      <td>False</td>\n",
       "      <td>0.933333</td>\n",
       "      <td>0.933333</td>\n",
       "      <td>0.611883</td>\n",
       "      <td>0.613424</td>\n",
       "      <td>0.595449</td>\n",
       "      <td>0.598091</td>\n",
       "    </tr>\n",
       "    <tr>\n",
       "      <th>12</th>\n",
       "      <td>5000-trees-var-02</td>\n",
       "      <td>True</td>\n",
       "      <td>False</td>\n",
       "      <td>0.929630</td>\n",
       "      <td>0.929630</td>\n",
       "      <td>0.598703</td>\n",
       "      <td>0.598703</td>\n",
       "      <td>0.582063</td>\n",
       "      <td>0.583402</td>\n",
       "    </tr>\n",
       "    <tr>\n",
       "      <th>9</th>\n",
       "      <td>1000-trees</td>\n",
       "      <td>True</td>\n",
       "      <td>False</td>\n",
       "      <td>0.918519</td>\n",
       "      <td>0.918519</td>\n",
       "      <td>0.608621</td>\n",
       "      <td>0.608621</td>\n",
       "      <td>0.590578</td>\n",
       "      <td>0.595161</td>\n",
       "    </tr>\n",
       "    <tr>\n",
       "      <th>15</th>\n",
       "      <td>5000-trees</td>\n",
       "      <td>False</td>\n",
       "      <td>False</td>\n",
       "      <td>0.918519</td>\n",
       "      <td>0.918519</td>\n",
       "      <td>0.618126</td>\n",
       "      <td>0.619667</td>\n",
       "      <td>0.601950</td>\n",
       "      <td>0.602238</td>\n",
       "    </tr>\n",
       "    <tr>\n",
       "      <th>8</th>\n",
       "      <td>5000-trees-var-02</td>\n",
       "      <td>False</td>\n",
       "      <td>True</td>\n",
       "      <td>0.916667</td>\n",
       "      <td>0.916667</td>\n",
       "      <td>0.618994</td>\n",
       "      <td>0.618994</td>\n",
       "      <td>0.596307</td>\n",
       "      <td>0.598974</td>\n",
       "    </tr>\n",
       "    <tr>\n",
       "      <th>1</th>\n",
       "      <td>1000-trees</td>\n",
       "      <td>True</td>\n",
       "      <td>True</td>\n",
       "      <td>0.916667</td>\n",
       "      <td>0.916667</td>\n",
       "      <td>0.604641</td>\n",
       "      <td>0.604641</td>\n",
       "      <td>0.596875</td>\n",
       "      <td>0.598618</td>\n",
       "    </tr>\n",
       "    <tr>\n",
       "      <th>4</th>\n",
       "      <td>5000-trees-var-02</td>\n",
       "      <td>True</td>\n",
       "      <td>True</td>\n",
       "      <td>0.913889</td>\n",
       "      <td>0.913889</td>\n",
       "      <td>0.604049</td>\n",
       "      <td>0.604049</td>\n",
       "      <td>0.593618</td>\n",
       "      <td>0.594501</td>\n",
       "    </tr>\n",
       "    <tr>\n",
       "      <th>5</th>\n",
       "      <td>1000-trees</td>\n",
       "      <td>False</td>\n",
       "      <td>True</td>\n",
       "      <td>0.912963</td>\n",
       "      <td>0.912963</td>\n",
       "      <td>0.614897</td>\n",
       "      <td>0.614897</td>\n",
       "      <td>0.598725</td>\n",
       "      <td>0.599729</td>\n",
       "    </tr>\n",
       "    <tr>\n",
       "      <th>16</th>\n",
       "      <td>5000-trees-var-02</td>\n",
       "      <td>False</td>\n",
       "      <td>False</td>\n",
       "      <td>0.911111</td>\n",
       "      <td>0.911111</td>\n",
       "      <td>0.622428</td>\n",
       "      <td>0.622428</td>\n",
       "      <td>0.591978</td>\n",
       "      <td>0.593552</td>\n",
       "    </tr>\n",
       "    <tr>\n",
       "      <th>7</th>\n",
       "      <td>5000-trees</td>\n",
       "      <td>False</td>\n",
       "      <td>True</td>\n",
       "      <td>0.903704</td>\n",
       "      <td>0.903704</td>\n",
       "      <td>0.615191</td>\n",
       "      <td>0.615641</td>\n",
       "      <td>0.603066</td>\n",
       "      <td>0.606617</td>\n",
       "    </tr>\n",
       "    <tr>\n",
       "      <th>13</th>\n",
       "      <td>1000-trees</td>\n",
       "      <td>False</td>\n",
       "      <td>False</td>\n",
       "      <td>0.894444</td>\n",
       "      <td>0.894444</td>\n",
       "      <td>0.614120</td>\n",
       "      <td>0.614120</td>\n",
       "      <td>0.602880</td>\n",
       "      <td>0.603085</td>\n",
       "    </tr>\n",
       "    <tr>\n",
       "      <th>10</th>\n",
       "      <td>100-trees</td>\n",
       "      <td>True</td>\n",
       "      <td>False</td>\n",
       "      <td>0.886138</td>\n",
       "      <td>0.886138</td>\n",
       "      <td>0.583789</td>\n",
       "      <td>0.586705</td>\n",
       "      <td>0.561534</td>\n",
       "      <td>0.569820</td>\n",
       "    </tr>\n",
       "    <tr>\n",
       "      <th>2</th>\n",
       "      <td>100-trees</td>\n",
       "      <td>True</td>\n",
       "      <td>True</td>\n",
       "      <td>0.881481</td>\n",
       "      <td>0.881481</td>\n",
       "      <td>0.577096</td>\n",
       "      <td>0.577426</td>\n",
       "      <td>0.571122</td>\n",
       "      <td>0.573172</td>\n",
       "    </tr>\n",
       "    <tr>\n",
       "      <th>14</th>\n",
       "      <td>100-trees</td>\n",
       "      <td>False</td>\n",
       "      <td>False</td>\n",
       "      <td>0.879630</td>\n",
       "      <td>0.879630</td>\n",
       "      <td>0.570802</td>\n",
       "      <td>0.571132</td>\n",
       "      <td>0.567562</td>\n",
       "      <td>0.571179</td>\n",
       "    </tr>\n",
       "    <tr>\n",
       "      <th>6</th>\n",
       "      <td>100-trees</td>\n",
       "      <td>False</td>\n",
       "      <td>True</td>\n",
       "      <td>0.878519</td>\n",
       "      <td>0.878519</td>\n",
       "      <td>0.568881</td>\n",
       "      <td>0.569868</td>\n",
       "      <td>0.560578</td>\n",
       "      <td>0.566943</td>\n",
       "    </tr>\n",
       "    <tr>\n",
       "      <th>0</th>\n",
       "      <td>IndriQueryLikelihood</td>\n",
       "      <td>False</td>\n",
       "      <td>False</td>\n",
       "      <td>0.798148</td>\n",
       "      <td>0.798148</td>\n",
       "      <td>0.488749</td>\n",
       "      <td>0.493899</td>\n",
       "      <td>0.497663</td>\n",
       "      <td>0.504569</td>\n",
       "    </tr>\n",
       "  </tbody>\n",
       "</table>\n",
       "</div>"
      ],
      "text/plain": [
       "                     run  used-anchor-text  used-orcas-text       MRR  \\\n",
       "3             5000-trees              True             True  0.944444   \n",
       "11            5000-trees              True            False  0.933333   \n",
       "12     5000-trees-var-02              True            False  0.929630   \n",
       "9             1000-trees              True            False  0.918519   \n",
       "15            5000-trees             False            False  0.918519   \n",
       "8      5000-trees-var-02             False             True  0.916667   \n",
       "1             1000-trees              True             True  0.916667   \n",
       "4      5000-trees-var-02              True             True  0.913889   \n",
       "5             1000-trees             False             True  0.912963   \n",
       "16     5000-trees-var-02             False            False  0.911111   \n",
       "7             5000-trees             False             True  0.903704   \n",
       "13            1000-trees             False            False  0.894444   \n",
       "10             100-trees              True            False  0.886138   \n",
       "2              100-trees              True             True  0.881481   \n",
       "14             100-trees             False            False  0.879630   \n",
       "6              100-trees             False             True  0.878519   \n",
       "0   IndriQueryLikelihood             False            False  0.798148   \n",
       "\n",
       "    MRR (Unjudged Removed)    ndcg@5  ndcg@5 (Unjudged Removed)   ndcg@10  \\\n",
       "3                 0.944444  0.593711                   0.593711  0.595666   \n",
       "11                0.933333  0.611883                   0.613424  0.595449   \n",
       "12                0.929630  0.598703                   0.598703  0.582063   \n",
       "9                 0.918519  0.608621                   0.608621  0.590578   \n",
       "15                0.918519  0.618126                   0.619667  0.601950   \n",
       "8                 0.916667  0.618994                   0.618994  0.596307   \n",
       "1                 0.916667  0.604641                   0.604641  0.596875   \n",
       "4                 0.913889  0.604049                   0.604049  0.593618   \n",
       "5                 0.912963  0.614897                   0.614897  0.598725   \n",
       "16                0.911111  0.622428                   0.622428  0.591978   \n",
       "7                 0.903704  0.615191                   0.615641  0.603066   \n",
       "13                0.894444  0.614120                   0.614120  0.602880   \n",
       "10                0.886138  0.583789                   0.586705  0.561534   \n",
       "2                 0.881481  0.577096                   0.577426  0.571122   \n",
       "14                0.879630  0.570802                   0.571132  0.567562   \n",
       "6                 0.878519  0.568881                   0.569868  0.560578   \n",
       "0                 0.798148  0.488749                   0.493899  0.497663   \n",
       "\n",
       "    ndcg@10 (Unjudged Removed)  \n",
       "3                     0.599775  \n",
       "11                    0.598091  \n",
       "12                    0.583402  \n",
       "9                     0.595161  \n",
       "15                    0.602238  \n",
       "8                     0.598974  \n",
       "1                     0.598618  \n",
       "4                     0.594501  \n",
       "5                     0.599729  \n",
       "16                    0.593552  \n",
       "7                     0.606617  \n",
       "13                    0.603085  \n",
       "10                    0.569820  \n",
       "2                     0.573172  \n",
       "14                    0.571179  \n",
       "6                     0.566943  \n",
       "0                     0.504569  "
      ]
     },
     "execution_count": 20,
     "metadata": {},
     "output_type": "execute_result"
    }
   ],
   "source": [
    "import pandas as pd\n",
    "\n",
    "df = []\n",
    "for run in tqdm(run_files):\n",
    "    tmp_run = TrecRun()\n",
    "    tmp_run.filename = run.filename\n",
    "    tmp_run.run_data = run.run_data.copy()\n",
    "    \n",
    "    tmp_run.run_data = tmp_run.run_data[tmp_run.run_data['query'].astype(int).isin(qrels.topics())].reset_index()\n",
    "    df += [eval_run(tmp_run,qrels)]\n",
    "\n",
    "df = pd.DataFrame(df)\n",
    "df.sort_values('MRR', ascending=False)"
   ]
  },
  {
   "cell_type": "code",
   "execution_count": 25,
   "metadata": {},
   "outputs": [
    {
     "data": {
      "image/png": "[encoded data removed]",
      "text/plain": [
       "<Figure size 452.875x360 with 1 Axes>"
      ]
     },
     "metadata": {
      "needs_background": "light"
     },
     "output_type": "display_data"
    }
   ],
   "source": [
    "import seaborn as sns\n",
    "import matplotlib.pyplot as plt\n",
    "\n",
    "sns.catplot(data=df[df['used-orcas-text'] == False], x='run', y='MRR', hue='used-anchor-text', kind='bar')\n",
    "plt.xticks(rotation=45)\n",
    "None"
   ]
  }
 ],
 "metadata": {
  "kernelspec": {
   "display_name": "Python 3",
   "language": "python",
   "name": "python3"
  },
  "language_info": {
   "codemirror_mode": {
    "name": "ipython",
    "version": 3
   },
   "file_extension": ".py",
   "mimetype": "text/x-python",
   "name": "python",
   "nbconvert_exporter": "python",
   "pygments_lexer": "ipython3",
   "version": "3.6.9"
  }
 },
 "nbformat": 4,
 "nbformat_minor": 4
}
