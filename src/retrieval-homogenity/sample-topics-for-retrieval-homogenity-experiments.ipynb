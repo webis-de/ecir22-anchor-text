{
 "cells": [
  {
   "cell_type": "code",
   "execution_count": 1,
   "id": "6457a2b9-9339-48a7-b3fb-e8d19bfa6836",
   "metadata": {},
   "outputs": [],
   "source": [
    "# Sample topics for retrieval homogenity experiments"
   ]
  },
  {
   "cell_type": "code",
   "execution_count": 5,
   "id": "e92dede4-e404-4676-9fae-f3bbd74af548",
   "metadata": {},
   "outputs": [],
   "source": [
    "from random import shuffle"
   ]
  },
  {
   "cell_type": "code",
   "execution_count": 4,
   "id": "bb32c9a9-2167-4f32-b6f4-0f436fbf9701",
   "metadata": {},
   "outputs": [
    {
     "name": "stderr",
     "output_type": "stream",
     "text": [
      "10405342it [02:04, 83389.29it/s] \n"
     ]
    },
    {
     "data": {
      "text/plain": [
       "{'id': '9265503', 'contents': 'github', 'target_document': ['D84115']}"
      ]
     },
     "execution_count": 4,
     "metadata": {},
     "output_type": "execute_result"
    }
   ],
   "source": [
    "MARCO_ORCAS='/mnt/ceph/storage/data-in-progress/data-teaching/theses/wstud-thesis-probst/deep-ct/msmarco-document-orcas.jsonl'\n",
    "\n",
    "def docs(filename):\n",
    "    from tqdm import tqdm\n",
    "    import json\n",
    "    with open(filename, 'r') as f:\n",
    "        for i in tqdm(f):\n",
    "            yield json.loads(i)\n",
    "\n",
    "all_topics = [i for i in docs(MARCO_ORCAS)]\n",
    "all_topics[0]"
   ]
  },
  {
   "cell_type": "code",
   "execution_count": 6,
   "id": "9cb3947e-5339-48cb-b8ec-58d0d5eeff2d",
   "metadata": {},
   "outputs": [
    {
     "data": {
      "text/plain": [
       "[{'id': '2702043', 'contents': 'alpacino', 'target_document': ['D1893339']},\n",
       " {'id': '11487290',\n",
       "  'contents': 'british nba players',\n",
       "  'target_document': ['D2745325']},\n",
       " {'id': '4383443',\n",
       "  'contents': 'convert image to text online free',\n",
       "  'target_document': ['D1322742']},\n",
       " {'id': '4829794',\n",
       "  'contents': 'popeyes hiring',\n",
       "  'target_document': ['D1691008']},\n",
       " {'id': '9598391',\n",
       "  'contents': 'hillsdale new jersey',\n",
       "  'target_document': ['D950901']}]"
      ]
     },
     "execution_count": 6,
     "metadata": {},
     "output_type": "execute_result"
    }
   ],
   "source": [
    "shuffle(all_topics)\n",
    "all_topics[:5]"
   ]
  },
  {
   "cell_type": "code",
   "execution_count": 7,
   "id": "a8f76b79-55f9-4032-b3a3-539dde63be6a",
   "metadata": {},
   "outputs": [
    {
     "data": {
      "text/plain": [
       "[{'id': '12717189',\n",
       "  'contents': 'streptococcus pyogenes common name',\n",
       "  'target_document': ['D1621941']},\n",
       " {'id': '9085947',\n",
       "  'contents': 'alameda county superiro court',\n",
       "  'target_document': ['D2510952']},\n",
       " {'id': '5969674',\n",
       "  'contents': 'good games on steam',\n",
       "  'target_document': ['D2897986']},\n",
       " {'id': '10702913',\n",
       "  'contents': 'joanne woodward paul newman',\n",
       "  'target_document': ['D902207']},\n",
       " {'id': '11011804',\n",
       "  'contents': 'savings projection calculator',\n",
       "  'target_document': ['D2713788']}]"
      ]
     },
     "execution_count": 7,
     "metadata": {},
     "output_type": "execute_result"
    }
   ],
   "source": [
    "shuffle(all_topics)\n",
    "all_topics[:5]"
   ]
  },
  {
   "cell_type": "code",
   "execution_count": 9,
   "id": "6058302b-cdaa-4a90-991d-def4ddef6639",
   "metadata": {},
   "outputs": [],
   "source": [
    "with open('../../Data/topics.retrieval-homogenity.tsv', 'w') as out_file:\n",
    "    for topic in all_topics[:10000]:\n",
    "        out_file.write(str(int(topic['id'])) + '\\t' + topic['contents'].strip() + '\\n')"
   ]
  }
 ],
 "metadata": {
  "kernelspec": {
   "display_name": "Python 3",
   "language": "python",
   "name": "python3"
  },
  "language_info": {
   "codemirror_mode": {
    "name": "ipython",
    "version": 3
   },
   "file_extension": ".py",
   "mimetype": "text/x-python",
   "name": "python",
   "nbconvert_exporter": "python",
   "pygments_lexer": "ipython3",
   "version": "3.7.10"
  }
 },
 "nbformat": 4,
 "nbformat_minor": 5
}
