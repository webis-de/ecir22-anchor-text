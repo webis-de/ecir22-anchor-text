{
 "cells": [
  {
   "cell_type": "code",
   "execution_count": null,
   "id": "e632b89f-1327-4c9f-a1d8-f6596292fb2c",
   "metadata": {},
   "outputs": [],
   "source": [
    "# Transfer ORCAS from MS Marco V1 to MS Marco V2\n",
    "\n",
    "It is discouraged to use the ORCAS dataaset on MS Marco V2 (for training of models, since this could potentially leak data), but here we use the ORCAS dataset unsupervised for our entry-page finding experiments."
   ]
  },
  {
   "cell_type": "code",
   "execution_count": 24,
   "id": "1162b6ef-6e11-4b29-b06b-434a56237265",
   "metadata": {},
   "outputs": [],
   "source": [
    "import ir_datasets\n",
    "from tqdm import tqdm\n",
    "import json\n",
    "\n",
    "def normalize_url(url):\n",
    "    url = url.lower().split('://')\n",
    "    assert len(url) == 2\n",
    "    \n",
    "    return url[1]\n",
    "\n",
    "def iterator_marco_v1():\n",
    "    for i in ir_datasets.load('msmarco-document').docs_iter():\n",
    "        yield {\n",
    "            'url': normalize_url(i.url),\n",
    "            'id': i.doc_id\n",
    "        }\n",
    "\n",
    "\n",
    "def iterator_marco_v2():\n",
    "    for i in ir_datasets.load('msmarco-document-v2').docs_iter():\n",
    "        yield {\n",
    "            'url': normalize_url(i.url),\n",
    "            'id': i.doc_id\n",
    "        }\n",
    "            "
   ]
  },
  {
   "cell_type": "code",
   "execution_count": 21,
   "id": "96d53376-3a1f-4144-9e0e-ed2a744b1b42",
   "metadata": {},
   "outputs": [
    {
     "name": "stderr",
     "output_type": "stream",
     "text": [
      "3213835it [02:02, 26269.38it/s]\n"
     ]
    }
   ],
   "source": [
    "v1_id_to_url = {}\n",
    "for i in tqdm(iterator_marco_v1()):\n",
    "    v1_id_to_url[i['id']] = i['url']"
   ]
  },
  {
   "cell_type": "code",
   "execution_count": 23,
   "id": "03f4e7ac-ca6e-4e51-8064-3631b26f31e4",
   "metadata": {},
   "outputs": [
    {
     "name": "stderr",
     "output_type": "stream",
     "text": [
      "11959635it [09:15, 21536.66it/s]\n"
     ]
    }
   ],
   "source": [
    "url_to_v2_id = {}\n",
    "for i in tqdm(iterator_marco_v2()):\n",
    "    url_to_v2_id[i['url']] = i['id']"
   ]
  },
  {
   "cell_type": "code",
   "execution_count": 25,
   "id": "8fa78eff-41f7-42ba-8076-1ce35d96d2dc",
   "metadata": {},
   "outputs": [
    {
     "name": "stderr",
     "output_type": "stream",
     "text": [
      "1422027it [00:52, 27106.37it/s]\n"
     ]
    }
   ],
   "source": [
    "ORCAS_DIR = '/mnt/ceph/storage/data-in-progress/data-teaching/theses/wstud-thesis-probst/retrievalExperiments/samples/orcas/'\n",
    "matched = 0\n",
    "unmatched = 0\n",
    "\n",
    "with open(ORCAS_DIR + 'orcas-docs.jsonl', 'r') as src, open(ORCAS_DIR + 'orcas-marco-v2-docs.jsonl', 'w') as trg:\n",
    "    for doc in tqdm(src):\n",
    "        doc = json.loads(doc)\n",
    "        target_url = v1_id_to_url[doc['id']]\n",
    "        \n",
    "        if target_url in url_to_v2_id:\n",
    "            doc['id'] = url_to_v2_id[target_url]\n",
    "            trg.write(json.dumps(doc) +'\\n')\n",
    "            matched += 1\n",
    "        else:\n",
    "            unmatched += 1"
   ]
  },
  {
   "cell_type": "code",
   "execution_count": 26,
   "id": "7b817802-4614-4a45-a034-64263b43d43c",
   "metadata": {},
   "outputs": [
    {
     "name": "stdout",
     "output_type": "stream",
     "text": [
      "Matched documents  1291719\n",
      "Unmatched documents  130308\n",
      "Percentage matched  0.9083646091107975\n"
     ]
    }
   ],
   "source": [
    "print('Matched documents ', matched)\n",
    "print('Unmatched documents ', unmatched)\n",
    "print('Percentage matched ', matched/(matched + unmatched))"
   ]
  }
 ],
 "metadata": {
  "kernelspec": {
   "display_name": "Python 3",
   "language": "python",
   "name": "python3"
  },
  "language_info": {
   "codemirror_mode": {
    "name": "ipython",
    "version": 3
   },
   "file_extension": ".py",
   "mimetype": "text/x-python",
   "name": "python",
   "nbconvert_exporter": "python",
   "pygments_lexer": "ipython3",
   "version": "3.7.10"
  }
 },
 "nbformat": 4,
 "nbformat_minor": 5
}
