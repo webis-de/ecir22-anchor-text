{
 "cells": [
  {
   "cell_type": "code",
   "execution_count": 5,
   "metadata": {
    "execution": {
     "iopub.execute_input": "2021-07-09T08:34:59.042625Z",
     "iopub.status.busy": "2021-07-09T08:34:59.042020Z",
     "iopub.status.idle": "2021-07-09T08:35:01.804385Z",
     "shell.execute_reply": "2021-07-09T08:35:01.803187Z",
     "shell.execute_reply.started": "2021-07-09T08:34:59.042553Z"
    }
   },
   "outputs": [],
   "source": [
    "import json, gzip, os\n",
    "import pandas as pd"
   ]
  },
  {
   "cell_type": "code",
   "execution_count": 8,
   "metadata": {
    "execution": {
     "iopub.execute_input": "2021-07-09T08:41:30.420076Z",
     "iopub.status.busy": "2021-07-09T08:41:30.419093Z",
     "iopub.status.idle": "2021-07-09T09:21:15.231015Z",
     "shell.execute_reply": "2021-07-09T09:21:15.229347Z",
     "shell.execute_reply.started": "2021-07-09T08:41:30.419962Z"
    }
   },
   "outputs": [
    {
     "name": "stdout",
     "output_type": "stream",
     "text": [
      "0\n",
      "200\n",
      "400\n",
      "600\n",
      "800\n",
      "1000\n",
      "1200\n",
      "1400\n",
      "1600\n",
      "1800\n",
      "i: 1999 j: 0\n",
      "2000\n",
      "2200\n",
      "2400\n",
      "2600\n",
      "2800\n",
      "3000\n",
      "3200\n",
      "3400\n",
      "3600\n",
      "3800\n",
      "i: 3999 j: 1\n",
      "4000\n",
      "4200\n",
      "4400\n",
      "4600\n",
      "4800\n",
      "5000\n",
      "5200\n",
      "5400\n",
      "5600\n",
      "5800\n",
      "i: 5999 j: 2\n",
      "6000\n",
      "6200\n",
      "6400\n",
      "6600\n",
      "6800\n",
      "7000\n",
      "7200\n",
      "7400\n",
      "7600\n",
      "7800\n",
      "i: 7999 j: 3\n",
      "8000\n",
      "8200\n",
      "8400\n",
      "8600\n",
      "8800\n",
      "9000\n",
      "9200\n",
      "9400\n",
      "9600\n",
      "9800\n",
      "i: 9999 j: 4\n"
     ]
    }
   ],
   "source": [
    "#read anchor text to data frame\n",
    "path = \"mnt/ceph/storage/data-in-progress/data-teaching/theses/wstud-thesis-probst/retrievalExperiments/\"\n",
    "\n",
    "\n",
    "\n",
    "for j in range(0, 5):\n",
    "    df_anchor = pd.DataFrame()\n",
    "    for i in range((j*2000), 2000*(j+1)):\n",
    "        tmp_df = pd.read_json(path+'samples/cc-combined-anchortext/cc-combined-anchortext/part-'+str(i).zfill(5)+'.jsonl', lines=True)\n",
    "        \n",
    "        df_anchor = pd.concat([df_anchor, tmp_df])\n",
    "        \n",
    "        if i%200 == 0:\n",
    "            print(i)\n",
    "    print(\"i: \"+str(i)+\" j: \"+str(j))\n",
    "    df_result = df_anchor.merge(df_at_orcas, how=\"inner\", on=\"id\")          \n",
    "    with open(\"mnt/ceph/storage/data-in-progress/data-teaching/theses/wstud-thesis-probst/retrievalExperiments/samples/cc-combined-anchortext/matchedToOrcas/at-matched.jsonl\", \"a\") as file1:\n",
    "        file1.writelines(df_result.to_json(orient='records', lines=True))\n",
    "\n",
    "#with gzip.open('mnt/ceph/storage/data-in-progress/data-teaching/theses/wstud-thesis-probst/retrievalExperiments/samples/cc-19-47-anchortext-one-part/part-00000.jsonl.gz', 'r') as json_file:\n",
    "#    json_list = list(json_file)\n",
    "\n",
    "#json_elem_list = []\n",
    "#for json_str in json_list:\n",
    "#    json_elem = json.loads(json_str)\n",
    "#    json_elem_list.append(json_elem)\n",
    "#count = 1\n",
    "\n",
    "#while len(json_list) != 0:\n",
    "#    elem = json_list.pop()\n",
    "#    json_elem = json.loads(elem)\n",
    "#    json_elem_list.append(json_elem)\n",
    "#    if (count % 100000 == 0):\n",
    "#        print(count)\n",
    "#    count+=1\n",
    "\n",
    "#df_anchor = pd.DataFrame(json_elem_list)"
   ]
  },
  {
   "cell_type": "code",
   "execution_count": 38,
   "metadata": {
    "execution": {
     "iopub.execute_input": "2021-07-09T07:22:51.432316Z",
     "iopub.status.busy": "2021-07-09T07:22:51.431644Z",
     "iopub.status.idle": "2021-07-09T07:23:08.312804Z",
     "shell.execute_reply": "2021-07-09T07:23:08.311753Z",
     "shell.execute_reply.started": "2021-07-09T07:22:51.432243Z"
    }
   },
   "outputs": [
    {
     "name": "stdout",
     "output_type": "stream",
     "text": [
      "1\n",
      "2\n",
      "100000\n",
      "200000\n",
      "300000\n",
      "400000\n",
      "500000\n",
      "600000\n",
      "700000\n",
      "800000\n",
      "900000\n",
      "1000000\n",
      "1100000\n",
      "1200000\n",
      "1300000\n",
      "1400000\n",
      "DONE!\n"
     ]
    }
   ],
   "source": [
    "print(\"1\")\n",
    "with open('mnt/ceph/storage/data-in-progress/data-teaching/theses/wstud-thesis-probst/retrievalExperiments/samples/orcas/orcas-docs.jsonl', 'r') as json_file:\n",
    "    json_list = list(json_file)\n",
    "print(\"2\")\n",
    "json_elem_list = []\n",
    "count=1\n",
    "\n",
    "while len(json_list) != 0:\n",
    "    elem = json_list.pop()\n",
    "    json_elem = json.loads(elem)\n",
    "    json_elem_list.append(json_elem)\n",
    "    if (count % 100000 == 0):\n",
    "        print(count)\n",
    "    count+=1\n",
    "    \n",
    "df_content = pd.DataFrame(json_elem_list)\n",
    "print(\"DONE!\")"
   ]
  },
  {
   "cell_type": "code",
   "execution_count": 39,
   "metadata": {
    "execution": {
     "iopub.execute_input": "2021-07-09T07:23:10.863199Z",
     "iopub.status.busy": "2021-07-09T07:23:10.862550Z",
     "iopub.status.idle": "2021-07-09T07:23:10.885286Z",
     "shell.execute_reply": "2021-07-09T07:23:10.884567Z",
     "shell.execute_reply.started": "2021-07-09T07:23:10.863118Z"
    }
   },
   "outputs": [
    {
     "data": {
      "text/html": [
       "<div>\n",
       "<style scoped>\n",
       "    .dataframe tbody tr th:only-of-type {\n",
       "        vertical-align: middle;\n",
       "    }\n",
       "\n",
       "    .dataframe tbody tr th {\n",
       "        vertical-align: top;\n",
       "    }\n",
       "\n",
       "    .dataframe thead th {\n",
       "        text-align: right;\n",
       "    }\n",
       "</style>\n",
       "<table border=\"1\" class=\"dataframe\">\n",
       "  <thead>\n",
       "    <tr style=\"text-align: right;\">\n",
       "      <th></th>\n",
       "      <th>id</th>\n",
       "      <th>contents</th>\n",
       "    </tr>\n",
       "  </thead>\n",
       "  <tbody>\n",
       "    <tr>\n",
       "      <th>0</th>\n",
       "      <td>D999999</td>\n",
       "      <td>does gatorade expire expired gatorade gatorade...</td>\n",
       "    </tr>\n",
       "    <tr>\n",
       "      <th>1</th>\n",
       "      <td>D999992</td>\n",
       "      <td>parasite identification</td>\n",
       "    </tr>\n",
       "    <tr>\n",
       "      <th>2</th>\n",
       "      <td>D99999</td>\n",
       "      <td>rosedale rosedale new york rosedale ny rosedal...</td>\n",
       "    </tr>\n",
       "    <tr>\n",
       "      <th>3</th>\n",
       "      <td>D999989</td>\n",
       "      <td>how to get a passport in illinois illinois pas...</td>\n",
       "    </tr>\n",
       "    <tr>\n",
       "      <th>4</th>\n",
       "      <td>D999987</td>\n",
       "      <td>define profound define scrutiny definition of ...</td>\n",
       "    </tr>\n",
       "    <tr>\n",
       "      <th>...</th>\n",
       "      <td>...</td>\n",
       "      <td>...</td>\n",
       "    </tr>\n",
       "    <tr>\n",
       "      <th>1422022</th>\n",
       "      <td>D1000</td>\n",
       "      <td>chairman of the house committee committee chai...</td>\n",
       "    </tr>\n",
       "    <tr>\n",
       "      <th>1422023</th>\n",
       "      <td>D100</td>\n",
       "      <td>spoofing</td>\n",
       "    </tr>\n",
       "    <tr>\n",
       "      <th>1422024</th>\n",
       "      <td>D10</td>\n",
       "      <td>the obligation to endure the obligation to end...</td>\n",
       "    </tr>\n",
       "    <tr>\n",
       "      <th>1422025</th>\n",
       "      <td>D1</td>\n",
       "      <td>b certification b company b corp b corp certif...</td>\n",
       "    </tr>\n",
       "    <tr>\n",
       "      <th>1422026</th>\n",
       "      <td>D0</td>\n",
       "      <td>what is a corporation whats a corporation</td>\n",
       "    </tr>\n",
       "  </tbody>\n",
       "</table>\n",
       "<p>1422027 rows × 2 columns</p>\n",
       "</div>"
      ],
      "text/plain": [
       "              id                                           contents\n",
       "0        D999999  does gatorade expire expired gatorade gatorade...\n",
       "1        D999992                            parasite identification\n",
       "2         D99999  rosedale rosedale new york rosedale ny rosedal...\n",
       "3        D999989  how to get a passport in illinois illinois pas...\n",
       "4        D999987  define profound define scrutiny definition of ...\n",
       "...          ...                                                ...\n",
       "1422022    D1000  chairman of the house committee committee chai...\n",
       "1422023     D100                                           spoofing\n",
       "1422024      D10  the obligation to endure the obligation to end...\n",
       "1422025       D1  b certification b company b corp b corp certif...\n",
       "1422026       D0          what is a corporation whats a corporation\n",
       "\n",
       "[1422027 rows x 2 columns]"
      ]
     },
     "execution_count": 39,
     "metadata": {},
     "output_type": "execute_result"
    }
   ],
   "source": [
    "df_content"
   ]
  },
  {
   "cell_type": "code",
   "execution_count": 49,
   "metadata": {
    "execution": {
     "iopub.execute_input": "2021-07-09T08:10:09.574814Z",
     "iopub.status.busy": "2021-07-09T08:10:09.574152Z",
     "iopub.status.idle": "2021-07-09T08:10:12.237430Z",
     "shell.execute_reply": "2021-07-09T08:10:12.236515Z",
     "shell.execute_reply.started": "2021-07-09T08:10:09.574734Z"
    }
   },
   "outputs": [],
   "source": [
    "df_result = df_anchor.merge(df_at_orcas, how=\"inner\", on=\"id\") #.dropna().drop(\"contents_x\", axis=1).rename(columns={'contents_y': 'contents'})"
   ]
  },
  {
   "cell_type": "code",
   "execution_count": 13,
   "metadata": {
    "execution": {
     "iopub.execute_input": "2021-06-05T19:27:37.178308Z",
     "iopub.status.busy": "2021-06-05T19:27:37.177681Z",
     "iopub.status.idle": "2021-06-05T19:27:38.775206Z",
     "shell.execute_reply": "2021-06-05T19:27:38.774247Z",
     "shell.execute_reply.started": "2021-06-05T19:27:37.178241Z"
    }
   },
   "outputs": [],
   "source": [
    "df_result_1 = df_result.dropna().drop(\"contents_y\", axis=1).rename(columns={'contents_x': 'contents'})\n",
    "df_result_2 = df_result.dropna().drop(\"contents_x\", axis=1).rename(columns={'contents_y': 'contents'})"
   ]
  },
  {
   "cell_type": "code",
   "execution_count": null,
   "metadata": {
    "execution": {
     "iopub.execute_input": "2021-07-09T08:12:58.223193Z",
     "iopub.status.busy": "2021-07-09T08:12:58.222568Z"
    }
   },
   "outputs": [],
   "source": [
    "with open(\"mnt/ceph/storage/data-in-progress/data-teaching/theses/wstud-thesis-probst/retrievalExperiments/samples/cc-combined-anchortext/matchedToOrcas/at-matched.jsonl\", \"w\") as file1:\n",
    "    file1.writelines(df_result.to_json(orient='records', lines=True))\n"
   ]
  },
  {
   "cell_type": "code",
   "execution_count": 50,
   "metadata": {
    "execution": {
     "iopub.execute_input": "2021-07-09T08:10:23.421771Z",
     "iopub.status.busy": "2021-07-09T08:10:23.421142Z",
     "iopub.status.idle": "2021-07-09T08:10:23.440670Z",
     "shell.execute_reply": "2021-07-09T08:10:23.439925Z",
     "shell.execute_reply.started": "2021-07-09T08:10:23.421698Z"
    }
   },
   "outputs": [
    {
     "data": {
      "text/html": [
       "<div>\n",
       "<style scoped>\n",
       "    .dataframe tbody tr th:only-of-type {\n",
       "        vertical-align: middle;\n",
       "    }\n",
       "\n",
       "    .dataframe tbody tr th {\n",
       "        vertical-align: top;\n",
       "    }\n",
       "\n",
       "    .dataframe thead th {\n",
       "        text-align: right;\n",
       "    }\n",
       "</style>\n",
       "<table border=\"1\" class=\"dataframe\">\n",
       "  <thead>\n",
       "    <tr style=\"text-align: right;\">\n",
       "      <th></th>\n",
       "      <th>id</th>\n",
       "      <th>contents</th>\n",
       "    </tr>\n",
       "  </thead>\n",
       "  <tbody>\n",
       "    <tr>\n",
       "      <th>0</th>\n",
       "      <td>D115371</td>\n",
       "      <td>reported that 458 fatal workplace injuries Sam...</td>\n",
       "    </tr>\n",
       "    <tr>\n",
       "      <th>1</th>\n",
       "      <td>D747924</td>\n",
       "      <td>automate your marketing efforts Marketing Auto...</td>\n",
       "    </tr>\n",
       "    <tr>\n",
       "      <th>2</th>\n",
       "      <td>D1010234</td>\n",
       "      <td>UC Riverside http://www.classes.ucr.edu/fees/s...</td>\n",
       "    </tr>\n",
       "    <tr>\n",
       "      <th>3</th>\n",
       "      <td>D1580101</td>\n",
       "      <td>a new structure in HCV care a new structure in...</td>\n",
       "    </tr>\n",
       "    <tr>\n",
       "      <th>4</th>\n",
       "      <td>D992563</td>\n",
       "      <td>Tips on using your iPhone for free abroad How ...</td>\n",
       "    </tr>\n",
       "    <tr>\n",
       "      <th>...</th>\n",
       "      <td>...</td>\n",
       "      <td>...</td>\n",
       "    </tr>\n",
       "    <tr>\n",
       "      <th>1008309</th>\n",
       "      <td>D495255</td>\n",
       "      <td>http://dogs.petbreeds.com/l/55/Dachshund http:...</td>\n",
       "    </tr>\n",
       "    <tr>\n",
       "      <th>1008310</th>\n",
       "      <td>D3369629</td>\n",
       "      <td>Intrusion Detection System (IDS) Software обна...</td>\n",
       "    </tr>\n",
       "    <tr>\n",
       "      <th>1008311</th>\n",
       "      <td>D3489838</td>\n",
       "      <td>Food Protein Induced Enterocolitis Syndrome (F...</td>\n",
       "    </tr>\n",
       "    <tr>\n",
       "      <th>1008312</th>\n",
       "      <td>D3445547</td>\n",
       "      <td>add around 10% to the value of your home carry...</td>\n",
       "    </tr>\n",
       "    <tr>\n",
       "      <th>1008313</th>\n",
       "      <td>D1945041</td>\n",
       "      <td>St. Bernardus St. Bernardus St. Bernardus http...</td>\n",
       "    </tr>\n",
       "  </tbody>\n",
       "</table>\n",
       "<p>1008314 rows × 2 columns</p>\n",
       "</div>"
      ],
      "text/plain": [
       "               id                                           contents\n",
       "0         D115371  reported that 458 fatal workplace injuries Sam...\n",
       "1         D747924  automate your marketing efforts Marketing Auto...\n",
       "2        D1010234  UC Riverside http://www.classes.ucr.edu/fees/s...\n",
       "3        D1580101  a new structure in HCV care a new structure in...\n",
       "4         D992563  Tips on using your iPhone for free abroad How ...\n",
       "...           ...                                                ...\n",
       "1008309   D495255  http://dogs.petbreeds.com/l/55/Dachshund http:...\n",
       "1008310  D3369629  Intrusion Detection System (IDS) Software обна...\n",
       "1008311  D3489838  Food Protein Induced Enterocolitis Syndrome (F...\n",
       "1008312  D3445547  add around 10% to the value of your home carry...\n",
       "1008313  D1945041  St. Bernardus St. Bernardus St. Bernardus http...\n",
       "\n",
       "[1008314 rows x 2 columns]"
      ]
     },
     "execution_count": 50,
     "metadata": {},
     "output_type": "execute_result"
    }
   ],
   "source": [
    "df_result"
   ]
  },
  {
   "cell_type": "code",
   "execution_count": 14,
   "metadata": {
    "execution": {
     "iopub.execute_input": "2021-06-05T19:27:44.203288Z",
     "iopub.status.busy": "2021-06-05T19:27:44.202637Z",
     "iopub.status.idle": "2021-06-05T19:27:44.224429Z",
     "shell.execute_reply": "2021-06-05T19:27:44.223558Z",
     "shell.execute_reply.started": "2021-06-05T19:27:44.203212Z"
    }
   },
   "outputs": [
    {
     "data": {
      "text/html": [
       "<div>\n",
       "<style scoped>\n",
       "    .dataframe tbody tr th:only-of-type {\n",
       "        vertical-align: middle;\n",
       "    }\n",
       "\n",
       "    .dataframe tbody tr th {\n",
       "        vertical-align: top;\n",
       "    }\n",
       "\n",
       "    .dataframe thead th {\n",
       "        text-align: right;\n",
       "    }\n",
       "</style>\n",
       "<table border=\"1\" class=\"dataframe\">\n",
       "  <thead>\n",
       "    <tr style=\"text-align: right;\">\n",
       "      <th></th>\n",
       "      <th>id</th>\n",
       "      <th>contents</th>\n",
       "    </tr>\n",
       "  </thead>\n",
       "  <tbody>\n",
       "    <tr>\n",
       "      <th>0</th>\n",
       "      <td>D2542484</td>\n",
       "      <td>amy kuns find jodi huisentruit huisentruit jod...</td>\n",
       "    </tr>\n",
       "    <tr>\n",
       "      <th>1</th>\n",
       "      <td>D170141</td>\n",
       "      <td>does neptune have moons how many moons does ne...</td>\n",
       "    </tr>\n",
       "    <tr>\n",
       "      <th>2</th>\n",
       "      <td>D1999870</td>\n",
       "      <td>is starbucks open on christmas is starbucks op...</td>\n",
       "    </tr>\n",
       "    <tr>\n",
       "      <th>3</th>\n",
       "      <td>D931289</td>\n",
       "      <td>aquarium grass fish tanks freshwater aquarium ...</td>\n",
       "    </tr>\n",
       "    <tr>\n",
       "      <th>4</th>\n",
       "      <td>D3139124</td>\n",
       "      <td>herban feast sodo park seattle sodo park wedding</td>\n",
       "    </tr>\n",
       "    <tr>\n",
       "      <th>...</th>\n",
       "      <td>...</td>\n",
       "      <td>...</td>\n",
       "    </tr>\n",
       "    <tr>\n",
       "      <th>758603</th>\n",
       "      <td>D624053</td>\n",
       "      <td>city of miami gardens miami gardens miami gard...</td>\n",
       "    </tr>\n",
       "    <tr>\n",
       "      <th>758604</th>\n",
       "      <td>D3070455</td>\n",
       "      <td>customer service john lewis john lewis cello r...</td>\n",
       "    </tr>\n",
       "    <tr>\n",
       "      <th>758605</th>\n",
       "      <td>D3324569</td>\n",
       "      <td>foraker act the foraker act what was the forak...</td>\n",
       "    </tr>\n",
       "    <tr>\n",
       "      <th>758606</th>\n",
       "      <td>D1239229</td>\n",
       "      <td>consumer reports free trial consumer reports t...</td>\n",
       "    </tr>\n",
       "    <tr>\n",
       "      <th>758607</th>\n",
       "      <td>D2874886</td>\n",
       "      <td>federal maritime commision federal maritime co...</td>\n",
       "    </tr>\n",
       "  </tbody>\n",
       "</table>\n",
       "<p>758608 rows × 2 columns</p>\n",
       "</div>"
      ],
      "text/plain": [
       "              id                                           contents\n",
       "0       D2542484  amy kuns find jodi huisentruit huisentruit jod...\n",
       "1        D170141  does neptune have moons how many moons does ne...\n",
       "2       D1999870  is starbucks open on christmas is starbucks op...\n",
       "3        D931289  aquarium grass fish tanks freshwater aquarium ...\n",
       "4       D3139124   herban feast sodo park seattle sodo park wedding\n",
       "...          ...                                                ...\n",
       "758603   D624053  city of miami gardens miami gardens miami gard...\n",
       "758604  D3070455  customer service john lewis john lewis cello r...\n",
       "758605  D3324569  foraker act the foraker act what was the forak...\n",
       "758606  D1239229  consumer reports free trial consumer reports t...\n",
       "758607  D2874886  federal maritime commision federal maritime co...\n",
       "\n",
       "[758608 rows x 2 columns]"
      ]
     },
     "execution_count": 14,
     "metadata": {},
     "output_type": "execute_result"
    }
   ],
   "source": [
    "df_result_2"
   ]
  },
  {
   "cell_type": "code",
   "execution_count": 26,
   "metadata": {
    "execution": {
     "iopub.execute_input": "2021-07-09T06:39:14.045848Z",
     "iopub.status.busy": "2021-07-09T06:39:14.045133Z",
     "iopub.status.idle": "2021-07-09T06:44:10.173162Z",
     "shell.execute_reply": "2021-07-09T06:44:10.172093Z",
     "shell.execute_reply.started": "2021-07-09T06:39:14.045769Z"
    }
   },
   "outputs": [
    {
     "name": "stdout",
     "output_type": "stream",
     "text": [
      "0\n",
      "1000\n",
      "2000\n",
      "3000\n",
      "4000\n",
      "5000\n",
      "6000\n",
      "7000\n",
      "8000\n",
      "9000\n",
      "DONE!\n"
     ]
    }
   ],
   "source": [
    "#jsonl id extractor:\n",
    "path = \"mnt/ceph/storage/data-in-progress/data-teaching/theses/wstud-thesis-probst/retrievalExperiments/\"\n",
    "outfile = 'workingDir/anchortext-ids'\n",
    "\n",
    "\n",
    "with open(path+outfile, 'w') as output_file:\n",
    "    for i in range(0, 10000):\n",
    "        with open(path+'samples/cc-combined-anchortext/cc-combined-anchortext/part-'+str(i).zfill(5)+'.jsonl', 'r') as json_file:\n",
    "            line = json_file.readline()\n",
    "    \n",
    "            while line:\n",
    "                json_elem = json.loads(line)\n",
    "                output_file.write(json_elem['id']+'\\n')\n",
    "                line = json_file.readline()\n",
    "        if i%1000 == 0:\n",
    "            print(i)\n",
    "\n",
    "print('DONE!')"
   ]
  },
  {
   "cell_type": "code",
   "execution_count": 6,
   "metadata": {
    "execution": {
     "iopub.execute_input": "2021-07-09T08:36:38.050416Z",
     "iopub.status.busy": "2021-07-09T08:36:38.049790Z",
     "iopub.status.idle": "2021-07-09T08:36:43.026020Z",
     "shell.execute_reply": "2021-07-09T08:36:43.024098Z",
     "shell.execute_reply.started": "2021-07-09T08:36:38.050342Z"
    }
   },
   "outputs": [],
   "source": [
    "#join ids\n",
    "path=\"mnt/ceph/storage/data-in-progress/data-teaching/theses/wstud-thesis-probst/retrievalExperiments/workingDir/\"\n",
    "\n",
    "df_at = pd.read_csv(path+\"anchortext-ids\", header=0, names=[\"id\"])\n",
    "df_orcas = pd.read_csv(path+\"orcas-ids\", header=0, names=[\"id\"])\n",
    "df_at_orcas = df_at.merge(df_orcas, how=\"inner\", on=\"id\")\n",
    "#df_at_orcas.to_csv(path+\"anchortext-orcas-ids\", header=None, index=None, mode='w') #write ids to file"
   ]
  },
  {
   "cell_type": "code",
   "execution_count": null,
   "metadata": {},
   "outputs": [],
   "source": []
  }
 ],
 "metadata": {
  "kernelspec": {
   "display_name": "Python 3",
   "language": "python",
   "name": "python3"
  },
  "language_info": {
   "codemirror_mode": {
    "name": "ipython",
    "version": 3
   },
   "file_extension": ".py",
   "mimetype": "text/x-python",
   "name": "python",
   "nbconvert_exporter": "python",
   "pygments_lexer": "ipython3",
   "version": "3.7.10"
  }
 },
 "nbformat": 4,
 "nbformat_minor": 4
}
