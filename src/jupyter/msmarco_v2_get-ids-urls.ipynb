{
 "cells": [
  {
   "cell_type": "code",
   "execution_count": 12,
   "metadata": {
    "execution": {
     "iopub.execute_input": "2021-07-09T19:36:08.468142Z",
     "iopub.status.busy": "2021-07-09T19:36:08.467517Z",
     "iopub.status.idle": "2021-07-09T19:36:10.586038Z",
     "shell.execute_reply": "2021-07-09T19:36:10.584540Z",
     "shell.execute_reply.started": "2021-07-09T19:36:08.468068Z"
    }
   },
   "outputs": [],
   "source": [
    "import csv, json, sys, gzip, os\n",
    "import pandas as pd"
   ]
  },
  {
   "cell_type": "code",
   "execution_count": 13,
   "metadata": {
    "execution": {
     "iopub.execute_input": "2021-07-09T19:36:11.483661Z",
     "iopub.status.busy": "2021-07-09T19:36:11.483060Z",
     "iopub.status.idle": "2021-07-09T20:18:35.963456Z",
     "shell.execute_reply": "2021-07-09T20:18:35.962452Z",
     "shell.execute_reply.started": "2021-07-09T19:36:11.483589Z"
    }
   },
   "outputs": [
    {
     "name": "stdout",
     "output_type": "stream",
     "text": [
      "count: 0, file: msmarco_doc_00.gz\n",
      "count: 1, file: msmarco_doc_01.gz\n",
      "count: 2, file: msmarco_doc_02.gz\n",
      "count: 3, file: msmarco_doc_03.gz\n",
      "count: 4, file: msmarco_doc_04.gz\n",
      "count: 5, file: msmarco_doc_05.gz\n",
      "count: 6, file: msmarco_doc_06.gz\n",
      "count: 7, file: msmarco_doc_07.gz\n",
      "count: 8, file: msmarco_doc_08.gz\n",
      "count: 9, file: msmarco_doc_09.gz\n",
      "count: 10, file: msmarco_doc_10.gz\n",
      "count: 11, file: msmarco_doc_11.gz\n",
      "count: 12, file: msmarco_doc_12.gz\n",
      "count: 13, file: msmarco_doc_13.gz\n",
      "count: 14, file: msmarco_doc_14.gz\n",
      "count: 15, file: msmarco_doc_15.gz\n",
      "count: 16, file: msmarco_doc_16.gz\n",
      "count: 17, file: msmarco_doc_17.gz\n",
      "count: 18, file: msmarco_doc_18.gz\n",
      "count: 19, file: msmarco_doc_19.gz\n",
      "count: 20, file: msmarco_doc_20.gz\n",
      "count: 21, file: msmarco_doc_21.gz\n",
      "count: 22, file: msmarco_doc_22.gz\n",
      "count: 23, file: msmarco_doc_23.gz\n",
      "count: 24, file: msmarco_doc_24.gz\n",
      "count: 25, file: msmarco_doc_25.gz\n",
      "count: 26, file: msmarco_doc_26.gz\n",
      "count: 27, file: msmarco_doc_27.gz\n",
      "count: 28, file: msmarco_doc_28.gz\n",
      "count: 29, file: msmarco_doc_29.gz\n",
      "count: 30, file: msmarco_doc_30.gz\n",
      "count: 31, file: msmarco_doc_31.gz\n",
      "count: 32, file: msmarco_doc_32.gz\n",
      "count: 33, file: msmarco_doc_33.gz\n",
      "count: 34, file: msmarco_doc_34.gz\n",
      "count: 35, file: msmarco_doc_35.gz\n",
      "count: 36, file: msmarco_doc_36.gz\n",
      "count: 37, file: msmarco_doc_37.gz\n",
      "count: 38, file: msmarco_doc_38.gz\n",
      "count: 39, file: msmarco_doc_39.gz\n",
      "count: 40, file: msmarco_doc_40.gz\n",
      "count: 41, file: msmarco_doc_41.gz\n",
      "count: 42, file: msmarco_doc_42.gz\n",
      "count: 43, file: msmarco_doc_43.gz\n",
      "count: 44, file: msmarco_doc_44.gz\n",
      "count: 45, file: msmarco_doc_45.gz\n",
      "count: 46, file: msmarco_doc_46.gz\n",
      "count: 47, file: msmarco_doc_47.gz\n",
      "count: 48, file: msmarco_doc_48.gz\n",
      "count: 49, file: msmarco_doc_49.gz\n",
      "count: 50, file: msmarco_doc_50.gz\n",
      "count: 51, file: msmarco_doc_51.gz\n",
      "count: 52, file: msmarco_doc_52.gz\n",
      "count: 53, file: msmarco_doc_53.gz\n",
      "count: 54, file: msmarco_doc_54.gz\n",
      "count: 55, file: msmarco_doc_55.gz\n",
      "count: 56, file: msmarco_doc_56.gz\n",
      "count: 57, file: msmarco_doc_57.gz\n",
      "count: 58, file: msmarco_doc_58.gz\n",
      "count: 59, file: msmarco_doc_59.gz\n",
      "done!\n"
     ]
    }
   ],
   "source": [
    "\n",
    "path = \"/mnt/ceph/storage/data-in-progress/data-teaching/theses/wstud-thesis-probst/ms-marco-docs/msmarco_v2/\"\n",
    "\n",
    "inpath = path+\"msmarco_v2_doc/\"\n",
    "count = 0\n",
    "\n",
    "outfile = 'msmarco_v2_ids-urls.csv'\n",
    "\n",
    "with open(path+outfile, 'w') as output_file:\n",
    "    for i in range(0, 60):\n",
    "        if i < 10:\n",
    "            filename = \"msmarco_doc_0\"+str(i)+\".gz\"\n",
    "        else:\n",
    "            filename = \"msmarco_doc_\"+str(i)+\".gz\"\n",
    "        \n",
    "        print(\"count: \"+str(count)+\", file: \"+filename)\n",
    "        with gzip.open(inpath+filename, 'r') as infile:\n",
    "            for line in infile:\n",
    "                data = json.loads(line)\n",
    "                output_file.write(data['docid'] + \" \" + data['url'] + \"\\n\")\n",
    "        count+=1\n",
    "    \n",
    "print(\"done!\")"
   ]
  },
  {
   "cell_type": "code",
   "execution_count": 9,
   "metadata": {
    "execution": {
     "iopub.execute_input": "2021-07-09T11:51:28.918177Z",
     "iopub.status.busy": "2021-07-09T11:51:28.917562Z",
     "iopub.status.idle": "2021-07-09T11:51:28.938917Z",
     "shell.execute_reply": "2021-07-09T11:51:28.937656Z",
     "shell.execute_reply.started": "2021-07-09T11:51:28.918104Z"
    }
   },
   "outputs": [],
   "source": [
    "path = \"/mnt/ceph/storage/data-in-progress/data-teaching/theses/wstud-thesis-probst/ms-marco-docs/msmarco_v2/msmarco_v2_doc/*.gz\"\n",
    "files=!ls $path\n"
   ]
  },
  {
   "cell_type": "code",
   "execution_count": 10,
   "metadata": {
    "execution": {
     "iopub.execute_input": "2021-07-09T11:51:29.818986Z",
     "iopub.status.busy": "2021-07-09T11:51:29.818426Z",
     "iopub.status.idle": "2021-07-09T11:51:29.833475Z",
     "shell.execute_reply": "2021-07-09T11:51:29.832287Z",
     "shell.execute_reply.started": "2021-07-09T11:51:29.818911Z"
    }
   },
   "outputs": [
    {
     "data": {
      "text/plain": [
       "['/bin/bash: 99].gz: command not found',\n",
       " \"ls: cannot access '/mnt/ceph/storage/data-in-progress/data-teaching/theses/wstud-thesis-probst/ms-marco-docs/msmarco_v2/msmarco_v2_doc/*[0*': No such file or directory\"]"
      ]
     },
     "execution_count": 10,
     "metadata": {},
     "output_type": "execute_result"
    }
   ],
   "source": [
    "files"
   ]
  },
  {
   "cell_type": "code",
   "execution_count": 18,
   "metadata": {
    "execution": {
     "iopub.execute_input": "2021-07-06T16:33:11.638869Z",
     "iopub.status.busy": "2021-07-06T16:33:11.638417Z",
     "iopub.status.idle": "2021-07-06T18:27:59.907524Z",
     "shell.execute_reply": "2021-07-06T18:27:59.906364Z",
     "shell.execute_reply.started": "2021-07-06T16:33:11.638812Z"
    }
   },
   "outputs": [
    {
     "name": "stdout",
     "output_type": "stream",
     "text": [
      "count: 0, file: msmarco_doc_01.gz\n",
      "count: 1, file: msmarco_doc_02.gz\n",
      "count: 2, file: msmarco_doc_03.gz\n",
      "count: 3, file: msmarco_doc_04.gz\n",
      "count: 4, file: msmarco_doc_05.gz\n",
      "count: 5, file: msmarco_doc_06.gz\n",
      "count: 6, file: msmarco_doc_07.gz\n",
      "count: 7, file: msmarco_doc_08.gz\n",
      "count: 8, file: msmarco_doc_09.gz\n",
      "count: 9, file: msmarco_doc_10.gz\n",
      "count: 10, file: msmarco_doc_11.gz\n",
      "count: 11, file: msmarco_doc_12.gz\n",
      "count: 12, file: msmarco_doc_13.gz\n",
      "count: 13, file: msmarco_doc_14.gz\n",
      "count: 14, file: msmarco_doc_15.gz\n",
      "count: 15, file: msmarco_doc_16.gz\n",
      "count: 16, file: msmarco_doc_17.gz\n",
      "count: 17, file: msmarco_doc_18.gz\n",
      "count: 18, file: msmarco_doc_19.gz\n",
      "count: 19, file: msmarco_doc_20.gz\n",
      "count: 20, file: msmarco_doc_21.gz\n",
      "count: 21, file: msmarco_doc_22.gz\n",
      "count: 22, file: msmarco_doc_23.gz\n",
      "count: 23, file: msmarco_doc_24.gz\n",
      "count: 24, file: msmarco_doc_25.gz\n",
      "count: 25, file: msmarco_doc_26.gz\n",
      "count: 26, file: msmarco_doc_27.gz\n",
      "count: 27, file: msmarco_doc_28.gz\n",
      "count: 28, file: msmarco_doc_29.gz\n",
      "count: 29, file: msmarco_doc_30.gz\n",
      "count: 30, file: msmarco_doc_31.gz\n",
      "count: 31, file: msmarco_doc_32.gz\n",
      "count: 32, file: msmarco_doc_33.gz\n",
      "count: 33, file: msmarco_doc_34.gz\n",
      "count: 34, file: msmarco_doc_35.gz\n",
      "count: 35, file: msmarco_doc_36.gz\n",
      "count: 36, file: msmarco_doc_37.gz\n",
      "count: 37, file: msmarco_doc_38.gz\n",
      "count: 38, file: msmarco_doc_39.gz\n",
      "count: 39, file: msmarco_doc_40.gz\n",
      "count: 40, file: msmarco_doc_41.gz\n",
      "count: 41, file: msmarco_doc_42.gz\n",
      "count: 42, file: msmarco_doc_43.gz\n",
      "count: 43, file: msmarco_doc_44.gz\n",
      "count: 44, file: msmarco_doc_45.gz\n",
      "count: 45, file: msmarco_doc_46.gz\n",
      "count: 46, file: msmarco_doc_47.gz\n",
      "count: 47, file: msmarco_doc_48.gz\n",
      "count: 48, file: msmarco_doc_49.gz\n",
      "count: 49, file: msmarco_doc_50.gz\n",
      "count: 50, file: msmarco_doc_51.gz\n",
      "count: 51, file: msmarco_doc_52.gz\n",
      "count: 52, file: msmarco_doc_53.gz\n",
      "count: 53, file: msmarco_doc_54.gz\n",
      "count: 54, file: msmarco_doc_55.gz\n",
      "count: 55, file: msmarco_doc_56.gz\n",
      "count: 56, file: msmarco_doc_57.gz\n",
      "count: 57, file: msmarco_doc_58.gz\n",
      "count: 58, file: msmarco_doc_59.gz\n",
      "done!\n"
     ]
    }
   ],
   "source": [
    "#OLD! wurde für TSV conversion genutzt!!\n",
    "\n",
    "path = \"mnt/ceph/storage/data-in-progress/data-teaching/theses/wstud-thesis-probst/ms-marco-docs/msmarco_v2/\"\n",
    "\n",
    "inpath = path+\"msmarco_v2_doc/\"\n",
    "count = 0\n",
    "for i in range(1, 60):\n",
    "    if i < 10:\n",
    "        filename = \"msmarco_doc_0\"+str(i)+\".gz\"\n",
    "    else:\n",
    "        filename = \"msmarco_doc_\"+str(i)+\".gz\"\n",
    "        \n",
    "    print(\"count: \"+str(count)+\", file: \"+filename)\n",
    "    with gzip.open(inpath+filename, 'r') as infile:\n",
    "        data = [json.loads(line) for line in infile]\n",
    "        \n",
    "        #new_data = [[sample[0].replace('\\n', ' '), sample[1]]\n",
    "        #     for sample in data]\n",
    "        for j in range(0, len(data)):\n",
    "            data[j] = {\"url\":data[j]['url'], \"title\":data[j]['title'].replace('\\n', ' ').replace('\\t', ' '), \"headings\":data[j]['headings'].replace('\\n', ' ').replace('\\t', ' '), \"body\":data[j]['body'].replace('\\n', ' ').replace('\\t', ' '), \"docid\":data[j]['docid']}\n",
    "        \n",
    "        #new_data = [{\"url\":sample['url'], \"title\":sample['title'].replace('\\n', ' '), \"headings\":sample['headings'].replace('\\n', ' '), \"body\":sample['body'].replace('\\n', ' '), \"docid\":sample['docid']} \n",
    "        #     for sample in data]\n",
    "    if i < 10:\n",
    "        outfile = 'msmarco_v2_0'+str(i)+'.tsv'\n",
    "    else:\n",
    "        outfile = 'msmarco_v2_'+str(i)+'.tsv'\n",
    "        \n",
    "    with open(path+outfile, 'w') as output_file:\n",
    "        dw = csv.DictWriter(output_file, data[0].keys(), delimiter='\\t')\n",
    "        dw.writeheader()\n",
    "        dw.writerows(data)\n",
    "    count+=1\n",
    "    \n",
    "print(\"done!\")"
   ]
  },
  {
   "cell_type": "code",
   "execution_count": 28,
   "metadata": {
    "execution": {
     "iopub.execute_input": "2021-07-06T18:47:32.034592Z",
     "iopub.status.busy": "2021-07-06T18:47:32.033955Z",
     "iopub.status.idle": "2021-07-06T18:47:32.782239Z",
     "shell.execute_reply": "2021-07-06T18:47:32.781082Z",
     "shell.execute_reply.started": "2021-07-06T18:47:32.034518Z"
    }
   },
   "outputs": [
    {
     "name": "stdout",
     "output_type": "stream",
     "text": [
      "0\n",
      "1000\n",
      "2000\n",
      "3000\n",
      "3541\n",
      "3542\n"
     ]
    },
    {
     "ename": "Error",
     "evalue": "line contains NUL",
     "output_type": "error",
     "traceback": [
      "\u001b[0;31m---------------------------------------------------------------------------\u001b[0m",
      "\u001b[0;31mError\u001b[0m                                     Traceback (most recent call last)",
      "\u001b[0;32m<ipython-input-28-f315c9b1f22e>\u001b[0m in \u001b[0;36m<module>\u001b[0;34m\u001b[0m\n\u001b[1;32m     12\u001b[0m             \u001b[0mwriter\u001b[0m \u001b[0;34m=\u001b[0m \u001b[0mcsv\u001b[0m\u001b[0;34m.\u001b[0m\u001b[0mwriter\u001b[0m\u001b[0;34m(\u001b[0m\u001b[0moutfile\u001b[0m\u001b[0;34m,\u001b[0m \u001b[0mdelimiter\u001b[0m\u001b[0;34m=\u001b[0m\u001b[0;34m' '\u001b[0m\u001b[0;34m)\u001b[0m\u001b[0;34m\u001b[0m\u001b[0;34m\u001b[0m\u001b[0m\n\u001b[1;32m     13\u001b[0m             \u001b[0mj\u001b[0m \u001b[0;34m=\u001b[0m \u001b[0;36m0\u001b[0m\u001b[0;34m\u001b[0m\u001b[0;34m\u001b[0m\u001b[0m\n\u001b[0;32m---> 14\u001b[0;31m             \u001b[0;32mfor\u001b[0m \u001b[0mrow\u001b[0m \u001b[0;32min\u001b[0m \u001b[0mread_tsv\u001b[0m\u001b[0;34m:\u001b[0m\u001b[0;34m\u001b[0m\u001b[0;34m\u001b[0m\u001b[0m\n\u001b[0m\u001b[1;32m     15\u001b[0m                 \u001b[0;32mif\u001b[0m \u001b[0mj\u001b[0m\u001b[0;34m%\u001b[0m\u001b[0;36m1000\u001b[0m \u001b[0;34m==\u001b[0m \u001b[0;36m0\u001b[0m \u001b[0;34m:\u001b[0m\u001b[0;34m\u001b[0m\u001b[0;34m\u001b[0m\u001b[0m\n\u001b[1;32m     16\u001b[0m                     \u001b[0mprint\u001b[0m\u001b[0;34m(\u001b[0m\u001b[0mj\u001b[0m\u001b[0;34m)\u001b[0m\u001b[0;34m\u001b[0m\u001b[0;34m\u001b[0m\u001b[0m\n",
      "\u001b[0;31mError\u001b[0m: line contains NUL"
     ]
    }
   ],
   "source": [
    "path = \"mnt/ceph/storage/data-in-progress/data-teaching/theses/wstud-thesis-probst/ms-marco-docs/msmarco_v2/\"\n",
    "\n",
    "for i in range(0, 60):\n",
    "    if i < 10:\n",
    "        filename = \"msmarco_v2_0\"+str(i)+\".tsv\"\n",
    "    else:\n",
    "        filename = \"msmarco_v2_\"+str(i)+\".tsv\"\n",
    "    with open(path+filename, 'r') as infile:\n",
    "        read_tsv = csv.reader(infile, delimiter=\"\\t\")\n",
    "        first_row = True\n",
    "        with open('msmarco_v2_ids-urls'+str(i)+'.csv', 'w', newline='') as outfile:\n",
    "            writer = csv.writer(outfile, delimiter=' ')\n",
    "            j = 0\n",
    "            for row in read_tsv:\n",
    "                if j%1000 == 0 :\n",
    "                    print(j)\n",
    "                if j > 3540:\n",
    "                    print(j)\n",
    "                if not first_row:\n",
    "                    writer.writerow([row[4], row[0]])\n",
    "                else:\n",
    "                    first_row = False\n",
    "                j+=1\n",
    "    print(i)"
   ]
  },
  {
   "cell_type": "code",
   "execution_count": null,
   "metadata": {},
   "outputs": [],
   "source": []
  }
 ],
 "metadata": {
  "kernelspec": {
   "display_name": "Python 3",
   "language": "python",
   "name": "python3"
  },
  "language_info": {
   "codemirror_mode": {
    "name": "ipython",
    "version": 3
   },
   "file_extension": ".py",
   "mimetype": "text/x-python",
   "name": "python",
   "nbconvert_exporter": "python",
   "pygments_lexer": "ipython3",
   "version": "3.7.6"
  }
 },
 "nbformat": 4,
 "nbformat_minor": 4
}
