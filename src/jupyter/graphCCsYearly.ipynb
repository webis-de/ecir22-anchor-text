{
 "cells": [
  {
   "cell_type": "code",
   "execution_count": 190,
   "metadata": {
    "tags": []
   },
   "outputs": [],
   "source": [
    "from trectools import TrecQrel, procedures, TrecEval, TrecRun\n",
    "import pandas as pd, seaborn as sns"
   ]
  },
  {
   "cell_type": "code",
   "execution_count": 191,
   "metadata": {
    "tags": []
   },
   "outputs": [],
   "source": [
    "qrels_type = 'dev' # 'dev' or 'dl19' or 'v2_dev2'\n",
    "map_or_ndcg = 'ndcg' # 'map' or 'ndcg'\n",
    "ndcg_depth = 100\n",
    "\n",
    "if map_or_ndcg == 'map':\n",
    "    metric = 'MAP@'+str(ndcg_depth)\n",
    "elif map_or_ndcg == 'ndcg':\n",
    "    metric = 'NDCG@'+str(ndcg_depth)\n",
    "else :\n",
    "    print('unsupported metric!')"
   ]
  },
  {
   "cell_type": "code",
   "execution_count": 192,
   "metadata": {
    "tags": []
   },
   "outputs": [
    {
     "name": "stdout",
     "output_type": "stream",
     "text": [
      "dev qrels loaded\n"
     ]
    },
    {
     "data": {
      "text/html": [
       "<div>\n",
       "<style scoped>\n",
       "    .dataframe tbody tr th:only-of-type {\n",
       "        vertical-align: middle;\n",
       "    }\n",
       "\n",
       "    .dataframe tbody tr th {\n",
       "        vertical-align: top;\n",
       "    }\n",
       "\n",
       "    .dataframe thead th {\n",
       "        text-align: right;\n",
       "    }\n",
       "</style>\n",
       "<table border=\"1\" class=\"dataframe\">\n",
       "  <thead>\n",
       "    <tr style=\"text-align: right;\">\n",
       "      <th></th>\n",
       "      <th>query</th>\n",
       "      <th>q0</th>\n",
       "      <th>docid</th>\n",
       "      <th>rel</th>\n",
       "    </tr>\n",
       "  </thead>\n",
       "  <tbody>\n",
       "    <tr>\n",
       "      <th>0</th>\n",
       "      <td>2</td>\n",
       "      <td>0</td>\n",
       "      <td>D1650436</td>\n",
       "      <td>1</td>\n",
       "    </tr>\n",
       "    <tr>\n",
       "      <th>1</th>\n",
       "      <td>1215</td>\n",
       "      <td>0</td>\n",
       "      <td>D1202771</td>\n",
       "      <td>1</td>\n",
       "    </tr>\n",
       "    <tr>\n",
       "      <th>2</th>\n",
       "      <td>1288</td>\n",
       "      <td>0</td>\n",
       "      <td>D1547717</td>\n",
       "      <td>1</td>\n",
       "    </tr>\n",
       "    <tr>\n",
       "      <th>3</th>\n",
       "      <td>1576</td>\n",
       "      <td>0</td>\n",
       "      <td>D1313702</td>\n",
       "      <td>1</td>\n",
       "    </tr>\n",
       "    <tr>\n",
       "      <th>4</th>\n",
       "      <td>2235</td>\n",
       "      <td>0</td>\n",
       "      <td>D2113408</td>\n",
       "      <td>1</td>\n",
       "    </tr>\n",
       "  </tbody>\n",
       "</table>\n",
       "</div>"
      ],
      "text/plain": [
       "   query  q0     docid  rel\n",
       "0      2   0  D1650436    1\n",
       "1   1215   0  D1202771    1\n",
       "2   1288   0  D1547717    1\n",
       "3   1576   0  D1313702    1\n",
       "4   2235   0  D2113408    1"
      ]
     },
     "execution_count": 192,
     "metadata": {},
     "output_type": "execute_result"
    }
   ],
   "source": [
    "# We load a qrel object from a file:\n",
    "\n",
    "if qrels_type == 'dev': # 'dev' or 'dl19' or 'v2_dev2'\n",
    "    qrels_file = \"/mnt/ceph/storage/data-in-progress/data-teaching/theses/wstud-thesis-probst/retrievalExperiments/qrels/qrels.msmarco-doc.dev.txt\"\n",
    "    print('dev qrels loaded')\n",
    "elif qrels_type == 'dl19':\n",
    "    qrels_file = \"/mnt/ceph/storage/data-in-progress/data-teaching/theses/wstud-thesis-probst/retrievalExperiments/qrels/qrels.dl19-doc.txt\"\n",
    "    print('dl19 qrels loaded')\n",
    "elif qrels_type == 'v2_dev2':\n",
    "    qrels_file = \"/mnt/ceph/storage/data-in-progress/data-teaching/theses/wstud-thesis-probst/retrievalExperiments/qrels/qrels.msmarco-v2.dev2.tsv\"\n",
    "    print('msmarco_v2.dev2 qrels loaded')\n",
    "    \n",
    "qrels = TrecQrel(qrels_file)\n",
    "\n",
    "# Internally TrecTools save the objects as Pandas dataframes\n",
    "qrels.qrels_data.head()"
   ]
  },
  {
   "cell_type": "code",
   "execution_count": 184,
   "metadata": {
    "tags": []
   },
   "outputs": [
    {
     "name": "stdout",
     "output_type": "stream",
     "text": [
      "/run.msmarco-doc.cc-combined-anchortext.bm25-default.dev.txt\n",
      "done!\n"
     ]
    }
   ],
   "source": [
    "# A typical evaluation workflow\n",
    "\n",
    "runs_dir = \"/mnt/ceph/storage/data-in-progress/data-teaching/theses/wstud-thesis-probst/retrievalExperiments/runs/anchor-text-mixed-ccs\"\n",
    "#runs_dir = \"/mnt/ceph/storage/data-in-progress/data-teaching/theses/wstud-thesis-probst/retrievalExperiments/runs/ms-marco-v2\"\n",
    "\n",
    "context = 'anchortext'\n",
    "\n",
    "dates = ['combined' '16-07', '17-04', '18-13', '2016-2017-2018']\n",
    "\n",
    "metricResults = []\n",
    "\n",
    "for date in dates:\n",
    "    print(\"/run.msmarco-doc.cc-\"+date+\"-\"+context+\".bm25-default.dev.txt\")\n",
    "    run = TrecRun(runs_dir + \"/run.msmarco-doc.cc-\"+date+\"-\"+context+\".bm25-default.dev.txt\")\n",
    "    te = TrecEval(run, qrels)\n",
    "    metricResults.append((te.get_map(per_query=True, depth=ndcg_depth), date))\n",
    "    \n",
    "#run = TrecRun(runs_dir + \"/run.msmarco-doc.msmarco-doc-v2.bm25-default.dev.txt\")\n",
    "#te = TrecEval(run, qrels)\n",
    "#metricResults.append((te.get_ndcg(per_query=True, depth=ndcg_depth), 'msmarco-docs-v2'))\n",
    "run = TrecRun(\"mnt/ceph/storage/data-in-progress/data-teaching/theses/wstud-thesis-probst/retrievalExperiments/runs/ms-marco-content/run.msmarco-doc.ms-marco-content.bm25-default.dev.txt\")\n",
    "te = TrecEval(run, qrels)\n",
    "metricResults.append((te.get_map(per_query=True, depth=ndcg_depth), 'content'))\n",
    "\n",
    "print(\"done!\")"
   ]
  },
  {
   "cell_type": "code",
   "execution_count": 13,
   "metadata": {
    "tags": []
   },
   "outputs": [
    {
     "name": "stdout",
     "output_type": "stream",
     "text": [
      "done!\n"
     ]
    }
   ],
   "source": [
    "# orcas\n",
    "\n",
    "runs_dir = \"/mnt/ceph/storage/data-in-progress/data-teaching/theses/wstud-thesis-probst/retrievalExperiments/runs/\"\n",
    "\n",
    "metricResults = []\n",
    "\n",
    "run = TrecRun(runs_dir + \"anchor-text-mixed-ccs/run.msmarco-doc.cc-combined-anchortext.bm25-default.dev.txt\")\n",
    "te = TrecEval(run, qrels)\n",
    "metricResults.append((te.get_ndcg(per_query=False, depth=ndcg_depth), 'Anchor Text'))\n",
    "\n",
    "run = TrecRun(runs_dir + \"orcas/run.msmarco-doc.orcas.bm25-default.dev.txt\")\n",
    "te = TrecEval(run, qrels)\n",
    "metricResults.append((te.get_ndcg(per_query=False, depth=ndcg_depth), 'ORCAS'))\n",
    "\n",
    "run = TrecRun(runs_dir + \"anchor-text-matched-to-orcas/run.msmarco-doc.at-matched-orcas-at.bm25-default.dev.txt\")\n",
    "te = TrecEval(run, qrels)\n",
    "metricResults.append((te.get_ndcg(per_query=False, depth=ndcg_depth), 'Anchor Text matched'))\n",
    "\n",
    "run = TrecRun(runs_dir + \"orcas-matched/run.msmarco-doc.orcas-matched-orcas-at.bm25-default.dev.txt\")\n",
    "te = TrecEval(run, qrels)\n",
    "metricResults.append((te.get_ndcg(per_query=False, depth=ndcg_depth), 'ORCAS matched'))\n",
    "\n",
    "\n",
    "print(\"done!\")"
   ]
  },
  {
   "cell_type": "code",
   "execution_count": 185,
   "metadata": {
    "tags": []
   },
   "outputs": [
    {
     "data": {
      "text/html": [
       "<div>\n",
       "<style scoped>\n",
       "    .dataframe tbody tr th:only-of-type {\n",
       "        vertical-align: middle;\n",
       "    }\n",
       "\n",
       "    .dataframe tbody tr th {\n",
       "        vertical-align: top;\n",
       "    }\n",
       "\n",
       "    .dataframe thead th {\n",
       "        text-align: right;\n",
       "    }\n",
       "</style>\n",
       "<table border=\"1\" class=\"dataframe\">\n",
       "  <thead>\n",
       "    <tr style=\"text-align: right;\">\n",
       "      <th></th>\n",
       "      <th>MAP@1000</th>\n",
       "      <th>Type</th>\n",
       "    </tr>\n",
       "    <tr>\n",
       "      <th>query</th>\n",
       "      <th></th>\n",
       "      <th></th>\n",
       "    </tr>\n",
       "  </thead>\n",
       "  <tbody>\n",
       "    <tr>\n",
       "      <th>2</th>\n",
       "      <td>1.000000</td>\n",
       "      <td>combined</td>\n",
       "    </tr>\n",
       "    <tr>\n",
       "      <th>1215</th>\n",
       "      <td>0.002242</td>\n",
       "      <td>combined</td>\n",
       "    </tr>\n",
       "    <tr>\n",
       "      <th>1288</th>\n",
       "      <td>0.000000</td>\n",
       "      <td>combined</td>\n",
       "    </tr>\n",
       "    <tr>\n",
       "      <th>1576</th>\n",
       "      <td>0.000000</td>\n",
       "      <td>combined</td>\n",
       "    </tr>\n",
       "    <tr>\n",
       "      <th>2235</th>\n",
       "      <td>0.000000</td>\n",
       "      <td>combined</td>\n",
       "    </tr>\n",
       "    <tr>\n",
       "      <th>...</th>\n",
       "      <td>...</td>\n",
       "      <td>...</td>\n",
       "    </tr>\n",
       "    <tr>\n",
       "      <th>1102330</th>\n",
       "      <td>0.125000</td>\n",
       "      <td>content</td>\n",
       "    </tr>\n",
       "    <tr>\n",
       "      <th>1102335</th>\n",
       "      <td>0.062500</td>\n",
       "      <td>content</td>\n",
       "    </tr>\n",
       "    <tr>\n",
       "      <th>1102351</th>\n",
       "      <td>1.000000</td>\n",
       "      <td>content</td>\n",
       "    </tr>\n",
       "    <tr>\n",
       "      <th>1102390</th>\n",
       "      <td>0.002899</td>\n",
       "      <td>content</td>\n",
       "    </tr>\n",
       "    <tr>\n",
       "      <th>1102400</th>\n",
       "      <td>0.045455</td>\n",
       "      <td>content</td>\n",
       "    </tr>\n",
       "  </tbody>\n",
       "</table>\n",
       "<p>10386 rows × 2 columns</p>\n",
       "</div>"
      ],
      "text/plain": [
       "         MAP@1000      Type\n",
       "query                      \n",
       "2        1.000000  combined\n",
       "1215     0.002242  combined\n",
       "1288     0.000000  combined\n",
       "1576     0.000000  combined\n",
       "2235     0.000000  combined\n",
       "...           ...       ...\n",
       "1102330  0.125000   content\n",
       "1102335  0.062500   content\n",
       "1102351  1.000000   content\n",
       "1102390  0.002899   content\n",
       "1102400  0.045455   content\n",
       "\n",
       "[10386 rows x 2 columns]"
      ]
     },
     "execution_count": 185,
     "metadata": {},
     "output_type": "execute_result"
    }
   ],
   "source": [
    "#for per_query=True\n",
    "typedResults = []\n",
    "\n",
    "for metricRes in metricResults:\n",
    "    metricRes[0]['Type'] = metricRes[1]#+' Anchor Text'\n",
    "    typedResults.append(metricRes[0])\n",
    "\n",
    "result_map = pd.concat(typedResults, axis=0)\n",
    "\n",
    "result_map"
   ]
  },
  {
   "cell_type": "code",
   "execution_count": 186,
   "metadata": {
    "tags": []
   },
   "outputs": [
    {
     "data": {
      "text/html": [
       "<div>\n",
       "<style scoped>\n",
       "    .dataframe tbody tr th:only-of-type {\n",
       "        vertical-align: middle;\n",
       "    }\n",
       "\n",
       "    .dataframe tbody tr th {\n",
       "        vertical-align: top;\n",
       "    }\n",
       "\n",
       "    .dataframe thead th {\n",
       "        text-align: right;\n",
       "    }\n",
       "</style>\n",
       "<table border=\"1\" class=\"dataframe\">\n",
       "  <thead>\n",
       "    <tr style=\"text-align: right;\">\n",
       "      <th></th>\n",
       "      <th>Query</th>\n",
       "      <th>MAP@1000</th>\n",
       "      <th>Type</th>\n",
       "    </tr>\n",
       "    <tr>\n",
       "      <th>query</th>\n",
       "      <th></th>\n",
       "      <th></th>\n",
       "      <th></th>\n",
       "    </tr>\n",
       "  </thead>\n",
       "  <tbody>\n",
       "    <tr>\n",
       "      <th>2</th>\n",
       "      <td>0</td>\n",
       "      <td>1.0</td>\n",
       "      <td>combined</td>\n",
       "    </tr>\n",
       "    <tr>\n",
       "      <th>801059</th>\n",
       "      <td>1</td>\n",
       "      <td>1.0</td>\n",
       "      <td>combined</td>\n",
       "    </tr>\n",
       "    <tr>\n",
       "      <th>820161</th>\n",
       "      <td>2</td>\n",
       "      <td>1.0</td>\n",
       "      <td>combined</td>\n",
       "    </tr>\n",
       "    <tr>\n",
       "      <th>820899</th>\n",
       "      <td>3</td>\n",
       "      <td>1.0</td>\n",
       "      <td>combined</td>\n",
       "    </tr>\n",
       "    <tr>\n",
       "      <th>114037</th>\n",
       "      <td>4</td>\n",
       "      <td>1.0</td>\n",
       "      <td>combined</td>\n",
       "    </tr>\n",
       "    <tr>\n",
       "      <th>...</th>\n",
       "      <td>...</td>\n",
       "      <td>...</td>\n",
       "      <td>...</td>\n",
       "    </tr>\n",
       "    <tr>\n",
       "      <th>1090808</th>\n",
       "      <td>5188</td>\n",
       "      <td>0.0</td>\n",
       "      <td>content</td>\n",
       "    </tr>\n",
       "    <tr>\n",
       "      <th>653041</th>\n",
       "      <td>5189</td>\n",
       "      <td>0.0</td>\n",
       "      <td>content</td>\n",
       "    </tr>\n",
       "    <tr>\n",
       "      <th>259417</th>\n",
       "      <td>5190</td>\n",
       "      <td>0.0</td>\n",
       "      <td>content</td>\n",
       "    </tr>\n",
       "    <tr>\n",
       "      <th>657091</th>\n",
       "      <td>5191</td>\n",
       "      <td>0.0</td>\n",
       "      <td>content</td>\n",
       "    </tr>\n",
       "    <tr>\n",
       "      <th>225499</th>\n",
       "      <td>5192</td>\n",
       "      <td>0.0</td>\n",
       "      <td>content</td>\n",
       "    </tr>\n",
       "  </tbody>\n",
       "</table>\n",
       "<p>10386 rows × 3 columns</p>\n",
       "</div>"
      ],
      "text/plain": [
       "         Query  MAP@1000      Type\n",
       "query                             \n",
       "2            0       1.0  combined\n",
       "801059       1       1.0  combined\n",
       "820161       2       1.0  combined\n",
       "820899       3       1.0  combined\n",
       "114037       4       1.0  combined\n",
       "...        ...       ...       ...\n",
       "1090808   5188       0.0   content\n",
       "653041    5189       0.0   content\n",
       "259417    5190       0.0   content\n",
       "657091    5191       0.0   content\n",
       "225499    5192       0.0   content\n",
       "\n",
       "[10386 rows x 3 columns]"
      ]
     },
     "execution_count": 186,
     "metadata": {},
     "output_type": "execute_result"
    }
   ],
   "source": [
    "plot_orders = []\n",
    "\n",
    "for typedRes in typedResults:\n",
    "    plot_order = typedRes.sort_values(by=metric, ascending=False)\n",
    "    plot_order.insert(0, 'Query', range(0, len(plot_order)))\n",
    "    plot_orders.append(plot_order)\n",
    "    \n",
    "result_map = pd.concat(plot_orders)\n",
    "#result_map = result_map.fillna(0)\n",
    "#result_map['Type'] = result_map['Type'].apply(lambda x: '2016+2017+2018 Anchor Text' if x == '2016-2017-2018 Anchor Text' else x)\n",
    "#result_map['Type'] = result_map['Type'].apply(lambda x: 'all Anchor Text' if x == 'combined Anchor Text' else x)\n",
    "\n",
    "result_map"
   ]
  },
  {
   "cell_type": "code",
   "execution_count": 12,
   "metadata": {
    "tags": []
   },
   "outputs": [
    {
     "data": {
      "image/png": "[encoded data removed]",
      "text/plain": [
       "<Figure size 432x288 with 1 Axes>"
      ]
     },
     "metadata": {
      "needs_background": "light"
     },
     "output_type": "display_data"
    }
   ],
   "source": [
    "plot = sns.lineplot(x=\"Query\", y=metric, hue=\"Type\", data=result_map.reset_index(), sort=False) #, order=plot_order)\n",
    "fig4 = plot.get_figure()\n",
    "fig4.savefig(\"ndcg\"+str(ndcg_depth)+\"_orcas.pdf\")"
   ]
  },
  {
   "cell_type": "code",
   "execution_count": 16,
   "metadata": {},
   "outputs": [
    {
     "data": {
      "text/html": [
       "<div>\n",
       "<style scoped>\n",
       "    .dataframe tbody tr th:only-of-type {\n",
       "        vertical-align: middle;\n",
       "    }\n",
       "\n",
       "    .dataframe tbody tr th {\n",
       "        vertical-align: top;\n",
       "    }\n",
       "\n",
       "    .dataframe thead th {\n",
       "        text-align: right;\n",
       "    }\n",
       "</style>\n",
       "<table border=\"1\" class=\"dataframe\">\n",
       "  <thead>\n",
       "    <tr style=\"text-align: right;\">\n",
       "      <th></th>\n",
       "      <th>NDCG@100</th>\n",
       "      <th>Type</th>\n",
       "    </tr>\n",
       "  </thead>\n",
       "  <tbody>\n",
       "    <tr>\n",
       "      <th>0</th>\n",
       "      <td>0.149148</td>\n",
       "      <td>Anchor Text</td>\n",
       "    </tr>\n",
       "    <tr>\n",
       "      <th>1</th>\n",
       "      <td>0.217566</td>\n",
       "      <td>ORCAS</td>\n",
       "    </tr>\n",
       "    <tr>\n",
       "      <th>2</th>\n",
       "      <td>0.124270</td>\n",
       "      <td>Anchor Text matched</td>\n",
       "    </tr>\n",
       "    <tr>\n",
       "      <th>3</th>\n",
       "      <td>0.171976</td>\n",
       "      <td>ORCAS matched</td>\n",
       "    </tr>\n",
       "  </tbody>\n",
       "</table>\n",
       "</div>"
      ],
      "text/plain": [
       "   NDCG@100                 Type\n",
       "0  0.149148          Anchor Text\n",
       "1  0.217566                ORCAS\n",
       "2  0.124270  Anchor Text matched\n",
       "3  0.171976        ORCAS matched"
      ]
     },
     "execution_count": 16,
     "metadata": {},
     "output_type": "execute_result"
    }
   ],
   "source": [
    "#for per_query=False\n",
    "result_map = pd.DataFrame(metricResults, columns=[metric, 'Type'])\n",
    "#result_map = result_map.sort_values(by=metric)\n",
    "#result_map.at[3, 'Crawl'] = '2016+2017+2018'\n",
    "#result_map.at[4, 'Crawl'] = 'all'\n",
    "#result_map=result_map[metric].astype(float)\n",
    "result_map"
   ]
  },
  {
   "cell_type": "code",
   "execution_count": 17,
   "metadata": {},
   "outputs": [
    {
     "data": {
      "image/png": "[encoded data removed]",
      "text/plain": [
       "<Figure size 432x288 with 1 Axes>"
      ]
     },
     "metadata": {
      "needs_background": "light"
     },
     "output_type": "display_data"
    }
   ],
   "source": [
    "plot = sns.barplot(x=\"Type\", y=metric, data=result_map) #, order=plot_order)\n",
    "fig4 = plot.get_figure()\n",
    "fig4.savefig(\"ndcg\"+str(ndcg_depth)+\"_orcas_barplot.pdf\")"
   ]
  },
  {
   "cell_type": "code",
   "execution_count": 119,
   "metadata": {
    "execution": {
     "iopub.execute_input": "2021-05-17T14:15:40.910702Z",
     "iopub.status.busy": "2021-05-17T14:15:40.910084Z",
     "iopub.status.idle": "2021-05-17T14:15:41.211338Z",
     "shell.execute_reply": "2021-05-17T14:15:41.210564Z",
     "shell.execute_reply.started": "2021-05-17T14:15:40.910629Z"
    }
   },
   "outputs": [
    {
     "data": {
      "image/png": "[encoded data removed]",
      "text/plain": [
       "<Figure size 864x432 with 1 Axes>"
      ]
     },
     "metadata": {
      "needs_background": "light"
     },
     "output_type": "display_data"
    }
   ],
   "source": [
    "ndcg10 = procedures.extract_metric_from_results(results, \"P_100\")\n",
    "fig5 = procedures.plot_system_rank(ndcg10, display_metric=\"NDCG@10\")"
   ]
  },
  {
   "cell_type": "code",
   "execution_count": 162,
   "metadata": {
    "tags": []
   },
   "outputs": [
    {
     "data": {
      "text/html": [
       "<div>\n",
       "<style scoped>\n",
       "    .dataframe tbody tr th:only-of-type {\n",
       "        vertical-align: middle;\n",
       "    }\n",
       "\n",
       "    .dataframe tbody tr th {\n",
       "        vertical-align: top;\n",
       "    }\n",
       "\n",
       "    .dataframe thead th {\n",
       "        text-align: right;\n",
       "    }\n",
       "</style>\n",
       "<table border=\"1\" class=\"dataframe\">\n",
       "  <thead>\n",
       "    <tr style=\"text-align: right;\">\n",
       "      <th></th>\n",
       "      <th>Query</th>\n",
       "      <th>MAP@100</th>\n",
       "      <th>Type</th>\n",
       "    </tr>\n",
       "    <tr>\n",
       "      <th>query</th>\n",
       "      <th></th>\n",
       "      <th></th>\n",
       "      <th></th>\n",
       "    </tr>\n",
       "  </thead>\n",
       "  <tbody>\n",
       "    <tr>\n",
       "      <th>2</th>\n",
       "      <td>0</td>\n",
       "      <td>1.0</td>\n",
       "      <td>combined</td>\n",
       "    </tr>\n",
       "    <tr>\n",
       "      <th>801059</th>\n",
       "      <td>1</td>\n",
       "      <td>1.0</td>\n",
       "      <td>combined</td>\n",
       "    </tr>\n",
       "    <tr>\n",
       "      <th>820161</th>\n",
       "      <td>2</td>\n",
       "      <td>1.0</td>\n",
       "      <td>combined</td>\n",
       "    </tr>\n",
       "    <tr>\n",
       "      <th>820899</th>\n",
       "      <td>3</td>\n",
       "      <td>1.0</td>\n",
       "      <td>combined</td>\n",
       "    </tr>\n",
       "    <tr>\n",
       "      <th>114037</th>\n",
       "      <td>4</td>\n",
       "      <td>1.0</td>\n",
       "      <td>combined</td>\n",
       "    </tr>\n",
       "    <tr>\n",
       "      <th>...</th>\n",
       "      <td>...</td>\n",
       "      <td>...</td>\n",
       "      <td>...</td>\n",
       "    </tr>\n",
       "    <tr>\n",
       "      <th>588888</th>\n",
       "      <td>5188</td>\n",
       "      <td>0.0</td>\n",
       "      <td>content</td>\n",
       "    </tr>\n",
       "    <tr>\n",
       "      <th>1046931</th>\n",
       "      <td>5189</td>\n",
       "      <td>0.0</td>\n",
       "      <td>content</td>\n",
       "    </tr>\n",
       "    <tr>\n",
       "      <th>1046569</th>\n",
       "      <td>5190</td>\n",
       "      <td>0.0</td>\n",
       "      <td>content</td>\n",
       "    </tr>\n",
       "    <tr>\n",
       "      <th>591310</th>\n",
       "      <td>5191</td>\n",
       "      <td>0.0</td>\n",
       "      <td>content</td>\n",
       "    </tr>\n",
       "    <tr>\n",
       "      <th>1064155</th>\n",
       "      <td>5192</td>\n",
       "      <td>0.0</td>\n",
       "      <td>content</td>\n",
       "    </tr>\n",
       "  </tbody>\n",
       "</table>\n",
       "<p>10386 rows × 3 columns</p>\n",
       "</div>"
      ],
      "text/plain": [
       "         Query  MAP@100      Type\n",
       "query                            \n",
       "2            0      1.0  combined\n",
       "801059       1      1.0  combined\n",
       "820161       2      1.0  combined\n",
       "820899       3      1.0  combined\n",
       "114037       4      1.0  combined\n",
       "...        ...      ...       ...\n",
       "588888    5188      0.0   content\n",
       "1046931   5189      0.0   content\n",
       "1046569   5190      0.0   content\n",
       "591310    5191      0.0   content\n",
       "1064155   5192      0.0   content\n",
       "\n",
       "[10386 rows x 3 columns]"
      ]
     },
     "execution_count": 162,
     "metadata": {},
     "output_type": "execute_result"
    }
   ],
   "source": [
    "result_map"
   ]
  },
  {
   "cell_type": "code",
   "execution_count": 189,
   "metadata": {
    "tags": []
   },
   "outputs": [
    {
     "data": {
      "text/plain": [
       "Type\n",
       "combined    1.000000\n",
       "content     0.001236\n",
       "Name: 96250, dtype: float64"
      ]
     },
     "execution_count": 189,
     "metadata": {},
     "output_type": "execute_result"
    }
   ],
   "source": [
    "result_map_wide = result_map.pivot(columns=\"Type\", values=\"MAP@1000\")\n",
    "\n",
    "result_map_wide.loc[96250]"
   ]
  },
  {
   "cell_type": "code",
   "execution_count": null,
   "metadata": {},
   "outputs": [],
   "source": [
    "#combine "
   ]
  }
 ],
 "metadata": {
  "kernelspec": {
   "display_name": "Python 3",
   "language": "python",
   "name": "python3"
  },
  "language_info": {
   "codemirror_mode": {
    "name": "ipython",
    "version": 3
   },
   "file_extension": ".py",
   "mimetype": "text/x-python",
   "name": "python",
   "nbconvert_exporter": "python",
   "pygments_lexer": "ipython3",
   "version": "3.7.10"
  }
 },
 "nbformat": 4,
 "nbformat_minor": 4
}
