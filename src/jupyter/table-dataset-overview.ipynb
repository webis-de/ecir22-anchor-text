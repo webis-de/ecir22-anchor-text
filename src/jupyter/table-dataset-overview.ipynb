{
 "cells": [
  {
   "cell_type": "code",
   "execution_count": null,
   "id": "6733a65c-67f9-4625-b075-6d922e213cb1",
   "metadata": {},
   "outputs": [],
   "source": [
    "# Table-dataset-overview"
   ]
  },
  {
   "cell_type": "code",
   "execution_count": 4,
   "id": "fafdbcba-1abd-4c78-911b-02038f0fa709",
   "metadata": {},
   "outputs": [
    {
     "data": {
      "text/html": [
       "\n",
       "        <div>\n",
       "            <p><b>SparkContext</b></p>\n",
       "\n",
       "            <p><a href=\"http://10.23.76.114:4040\">Spark UI</a></p>\n",
       "\n",
       "            <dl>\n",
       "              <dt>Version</dt>\n",
       "                <dd><code>v2.4.8</code></dd>\n",
       "              <dt>Master</dt>\n",
       "                <dd><code>yarn</code></dd>\n",
       "              <dt>AppName</dt>\n",
       "                <dd><code>pyspark-shell</code></dd>\n",
       "            </dl>\n",
       "        </div>\n",
       "        "
      ],
      "text/plain": [
       "<SparkContext master=yarn appName=pyspark-shell>"
      ]
     },
     "execution_count": 4,
     "metadata": {},
     "output_type": "execute_result"
    }
   ],
   "source": [
    "import pyspark\n",
    "\n",
    "sc = pyspark.SparkContext()\n",
    "sc"
   ]
  },
  {
   "cell_type": "code",
   "execution_count": 2,
   "id": "d4c6bdc9-1375-49da-934d-3f6f0ec064f4",
   "metadata": {},
   "outputs": [],
   "source": [
    "def load(collection):\n",
    "    import json\n",
    "    return sc.textFile('file:///mnt/ceph/storage/data-in-progress/data-research/web-search/ECIR-22/ecir22-anchor-text/anchor-text-samples/' + collection) \\\n",
    "        .map(lambda i: json.loads(i))\n",
    "\n",
    "def count_unique_target_documents(collection):\n",
    "    collection = load(collection)\n",
    "    \n",
    "    return collection.map(lambda i: i['targetDocumentId']).distinct().count()\n",
    "\n",
    "def count_unique_anchor_texts(collection):\n",
    "    collection = load(collection)\n",
    "    \n",
    "    return collection.flatMap(lambda i: set([j['anchorText'] for j in i['anchorTextSample']])).distinct().count()\n",
    "\n",
    "def count_pairs(collection):\n",
    "    collection = load(collection)\n",
    "\n",
    "    return collection.map(lambda i: len(i['anchorTextSample'])).reduce(lambda a,b: a+b)\n",
    "\n",
    "def get_ids(collection):\n",
    "    collection = load(collection)\n",
    "    \n",
    "    return collection.map(lambda i: i['targetDocumentId']).collect()\n",
    "\n",
    "def report(collection):\n",
    "    print('''\n",
    "#######################################################################\n",
    "# ''' + collection + '''\n",
    "#######################################################################\n",
    "Pairs:\n",
    "    ''' + str(count_pairs(collection)) + '''\n",
    "    \n",
    "Unique Target Documents:\n",
    "    ''' + str(count_unique_target_documents(collection)) + '''\n",
    "    \n",
    "''')"
   ]
  },
  {
   "cell_type": "code",
   "execution_count": 10,
   "id": "d4eaecdd-e161-4b57-838d-84a80e2242bc",
   "metadata": {},
   "outputs": [],
   "source": [
    "df_ids_v1 = {\n",
    "    'common-crawl-2016-07-to-ms-marco-v1': get_ids('common-crawl-2016-07-to-ms-marco-v1'),\n",
    "    'common-crawl-2017-04-to-ms-marco-v1': get_ids('common-crawl-2017-04-to-ms-marco-v1'),\n",
    "    'common-crawl-2018-13-to-ms-marco-v1': get_ids('common-crawl-2018-13-to-ms-marco-v1'),\n",
    "    'common-crawl-2019-47-to-ms-marco-v1': get_ids('common-crawl-2019-47-to-ms-marco-v1'),\n",
    "    'common-crawl-2020-05-to-ms-marco-v1': get_ids('common-crawl-2020-05-to-ms-marco-v1'),\n",
    "    'common-crawl-2021-04-to-ms-marco-v1': get_ids('common-crawl-2021-04-to-ms-marco-v1'),\n",
    "}\n",
    "\n",
    "json.dump(df_ids_v1, open('/mnt/ceph/storage/data-in-progress/data-research/web-search/ECIR-22/ecir22-anchor-text/entry-page-retrieval-over-time/document-ids-in-ms-marco-v1.json', 'w'))"
   ]
  },
  {
   "cell_type": "code",
   "execution_count": 11,
   "id": "459c07f9-7742-4a28-afbb-f635cb1151b4",
   "metadata": {},
   "outputs": [],
   "source": [
    "df_ids_v2 = {\n",
    "    'common-crawl-2016-07-to-ms-marco-v2': get_ids('common-crawl-2016-07-to-ms-marco-v2'),\n",
    "    'common-crawl-2017-04-to-ms-marco-v2': get_ids('common-crawl-2017-04-to-ms-marco-v2'),\n",
    "    'common-crawl-2018-13-to-ms-marco-v2': get_ids('common-crawl-2018-13-to-ms-marco-v2'),\n",
    "    'common-crawl-2019-47-to-ms-marco-v2': get_ids('common-crawl-2019-47-to-ms-marco-v2'),\n",
    "    'common-crawl-2020-05-to-ms-marco-v2': get_ids('common-crawl-2020-05-to-ms-marco-v2'),\n",
    "    'common-crawl-2021-04-to-ms-marco-v2': get_ids('common-crawl-2021-04-to-ms-marco-v2'),\n",
    "}\n",
    "\n",
    "json.dump(df_ids_v2, open('/mnt/ceph/storage/data-in-progress/data-research/web-search/ECIR-22/ecir22-anchor-text/entry-page-retrieval-over-time/document-ids-in-ms-marco-v2.json', 'w'))"
   ]
  },
  {
   "cell_type": "code",
   "execution_count": null,
   "id": "c562f0dc-6f33-45cb-97a6-824ea1ded5ac",
   "metadata": {},
   "outputs": [],
   "source": [
    "# MS-Marco V1"
   ]
  },
  {
   "cell_type": "code",
   "execution_count": 15,
   "id": "bbc022fe-51a5-4fbf-a8fc-214f7c1af785",
   "metadata": {},
   "outputs": [
    {
     "name": "stdout",
     "output_type": "stream",
     "text": [
      "\n",
      "#######################################################################\n",
      "# common-crawl-2016-07-to-ms-marco-v1\n",
      "#######################################################################\n",
      "Pairs:\n",
      "    54049660\n",
      "\n",
      "Unique Anchor Text:\n",
      "    3804575\n",
      "    \n",
      "Unique Target Documents:\n",
      "    830830\n",
      "    \n",
      "\n"
     ]
    }
   ],
   "source": [
    "report('common-crawl-2016-07-to-ms-marco-v1')"
   ]
  },
  {
   "cell_type": "code",
   "execution_count": 16,
   "id": "5b142440-8e22-4367-b8f0-efc6198d8abb",
   "metadata": {},
   "outputs": [
    {
     "name": "stdout",
     "output_type": "stream",
     "text": [
      "\n",
      "#######################################################################\n",
      "# common-crawl-2017-04-to-ms-marco-v1\n",
      "#######################################################################\n",
      "Pairs:\n",
      "    61190484\n",
      "\n",
      "Unique Anchor Text:\n",
      "    5472748\n",
      "    \n",
      "Unique Target Documents:\n",
      "    1181185\n",
      "    \n",
      "\n"
     ]
    }
   ],
   "source": [
    "report('common-crawl-2017-04-to-ms-marco-v1')"
   ]
  },
  {
   "cell_type": "code",
   "execution_count": 17,
   "id": "4300eb82-0996-4c88-bab8-b92a51172ed1",
   "metadata": {},
   "outputs": [
    {
     "name": "stdout",
     "output_type": "stream",
     "text": [
      "\n",
      "#######################################################################\n",
      "# common-crawl-2018-13-to-ms-marco-v1\n",
      "#######################################################################\n",
      "Pairs:\n",
      "    81238496\n",
      "\n",
      "Unique Anchor Text:\n",
      "    6924098\n",
      "    \n",
      "Unique Target Documents:\n",
      "    1266901\n",
      "    \n",
      "\n"
     ]
    }
   ],
   "source": [
    "report('common-crawl-2018-13-to-ms-marco-v1')"
   ]
  },
  {
   "cell_type": "code",
   "execution_count": 18,
   "id": "0e01e84a-5004-4e3c-aa4e-7319719e1987",
   "metadata": {},
   "outputs": [
    {
     "name": "stdout",
     "output_type": "stream",
     "text": [
      "\n",
      "#######################################################################\n",
      "# common-crawl-2019-47-to-ms-marco-v1\n",
      "#######################################################################\n",
      "Pairs:\n",
      "    65599741\n",
      "\n",
      "Unique Anchor Text:\n",
      "    5961359\n",
      "    \n",
      "Unique Target Documents:\n",
      "    1163273\n",
      "    \n",
      "\n"
     ]
    }
   ],
   "source": [
    "report('common-crawl-2019-47-to-ms-marco-v1')"
   ]
  },
  {
   "cell_type": "code",
   "execution_count": 19,
   "id": "6e3f6d27-120c-47fa-a297-39fe8d4926da",
   "metadata": {},
   "outputs": [
    {
     "name": "stdout",
     "output_type": "stream",
     "text": [
      "\n",
      "#######################################################################\n",
      "# common-crawl-2020-05-to-ms-marco-v1\n",
      "#######################################################################\n",
      "Pairs:\n",
      "    78461400\n",
      "\n",
      "Unique Anchor Text:\n",
      "    7006894\n",
      "    \n",
      "Unique Target Documents:\n",
      "    1235843\n",
      "    \n",
      "\n"
     ]
    }
   ],
   "source": [
    "report('common-crawl-2020-05-to-ms-marco-v1')"
   ]
  },
  {
   "cell_type": "code",
   "execution_count": 20,
   "id": "32c225d5-08be-4b52-9ea3-3aa2353daab6",
   "metadata": {},
   "outputs": [
    {
     "name": "stdout",
     "output_type": "stream",
     "text": [
      "\n",
      "#######################################################################\n",
      "# common-crawl-2021-04-to-ms-marco-v1\n",
      "#######################################################################\n",
      "Pairs:\n",
      "    60616778\n",
      "\n",
      "Unique Anchor Text:\n",
      "    6084226\n",
      "    \n",
      "Unique Target Documents:\n",
      "    1146746\n",
      "    \n",
      "\n"
     ]
    }
   ],
   "source": [
    "report('common-crawl-2021-04-to-ms-marco-v1')"
   ]
  },
  {
   "cell_type": "code",
   "execution_count": 6,
   "id": "490a9f1d-7b47-4dff-bdcf-46c6f0980309",
   "metadata": {},
   "outputs": [
    {
     "name": "stdout",
     "output_type": "stream",
     "text": [
      "\n",
      "#######################################################################\n",
      "# common-crawl-union-2016-to-2021-to-ms-marco-v1-1000\n",
      "#######################################################################\n",
      "Pairs:\n",
      "    207281707\n",
      "    \n",
      "Unique Target Documents:\n",
      "    1703834\n",
      "    \n",
      "\n"
     ]
    }
   ],
   "source": [
    "report('common-crawl-union-2016-to-2021-to-ms-marco-v1-1000')"
   ]
  },
  {
   "cell_type": "code",
   "execution_count": null,
   "id": "c193aade-d98c-41b0-b5c3-9dab45b8f2c8",
   "metadata": {},
   "outputs": [],
   "source": [
    "# MS-Marco V2"
   ]
  },
  {
   "cell_type": "code",
   "execution_count": 13,
   "id": "2b4e1ef5-16d9-41ac-b99f-bbf7e84e15bb",
   "metadata": {},
   "outputs": [
    {
     "name": "stdout",
     "output_type": "stream",
     "text": [
      "\n",
      "#######################################################################\n",
      "# common-crawl-2016-07-to-ms-marco-v2\n",
      "#######################################################################\n",
      "Pairs:\n",
      "    65041348\n",
      "\n",
      "Unique Anchor Text:\n",
      "    4962156\n",
      "    \n",
      "Unique Target Documents:\n",
      "    1487194\n",
      "    \n",
      "\n"
     ]
    }
   ],
   "source": [
    "report('common-crawl-2016-07-to-ms-marco-v2')"
   ]
  },
  {
   "cell_type": "code",
   "execution_count": 12,
   "id": "9213a86c-381b-437d-b91d-40997a9f8319",
   "metadata": {},
   "outputs": [
    {
     "name": "stdout",
     "output_type": "stream",
     "text": [
      "\n",
      "#######################################################################\n",
      "# common-crawl-2017-04-to-ms-marco-v2\n",
      "#######################################################################\n",
      "Pairs:\n",
      "    94345839\n",
      "\n",
      "Unique Anchor Text:\n",
      "    8223500\n",
      "    \n",
      "Unique Target Documents:\n",
      "    2335908\n",
      "    \n",
      "\n"
     ]
    }
   ],
   "source": [
    "report('common-crawl-2017-04-to-ms-marco-v2')"
   ]
  },
  {
   "cell_type": "code",
   "execution_count": 11,
   "id": "b4b89e15-8990-4cd4-9cd2-233a2a2a792a",
   "metadata": {},
   "outputs": [
    {
     "name": "stdout",
     "output_type": "stream",
     "text": [
      "\n",
      "#######################################################################\n",
      "# common-crawl-2018-13-to-ms-marco-v2\n",
      "#######################################################################\n",
      "Pairs:\n",
      "    116589934\n",
      "\n",
      "Unique Anchor Text:\n",
      "    8734810\n",
      "    \n",
      "Unique Target Documents:\n",
      "    2446908\n",
      "    \n",
      "\n"
     ]
    }
   ],
   "source": [
    "report('common-crawl-2018-13-to-ms-marco-v2')"
   ]
  },
  {
   "cell_type": "code",
   "execution_count": 14,
   "id": "4f482366-ddcc-40db-8309-a733f0702fee",
   "metadata": {},
   "outputs": [
    {
     "name": "stdout",
     "output_type": "stream",
     "text": [
      "\n",
      "#######################################################################\n",
      "# common-crawl-2019-47-to-ms-marco-v2\n",
      "#######################################################################\n",
      "Pairs:\n",
      "    90184453\n",
      "\n",
      "Unique Anchor Text:\n",
      "    8508785\n",
      "    \n",
      "Unique Target Documents:\n",
      "    2834161\n",
      "    \n",
      "\n"
     ]
    }
   ],
   "source": [
    "report('common-crawl-2019-47-to-ms-marco-v2')"
   ]
  },
  {
   "cell_type": "code",
   "execution_count": 10,
   "id": "27a2dbf0-9908-4334-b2f6-4ed76156b16f",
   "metadata": {},
   "outputs": [
    {
     "name": "stdout",
     "output_type": "stream",
     "text": [
      "\n",
      "#######################################################################\n",
      "# common-crawl-2020-05-to-ms-marco-v2\n",
      "#######################################################################\n",
      "Pairs:\n",
      "    108162717\n",
      "\n",
      "Unique Anchor Text:\n",
      "    10151815\n",
      "    \n",
      "Unique Target Documents:\n",
      "    3097252\n",
      "    \n",
      "\n"
     ]
    }
   ],
   "source": [
    "report('common-crawl-2020-05-to-ms-marco-v2')"
   ]
  },
  {
   "cell_type": "code",
   "execution_count": 9,
   "id": "8f5bea45-f2a2-48e7-a0f5-fc064e14a4d2",
   "metadata": {},
   "outputs": [
    {
     "name": "stdout",
     "output_type": "stream",
     "text": [
      "\n",
      "#######################################################################\n",
      "# common-crawl-2021-04-to-ms-marco-v2\n",
      "#######################################################################\n",
      "Pairs:\n",
      "    84925032\n",
      "\n",
      "Unique Anchor Text:\n",
      "    9317861\n",
      "    \n",
      "Unique Target Documents:\n",
      "    3175692\n",
      "    \n",
      "\n"
     ]
    }
   ],
   "source": [
    "report('common-crawl-2021-04-to-ms-marco-v2')"
   ]
  },
  {
   "cell_type": "code",
   "execution_count": 5,
   "id": "2ef017eb-948f-419e-91dc-2595069b1bb7",
   "metadata": {},
   "outputs": [
    {
     "name": "stdout",
     "output_type": "stream",
     "text": [
      "\n",
      "#######################################################################\n",
      "# common-crawl-union-2016-to-2021-to-ms-marco-v2-1000\n",
      "#######################################################################\n",
      "Pairs:\n",
      "    341169080\n",
      "    \n",
      "Unique Target Documents:\n",
      "    4821244\n",
      "    \n",
      "\n"
     ]
    }
   ],
   "source": [
    "report('common-crawl-union-2016-to-2021-to-ms-marco-v2-1000')"
   ]
  }
 ],
 "metadata": {
  "kernelspec": {
   "display_name": "Python 3",
   "language": "python",
   "name": "python3"
  },
  "language_info": {
   "codemirror_mode": {
    "name": "ipython",
    "version": 3
   },
   "file_extension": ".py",
   "mimetype": "text/x-python",
   "name": "python",
   "nbconvert_exporter": "python",
   "pygments_lexer": "ipython3",
   "version": "3.7.10"
  }
 },
 "nbformat": 4,
 "nbformat_minor": 5
}
