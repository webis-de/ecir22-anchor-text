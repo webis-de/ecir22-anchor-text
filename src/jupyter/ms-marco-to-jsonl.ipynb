{
 "cells": [
  {
   "cell_type": "code",
   "execution_count": 1,
   "metadata": {
    "execution": {
     "iopub.execute_input": "2021-05-26T15:51:39.724874Z",
     "iopub.status.busy": "2021-05-26T15:51:39.724055Z",
     "iopub.status.idle": "2021-05-26T15:51:41.957182Z",
     "shell.execute_reply": "2021-05-26T15:51:41.955569Z",
     "shell.execute_reply.started": "2021-05-26T15:51:39.724659Z"
    }
   },
   "outputs": [],
   "source": [
    "import csv, json, sys, gzip\n",
    "import pandas as pd"
   ]
  },
  {
   "cell_type": "code",
   "execution_count": 1,
   "metadata": {
    "execution": {
     "iopub.execute_input": "2021-05-23T14:02:57.312729Z",
     "iopub.status.busy": "2021-05-23T14:02:57.312075Z",
     "iopub.status.idle": "2021-05-23T14:14:00.848575Z",
     "shell.execute_reply": "2021-05-23T14:14:00.847230Z",
     "shell.execute_reply.started": "2021-05-23T14:02:57.312658Z"
    }
   },
   "outputs": [
    {
     "name": "stdout",
     "output_type": "stream",
     "text": [
      "100000\n",
      "200000\n",
      "300000\n",
      "400000\n",
      "500000\n",
      "600000\n",
      "700000\n",
      "800000\n",
      "900000\n",
      "1000000\n",
      "1100000\n",
      "1200000\n",
      "1300000\n",
      "1400000\n",
      "1500000\n",
      "1600000\n",
      "1700000\n",
      "1800000\n",
      "1900000\n",
      "2000000\n",
      "2100000\n",
      "2200000\n",
      "2300000\n",
      "2400000\n",
      "2500000\n",
      "2600000\n",
      "2700000\n",
      "2800000\n",
      "2900000\n",
      "3000000\n",
      "3100000\n",
      "3200000\n"
     ]
    }
   ],
   "source": [
    "csv.field_size_limit(sys.maxsize)\n",
    "\n",
    "#ms_marco_docs = \"mnt/ceph/storage/data-in-progress/data-teaching/theses/wstud-thesis-probst/ms-marco-docs/msmarco-docs.tsv\"\n",
    "orcas_docs = \"orcas/orcas.tsv.gz\"\n",
    "\n",
    "tsv_file = open(orcas_docs)\n",
    "read_tsv = csv.reader(tsv_file, delimiter=\"\\t\")\n",
    "out_text = \"\"\n",
    "\n",
    "count = 1\n",
    "with open('mnt/ceph/storage/data-in-progress/data-teaching/theses/wstud-thesis-probst/ms-marco-docs/orcas-docs.jsonl', 'w') as outfile:\n",
    "    for row in read_tsv:\n",
    "        tmp = {\n",
    "            \"id\" : row[0],\n",
    "            \"contents\" : row[2] + \" \"\n",
    "        }\n",
    "        out_text = json.dumps(tmp) + \"\\n\"\n",
    "        outfile.write(out_text)\n",
    "        \n",
    "        if (count % 100000 == 0):\n",
    "            print(count)\n",
    "    \n",
    "        count += 1\n",
    "    \n",
    "tsv_file.close()"
   ]
  },
  {
   "cell_type": "code",
   "execution_count": 10,
   "metadata": {
    "execution": {
     "iopub.execute_input": "2021-05-17T16:04:37.841221Z",
     "iopub.status.busy": "2021-05-17T16:04:37.840873Z",
     "iopub.status.idle": "2021-05-17T16:04:37.847549Z",
     "shell.execute_reply": "2021-05-17T16:04:37.846807Z",
     "shell.execute_reply.started": "2021-05-17T16:04:37.841183Z"
    }
   },
   "outputs": [
    {
     "name": "stdout",
     "output_type": "stream",
     "text": [
      "{\"id\": \"0001\", \"contents\": \"this is content\"}\n",
      "{\"id\": \"0001\", \"contents\": \"this is content\"}\n",
      "\n"
     ]
    }
   ],
   "source": [
    "import json\n",
    "\n",
    "text = \"\"\n",
    "tmp = {\n",
    "    \"id\" : \"0001\",\n",
    "    \"contents\" : \"this is content\"\n",
    "}\n",
    "text += json.dumps(tmp) + \"\\n\"\n",
    "text += json.dumps(tmp) + \"\\n\"\n",
    "print(text)"
   ]
  },
  {
   "cell_type": "code",
   "execution_count": 3,
   "metadata": {
    "execution": {
     "iopub.execute_input": "2021-05-26T15:55:05.444327Z",
     "iopub.status.busy": "2021-05-26T15:55:05.443965Z",
     "iopub.status.idle": "2021-05-26T15:55:45.399913Z",
     "shell.execute_reply": "2021-05-26T15:55:45.398910Z",
     "shell.execute_reply.started": "2021-05-26T15:55:05.444284Z"
    }
   },
   "outputs": [
    {
     "data": {
      "text/html": [
       "<div>\n",
       "<style scoped>\n",
       "    .dataframe tbody tr th:only-of-type {\n",
       "        vertical-align: middle;\n",
       "    }\n",
       "\n",
       "    .dataframe tbody tr th {\n",
       "        vertical-align: top;\n",
       "    }\n",
       "\n",
       "    .dataframe thead th {\n",
       "        text-align: right;\n",
       "    }\n",
       "</style>\n",
       "<table border=\"1\" class=\"dataframe\">\n",
       "  <thead>\n",
       "    <tr style=\"text-align: right;\">\n",
       "      <th></th>\n",
       "      <th>qId</th>\n",
       "      <th>query</th>\n",
       "      <th>dId</th>\n",
       "      <th>url</th>\n",
       "    </tr>\n",
       "  </thead>\n",
       "  <tbody>\n",
       "    <tr>\n",
       "      <th>0</th>\n",
       "      <td>9265503</td>\n",
       "      <td>github</td>\n",
       "      <td>D1265400</td>\n",
       "      <td>https://desktop.github.com/</td>\n",
       "    </tr>\n",
       "    <tr>\n",
       "      <th>1</th>\n",
       "      <td>9265503</td>\n",
       "      <td>github</td>\n",
       "      <td>D3438005</td>\n",
       "      <td>https://github.com/</td>\n",
       "    </tr>\n",
       "    <tr>\n",
       "      <th>2</th>\n",
       "      <td>6832981</td>\n",
       "      <td>youtube</td>\n",
       "      <td>D2923232</td>\n",
       "      <td>https://au.youtube.com/</td>\n",
       "    </tr>\n",
       "    <tr>\n",
       "      <th>3</th>\n",
       "      <td>9571352</td>\n",
       "      <td>!</td>\n",
       "      <td>D1238374</td>\n",
       "      <td>https://www.englishclub.com/writing/punctuatio...</td>\n",
       "    </tr>\n",
       "    <tr>\n",
       "      <th>4</th>\n",
       "      <td>9571352</td>\n",
       "      <td>!</td>\n",
       "      <td>D889000</td>\n",
       "      <td>http://nationalpunctuationday.com/exclamationp...</td>\n",
       "    </tr>\n",
       "    <tr>\n",
       "      <th>...</th>\n",
       "      <td>...</td>\n",
       "      <td>...</td>\n",
       "      <td>...</td>\n",
       "      <td>...</td>\n",
       "    </tr>\n",
       "    <tr>\n",
       "      <th>18823548</th>\n",
       "      <td>9364218</td>\n",
       "      <td>ð¤¨ meaning</td>\n",
       "      <td>D325990</td>\n",
       "      <td>https://www.merriam-webster.com/dictionary/mea...</td>\n",
       "    </tr>\n",
       "    <tr>\n",
       "      <th>18823549</th>\n",
       "      <td>10717906</td>\n",
       "      <td>ð¤© meaning</td>\n",
       "      <td>D325990</td>\n",
       "      <td>https://www.merriam-webster.com/dictionary/mea...</td>\n",
       "    </tr>\n",
       "    <tr>\n",
       "      <th>18823550</th>\n",
       "      <td>10942226</td>\n",
       "      <td>ð¤ª emoji</td>\n",
       "      <td>D74189</td>\n",
       "      <td>http://www.iemoji.com/</td>\n",
       "    </tr>\n",
       "    <tr>\n",
       "      <th>18823551</th>\n",
       "      <td>11264972</td>\n",
       "      <td>ð¦</td>\n",
       "      <td>D1165065</td>\n",
       "      <td>https://www.lifewire.com/less-obvious-emoji-me...</td>\n",
       "    </tr>\n",
       "    <tr>\n",
       "      <th>18823552</th>\n",
       "      <td>10460090</td>\n",
       "      <td>ð§¡</td>\n",
       "      <td>D536071</td>\n",
       "      <td>https://emojipedia.org/orange-heart/</td>\n",
       "    </tr>\n",
       "  </tbody>\n",
       "</table>\n",
       "<p>18823553 rows × 4 columns</p>\n",
       "</div>"
      ],
      "text/plain": [
       "               qId        query       dId  \\\n",
       "0          9265503       github  D1265400   \n",
       "1          9265503       github  D3438005   \n",
       "2          6832981      youtube  D2923232   \n",
       "3          9571352            !  D1238374   \n",
       "4          9571352            !   D889000   \n",
       "...            ...          ...       ...   \n",
       "18823548   9364218  ð¤¨ meaning   D325990   \n",
       "18823549  10717906  ð¤© meaning   D325990   \n",
       "18823550  10942226    ð¤ª emoji    D74189   \n",
       "18823551  11264972           ð¦  D1165065   \n",
       "18823552  10460090          ð§¡   D536071   \n",
       "\n",
       "                                                        url  \n",
       "0                               https://desktop.github.com/  \n",
       "1                                       https://github.com/  \n",
       "2                                   https://au.youtube.com/  \n",
       "3         https://www.englishclub.com/writing/punctuatio...  \n",
       "4         http://nationalpunctuationday.com/exclamationp...  \n",
       "...                                                     ...  \n",
       "18823548  https://www.merriam-webster.com/dictionary/mea...  \n",
       "18823549  https://www.merriam-webster.com/dictionary/mea...  \n",
       "18823550                             http://www.iemoji.com/  \n",
       "18823551  https://www.lifewire.com/less-obvious-emoji-me...  \n",
       "18823552               https://emojipedia.org/orange-heart/  \n",
       "\n",
       "[18823553 rows x 4 columns]"
      ]
     },
     "execution_count": 3,
     "metadata": {},
     "output_type": "execute_result"
    }
   ],
   "source": [
    "orcas_df = pd.read_csv('orcas/orcas.tsv.gz', sep='\\t', names=['qId','query','dId','url'])\n",
    "\n",
    "orcas_df"
   ]
  },
  {
   "cell_type": "code",
   "execution_count": 7,
   "metadata": {
    "execution": {
     "iopub.execute_input": "2021-05-26T16:15:54.987476Z",
     "iopub.status.busy": "2021-05-26T16:15:54.986819Z",
     "iopub.status.idle": "2021-05-26T16:19:46.318861Z",
     "shell.execute_reply": "2021-05-26T16:19:46.317652Z",
     "shell.execute_reply.started": "2021-05-26T16:15:54.987387Z"
    }
   },
   "outputs": [],
   "source": [
    "orcas_df_out = orcas_df.groupby(['dId'])['query'].apply(lambda x: ' '.join(map(str, x))).reset_index().rename(columns={'dId': 'id', 'query':'contents'})"
   ]
  },
  {
   "cell_type": "code",
   "execution_count": 15,
   "metadata": {
    "execution": {
     "iopub.execute_input": "2021-05-26T16:41:47.404660Z",
     "iopub.status.busy": "2021-05-26T16:41:47.404291Z",
     "iopub.status.idle": "2021-05-26T16:41:48.120403Z",
     "shell.execute_reply": "2021-05-26T16:41:48.119476Z",
     "shell.execute_reply.started": "2021-05-26T16:41:47.404614Z"
    }
   },
   "outputs": [
    {
     "data": {
      "text/html": [
       "<div>\n",
       "<style scoped>\n",
       "    .dataframe tbody tr th:only-of-type {\n",
       "        vertical-align: middle;\n",
       "    }\n",
       "\n",
       "    .dataframe tbody tr th {\n",
       "        vertical-align: top;\n",
       "    }\n",
       "\n",
       "    .dataframe thead th {\n",
       "        text-align: right;\n",
       "    }\n",
       "</style>\n",
       "<table border=\"1\" class=\"dataframe\">\n",
       "  <thead>\n",
       "    <tr style=\"text-align: right;\">\n",
       "      <th></th>\n",
       "      <th>id</th>\n",
       "      <th>contents</th>\n",
       "    </tr>\n",
       "  </thead>\n",
       "  <tbody>\n",
       "    <tr>\n",
       "      <th>0</th>\n",
       "      <td>D0</td>\n",
       "      <td>what is a corporation whats a corporation</td>\n",
       "    </tr>\n",
       "    <tr>\n",
       "      <th>1</th>\n",
       "      <td>D1</td>\n",
       "      <td>b certification b company b corp b corp certif...</td>\n",
       "    </tr>\n",
       "    <tr>\n",
       "      <th>2</th>\n",
       "      <td>D10</td>\n",
       "      <td>the obligation to endure the obligation to end...</td>\n",
       "    </tr>\n",
       "    <tr>\n",
       "      <th>3</th>\n",
       "      <td>D100</td>\n",
       "      <td>spoofing</td>\n",
       "    </tr>\n",
       "    <tr>\n",
       "      <th>4</th>\n",
       "      <td>D1000</td>\n",
       "      <td>chairman of the house committee committee chai...</td>\n",
       "    </tr>\n",
       "    <tr>\n",
       "      <th>...</th>\n",
       "      <td>...</td>\n",
       "      <td>...</td>\n",
       "    </tr>\n",
       "    <tr>\n",
       "      <th>1422022</th>\n",
       "      <td>D999987</td>\n",
       "      <td>define profound define scrutiny definition of ...</td>\n",
       "    </tr>\n",
       "    <tr>\n",
       "      <th>1422023</th>\n",
       "      <td>D999989</td>\n",
       "      <td>how to get a passport in illinois illinois pas...</td>\n",
       "    </tr>\n",
       "    <tr>\n",
       "      <th>1422024</th>\n",
       "      <td>D99999</td>\n",
       "      <td>rosedale rosedale new york rosedale ny rosedal...</td>\n",
       "    </tr>\n",
       "    <tr>\n",
       "      <th>1422025</th>\n",
       "      <td>D999992</td>\n",
       "      <td>parasite identification</td>\n",
       "    </tr>\n",
       "    <tr>\n",
       "      <th>1422026</th>\n",
       "      <td>D999999</td>\n",
       "      <td>does gatorade expire expired gatorade gatorade...</td>\n",
       "    </tr>\n",
       "  </tbody>\n",
       "</table>\n",
       "<p>1422027 rows × 2 columns</p>\n",
       "</div>"
      ],
      "text/plain": [
       "              id                                           contents\n",
       "0             D0          what is a corporation whats a corporation\n",
       "1             D1  b certification b company b corp b corp certif...\n",
       "2            D10  the obligation to endure the obligation to end...\n",
       "3           D100                                           spoofing\n",
       "4          D1000  chairman of the house committee committee chai...\n",
       "...          ...                                                ...\n",
       "1422022  D999987  define profound define scrutiny definition of ...\n",
       "1422023  D999989  how to get a passport in illinois illinois pas...\n",
       "1422024   D99999  rosedale rosedale new york rosedale ny rosedal...\n",
       "1422025  D999992                            parasite identification\n",
       "1422026  D999999  does gatorade expire expired gatorade gatorade...\n",
       "\n",
       "[1422027 rows x 2 columns]"
      ]
     },
     "execution_count": 15,
     "metadata": {},
     "output_type": "execute_result"
    }
   ],
   "source": [
    "orcas_df_out"
   ]
  },
  {
   "cell_type": "code",
   "execution_count": 16,
   "metadata": {
    "execution": {
     "iopub.execute_input": "2021-05-26T16:42:09.871445Z",
     "iopub.status.busy": "2021-05-26T16:42:09.870784Z",
     "iopub.status.idle": "2021-05-26T16:43:41.811324Z",
     "shell.execute_reply": "2021-05-26T16:43:41.810005Z",
     "shell.execute_reply.started": "2021-05-26T16:42:09.871372Z"
    }
   },
   "outputs": [],
   "source": [
    "with open('mnt/ceph/storage/data-in-progress/data-teaching/theses/wstud-thesis-probst/ms-marco-docs/orcas-docs.jsonl', 'w') as outfile:\n",
    "    outfile.writelines(orcas_df_out.to_json(orient='records', lines=True))"
   ]
  },
  {
   "cell_type": "code",
   "execution_count": null,
   "metadata": {},
   "outputs": [],
   "source": []
  }
 ],
 "metadata": {
  "kernelspec": {
   "display_name": "Python 3",
   "language": "python",
   "name": "python3"
  },
  "language_info": {
   "codemirror_mode": {
    "name": "ipython",
    "version": 3
   },
   "file_extension": ".py",
   "mimetype": "text/x-python",
   "name": "python",
   "nbconvert_exporter": "python",
   "pygments_lexer": "ipython3",
   "version": "3.7.6"
  }
 },
 "nbformat": 4,
 "nbformat_minor": 4
}
