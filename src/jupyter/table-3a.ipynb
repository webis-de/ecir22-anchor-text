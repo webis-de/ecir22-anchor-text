{
 "cells": [
  {
   "cell_type": "code",
   "execution_count": null,
   "id": "9ca9e8d6-7389-4850-8e3b-1f32dad0ba81",
   "metadata": {},
   "outputs": [],
   "source": [
    "# Produce Results for Table 3 a"
   ]
  },
  {
   "cell_type": "code",
   "execution_count": 4,
   "id": "5df9ff9c-7382-4aa3-8cd7-0fadb6862a2e",
   "metadata": {},
   "outputs": [],
   "source": [
    "DIR='/mnt/ceph/storage/data-in-progress/data-teaching/theses/wstud-thesis-probst/deep-ct/'\n",
    "\n",
    "def lines(name):\n",
    "    import json\n",
    "    from tqdm import tqdm\n",
    "    ret = []\n",
    "    with open(DIR + 'deep-ct-training-data-' + name + '-test-overlap-removed.jsonl') as f:\n",
    "        for l in tqdm(f):\n",
    "            l = json.loads(l)\n",
    "            ret += [1 if 'term_recall' in l and sum(l['term_recall'].values()) > 0 else 0]\n",
    "    \n",
    "    print('Examples: ', len(ret))\n",
    "    print('Empty: ', len(ret)- sum(ret))\n"
   ]
  },
  {
   "cell_type": "code",
   "execution_count": 5,
   "id": "5f70fd38-d54c-4e4d-87a1-ab55d6c9db77",
   "metadata": {},
   "outputs": [
    {
     "name": "stderr",
     "output_type": "stream",
     "text": [
      "9412482it [04:16, 36705.34it/s]\n"
     ]
    },
    {
     "name": "stdout",
     "output_type": "stream",
     "text": [
      "Examples:  9412482\n",
      "Empty:  1632636\n"
     ]
    },
    {
     "ename": "TypeError",
     "evalue": "'NoneType' object is not an iterator",
     "output_type": "error",
     "traceback": [
      "\u001b[0;31m---------------------------------------------------------------------------\u001b[0m",
      "\u001b[0;31mTypeError\u001b[0m                                 Traceback (most recent call last)",
      "\u001b[0;32m<ipython-input-5-15afb9e4eeff>\u001b[0m in \u001b[0;36m<module>\u001b[0;34m\u001b[0m\n\u001b[0;32m----> 1\u001b[0;31m \u001b[0mnext\u001b[0m\u001b[0;34m(\u001b[0m\u001b[0mlines\u001b[0m\u001b[0;34m(\u001b[0m\u001b[0;34m'cc-2019-47'\u001b[0m\u001b[0;34m)\u001b[0m\u001b[0;34m)\u001b[0m\u001b[0;34m\u001b[0m\u001b[0;34m\u001b[0m\u001b[0m\n\u001b[0m",
      "\u001b[0;31mTypeError\u001b[0m: 'NoneType' object is not an iterator"
     ]
    }
   ],
   "source": [
    "lines('cc-combined-16-21')"
   ]
  },
  {
   "cell_type": "code",
   "execution_count": 9,
   "id": "92e015ec-5caf-4f0d-b81f-e48c20afd374",
   "metadata": {},
   "outputs": [
    {
     "data": {
      "text/plain": [
       "0.1734543556099231"
      ]
     },
     "execution_count": 9,
     "metadata": {},
     "output_type": "execute_result"
    }
   ],
   "source": [
    "1632636/9412482"
   ]
  },
  {
   "cell_type": "code",
   "execution_count": 15,
   "id": "63994822-d377-461d-980e-b495e8275bfb",
   "metadata": {},
   "outputs": [
    {
     "data": {
      "text/plain": [
       "8.114208620689656"
      ]
     },
     "execution_count": 15,
     "metadata": {},
     "output_type": "execute_result"
    }
   ],
   "source": [
    "9412482/1160000"
   ]
  },
  {
   "cell_type": "code",
   "execution_count": 16,
   "id": "612e9b79-cb4e-41f6-b58a-af9bb00553b0",
   "metadata": {},
   "outputs": [
    {
     "data": {
      "text/plain": [
       "11647208.73"
      ]
     },
     "execution_count": 16,
     "metadata": {},
     "output_type": "execute_result"
    }
   ],
   "source": [
    "1432621*8.13"
   ]
  },
  {
   "cell_type": "code",
   "execution_count": 17,
   "id": "0533bd75-a34b-422c-8dca-758c5e82d6c0",
   "metadata": {},
   "outputs": [
    {
     "data": {
      "text/plain": [
       "2020258.958294741"
      ]
     },
     "execution_count": 17,
     "metadata": {},
     "output_type": "execute_result"
    }
   ],
   "source": [
    "11647208*0.1734543556099231"
   ]
  },
  {
   "cell_type": "code",
   "execution_count": 6,
   "id": "6cb7e05b-41c2-4a78-880d-b3e84bdace9a",
   "metadata": {},
   "outputs": [
    {
     "name": "stderr",
     "output_type": "stream",
     "text": [
      "8171433it [03:33, 38314.42it/s]\n"
     ]
    },
    {
     "name": "stdout",
     "output_type": "stream",
     "text": [
      "Examples:  8171433\n",
      "Empty:  921783\n"
     ]
    }
   ],
   "source": [
    "lines('orcas')"
   ]
  },
  {
   "cell_type": "code",
   "execution_count": 10,
   "id": "03b328fc-e1ab-4992-807a-c00068b17e7f",
   "metadata": {},
   "outputs": [
    {
     "data": {
      "text/plain": [
       "0.11280555075223649"
      ]
     },
     "execution_count": 10,
     "metadata": {},
     "output_type": "execute_result"
    }
   ],
   "source": [
    "921783/8171433"
   ]
  },
  {
   "cell_type": "code",
   "execution_count": 13,
   "id": "ff49f314-096e-41fe-b941-89f0a40cc9e3",
   "metadata": {},
   "outputs": [
    {
     "data": {
      "text/plain": [
       "9.31801471007469"
      ]
     },
     "execution_count": 13,
     "metadata": {},
     "output_type": "execute_result"
    }
   ],
   "source": [
    "8171433/876950"
   ]
  },
  {
   "cell_type": "code",
   "execution_count": 8,
   "id": "05b0ca7f-5c79-4974-a83b-76b9d9e6f18e",
   "metadata": {},
   "outputs": [
    {
     "name": "stderr",
     "output_type": "stream",
     "text": [
      "2079858it [00:47, 43735.01it/s]"
     ]
    },
    {
     "name": "stdout",
     "output_type": "stream",
     "text": [
      "Examples:  2079858\n",
      "Empty:  286174\n"
     ]
    },
    {
     "name": "stderr",
     "output_type": "stream",
     "text": [
      "\n"
     ]
    }
   ],
   "source": [
    "lines('ms-marco-training-set')"
   ]
  },
  {
   "cell_type": "code",
   "execution_count": 11,
   "id": "d139d788-b622-4d68-8f47-a541464f78a5",
   "metadata": {},
   "outputs": [
    {
     "data": {
      "text/plain": [
       "0.1375930472176466"
      ]
     },
     "execution_count": 11,
     "metadata": {},
     "output_type": "execute_result"
    }
   ],
   "source": [
    "286174/2079858"
   ]
  },
  {
   "cell_type": "code",
   "execution_count": 14,
   "id": "5c9310a2-3955-4892-b224-ce6dafa7b767",
   "metadata": {},
   "outputs": [
    {
     "data": {
      "text/plain": [
       "8.35130056294821"
      ]
     },
     "execution_count": 14,
     "metadata": {},
     "output_type": "execute_result"
    }
   ],
   "source": [
    "2079858/249046"
   ]
  }
 ],
 "metadata": {
  "kernelspec": {
   "display_name": "Python 3",
   "language": "python",
   "name": "python3"
  },
  "language_info": {
   "codemirror_mode": {
    "name": "ipython",
    "version": 3
   },
   "file_extension": ".py",
   "mimetype": "text/x-python",
   "name": "python",
   "nbconvert_exporter": "python",
   "pygments_lexer": "ipython3",
   "version": "3.7.10"
  }
 },
 "nbformat": 4,
 "nbformat_minor": 5
}
