{
 "cells": [
  {
   "cell_type": "markdown",
   "id": "61ab2594",
   "metadata": {},
   "source": [
    "# Table Term Count"
   ]
  },
  {
   "cell_type": "code",
   "execution_count": 1,
   "id": "a3164cae",
   "metadata": {},
   "outputs": [
    {
     "name": "stdout",
     "output_type": "stream",
     "text": [
      "2021-09-22 09:45:05.338945: I tensorflow/stream_executor/platform/default/dso_loader.cc:53] Successfully opened dynamic library libcudart.so.11.0\n",
      ".....................\n",
      "----------------------------------------------------------------------\n",
      "Ran 21 tests in 2.821s\n",
      "\n",
      "OK\n"
     ]
    }
   ],
   "source": [
    "!nosetests\n",
    "from util import count_terms, json_lines\n",
    "import pandas as pd\n",
    "import json\n",
    "import seaborn as sns\n",
    "from tqdm import tqdm"
   ]
  },
  {
   "cell_type": "code",
   "execution_count": 18,
   "id": "e7706682",
   "metadata": {},
   "outputs": [
    {
     "data": {
      "text/html": [
       "<div>\n",
       "<style scoped>\n",
       "    .dataframe tbody tr th:only-of-type {\n",
       "        vertical-align: middle;\n",
       "    }\n",
       "\n",
       "    .dataframe tbody tr th {\n",
       "        vertical-align: top;\n",
       "    }\n",
       "\n",
       "    .dataframe thead th {\n",
       "        text-align: right;\n",
       "    }\n",
       "</style>\n",
       "<table border=\"1\" class=\"dataframe\">\n",
       "  <thead>\n",
       "    <tr style=\"text-align: right;\">\n",
       "      <th></th>\n",
       "      <th>term (title)</th>\n",
       "      <th>term (orcas)</th>\n",
       "      <th>term (anchor)</th>\n",
       "    </tr>\n",
       "  </thead>\n",
       "  <tbody>\n",
       "    <tr>\n",
       "      <th>0</th>\n",
       "      <td>the</td>\n",
       "      <td>of</td>\n",
       "      <td>of</td>\n",
       "    </tr>\n",
       "    <tr>\n",
       "      <th>1</th>\n",
       "      <td>to</td>\n",
       "      <td>to</td>\n",
       "      <td>the</td>\n",
       "    </tr>\n",
       "    <tr>\n",
       "      <th>2</th>\n",
       "      <td>of</td>\n",
       "      <td>in</td>\n",
       "      <td>home</td>\n",
       "    </tr>\n",
       "    <tr>\n",
       "      <th>3</th>\n",
       "      <td>and</td>\n",
       "      <td>how</td>\n",
       "      <td>and</td>\n",
       "    </tr>\n",
       "    <tr>\n",
       "      <th>4</th>\n",
       "      <td>a</td>\n",
       "      <td>what</td>\n",
       "      <td>university</td>\n",
       "    </tr>\n",
       "    <tr>\n",
       "      <th>5</th>\n",
       "      <td>in</td>\n",
       "      <td>is</td>\n",
       "      <td>to</td>\n",
       "    </tr>\n",
       "    <tr>\n",
       "      <th>6</th>\n",
       "      <td>how</td>\n",
       "      <td>for</td>\n",
       "      <td>website</td>\n",
       "    </tr>\n",
       "    <tr>\n",
       "      <th>7</th>\n",
       "      <td>what</td>\n",
       "      <td>the</td>\n",
       "      <td>new</td>\n",
       "    </tr>\n",
       "    <tr>\n",
       "      <th>8</th>\n",
       "      <td>is</td>\n",
       "      <td>a</td>\n",
       "      <td>a</td>\n",
       "    </tr>\n",
       "    <tr>\n",
       "      <th>9</th>\n",
       "      <td>for</td>\n",
       "      <td>and</td>\n",
       "      <td>state</td>\n",
       "    </tr>\n",
       "    <tr>\n",
       "      <th>10</th>\n",
       "      <td>does</td>\n",
       "      <td>meaning</td>\n",
       "      <td>english</td>\n",
       "    </tr>\n",
       "    <tr>\n",
       "      <th>11</th>\n",
       "      <td>on</td>\n",
       "      <td>on</td>\n",
       "      <td>about</td>\n",
       "    </tr>\n",
       "    <tr>\n",
       "      <th>12</th>\n",
       "      <td>you</td>\n",
       "      <td>online</td>\n",
       "      <td>us</td>\n",
       "    </tr>\n",
       "    <tr>\n",
       "      <th>13</th>\n",
       "      <td>do</td>\n",
       "      <td>free</td>\n",
       "      <td>for</td>\n",
       "    </tr>\n",
       "    <tr>\n",
       "      <th>14</th>\n",
       "      <td>your</td>\n",
       "      <td>does</td>\n",
       "      <td>is</td>\n",
       "    </tr>\n",
       "    <tr>\n",
       "      <th>15</th>\n",
       "      <td>are</td>\n",
       "      <td>definition</td>\n",
       "      <td>in</td>\n",
       "    </tr>\n",
       "    <tr>\n",
       "      <th>16</th>\n",
       "      <td>it</td>\n",
       "      <td>do</td>\n",
       "      <td>county</td>\n",
       "    </tr>\n",
       "    <tr>\n",
       "      <th>17</th>\n",
       "      <td>with</td>\n",
       "      <td>best</td>\n",
       "      <td>national</td>\n",
       "    </tr>\n",
       "    <tr>\n",
       "      <th>18</th>\n",
       "      <td>i</td>\n",
       "      <td>login</td>\n",
       "      <td>school</td>\n",
       "    </tr>\n",
       "    <tr>\n",
       "      <th>19</th>\n",
       "      <td>from</td>\n",
       "      <td>county</td>\n",
       "      <td>services</td>\n",
       "    </tr>\n",
       "    <tr>\n",
       "      <th>20</th>\n",
       "      <td>can</td>\n",
       "      <td>number</td>\n",
       "      <td>wikipedia</td>\n",
       "    </tr>\n",
       "    <tr>\n",
       "      <th>21</th>\n",
       "      <td>new</td>\n",
       "      <td>my</td>\n",
       "      <td>visit</td>\n",
       "    </tr>\n",
       "    <tr>\n",
       "      <th>22</th>\n",
       "      <td>an</td>\n",
       "      <td>2019</td>\n",
       "      <td>on</td>\n",
       "    </tr>\n",
       "    <tr>\n",
       "      <th>23</th>\n",
       "      <td>mean</td>\n",
       "      <td>10</td>\n",
       "      <td>facebook</td>\n",
       "    </tr>\n",
       "    <tr>\n",
       "      <th>24</th>\n",
       "      <td>definition</td>\n",
       "      <td>windows</td>\n",
       "      <td>site</td>\n",
       "    </tr>\n",
       "  </tbody>\n",
       "</table>\n",
       "</div>"
      ],
      "text/plain": [
       "   term (title) term (orcas) term (anchor)\n",
       "0           the           of            of\n",
       "1            to           to           the\n",
       "2            of           in          home\n",
       "3           and          how           and\n",
       "4             a         what    university\n",
       "5            in           is            to\n",
       "6           how          for       website\n",
       "7          what          the           new\n",
       "8            is            a             a\n",
       "9           for          and         state\n",
       "10         does      meaning       english\n",
       "11           on           on         about\n",
       "12          you       online            us\n",
       "13           do         free           for\n",
       "14         your         does            is\n",
       "15          are   definition            in\n",
       "16           it           do        county\n",
       "17         with         best      national\n",
       "18            i        login        school\n",
       "19         from       county      services\n",
       "20          can       number     wikipedia\n",
       "21          new           my         visit\n",
       "22           an         2019            on\n",
       "23         mean           10      facebook\n",
       "24   definition      windows          site"
      ]
     },
     "execution_count": 18,
     "metadata": {},
     "output_type": "execute_result"
    }
   ],
   "source": [
    "DIR='/mnt/ceph/storage/data-in-progress/data-teaching/theses/wstud-thesis-probst/evaluation-data/'\n",
    "\n",
    "def most_occuring_terms(filename, top_k):\n",
    "    terms = json.load(open(filename))\n",
    "    term_with_count = [(i.lower(),c) for i,c in terms.items() if i != '\\'s']\n",
    "    \n",
    "    return sorted(term_with_count, key=lambda i: i[1], reverse=True)[:top_k]\n",
    "\n",
    "df = []\n",
    "TOP_K = 100\n",
    "top_terms = {}\n",
    "\n",
    "for i in ['title', 'orcas', 'cc-2019-47-anchors']:\n",
    "        top_terms[i] = most_occuring_terms(DIR + 'terms-in-msmarco-v1-' + i + '.json', TOP_K)\n",
    "\n",
    "for i in range(TOP_K):\n",
    "    df += [{\n",
    "        'position': i,\n",
    "        'term (title)': top_terms['title'][i][0],\n",
    "        'frequency (title)': top_terms['title'][i][1],\n",
    "        'term (orcas)': top_terms['orcas'][i][0],\n",
    "        'frequency (orcas)': top_terms['orcas'][i][1],\n",
    "        'term (anchor)': top_terms['cc-2019-47-anchors'][i][0],\n",
    "        'frequency (anchor)': top_terms['cc-2019-47-anchors'][i][1],\n",
    "    }]\n",
    "\n",
    "df = pd.DataFrame(df)\n",
    "df.head(25)[['term (title)', 'term (orcas)', 'term (anchor)']]"
   ]
  },
  {
   "cell_type": "markdown",
   "id": "95d3a3a1",
   "metadata": {},
   "source": [
    "# Create term count files"
   ]
  },
  {
   "cell_type": "code",
   "execution_count": 3,
   "id": "62a8be4e",
   "metadata": {},
   "outputs": [],
   "source": []
  },
  {
   "cell_type": "code",
   "execution_count": 5,
   "id": "ab217445",
   "metadata": {},
   "outputs": [
    {
     "name": "stderr",
     "output_type": "stream",
     "text": [
      "3213835it [00:27, 118101.76it/s]\n"
     ]
    }
   ],
   "source": [
    "terms = count_terms(json_lines('processed-msmarco-v1-title.jsonl'))\n",
    "json.dump(terms, open(DIR + 'terms-in-msmarco-v1-title.json', 'w'))"
   ]
  },
  {
   "cell_type": "code",
   "execution_count": 6,
   "id": "e28bb0ef",
   "metadata": {},
   "outputs": [
    {
     "name": "stderr",
     "output_type": "stream",
     "text": [
      "10405342it [01:08, 151812.03it/s]\n"
     ]
    }
   ],
   "source": [
    "terms = count_terms(json_lines('processed-msmarco-v1-orcas.jsonl'))\n",
    "json.dump(terms, open(DIR + 'terms-in-msmarco-v1-orcas.json', 'w'))"
   ]
  },
  {
   "cell_type": "code",
   "execution_count": 7,
   "id": "051333c4",
   "metadata": {},
   "outputs": [
    {
     "name": "stderr",
     "output_type": "stream",
     "text": [
      "1163273it [08:44, 2215.98it/s]\n"
     ]
    }
   ],
   "source": [
    "terms = count_terms(json_lines('processed-msmarco-v1-cc-2019-47-anchors.jsonl'))\n",
    "json.dump(terms, open(DIR + 'terms-in-msmarco-v1-cc-2019-47-anchors.json', 'w'))"
   ]
  }
 ],
 "metadata": {
  "kernelspec": {
   "display_name": "Python 3",
   "language": "python",
   "name": "python3"
  },
  "language_info": {
   "codemirror_mode": {
    "name": "ipython",
    "version": 3
   },
   "file_extension": ".py",
   "mimetype": "text/x-python",
   "name": "python",
   "nbconvert_exporter": "python",
   "pygments_lexer": "ipython3",
   "version": "3.6.9"
  }
 },
 "nbformat": 4,
 "nbformat_minor": 5
}
