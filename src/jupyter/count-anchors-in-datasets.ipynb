{
 "cells": [
  {
   "cell_type": "code",
   "execution_count": 1,
   "id": "a8834fdc-4e77-4bc3-8515-e46bcd045780",
   "metadata": {},
   "outputs": [],
   "source": [
    "# Count Anchors"
   ]
  },
  {
   "cell_type": "code",
   "execution_count": 2,
   "id": "c900c58b-b65c-4f72-80b8-6326fb408e78",
   "metadata": {},
   "outputs": [
    {
     "data": {
      "text/html": [
       "\n",
       "        <div>\n",
       "            <p><b>SparkContext</b></p>\n",
       "\n",
       "            <p><a href=\"http://10.23.76.114:4040\">Spark UI</a></p>\n",
       "\n",
       "            <dl>\n",
       "              <dt>Version</dt>\n",
       "                <dd><code>v2.4.8</code></dd>\n",
       "              <dt>Master</dt>\n",
       "                <dd><code>yarn</code></dd>\n",
       "              <dt>AppName</dt>\n",
       "                <dd><code>pyspark-shell</code></dd>\n",
       "            </dl>\n",
       "        </div>\n",
       "        "
      ],
      "text/plain": [
       "<SparkContext master=yarn appName=pyspark-shell>"
      ]
     },
     "execution_count": 2,
     "metadata": {},
     "output_type": "execute_result"
    }
   ],
   "source": [
    "import pyspark\n",
    "\n",
    "def is_valid_anchor_text(i):\n",
    "    import json\n",
    "    i = json.loads(i)\n",
    "    \n",
    "    return 'anchorText' in i and 'targetMsMarcoDocIds' in i and len(i['targetMsMarcoDocIds'])\n",
    "\n",
    "def count_anchors(directory):\n",
    "    return sc.textFile('../anjyc/' + directory + '/*/*') \\\n",
    "        .map(is_valid_anchor_text) \\\n",
    "        .filter(lambda i: i) \\\n",
    "        .count()\n",
    "\n",
    "sc = pyspark.SparkContext()\n",
    "sc\n",
    "\n"
   ]
  },
  {
   "cell_type": "code",
   "execution_count": 5,
   "id": "7e9a070d-9b27-4214-a7ab-e0da6c00f010",
   "metadata": {},
   "outputs": [
    {
     "data": {
      "text/plain": [
       "363725436"
      ]
     },
     "execution_count": 5,
     "metadata": {},
     "output_type": "execute_result"
    }
   ],
   "source": [
    "count_anchors('cc-21-04-v2')"
   ]
  },
  {
   "cell_type": "code",
   "execution_count": 6,
   "id": "cf63d312-b85d-44ec-936a-78d8d2fa699e",
   "metadata": {},
   "outputs": [
    {
     "data": {
      "text/plain": [
       "484009539"
      ]
     },
     "execution_count": 6,
     "metadata": {},
     "output_type": "execute_result"
    }
   ],
   "source": [
    "count_anchors('cc-20-05-v2')"
   ]
  },
  {
   "cell_type": "code",
   "execution_count": 7,
   "id": "11799e3c-93ad-49b3-8a4e-dad139934604",
   "metadata": {},
   "outputs": [
    {
     "data": {
      "text/plain": [
       "410439627"
      ]
     },
     "execution_count": 7,
     "metadata": {},
     "output_type": "execute_result"
    }
   ],
   "source": [
    "count_anchors('cc-19-47-v2')"
   ]
  },
  {
   "cell_type": "code",
   "execution_count": 8,
   "id": "32ae01c7-b259-40e3-abb5-a475a8be80bd",
   "metadata": {},
   "outputs": [
    {
     "data": {
      "text/plain": [
       "684449844"
      ]
     },
     "execution_count": 8,
     "metadata": {},
     "output_type": "execute_result"
    }
   ],
   "source": [
    "count_anchors('cc-18-13-v2')"
   ]
  },
  {
   "cell_type": "code",
   "execution_count": 9,
   "id": "85be8fa9-7d0e-43ca-9ee1-19735e8aba43",
   "metadata": {},
   "outputs": [
    {
     "data": {
      "text/plain": [
       "906907822"
      ]
     },
     "execution_count": 9,
     "metadata": {},
     "output_type": "execute_result"
    }
   ],
   "source": [
    "count_anchors('cc-17-04-v2')"
   ]
  },
  {
   "cell_type": "code",
   "execution_count": 10,
   "id": "f95662f1-e342-4dcb-a610-0786f4ade0ac",
   "metadata": {},
   "outputs": [
    {
     "data": {
      "text/plain": [
       "746199473"
      ]
     },
     "execution_count": 10,
     "metadata": {},
     "output_type": "execute_result"
    }
   ],
   "source": [
    "count_anchors('cc-16-07-v2')"
   ]
  }
 ],
 "metadata": {
  "kernelspec": {
   "display_name": "Python 3",
   "language": "python",
   "name": "python3"
  },
  "language_info": {
   "codemirror_mode": {
    "name": "ipython",
    "version": 3
   },
   "file_extension": ".py",
   "mimetype": "text/x-python",
   "name": "python",
   "nbconvert_exporter": "python",
   "pygments_lexer": "ipython3",
   "version": "3.7.10"
  }
 },
 "nbformat": 4,
 "nbformat_minor": 5
}
