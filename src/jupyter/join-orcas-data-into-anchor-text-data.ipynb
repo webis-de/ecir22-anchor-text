{
 "cells": [
  {
   "cell_type": "code",
   "execution_count": 1,
   "id": "0ae994cd-7afd-4c3f-8a5f-519933f08f4c",
   "metadata": {},
   "outputs": [
    {
     "data": {
      "text/html": [
       "\n",
       "        <div>\n",
       "            <p><b>SparkContext</b></p>\n",
       "\n",
       "            <p><a href=\"http://10.23.180.135:4040\">Spark UI</a></p>\n",
       "\n",
       "            <dl>\n",
       "              <dt>Version</dt>\n",
       "                <dd><code>v2.4.8</code></dd>\n",
       "              <dt>Master</dt>\n",
       "                <dd><code>yarn</code></dd>\n",
       "              <dt>AppName</dt>\n",
       "                <dd><code>pyspark-shell</code></dd>\n",
       "            </dl>\n",
       "        </div>\n",
       "        "
      ],
      "text/plain": [
       "<SparkContext master=yarn appName=pyspark-shell>"
      ]
     },
     "execution_count": 1,
     "metadata": {},
     "output_type": "execute_result"
    }
   ],
   "source": [
    "import pyspark\n",
    "\n",
    "sc = pyspark.SparkContext()\n",
    "sc"
   ]
  },
  {
   "cell_type": "code",
   "execution_count": 2,
   "id": "99b81f2e-bca3-430f-8eda-a89f99e22d03",
   "metadata": {},
   "outputs": [
    {
     "data": {
      "text/plain": [
       "[1, 2, 3, 4, 5, 6]"
      ]
     },
     "execution_count": 2,
     "metadata": {},
     "output_type": "execute_result"
    }
   ],
   "source": [
    "sc.parallelize([1,2,3,4,5,6]).collect()"
   ]
  },
  {
   "cell_type": "code",
   "execution_count": 10,
   "id": "3a34cbe0-504f-4bea-9c5b-81931e01c18f",
   "metadata": {},
   "outputs": [],
   "source": [
    "def doc_to_query(line):\n",
    "    line = line.split('\\t')\n",
    "    \n",
    "    return (line[2], line[1])\n",
    "\n",
    "def to_jsonl_entry(key, values):\n",
    "    import json\n",
    "    \n",
    "    return json.dumps({'document_id': key, 'queries': [i for i in values]})\n",
    "\n",
    "sc.textFile('file:///mnt/ceph/storage/corpora/corpora-thirdparty/corpus-orcas/orcas.tsv.gz')\\\n",
    "    .map(doc_to_query)\\\n",
    "    .repartition(100)\\\n",
    "    .groupByKey()\\\n",
    "    .map(lambda i: to_jsonl_entry(i[0], i[1]))\\\n",
    "    .saveAsTextFile('ecir2022/anchor2query/orcas-grouped-by-document.jsonl')"
   ]
  },
  {
   "cell_type": "code",
   "execution_count": 3,
   "id": "aa1fc9ce-d1c6-4d2a-99ba-704d7e4d995a",
   "metadata": {},
   "outputs": [
    {
     "data": {
      "text/plain": [
       "1422029"
      ]
     },
     "execution_count": 3,
     "metadata": {},
     "output_type": "execute_result"
    }
   ],
   "source": [
    "import json\n",
    "tmp_doc_to_orcas = sc.textFile('ecir2022/anchor2query/orcas-grouped-by-document.jsonl').map(lambda i: json.loads(i)).collect()\n",
    "\n",
    "len(tmp_doc_to_orcas)"
   ]
  },
  {
   "cell_type": "code",
   "execution_count": 4,
   "id": "d1d7c42c-a217-45d4-a8e7-591a2de2d37d",
   "metadata": {},
   "outputs": [
    {
     "name": "stderr",
     "output_type": "stream",
     "text": [
      "100%|██████████| 1422029/1422029 [00:01<00:00, 828873.72it/s]\n"
     ]
    },
    {
     "data": {
      "text/plain": [
       "1422029"
      ]
     },
     "execution_count": 4,
     "metadata": {},
     "output_type": "execute_result"
    }
   ],
   "source": [
    "from tqdm import tqdm\n",
    "doc_to_orcas = {}\n",
    "\n",
    "for i in tqdm(tmp_doc_to_orcas):\n",
    "    doc_to_orcas[i['document_id']]= i['queries']\n",
    "\n",
    "len(doc_to_orcas)"
   ]
  },
  {
   "cell_type": "code",
   "execution_count": 5,
   "id": "9f8ac639-1446-42e1-bd61-f2108bef95f0",
   "metadata": {},
   "outputs": [],
   "source": [
    "def map_to_orcas(i):\n",
    "    import json\n",
    "    i = json.loads(i)\n",
    "    orcasQueries = []\n",
    "    for targetDocId in i['targetMsMarcoDocIds']:\n",
    "        if targetDocId in doc_to_orcas:\n",
    "            new_queries = doc_to_orcas[targetDocId]\n",
    "            if len(new_queries) > 0:\n",
    "                orcasQueries += new_queries\n",
    "    \n",
    "    if len(orcasQueries) <= 0:\n",
    "        return None\n",
    "    \n",
    "    i['orcasQueries'] = orcasQueries\n",
    "    return i"
   ]
  },
  {
   "cell_type": "code",
   "execution_count": 7,
   "id": "eda76d56-9900-4074-aba1-ff4cb9f55cb5",
   "metadata": {},
   "outputs": [],
   "source": [
    "sc.textFile('../anjyc/script-filtered-commoncrawl-2019-47-repartitioned/script-commoncrawl-2019-47-PART-*.jsonl/part-*.gz')\\\n",
    "    .map(map_to_orcas)\\\n",
    "    .filter(lambda i: i is not None)\\\n",
    "    .map(lambda i: json.dumps(i))\\\n",
    "    .saveAsTextFile('ecir2022/anchor2query/anchor-text-with-orcas-queries-2019-47.jsonl')"
   ]
  },
  {
   "cell_type": "code",
   "execution_count": 20,
   "id": "eedd4033-db0a-4635-8b88-2c0d0590195e",
   "metadata": {},
   "outputs": [],
   "source": [
    "def queries(doc_ids):\n",
    "    import json\n",
    "    ret = []\n",
    "    with open('/mnt/ceph/storage/data-in-progress/data-research/web-search/ECIR-22/ecir21-anchor2query/document-id-to-orcas-queries.jsonl', 'r') as f:\n",
    "        for l in f:\n",
    "            l = json.loads(l)\n",
    "            if l['documentId'] in doc_ids:\n",
    "                ret += l['orcasQueries']\n",
    "    return ret\n",
    "\n",
    "def map_to_orcas(i):\n",
    "    import json\n",
    "    i = json.loads(i)\n",
    "    orcasQueries = queries(i['targetMsMarcoDocIds'])\n",
    "    if len(orcasQueries) <= 0:\n",
    "        return None\n",
    "    \n",
    "    i['orcasQueries'] = orcasQueries\n",
    "    return i"
   ]
  },
  {
   "cell_type": "code",
   "execution_count": 10,
   "id": "876b1766-ac5e-47fd-9194-db7d365767ad",
   "metadata": {},
   "outputs": [
    {
     "name": "stderr",
     "output_type": "stream",
     "text": [
      "100%|██████████| 1422029/1422029 [00:21<00:00, 65533.39it/s]\n"
     ]
    }
   ],
   "source": [
    "with open('/mnt/ceph/storage/data-in-progress/data-research/web-search/ECIR-22/ecir21-anchor2query/document-id-to-orcas-queries.jsonl', 'w') as f:\n",
    "    for k,v in tqdm(doc_to_orcas.items()):\n",
    "        f.write(json.dumps({'documentId': k, 'orcasQueries': [i for i in v]}) + '\\n')\n"
   ]
  },
  {
   "cell_type": "code",
   "execution_count": 17,
   "id": "955bc6c6-3901-4f94-93df-80bffb912e88",
   "metadata": {},
   "outputs": [],
   "source": []
  },
  {
   "cell_type": "code",
   "execution_count": 19,
   "id": "8d0c5bae-f2fc-4a84-a451-c1b899a32e59",
   "metadata": {},
   "outputs": [
    {
     "name": "stdout",
     "output_type": "stream",
     "text": [
      "CPU times: user 12.1 s, sys: 567 ms, total: 12.7 s\n",
      "Wall time: 12.7 s\n"
     ]
    },
    {
     "data": {
      "text/plain": [
       "['actress sondra locke',\n",
       " 'gordon anderson actor',\n",
       " 'how old is sandra locke',\n",
       " 'sonia locke',\n",
       " 'sondra locke children with clint eastwood',\n",
       " 'sondra locke clint eastwood',\n",
       " 'sondra locke death',\n",
       " 'sondra locke died',\n",
       " 'sondra locke films',\n",
       " 'sondra locke hot',\n",
       " 'sondra locke husband',\n",
       " 'sondra locke images',\n",
       " 'sudden impact',\n",
       " 'sondra locke book',\n",
       " 'sondra locke cancer',\n",
       " 'sondra locke cause of death',\n",
       " 'sondra locke children',\n",
       " \"clint eastwood's girlfriend sandra\",\n",
       " 'whatever happened to sondra locke',\n",
       " 'sondra loche',\n",
       " 'sondra lock',\n",
       " 'gordon anderson and sondra locke',\n",
       " 'gordon anderson sculptor',\n",
       " \"gordon anderson sondra locke's husband\",\n",
       " 'locke sondra',\n",
       " 'sonda locke',\n",
       " 'sonya locke',\n",
       " 'wiki sondra locke',\n",
       " 'sondra locke',\n",
       " 'sondra locke 2017',\n",
       " 'recent pictures of sondra locke',\n",
       " 'clint eastwood hometown',\n",
       " 'sondralocke',\n",
       " 'sondre locke',\n",
       " 'scott cunneen and sondra locke',\n",
       " 'sondra locke wikipedia',\n",
       " 'sondra locke young',\n",
       " \"sondra locke's brother don locke\",\n",
       " \"sondra locke's daughter\",\n",
       " \"sondra locke's husband\",\n",
       " 'sondra loke',\n",
       " 'when did sondra locke die',\n",
       " 'actress sandra locke',\n",
       " 'clint eastwood sondra locke',\n",
       " 'clint eastwood sondra locke children',\n",
       " 'clint eastwood sondra locke movies',\n",
       " 'sandra loch',\n",
       " 'sandra loche',\n",
       " 'sondar locke',\n",
       " 'actor gordon anderson',\n",
       " 'clint eastwood girlfriend',\n",
       " 'sondra locke pictures',\n",
       " 'sondra locke today',\n",
       " 'sondra locke today at 71',\n",
       " 'sondra locke wiki',\n",
       " 'saundra locke and roger mosley',\n",
       " 'saundra locke mosley',\n",
       " 'clint eastwood and sandra lock',\n",
       " 'clint eastwood and sondra locke',\n",
       " 'sandra locke wiki',\n",
       " 'sandra lockett',\n",
       " 'sandra lockhart',\n",
       " 'sandra lockhart actress',\n",
       " 'sandra locklear',\n",
       " 'sandra lockwood',\n",
       " 'sandra loke',\n",
       " 'clint eastwood',\n",
       " 'sandra lock',\n",
       " 'sandra locke',\n",
       " 'sandra locke 2018',\n",
       " 'sandra locke actress',\n",
       " 'saundra locke',\n",
       " 'did sondra locke have any children',\n",
       " 'sandra locke and clint eastwood',\n",
       " 'sandra locke bio',\n",
       " 'sandra locke died',\n",
       " 'sandra locke images',\n",
       " 'sandra locke movies',\n",
       " 'sondra',\n",
       " 'sondra locke 2018',\n",
       " 'sondra locke 2018 photo',\n",
       " 'sondra locke actress',\n",
       " 'sondra locke and clint eastwood',\n",
       " 'sondra locke bio',\n",
       " 'sondra locke biography',\n",
       " 'sondra locke imdb',\n",
       " 'sondra locke movies',\n",
       " 'sondra locke net worth',\n",
       " 'sondra locke news',\n",
       " 'sondra locke now',\n",
       " 'sondra locke now photos',\n",
       " 'sondra locke pics',\n",
       " 'clint eastwood sondra locke settlement',\n",
       " 'what happened to sondra locke',\n",
       " 'lynn halsey taylor',\n",
       " 'is sondra locke still alive',\n",
       " 'sanda lock',\n",
       " 'sandralocke',\n",
       " 'sandre locke',\n",
       " 'clint eastwood wife sandra',\n",
       " 'sanda locke']"
      ]
     },
     "execution_count": 19,
     "metadata": {},
     "output_type": "execute_result"
    }
   ],
   "source": [
    "%%time\n",
    "queries(['D2595172'])"
   ]
  },
  {
   "cell_type": "code",
   "execution_count": 16,
   "id": "fbe8ccfc-302a-48d3-bf9d-01f5caba9e78",
   "metadata": {},
   "outputs": [
    {
     "data": {
      "text/plain": [
       "['JSONDecodeError',\n",
       " 'JSONDecoder',\n",
       " 'JSONEncoder',\n",
       " '__all__',\n",
       " '__author__',\n",
       " '__builtins__',\n",
       " '__cached__',\n",
       " '__doc__',\n",
       " '__file__',\n",
       " '__loader__',\n",
       " '__name__',\n",
       " '__package__',\n",
       " '__path__',\n",
       " '__spec__',\n",
       " '__version__',\n",
       " '_default_decoder',\n",
       " '_default_encoder',\n",
       " 'codecs',\n",
       " 'decoder',\n",
       " 'detect_encoding',\n",
       " 'dump',\n",
       " 'dumps',\n",
       " 'encoder',\n",
       " 'load',\n",
       " 'loads',\n",
       " 'scanner']"
      ]
     },
     "execution_count": 16,
     "metadata": {},
     "output_type": "execute_result"
    }
   ],
   "source": [
    "dir(json)"
   ]
  }
 ],
 "metadata": {
  "kernelspec": {
   "display_name": "Python 3",
   "language": "python",
   "name": "python3"
  },
  "language_info": {
   "codemirror_mode": {
    "name": "ipython",
    "version": 3
   },
   "file_extension": ".py",
   "mimetype": "text/x-python",
   "name": "python",
   "nbconvert_exporter": "python",
   "pygments_lexer": "ipython3",
   "version": "3.7.10"
  }
 },
 "nbformat": 4,
 "nbformat_minor": 5
}
