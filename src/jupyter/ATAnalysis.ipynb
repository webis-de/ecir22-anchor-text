{
 "cells": [
  {
   "cell_type": "code",
   "execution_count": 1,
   "metadata": {
    "tags": []
   },
   "outputs": [],
   "source": [
    "import pyspark, json"
   ]
  },
  {
   "cell_type": "code",
   "execution_count": 2,
   "metadata": {
    "tags": []
   },
   "outputs": [
    {
     "data": {
      "text/html": [
       "\n",
       "        <div>\n",
       "            <p><b>SparkContext</b></p>\n",
       "\n",
       "            <p><a href=\"http://10.23.114.174:4040\">Spark UI</a></p>\n",
       "\n",
       "            <dl>\n",
       "              <dt>Version</dt>\n",
       "                <dd><code>v2.4.8</code></dd>\n",
       "              <dt>Master</dt>\n",
       "                <dd><code>yarn</code></dd>\n",
       "              <dt>AppName</dt>\n",
       "                <dd><code>pyspark-shell</code></dd>\n",
       "            </dl>\n",
       "        </div>\n",
       "        "
      ],
      "text/plain": [
       "<SparkContext master=yarn appName=pyspark-shell>"
      ]
     },
     "execution_count": 2,
     "metadata": {},
     "output_type": "execute_result"
    }
   ],
   "source": [
    "sc = pyspark.SparkContext()\n",
    "\n",
    "sc"
   ]
  },
  {
   "cell_type": "code",
   "execution_count": 3,
   "metadata": {
    "execution": {
     "iopub.execute_input": "2021-06-01T19:13:51.592521Z",
     "iopub.status.busy": "2021-06-01T19:13:51.592228Z",
     "iopub.status.idle": "2021-06-01T19:13:52.462169Z",
     "shell.execute_reply": "2021-06-01T19:13:52.460745Z",
     "shell.execute_reply.started": "2021-06-01T19:13:51.592483Z"
    }
   },
   "outputs": [],
   "source": [
    "rdd = sc.textFile('/user/anjyc/script-filtered-commoncrawl-2019-47/script-commoncrawl-2019-47-PART-00.jsonl/part-00000.gz')\\\n",
    "    .map(lambda i: json.loads(i))"
   ]
  },
  {
   "cell_type": "code",
   "execution_count": 11,
   "metadata": {
    "execution": {
     "iopub.execute_input": "2021-06-01T17:20:13.260781Z",
     "iopub.status.busy": "2021-06-01T17:20:13.260409Z",
     "iopub.status.idle": "2021-06-01T17:20:32.342736Z",
     "shell.execute_reply": "2021-06-01T17:20:32.340785Z",
     "shell.execute_reply.started": "2021-06-01T17:20:13.260744Z"
    }
   },
   "outputs": [
    {
     "name": "stdout",
     "output_type": "stream",
     "text": [
      "587\n"
     ]
    }
   ],
   "source": [
    "#anzahl jedes anchor texts\n",
    "mostUsedAT = []\n",
    "mostUsedAT = rdd\\\n",
    "    .map(lambda i: (i['anchorText'], 1))\\\n",
    "    .reduceByKey(lambda a,b: a+b)\\\n",
    "    .sortBy(lambda i: i[1], ascending=False)\\\n",
    "    .take(10)\n",
    "    #.saveAsTextFile('delete-me-bla')\n",
    "\n",
    "countAllAT = 0\n",
    "countAllAT = rdd\\\n",
    "    .map(lambda i: 1)\\\n",
    "    .reduce(lambda a,b: a+b)"
   ]
  },
  {
   "cell_type": "code",
   "execution_count": 12,
   "metadata": {
    "execution": {
     "iopub.execute_input": "2021-06-01T17:22:31.375695Z",
     "iopub.status.busy": "2021-06-01T17:22:31.375323Z",
     "iopub.status.idle": "2021-06-01T17:22:50.855113Z",
     "shell.execute_reply": "2021-06-01T17:22:50.853767Z",
     "shell.execute_reply.started": "2021-06-01T17:22:31.375655Z"
    }
   },
   "outputs": [
    {
     "name": "stdout",
     "output_type": "stream",
     "text": [
      "1.4110576923076923\n"
     ]
    }
   ],
   "source": [
    "#anzahl anchor texte pro target seite\n",
    "\n",
    "listATPerTargetSite = rdd\\\n",
    "    .map(lambda i: (i['targetUrl'], 1))\\\n",
    "    .reduceByKey(lambda a,b: a+b)\\\n",
    "    .sortBy(lambda i: i[1], ascending=False)\\\n",
    "    .take(10)\n",
    "\n",
    "countTargetSites = rdd\\\n",
    "    .map(lambda i: (i['targetUrl'], 1))\\\n",
    "    .reduceByKey(lambda a,b: a+b)\\\n",
    "    .count()\n",
    "\n",
    "avgATPerTargetSite = countAllAT / countTargetSites\n",
    "\n",
    "print(avgATPerTargetSite)"
   ]
  },
  {
   "cell_type": "code",
   "execution_count": 13,
   "metadata": {
    "execution": {
     "iopub.execute_input": "2021-06-01T18:03:23.384254Z",
     "iopub.status.busy": "2021-06-01T18:03:23.383817Z",
     "iopub.status.idle": "2021-06-01T18:03:54.588302Z",
     "shell.execute_reply": "2021-06-01T18:03:54.586899Z",
     "shell.execute_reply.started": "2021-06-01T18:03:23.384203Z"
    }
   },
   "outputs": [
    {
     "name": "stdout",
     "output_type": "stream",
     "text": [
      "1.0\n"
     ]
    }
   ],
   "source": [
    "#anzahl anchor texte pro source seite\n",
    "\n",
    "listATPerSrcSite = rdd\\\n",
    "    .map(lambda i: (i['document']['srcUrl'], 1))\\\n",
    "    .reduceByKey(lambda a,b: a+b)\\\n",
    "    .sortBy(lambda i: i[1], ascending=False)\\\n",
    "    .take(10)\n",
    "\n",
    "countSrcSites = rdd\\\n",
    "    .map(lambda i: (i['document']['srcUrl'], 1))\\\n",
    "    .reduceByKey(lambda a,b: a+b)\\\n",
    "    .count()\n",
    "\n",
    "avgATPerSrcSite = countAllAT / countSrcSites\n",
    "\n",
    "print(avgATPerSrcSite)"
   ]
  },
  {
   "cell_type": "code",
   "execution_count": 29,
   "metadata": {
    "execution": {
     "iopub.execute_input": "2021-06-01T18:15:21.909853Z",
     "iopub.status.busy": "2021-06-01T18:15:21.909096Z",
     "iopub.status.idle": "2021-06-01T18:15:22.012318Z",
     "shell.execute_reply": "2021-06-01T18:15:22.010836Z",
     "shell.execute_reply.started": "2021-06-01T18:15:21.909740Z"
    }
   },
   "outputs": [
    {
     "name": "stdout",
     "output_type": "stream",
     "text": [
      "13.567291311754685\n"
     ]
    }
   ],
   "source": [
    "#durchschnittliche länge pro anchor text\n",
    "\n",
    "sumOfATLength = rdd\\\n",
    "    .map(lambda i: i['anchorText'])\\\n",
    "    .map(lambda i: len(i))\\\n",
    "    .reduce(lambda a,b: a+b)\n",
    "         \n",
    "avgATLength = sumOfATLength / countAllAT"
   ]
  },
  {
   "cell_type": "code",
   "execution_count": null,
   "metadata": {},
   "outputs": [],
   "source": [
    "#anzahl wörter pro anchor text"
   ]
  },
  {
   "cell_type": "code",
   "execution_count": null,
   "metadata": {},
   "outputs": [],
   "source": [
    "#anchor text = title"
   ]
  },
  {
   "cell_type": "code",
   "execution_count": null,
   "metadata": {},
   "outputs": [],
   "source": [
    "#anchor text = link\n",
    "\n",
    "countATEqualsTarget = rdd\\\n",
    "    .filter(lambda i: (i['targetUrl'] == i['anchorText']))\\\n",
    "    .count()"
   ]
  },
  {
   "cell_type": "code",
   "execution_count": 4,
   "metadata": {
    "tags": []
   },
   "outputs": [
    {
     "name": "stdout",
     "output_type": "stream",
     "text": [
      "2015-11\n",
      "DONE!\n"
     ]
    }
   ],
   "source": [
    "for date in {'2015-11'}:\n",
    "    print(date)\n",
    "    \n",
    "    #rdd = sc.textFile('/user/anjyc/script-filtered-commoncrawl-'+date+'-repartitioned/script-commoncrawl-'+date+'-PART-*.jsonl/*.gz')\\\n",
    "    #.map(lambda i: json.loads(i))\n",
    "    \n",
    "    rdd = sc.textFile('/user/anjyc/script-filtered-commoncrawl-2015-11/script-commoncrawl-'+date+'-PART-*.jsonl/*.gz')\\\n",
    "    .map(lambda i: json.loads(i))\n",
    "    \n",
    "#anzahl jedes anchor texts\n",
    "    mostUsedAT = rdd\\\n",
    "        .map(lambda i: (i['anchorText'], 1))\\\n",
    "        .reduceByKey(lambda a,b: a+b)\\\n",
    "        .sortBy(lambda i: i[1], ascending=False)\\\n",
    "        .take(10)\n",
    "\n",
    "    countAllAT = rdd\\\n",
    "        .map(lambda i: 1)\\\n",
    "        .reduce(lambda a,b: a+b)\n",
    "    \n",
    "#anzahl anchor texte pro target seite\n",
    "    listATPerTargetSite = rdd\\\n",
    "        .map(lambda i: (i['targetUrl'], 1))\\\n",
    "        .reduceByKey(lambda a,b: a+b)\\\n",
    "        .sortBy(lambda i: i[1], ascending=False)\\\n",
    "        .take(10)\n",
    "\n",
    "    countTargetSites = rdd\\\n",
    "        .map(lambda i: (i['targetUrl'], 1))\\\n",
    "        .reduceByKey(lambda a,b: a+b)\\\n",
    "        .count()\n",
    "\n",
    "    avgATPerTargetSite = countAllAT / countTargetSites\n",
    "    \n",
    "#anzahl anchor texte pro source seite\n",
    "    listATPerSrcSite = rdd\\\n",
    "        .map(lambda i: (i['document']['srcUrl'], 1))\\\n",
    "        .reduceByKey(lambda a,b: a+b)\\\n",
    "        .sortBy(lambda i: i[1], ascending=False)\\\n",
    "        .take(10)\n",
    "\n",
    "    countSrcSites = rdd\\\n",
    "        .map(lambda i: (i['document']['srcUrl'], 1))\\\n",
    "        .reduceByKey(lambda a,b: a+b)\\\n",
    "        .count()\n",
    "\n",
    "    avgATPerSrcSite = countAllAT / countSrcSites\n",
    "    \n",
    "    \n",
    "#durchschnittliche länge pro anchor text\n",
    "    sumOfATLength = rdd\\\n",
    "        .map(lambda i: i['anchorText'])\\\n",
    "        .map(lambda i: len(i))\\\n",
    "        .reduce(lambda a,b: a+b)\n",
    "         \n",
    "    avgATLength = sumOfATLength / countAllAT\n",
    "    \n",
    "    \n",
    "#anchor text = link\n",
    "\n",
    "    countATEqualsTarget = rdd\\\n",
    "        .filter(lambda i: (i['targetUrl'] == i['anchorText']))\\\n",
    "        .count()\n",
    "    \n",
    "    with open(\"resultsATAnalysis_\"+date+\".txt\", \"w\") as file1:\n",
    "        file1.write(\"Anchor Texts total: \" + str(countAllAT) +\"\\n\" \\\n",
    "                    + \"Most frequent Anchor Texts: \" + str(mostUsedAT) + \"\\n\" \\\n",
    "                    + \"Average Anchor Text per Target Site: \" + str(avgATPerTargetSite) + \"\\n\" \\\n",
    "                    + \"Target Site with most anchor Texts: \" + str(listATPerTargetSite) + \"\\n\" \\\n",
    "                    + \"Average Anchor Text per Src Site: \" + str(avgATPerSrcSite) + \"\\n\" \\\n",
    "                    + \"Src Site with most Anchor Texts: \" + str(listATPerSrcSite) + \"\\n\" \\\n",
    "                    + \"Average Anchor Text length: \" + str(avgATLength) + \"\\n\" \\\n",
    "                    + \"Anchor Text equals target: \" + str(countATEqualsTarget))\n",
    "\n",
    "sc.stop()\n",
    "print(\"DONE!\")"
   ]
  },
  {
   "cell_type": "code",
   "execution_count": 9,
   "metadata": {
    "execution": {
     "iopub.execute_input": "2021-06-01T19:32:08.702456Z",
     "iopub.status.busy": "2021-06-01T19:32:08.702124Z",
     "iopub.status.idle": "2021-06-01T19:32:09.860598Z",
     "shell.execute_reply": "2021-06-01T19:32:09.858950Z",
     "shell.execute_reply.started": "2021-06-01T19:32:08.702420Z"
    }
   },
   "outputs": [
    {
     "data": {
      "text/plain": [
       "[('http://wordpress.org/', 'WordPress'),\n",
       " ('http://abc.go.com/shows/greys-anatomy', 'GREYS ANATOMY'),\n",
       " ('http://www.elegantthemes.com', 'Elegant Themes'),\n",
       " ('http://www.morningstar.com/', 'Morningstar'),\n",
       " ('https://repair.org', 'Repair.org'),\n",
       " ('https://www.allstate.com', 'Allstate.com'),\n",
       " ('https://choice.microsoft.com/', 'About our ads'),\n",
       " ('https://www.boxofficemojo.com', 'Box Office Mojo'),\n",
       " ('http://wordpress.org/', 'WordPress'),\n",
       " ('http://www.njcaa.org/landing/index', 'NJCAA')]"
      ]
     },
     "execution_count": 9,
     "metadata": {},
     "output_type": "execute_result"
    }
   ],
   "source": [
    "#beliebteste anchor texte pro target url\n",
    "\n",
    "#def addElem(a, b): return \n",
    "#def addList(a, b): return \n",
    "\n",
    "#rdd\\\n",
    "#    .map(lambda i: (i['targetUrl'], i['anchorText']))\\\n",
    "#    .combineByKey(list, add, add)\n",
    "    .take(10)\n",
    "    #.groupByKey()\\\n",
    "    #.take(10)\n",
    "    #.countByValue()\\\n",
    "    #.take(10)"
   ]
  },
  {
   "cell_type": "code",
   "execution_count": null,
   "metadata": {},
   "outputs": [],
   "source": []
  }
 ],
 "metadata": {
  "kernelspec": {
   "display_name": "Python 3",
   "language": "python",
   "name": "python3"
  },
  "language_info": {
   "codemirror_mode": {
    "name": "ipython",
    "version": 3
   },
   "file_extension": ".py",
   "mimetype": "text/x-python",
   "name": "python",
   "nbconvert_exporter": "python",
   "pygments_lexer": "ipython3",
   "version": "3.7.10"
  }
 },
 "nbformat": 4,
 "nbformat_minor": 4
}
