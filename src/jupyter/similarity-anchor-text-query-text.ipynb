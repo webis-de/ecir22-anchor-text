{
 "cells": [
  {
   "cell_type": "markdown",
   "metadata": {},
   "source": [
    "# Mining of Parallel query/Anchor Text: Similarity"
   ]
  },
  {
   "cell_type": "code",
   "execution_count": 1,
   "metadata": {},
   "outputs": [],
   "source": [
    "DATA_FILE='/mnt/ceph/storage/data-in-progress/data-research/web-search/ECIR-22/ecir21-anchor2query/tmp'"
   ]
  },
  {
   "cell_type": "code",
   "execution_count": 17,
   "metadata": {},
   "outputs": [
    {
     "name": "stderr",
     "output_type": "stream",
     "text": [
      "20380697it [01:27, 234238.28it/s]\n"
     ]
    },
    {
     "name": "stdout",
     "output_type": "stream",
     "text": [
      "2682197\n",
      "1628869\n"
     ]
    }
   ],
   "source": [
    "from tqdm import tqdm\n",
    "import pandas as pd\n",
    "import json\n",
    "\n",
    "unpopular = 0\n",
    "unpopular_and_non_identical = 0\n",
    "\n",
    "df = []\n",
    "\n",
    "with open(DATA_FILE) as f:\n",
    "    for l in tqdm(f):\n",
    "        l = json.loads(l)\n",
    "        if l['orcasQueries'] <= 10:\n",
    "            unpopular += 1\n",
    "            if not l['identical_domain']:\n",
    "                unpopular_and_non_identical += 1\n",
    "                df += [l]\n",
    "                \n",
    "df = pd.DataFrame(df)\n",
    "print(unpopular)\n",
    "print(unpopular_and_non_identical)"
   ]
  },
  {
   "cell_type": "markdown",
   "metadata": {},
   "source": [
    "# Properties of the Sample\n",
    "\n",
    "- 1.6 million links\n",
    "- 5% of CC 2019-47 URLs\n",
    "- Source and target have different domains\n",
    "- Only non-popular documents (<= 10 queries pointing to the document)"
   ]
  },
  {
   "cell_type": "code",
   "execution_count": 19,
   "metadata": {},
   "outputs": [
    {
     "data": {
      "text/html": [
       "<div>\n",
       "<style scoped>\n",
       "    .dataframe tbody tr th:only-of-type {\n",
       "        vertical-align: middle;\n",
       "    }\n",
       "\n",
       "    .dataframe tbody tr th {\n",
       "        vertical-align: top;\n",
       "    }\n",
       "\n",
       "    .dataframe thead th {\n",
       "        text-align: right;\n",
       "    }\n",
       "</style>\n",
       "<table border=\"1\" class=\"dataframe\">\n",
       "  <thead>\n",
       "    <tr style=\"text-align: right;\">\n",
       "      <th></th>\n",
       "      <th>orcasQueries</th>\n",
       "      <th>anchorContextScore</th>\n",
       "      <th>anchorContextCoveredTerms</th>\n",
       "      <th>anchorTextScore</th>\n",
       "      <th>anchorTextScoreCoveredTerms</th>\n",
       "      <th>identical_domain</th>\n",
       "    </tr>\n",
       "  </thead>\n",
       "  <tbody>\n",
       "    <tr>\n",
       "      <th>0</th>\n",
       "      <td>2</td>\n",
       "      <td>3.000000</td>\n",
       "      <td>0.021898</td>\n",
       "      <td>1.0</td>\n",
       "      <td>1.0</td>\n",
       "      <td>False</td>\n",
       "    </tr>\n",
       "    <tr>\n",
       "      <th>1</th>\n",
       "      <td>9</td>\n",
       "      <td>1.666667</td>\n",
       "      <td>0.015228</td>\n",
       "      <td>0.0</td>\n",
       "      <td>0.0</td>\n",
       "      <td>False</td>\n",
       "    </tr>\n",
       "    <tr>\n",
       "      <th>2</th>\n",
       "      <td>1</td>\n",
       "      <td>2.000000</td>\n",
       "      <td>0.012658</td>\n",
       "      <td>2.0</td>\n",
       "      <td>0.5</td>\n",
       "      <td>False</td>\n",
       "    </tr>\n",
       "    <tr>\n",
       "      <th>3</th>\n",
       "      <td>10</td>\n",
       "      <td>2.300000</td>\n",
       "      <td>0.031250</td>\n",
       "      <td>1.9</td>\n",
       "      <td>1.0</td>\n",
       "      <td>False</td>\n",
       "    </tr>\n",
       "  </tbody>\n",
       "</table>\n",
       "</div>"
      ],
      "text/plain": [
       "   orcasQueries  anchorContextScore  anchorContextCoveredTerms  \\\n",
       "0             2            3.000000                   0.021898   \n",
       "1             9            1.666667                   0.015228   \n",
       "2             1            2.000000                   0.012658   \n",
       "3            10            2.300000                   0.031250   \n",
       "\n",
       "   anchorTextScore  anchorTextScoreCoveredTerms  identical_domain  \n",
       "0              1.0                          1.0             False  \n",
       "1              0.0                          0.0             False  \n",
       "2              2.0                          0.5             False  \n",
       "3              1.9                          1.0             False  "
      ]
     },
     "execution_count": 19,
     "metadata": {},
     "output_type": "execute_result"
    }
   ],
   "source": [
    "df.head(4)"
   ]
  },
  {
   "cell_type": "code",
   "execution_count": 12,
   "metadata": {},
   "outputs": [
    {
     "data": {
      "text/plain": [
       "<AxesSubplot:xlabel='anchorTextScoreCoveredTerms', ylabel='Count'>"
      ]
     },
     "execution_count": 12,
     "metadata": {},
     "output_type": "execute_result"
    },
    {
     "data": {
      "image/png": "[encoded data removed]",
      "text/plain": [
       "<Figure size 432x288 with 1 Axes>"
      ]
     },
     "metadata": {
      "needs_background": "light"
     },
     "output_type": "display_data"
    }
   ],
   "source": [
    "import seaborn as sns\n",
    "\n",
    "sns.histplot(df['anchorTextScoreCoveredTerms'])"
   ]
  },
  {
   "cell_type": "markdown",
   "metadata": {},
   "source": [
    "It looks like there are exactly two types of anchor text:\n",
    "\n",
    "- Similarity 1.0: Anchor texts very similar to queries (all words in the anchor text appear also in frequent queries)\n",
    "- Similarity 0.0:  Anchor texts disjoint to queries (all words in the anchor text do not appear in frequent queries)\n"
   ]
  },
  {
   "cell_type": "markdown",
   "metadata": {},
   "source": [
    "# Manual Review of Anchors"
   ]
  },
  {
   "cell_type": "code",
   "execution_count": 12,
   "metadata": {},
   "outputs": [],
   "source": [
    "# Helper Code\n",
    "\n",
    "def normalize(text):\n",
    "    import nltk\n",
    "    nltk.data.path =  ['/mnt/ceph/storage/data-in-progress/data-research/web-archive/EMNLP-21/emnlp-web-archive-questions/cluster-libs/nltk_data']\n",
    "    from nltk.stem import PorterStemmer\n",
    "    from nltk.tokenize import word_tokenize\n",
    "    from nltk.corpus import stopwords\n",
    "    stop_words = set(stopwords.words('english'))\n",
    "    ps = PorterStemmer()\n",
    "    \n",
    "    return [ps.stem(i) for i in word_tokenize(text) if i not in stop_words]\n",
    "\n",
    "def weighted_representation(texts):\n",
    "    from collections import defaultdict\n",
    "    absolute_count = defaultdict(lambda: 0)\n",
    "    for text in texts:\n",
    "        for word in normalize(text):\n",
    "            absolute_count[word] += 1\n",
    "    \n",
    "    return {k: v/len(texts) for k,v in absolute_count.items()}\n",
    "\n",
    "def similarity(weights, text):\n",
    "    text = set(normalize(text))\n",
    "    ret = 0\n",
    "    \n",
    "    if text is None or len(text) == 0:\n",
    "        return (0, 0.0)\n",
    "    \n",
    "    for k,v in weights.items():\n",
    "        if k in text:\n",
    "            ret += v\n",
    "    \n",
    "    covered_terms = 0\n",
    "    for k in text:\n",
    "        if k in weights:\n",
    "            covered_terms += 1\n",
    "            \n",
    "    return (ret, covered_terms/len(text))\n",
    "\n",
    "def __add_to_path(p):\n",
    "    import sys\n",
    "    if p not in sys.path:\n",
    "        sys.path.append(p)\n",
    "\n",
    "def domain(url):\n",
    "    __add_to_path('/mnt/ceph/storage/data-in-progress/data-research/web-archive/EMNLP-21/emnlp-web-archive-questions/cluster-libs/tld')\n",
    "    from tld import get_tld\n",
    "    ret = get_tld(url, as_object=True, fail_silently=True)\n",
    "    if ret:\n",
    "        return ret.domain\n",
    "    else:\n",
    "        return 'None'\n",
    "\n",
    "def identical_domain(i):\n",
    "    return domain(i['document']['srcUrl']).lower() == domain(i['targetUrl']).lower()\n",
    "\n",
    "def enrich_similarity(i):\n",
    "    i = dict(i)\n",
    "    weights = weighted_representation(i['orcasQueries'])\n",
    "    contextSim = similarity(weights, i['anchorContext'])\n",
    "    anchorSim = similarity(weights, i['anchorText'])\n",
    "    i['anchorContextScore'] = contextSim[0]\n",
    "    i['anchorContextCoveredTerms'] = contextSim[1]\n",
    "    i['anchorTextScore'] = anchorSim[0]\n",
    "    i['anchorTextScoreCoveredTerms'] = anchorSim[1]\n",
    "    \n",
    "    return i\n",
    "\n",
    "def enrich_domain(i):\n",
    "    i = dict(i)\n",
    "    i['identical_domain'] = identical_domain(i)\n",
    "    return i\n",
    "\n",
    "def pretty_print_text(entry):\n",
    "    from termcolor import colored\n",
    "\n",
    "    weights = weighted_representation(entry['orcasQueries'])\n",
    "    tmp = entry['anchorContext'].replace('\\\\s+', ' ')\n",
    "    ret = ''\n",
    "    for w in tmp.split(' '):\n",
    "        crnt = w\n",
    "        normalized_w = normalize(w)\n",
    "        tmp_str = []\n",
    "        \n",
    "        for nw in normalized_w:\n",
    "            if nw in weights:\n",
    "                tmp_str += [nw + ':' + str(weights[nw])]\n",
    "        \n",
    "        if len(tmp_str) > 0:\n",
    "            crnt += '[' + ( ';'.join(tmp_str) ) + ']'\n",
    "            crnt = colored(crnt, 'red')\n",
    "    \n",
    "        ret += ' ' + crnt\n",
    "    \n",
    "    \n",
    "    return ret.strip()\n",
    "    \n",
    "\n",
    "def pretty_print(entry):\n",
    "    print('Document: ' + str(entry['document']['srcUrl']))\n",
    "    print('OrcasQueries: ' + str(entry['orcasQueries']))\n",
    "    \n",
    "    print('Target\\n\\tUrl: ' + entry['targetUrl'])\n",
    "    print('\\tAnchor:\\n\\t\\t\\'' + entry['anchorText'] + '\\'\\n')\n",
    "    print('\\tAnchorContext: \\'' + pretty_print_text(entry)+ '\\'')\n",
    "\n",
    "def report(df, start, end):\n",
    "    for _, i in df.iloc[start:end].iterrows():\n",
    "        pretty_print(i)\n",
    "        print('\\n\\n\\n')"
   ]
  },
  {
   "cell_type": "markdown",
   "metadata": {},
   "source": [
    "## Manual Review of some Mismatch Anchors"
   ]
  },
  {
   "cell_type": "code",
   "execution_count": 3,
   "metadata": {},
   "outputs": [],
   "source": [
    "import pandas as pd\n",
    "\n",
    "df_mismatch = pd.read_json('/mnt/ceph/storage/data-in-progress/data-research/web-search/ECIR-22/ecir21-anchor2query/mismatch_anchors_sample.jsonl', lines=True)"
   ]
  },
  {
   "cell_type": "code",
   "execution_count": 10,
   "metadata": {},
   "outputs": [
    {
     "name": "stdout",
     "output_type": "stream",
     "text": [
      "Document: https://ja.wikipedia.org/wiki/%E3%82%B8%E3%83%A7%E3%83%87%E3%82%A3%E3%83%BB%E3%83%AF%E3%83%88%E3%83%AA%E3%83%BC\n",
      "OrcasQueries: ['jodie whately', 'jody watley', 'jody whatley', 'jodi watley', 'jodi whatley', 'jodi whatley singer']\n",
      "Target\n",
      "\tUrl: http://jodywatley.net\n",
      "\tAnchor:\n",
      "\t\t'jodywatley.net'\n",
      "\n",
      "\tAnchorContext: 'ジョディ・ワトリー - Wikipedia ジョディ・ワトリー 出典: フリー百科事典『ウィキペディア（Wikipedia）』 ナビゲーションに移動 検索に移動 ジョディ・ワトリー \u001b[31mJody[jodi:1.0]\u001b[0m \u001b[31mWatley[watley:0.3333333333333333]\u001b[0m 基本情報 出生名 \u001b[31mJody[jodi:1.0]\u001b[0m Vanessa \u001b[31mWatley[watley:0.3333333333333333]\u001b[0m 生誕 (1959-01-30) 1959年1月30日 アメリカ合衆国 イリノイ州 シカゴ 出身地 アメリカ合衆国 カリフォルニア州 ロサンゼルス ジャンル ポップ R&B ダンス・ポップ ヒップホップ 職業 歌手 担当楽器 ボーカル 活動期間 1977年 - レーベル MCAレコード アトランティック・レコード 共同作業者 シャラマー 公式サイト jodywatley.net ジョディ・ワトリー（Jody \u001b[31mWatley,[watley:0.3333333333333333]\u001b[0m 1959年1月30日 - ）は、アメリカ合衆国イリノイ州シカゴ出身の歌手である。 1977年から1984まではシャラマーの一員として活躍。 1987年にソロデビューアルバム「Jody Watley」をリリース。斬新なサウンドで一躍話題に。 シングルカットされた「Looking for A New Love」がビルボードチャートで最高2位を記録。 このアルバムから更に「Don't You Want Me」(#6)と「Some Kind Of Lover」(#10) もトップ10入りし 第30回のグラミー賞で最優秀新人賞を獲得。1989年にセカンドアルバム「Larger Than Life」をリリースし、 このアルバムからも3曲トップ10ヒットを放つ。 また当時としては初の全曲リミックスアルバム「You Wanna Dance with Me?」を発表し、ダンスチャートの常連に。 それ以降も順調にアルバムを発表している。 2001年にはJ-FRIENDSの「ALWAYS (A SONG FOR LOVE)」にコーラスで参加している。 ディスコグラフィー[編集] アルバム[編集] \u001b[31m1987年　Jody[jodi:1.0]\u001b[0m \u001b[31mWatley[watley:0.3333333333333333]\u001b[0m 1989年　Larger than Life 1989年　You Wanna Dance With Me 1991年　Affairs of the Heart 1993年　Intimacy 1995年　Affection 1996年　Greatest Hits 1998年　Flower 1999年　The Saturday Night Experience 2003年　Midnight Lounge 2006年　The Makeover 関連項目[編集] ボビー・ブラウン MCハマー シャラマー 典拠管理 WorldCat Identities BNF: cb13942806q (データ) GND: 134551494 ISNI: 0000 0000 6309 7373 LCCN: n91127661 MusicBrainz: 699e687d-9e77-4fd0-9b7a-54d2aaadf05b SUDOC: 082303924 VIAF: 37106844 この項目は、歌手に関連した書きかけの項目です。この項目を加筆・訂正などしてくださる協力者を求めています（P:音楽/PJ芸能人）。 「https://ja.wikipedia.org/w/index.php?title=ジョディ・ワトリー&oldid=69687771」から取得 カテゴリ: アメリカ合衆国の女性歌手 アフリカ系アメリカ人のミュージシャン MCAレコードのアーティスト シカゴ出身の人物 グラミー賞受賞者 1959年生 存命人物 隠しカテゴリ: BNF識別子が指定されている記事 GND識別子が指定されている記事 ISNI識別子が指定されている記事 LCCN識別子が指定されている記事 MusicBrainz識別子が指定されている記事 VIAF識別子が指定されている記事 歌手に関するスタブ 案内メニュー 個人用ツール ログインしていません トーク 投稿記録 アカウント作成 ログイン 名前空間 ページ ノート 変種 表示 閲覧 編集 履歴表示 その他 検索 案内 メインページ コミュニティ・ポータル 最近の出来事 新しいページ 最近の更新 おまかせ表示 練習用ページ アップロード (ウィキメディア・コモンズ) ヘルプ ヘルプ 井戸'\n",
      "\n",
      "\n",
      "\n",
      "\n",
      "Document: http://masshomesale.com/2015/06/30/real-estate-trends-pelham-new-hampshire/\n",
      "OrcasQueries: ['town of pelham nh website', 'pelham nh news', 'pelham nh police', 'pelham new hampshire', 'pelham nh', 'town of pelham nh', 'pelham, nh', 'pelham,nh']\n",
      "Target\n",
      "\tUrl: https://en.wikipedia.org/wiki/Pelham,_New_Hampshire\n",
      "\tAnchor:\n",
      "\t\t'Wikipedia'\n",
      "\n",
      "\tAnchorContext: 'moved the \u001b[31mnew[new:0.125]\u001b[0m calculation for the remaining 15 houses gives an average days on market of 36.07. In 2015 there was a house with 218 days on market; this was higher than the next 2 combined and more than 44% of the total days on market for all 11 houses. When removed the \u001b[31mnew[new:0.125]\u001b[0m calculation for the remaining 10 houses gives an average days on market of 27.30. Using these adjusted numbers we see that the small decline in days on market now becomes a much more \u001b[31msignificant,[,:0.25]\u001b[0m 24.31% decrease. This does not really change the general thought that things are selling a little faster than last year. \u001b[31mPelham,[pelham:1.0;,:0.25]\u001b[0m \u001b[31mNew[new:0.125]\u001b[0m \u001b[31mHampshire[hampshir:0.125]\u001b[0m Summary: The \u001b[31mPelham,[pelham:1.0;,:0.25]\u001b[0m \u001b[31mNew[new:0.125]\u001b[0m \u001b[31mHampshire[hampshir:0.125]\u001b[0m real estate market looks like is has fallen off some since last year. The drops in listing prices and sale prices show this. The discrepancy in the magnitude of the fall based on using the average or median prices only leave debate in how much things are down. \u001b[31mHowever,[,:0.25]\u001b[0m the decrease in days on market is a small consolation for sellers at this time. In summary if you are looking to sell a house in \u001b[31mPelham,[pelham:1.0;,:0.25]\u001b[0m \u001b[31mNH[nh:0.875]\u001b[0m now you should expect to get less than you would have last year. However you should also expect it to take less time to sell compared to last year if you have it priced correctly. Do you need to sell your \u001b[31mPelham,[pelham:1.0;,:0.25]\u001b[0m \u001b[31mNew[new:0.125]\u001b[0m \u001b[31mHampshire[hampshir:0.125]\u001b[0m house fast? If you would like to sell your home fast and hassle free schedule a consultation with us today. Please share your questions and comments below. (Image credit: \u001b[31mPelham[pelham:1.0]\u001b[0m \u001b[31mTown[town:0.25]\u001b[0m Seal from www.pelhamweb.com via Wikipedia) Filed Under: hillsborough \u001b[31mcounty,[,:0.25]\u001b[0m market \u001b[31mtrends,[,:0.25]\u001b[0m \u001b[31mnew[new:0.125]\u001b[0m \u001b[31mhampshire,[hampshir:0.125;,:0.25]\u001b[0m \u001b[31mpelham,[pelham:1.0;,:0.25]\u001b[0m real \u001b[31mestate,[,:0.25]\u001b[0m single family Speak Your Mind Cancel reply Name * Email * \u001b[31mWebsite[websit:0.125]\u001b[0m (617) 379-1167 We invest in these areas: All Eastern MA and Southern \u001b[31mNH[nh:0.875]\u001b[0m Sign up for our Newsletter to Get Monthly Market Info and Trend Reports! First Name* Last Name Email* Tweets by @MassHomeSales Copyright © 2019 · Reilly Real Estate · Powered by ThriveHive Return to top of page'\n",
      "\n",
      "\n",
      "\n",
      "\n",
      "Document: https://premaseem.wordpress.com/2012/12/19/how-to-avoid-cancer/?like_comment=1380&replytocom=1082\n",
      "OrcasQueries: ['john hopkins hospital', 'hopkins medicine.org', 'john hopkins', 'johns hopkins', 'johns hopkins hospital', 'johns hopkins medicine', 'john hopkins medical center', 'john hopkins medical institute', 'www.hopkinsmedicine.org', 'john hopkins university hospital']\n",
      "Target\n",
      "\tUrl: http://www.hopkinsmedicine.org/\n",
      "\tAnchor:\n",
      "\t\t'http://www.hopkinsmedicine.org/'\n",
      "\n",
      "\tAnchorContext: 'ask, because I saw this shared via a friend on Facebook who has had cancer, and whilst all of the above is good advice for a healthy lifestyle, I do not think it is right to represent this as \u001b[31mmedical[medic:0.2]\u001b[0m advice. LikeLike Reply saurabh December 29, 2013 at 5:04 pm Please post Stuff from authentic and reliable sources….rather than misleading people….. Consult an expert on the matter…. LikeLike Reply Mohan C. Alex December 29, 2013 at 5:17 pm Dear Sirs, Thank you very much for this wonderful advice. I will follow this diet from this moment. I am suffering from cancer on the essophagus (food pipe) for more than one year. LikeLike Reply Laura December 29, 2013 at 5:23 pm This has got to be a joke?? Surely?? For an article about cancer, I’ve never seen so many scientific inaccuracies!! LikeLike Reply Robert Jones December 29, 2013 at 5:32 pm Cancer Update Email — It’s a Hoax! Information falsely attributed to \u001b[31mJohns[john:0.8]\u001b[0m \u001b[31mHopkins[hopkin:0.9]\u001b[0m called, “CANCER UPDATE FROM \u001b[31mJOHN[john:0.8]\u001b[0m \u001b[31mHOPKINS”[hopkin:0.9]\u001b[0m describes properties of cancer cells and suggests ways of preventing cancer. \u001b[31mJohns[john:0.8]\u001b[0m \u001b[31mHopkins[hopkin:0.9]\u001b[0m did not publish the information, which often is an email attachment, nor do we endorse its contents. The email also contains an incorrect spelling of our \u001b[31minstitution[institut:0.1]\u001b[0m as \u001b[31m“John”[john:0.8]\u001b[0m \u001b[31mHopkins;[hopkin:0.9]\u001b[0m whereas, the correct spelling is \u001b[31m“Johns”[john:0.8]\u001b[0m \u001b[31mHopkins.[hopkin:0.9]\u001b[0m For more information about cancer, please read the information on our web site or visit the National Cancer \u001b[31mInstitute.[institut:0.1]\u001b[0m Please help combat the spread of this hoax by letting others know of this statement. http://www.hopkinsmedicine.org/…/cancer_update_email_it… Cancer Update Email — It’s a Hoax! http://www.hopkinsmedicine.org Information falsely attributed to \u001b[31mJohns[john:0.8]\u001b[0m \u001b[31mHopkins[hopkin:0.9]\u001b[0m called, “CANCER UPDATE FROM JOHN…See More LikeLike Reply Bird Lee December 29, 2013 at 5:35 pm Where are your sources that gave you this information?? LikeLike Reply Kimmiijay December 29, 2013 at 5:38 pm Why have you written an article which sounds a lot like “cancer treatment is evil, all you need is some veg”. Healthy diet reduces risk of cancer, but the science in this is shockingly bad. Case in point “Water–best to drink purified water, or filtered, to avoid known toxins and heavy metals in tap water. Distilled water is acidic, avoid it.” Distilled water is just water which has been boiled and the water vapour collected. It leaves all the impurities behind so you just have pure water, it’s like filtering but better. Distilled water is pure H2O and therefore neutral, because for every acidic ion it can make, a basic (alkaline) one is produced too. The oxygenated one is rubbish too. One of the main causes of cancer is cell damage through oxidation, in addition when exercising you use more oxygen, which resultsin the muscles sometimes not getting enough and having to rely on anaerobic respiration (respiration without oxygen). That’s why you get cramp. LikeLike Reply Sharon Weyer December 29, 2013 at 5:41 pm Thank you 🙂 I am a cancer survivor of 7 years. With your help I can continue to fight. LikeLike Reply Loki December 29, 2013 at 5:56 pm http:'\n",
      "\n",
      "\n",
      "\n",
      "\n",
      "Document: https://www.3m.com.sa/3M/en_SA/company-mea/all-3m-products/?N=5002385+8709313+8711017&rt=r3\n",
      "OrcasQueries: ['bondo', 'bondo wood filler']\n",
      "Target\n",
      "\tUrl: http://bondo.com/\n",
      "\tAnchor:\n",
      "\t\t'Bondo™'\n",
      "\n",
      "\tAnchorContext: 'y Hardware & Software Signs & Displays Skin & Wound Care Sterilization Monitoring Surgical Solutions Tapes & Adhesives Traffic & Vehicle Safety Wire & Cable Automotive Products for Business Automotive Products Products Automotive Abrasives Automotive Products Collision Repair (US, English) Tapes & Adhesives OEM & Tier Industries Industries Automotive Auto Care Worker Safety OEM & Tier Brands Brands Automotive Bondo™ (US) Cubitron™ II (US, English) E-A-R™ Peltor™ PPS™ (US) Scotch-Brite™ Scotchgard™ (US, English) Scotchlite™ (US, English) Speedglas™ (US, English) Thinsulate™ (US, English) Trizact™ (US, English) Commercial Solutions Products for Business Commercial Solutions Products Products Commercial Solutions Facility Cleaning & Maintenance Architecture & Construction Building Maintenance & Repair Building Safety Industries Industries Commercial Solutions Commercial Cleaning (US, English) Graphics & Signage (US, English) Worker Safety Brands Brands Commercial Solutions Scotch® Scotch-Brite™ Scotchcal™ (US, English) Scotchgard™ (US, English) Communications Products for Business Communications Products Products Communications Tapes & Adhesives Wire & Cable Brands Brands Communications E-A-R™ Peltor™ Design & Construction Products for Business Design & Construction Products Products Design & Construction Abrasives Architecture & Construction Tapes & Adhesives Industries Industries Design & Construction Graphic Solutions (US, English) Brands Brands Design & Construction Bondo™ Controltac™ (US, English) Cubitron™ II (US, English) DI-NOC™ (US, English) E-A-R™ Peltor™ PPS™ (US) Scotch® Scotch-Brite™ Scotchgard™ (US, English) Scotchlite™ (US, English) Scotch-Weld™ (US, English) Speedglas™ (US, English) Trizact™ (US, English) VHB™ Electronics Products for Business Electronics Products Products Electronics Films Tapes & Adhesives Consumer Electronics Industries Industries Electronics Consumer Electronics (US) Semiconductor (US) Industrial and Manufacturing (US) Brands Brands Electronics E-A-R™ Novec™ Peltor™ Scotch-Brite™ Scotchlite™ (US, English) Scotch-Weld™ (US, English) Speedglas™ (US, English) VHB™ Energy Products for Business Energy Products Products Energy Chemicals & Advanced Materials Tapes & Adhesives Abrasives Films Wire & Cable Industries Industries Energy Electrical Utility (US, English) Energy Films Mining, Oil and Gas Power Distribution (US) Brands Brands Energy Cubitron™ II (US, English) E-A-R™ Peltor™ Scotch® Scotch-Brite™ Scotchkote™ Scotchlite™ (US, English) Scotch-Weld™ (US, English) Speedglas™ (US, English) VHB™ Health Care Products for Business Health Care Products Products Health Care Casting & Splinting Dental Hand Hygiene Patient Monitoring Securement & Immobilization-Dressing Securement Skin & Wound Care Sterilization Monitoring Surgical Solutions Personal Health Care Industries Industries Health Care Food Safety (US, English) Health Information Systems (US, English) Dental Care Orthodontic Solutions (US, English) Stethoscopes'\n",
      "\n",
      "\n",
      "\n",
      "\n",
      "Document: https://skrbh.wordpress.com/2018/05/17/123-ja-ondar-lub-ja-ondar-j-za-ondzi-czyli-jedrne-ja-ondra-jindry-czyli-pra-slowianskiego-je-endrusia-10/?like_comment=6612&_wpnonce=35afcb0093&replytocom=8927\n",
      "OrcasQueries: ['sparta oligarchy', 'oligarchy in sparta']\n",
      "Target\n",
      "\tUrl: http://www.perseus.tufts.edu/hopper/text?doc=Perseus:text:1999.04.0058:entry=dw=ron\n",
      "\tAnchor:\n",
      "\t\t'δῶρον'\n",
      "\n",
      "\tAnchorContext: 'o. ….. https://en.wiktionary.org/wiki/%CE%B4%E1%BF%B6%CF%81%CE%BF%CE%BD#Ancient_Greek δῶρον Ancient Greek Etymology From Proto-Hellenic *dṓron, from Proto-Indo-European *déh₃rom. Cognate with Old Church Slavonic даръ (darъ). Pronunciation (5th BCE Attic) Persian0(key): /dɔ̂ː.ron/ (1st CE Egyptian) Persian1(key): /ˈdo.ron/ (4th CE Koine) Persian2(key): /ˈðo.ron/ (Persian3) Persian4(key): /ˈðo.ron/ (Persian5) Persian6(key): /ˈðo.ron/ Noun δῶρον • (dôron) n (genitive δώρου); second declension gift hand’s width Inflection Second declension of τὸ δῶρον; τοῦ δώρου (Attic) Case / # Singular Dual Plural Nominative τὸ δῶρον tò dôron τὼ δώρω tṑ dṓrō τᾰ̀ δῶρᾰ tà dôra Genitive τοῦ δώρου toû dṓrou τοῖν δώροιν toîn dṓroin τῶν δώρων tôn dṓrōn Dative τῷ δώρῳ tôi dṓrōi τοῖν δώροιν toîn dṓroin τοῖς δώροις toîs dṓrois Accusative τὸ δῶρον tò dôron τὼ δώρω tṑ dṓrō τᾰ̀ δῶρᾰ tà dôra Vocative δῶρον dôron δώρω dṓrō δῶρᾰ dôra Notes: This table gives Attic inflectional endings. For declension in other dialects, see Appendix:Ancient Greek dialectal declension. Derived terms Ἀθηνόδωρος (Athēnódōros) Διόδωρος (Diódōros) ?δωρεᾱ́ (dōreā́) Ἡλιόδωρος (Hēliódōros) Πανδώρα (Pandṓra) Θεόδωρος (Theódōros) Ἰσίδωρος (Isídōros) Related terms δίδωμι (dídōmi, “I give”) Descendants Greek: δώρο (dóro) Hebrew: דּוֹרוֹן‎ (dorón) Further reading Persian7 in Liddell & Scott (1940) A Greek–English Lexicon, Oxford: Clarendon Press δῶρον in Liddell & Scott (1889) An Intermediate Greek–English Lexicon, New York: Harper & Brothers Persian9 in Autenrieth, Georg (1891) A Homeric Dictionary for Schools and Colleges, New York: Harper and Brothers δῶρον in Bailly, Anatole (1935) Le Grand Bailly: Dictionnaire grec-français, Paris: Hachette Bauer, Walter et al. (2001) A Greek–English Lexicon of the New Testament and Other Early Christian Literature, Third edition, Chicago: University of Chicago Press δῶρον in Cunliffe, Richard J. (1924) A Lexicon of the Homeric Dialect: Expanded Edition, Norman: University of Oklahoma Press, published 1963 δῶρον in the Diccionario Griego–Español en línea (© 2006–2018) Lithuanian0 in Slater, William J. (1969) Lexicon to Pindar, Berlin: Walter de Gruyter “G1435”, in Strong’s Exhaustive Concordance to the Bible, 1979 δῶρον in Trapp, Erich, et al. (1994–2007) Lexikon zur byzantinischen Gräzität besonders des 9.-12. Jahrhunderts [the Lexicon of Byzantine Hellenism, Particularly the 9th–12th Centuries], Verlag der Österreichischen Akademie der Wissenschaften Woodhouse, S. C. (1910) English–Greek Dictionary: A Vocabulary of the Attic Language‎[1], London: Routledge & Kegan Paul Limited. ….. https://en.wiktionary.org/wiki/%CE%B4%CE%AF%CE%B4%CF%89%CE%BC%CE%B9#Ancient_Greek δίδωμι Ancient Greek Etymology From Proto-Indo-European *de-deh₃-, reduplicated present of *deh₃- (“to give”). Cognates include Lithuanian1 dō, Lithuanian2 ददाति (dádāti), Old Persian'\n",
      "\n",
      "\n",
      "\n",
      "\n",
      "Document: https://it.ifixit.com/Guida/diff/intro/15641?gmA=704454&gmB=709722\n",
      "OrcasQueries: ['repairs', 'repair it', 'www.repair.com', 'right to repair', 'right to repair act', 'right to repair law', 'right to repair laws', 'repair']\n",
      "Target\n",
      "\tUrl: https://repair.org\n",
      "\tAnchor:\n",
      "\t\t'Repair.org'\n",
      "\n",
      "\tAnchorContext: 'iMac Intel 27\" EMC 2546 Display Replacement History - iFixit <img height=\"1\" width=\"1\" src=\"https://www.facebook.com/tr?id=216235165439303&amp;ev=PageView&amp;noscript=1\"> Skip to main content Menu Guide di Riparazione Forum Risposte Magazzino Parti & Strumenti Smontaggi Traduci Le tue impostazioni Seleziona lingua it Unisciti Accedi IndietroIndietro Cambiamenti ad iMac Intel 27\" EMC 2546 Display Replacement Introduzione Modifica in base a Peter Barber-gio 14 giu 2018 02:11:19 MST Modifica approvata da Sam Goldheart Eliminato Aggiunto Invariato Time Required Min 2 ore Time Required Max 2 ore Difficulty Difficult Moderate 56.708 Free Manuals 156.178 Soluzioni 20.824 Dispositivi iFixit About Us Customer Support Careers Feedback Press Condividi il tuo sapere API Negozi Stati Uniti Canada Australia Europa Pro Ingrosso Al dettaglio Riparabilità Tablet Telefono Computer portatile Prodotti riparabili E-waste Riciclo Manufacturing Advocacy La nostra missione Diritto alla Riparazione Impegno I nostri amici Reports Repair.org Tieniti al passo Impara qualcosa di nuovo ogni mese: Aiuta a Tradurre iFixit © 2019 iFixit - Con licenza in base a Creative Commons — Privacy — Termini — Accessibilità'\n",
      "\n",
      "\n",
      "\n",
      "\n",
      "Document: http://whatadownloads.com/cool-items-for-tech-lovers/\n",
      "OrcasQueries: ['masable', 'mashable', 'mashable shop', 'www.mashable.com', 'the mashable', 'marshable', 'mashable.com', 'mashables']\n",
      "Target\n",
      "\tUrl: https://mashable.com/\n",
      "\tAnchor:\n",
      "\t\t'Windows Assistive Technology'\n",
      "\n"
     ]
    },
    {
     "name": "stdout",
     "output_type": "stream",
     "text": [
      "\tAnchorContext: 'e 2 miesiecznego dziecka butelka, to Nowoczesna promocja klocków dostosowana dla siedemnastoletnich chłopców. Gdzie kupić, harga plamir large lion. Dla dziewczynki 2 lat zarekomendowałam serial Blood & Orchids z 1986, w TELEVISION lub Jay Mohr: Funny For, a Girl. Gdzie, w Broku kupić bruder scania toys. Kellen posiada szansę kupić child girl diy handmade beaded puzzle toy gift-a8. Przekaż mężowi, że sklep internetowy Companion AGD RTV na Mazurach posiada, w ofercie milly mally venus cena, albo xiaomi hm 2lte-in 2014818. Whether or not pet lengthy-haired rabbit dachshund appropriate for, a present for ladies 9 months old? Whether in Kietrzu is stationary \u001b[31mshop,[shop:0.125]\u001b[0m where I’ll get sterling knight high school musical. Effectively made version of the set of blocks for an eight-month boy how, to make, a puppet present for kids we advocate. For ladies six years previous it is going to be worthwhile dvd Rustom in addition to Kokurikozaka kara z From Up on Poppy Hill z 2011. Word: School and workers take advantage of these discounts for private computer purchases. College-issued computers for school and workers are centralized via IT and are dealt with via a separate course of. Star wars pressure unleashed mac os x on-line retailer with toys Starogard GdaÅ„ski. Bestsellers: winnie and associates multiplex is concept for reward. I noticed in Warsaw set Duplo 1984 Deep Sea Diver. On the image there is enormous pure-breed dog race jindo-kae. Value break: milly mally instruction is exclusive Windows Assistive Technology gifts. Pay attention to: national geographic usa map is patent for gift. Nowość: early rider rowerek biegowy. Współuczestnicz zapisując się dziś do wypowiedzi dlaczego trzeba kupować smartbandy dla 14 latki. Dobrze wykonana zabawkowa oferta dla dziewczyn siedemnastomiesięcznych ciasto dla dwulatka polecamy. Po powrocie z meczu asteras machairado z prostars fc jakieś nastolatki niosły wesoła kuchnia wierszyki dla dzieci e. ś. bielak xxx. Czy, w Mysłowicach jest sklep dla maluchów, gdzie dostanę limango opinie. Szybko oddam wycieczka korfu wiadomości Woźniki. Warto zobaczyć zakończenie bajek Hiatari Ryoko! i The New Super Mario World. Do kupienia, w sieci jest pluszowy psiaczek rasy stabyhoun. Mój companion Torkil, w ferie wreszcie za grosze zakupił monster excessive toy figures. W przerwie meczu cosmos z birkenhead united oddałem na cele charytatywne neguar bungetzrnindusa red lp xxx. items, lovers Post navigation Expertise Intelligence New Technology Devices You Ought to Have In Your Home Recent Posts 7 Finest New Expertise Gadget Releases 2018 7 Finest New Technology Gadget Releases 2018 28 Best Expertise WooCommerce Themes For Online Gadget \u001b[31mShops[shop:0.125]\u001b[0m 2018 REDUCE, South Africa Failed Login Archives November 2019 October 2019 September 2019 August 2019 July 2019 June 2019 May 2019 April 2019 March 2019 February 2019 January 2019 December 2018 November 2018 October 2018 September 2018 August 2018 July 2018 June 2018 May 2018 April 2018 March 2018 February 2018 January 2018 Decemb'\n",
      "\n",
      "\n",
      "\n",
      "\n",
      "Document: http://www.plantcell.org/content/19/9/2719\n",
      "OrcasQueries: ['bio edit', 'download bioedit', 'bioedit', 'bioedit download', 'bioedit sequence alignment editor', 'bioedit software', 'bioedit ãã¦ã³ãã¼ã']\n",
      "Target\n",
      "\tUrl: http://www.mbio.ncsu.edu/BioEdit/bioedit.html\n",
      "\tAnchor:\n",
      "\t\t'http://www.mbio.ncsu.edu/BioEdit/bioedit.html'\n",
      "\n",
      "\tAnchorContext: 'able changes outside the ovule (S.R. Hepworth and G.W. Haughn, unpublished results). A more complete understanding of BEL1 function outside the ovule must therefore await further analysis. METHODS Plant Materials and Growth Conditions The Arabidopsis thaliana ecotypes Columbia-0 (Col-0), Col-2, Col with erecta mutation (Col er105), and Landsberg erecta were used as wild-type controls in phenotypic screens and other experiments for the mutants and transgenics, in accordance with their genetic backgrounds. BP:GUS was a gift from Sarah Hake (Ori et al., 2000). All Salk insertion lines, TILLING lines, and the as1-1 mutant were ordered from the ABRC (stock numbers: as1, CS3374; saw1, SALK_009120; saw1-2, CS87673; saw2-1, SALK_121117; and saw2-2, SALK_149402). The genotypes of the saw1 and saw2 mutants and any double mutants generated were confirmed by PCR-based genotyping. Plants were grown as previously described (Bellaoui et al., 2001; Hepworth et al., 2005) and transformed using the Agrobacterium tumefaciens–mediated floral dip method (Clough and Bent, 1998). \u001b[31mSequence[sequenc:0.14285714285714285]\u001b[0m Analysis The amino acid \u001b[31msequences[sequenc:0.14285714285714285]\u001b[0m for the BLH proteins were \u001b[31maligned[align:0.14285714285714285]\u001b[0m using the ClustalX program (Thompson et al., 1994, 1997) with default \u001b[31malignment[align:0.14285714285714285]\u001b[0m parameters except for the protein matrix, for which BLOSUM62 (Henikoff and Henikoff, 1992) was used. To construct the phylogram based on the maximum likelihood method (Felsenstein, 1981), the \u001b[31maligned[align:0.14285714285714285]\u001b[0m \u001b[31msequences[sequenc:0.14285714285714285]\u001b[0m were imported into \u001b[31mBioedit[bioedit:0.8571428571428571]\u001b[0m for manual \u001b[31mediting[edit:0.14285714285714285]\u001b[0m (Hall, 1999; http://www.mbio.ncsu.edu/BioEdit/bioedit.html). Three highly conserved regions were identified (see Supplemental Figure 1A online), and these regions were selected for further analysis. The \u001b[31malignment[align:0.14285714285714285]\u001b[0m of the conserved \u001b[31msequences[sequenc:0.14285714285714285]\u001b[0m was bootstrapped 1000 times using SEQBOOT (from PHYLIP version 3.6, distributed by J. Felsenstein, University of Washington, Seattle). The program Phyml (Guindon and Gascuel, 2003; Guindon et al., 2005) was then used to generate maximum likelihood–based trees for both bootstrapped and nonbootstrapped data sets. The trees were visualized using Treeview (R. Page; http://taxonomy.zoology.gla.ac.uk/rod/treeview.html) and processed with IrfanView (I. Skiljan; http://www.irfanview.com/) and Photoshop (Adobe Systems), where the bootstrap values were converted to 100 and added to the tree branches. RT-PCR and Quantitative Real-Time PCR cDNA was synthesized by RT using Superscript II RT (Invitrogen) and 1 μg of total RNA isolated from required organs of the mutants or the wild type. PCR was performed using 1 μL of cDNA as template and Taq DNA polymerase (Invitrogen) according to the manufacturer's instructions. Primers were as follows: BEL1, p1 5′-CACAAGTCACCACAGCAACA-3′/p2 5′-TGCTTGAATCTGTCCCACAA-3′; SAW1, p1 5′-CAGCGGGAATCTCTTCTTCC-3′/p2 5′-TGGATTTTGTGCTCTTGTCG-3′; SAW2, p1 5′-CCATTGGAGGGATCTACACG-3′/p2 5′-ATCCCCTAGAAGCTCACAGC-3′; BP, p1 5′-CGATGTTGAAGCCATGAAGG-3′/p2 5′-GCTGTTGTCGAGCCTCAAAG-3′; KNAT2, p1 5′-CGCGTATTCGAAAAGCTGAG-3′/p2 5′-CATGGTTCTCTCGCTGAATCTC-3′; KNAT6, p1 5′-AAATCGCTTGTCATCCTTCG-3′/p2 5'\n",
      "\n",
      "\n",
      "\n",
      "\n",
      "Document: https://otherlibrarian.wordpress.com/2010/04/30/ten-reasons-why-professional-librarian-is-an-oxymoron/?like_comment=21438&_wpnonce=e3536c1893&replytocom=16022\n",
      "OrcasQueries: ['dewey decimal system', 'melvil', 'melvil dewey', 'melville dewey', 'melvin dewey']\n",
      "Target\n",
      "\tUrl: http://en.wikipedia.org/wiki/Melvil_Dewey\n",
      "\tAnchor:\n",
      "\t\t'http://en.wikipedia.org/wiki/Melvil_Dewey'\n",
      "\n",
      "\tAnchorContext: 'lly coincide with his professional work. However, this does not make him a great professional, nor does it make him famous for it. In a more clear-cut example, Einstein was a patent clerk—but… I. M. Pei does not ring a bell with me, and if you had asked me in another context who Johnny Cochrane was, I would have guessed that he was a musician of some sort. LikeLike Reply Ryan Deschamps says: May 1, 2010 at 9:56 am Okay – how about Gandhi, & Abraham Lincoln as Lawyers? (Or really 80% of most politicians in the past two centuries). Schweitzer IS widely known for medical work in developing countries (and leadership in the field as well). A person might not remember the name Friedrick Banting was, but they sure as heck know and understand what insulin is for and that it was a great achievement when it was discovered. I.M. Pei is similar to Banting – the Louvre Pyramid, JFK Museum etc. are recognizable master works, if people do not know the name. If not I.M. Pei – then how about the Taj Mahal, Buckingham Palace, the White House? Librarians have nothing on this scale – and when we do have accomplishments, we’ve probably relied on other professionals to make it happen. Librarians as a whole have no marks that match this scale. \u001b[31mDewey[dewey:0.8]\u001b[0m is the closest perhaps, although becoming more and more obsolete as information technology becomes more and more prominent. LikeLike Reply Ryan Deschamps says: May 1, 2010 at 10:09 am Also – objective measure – compare \u001b[31mMelvil[melvil:0.6]\u001b[0m \u001b[31mDewey[dewey:0.8]\u001b[0m article in Wikipedia http://en.wikipedia.org/wiki/Melvil_Dewey to I.M. Pei http://en.wikipedia.org/wiki/I._M._Pei . Even Nancy Pearl is waaaaaay behind. http://en.wikipedia.org/wiki/Nancy_Pearl In short, there is alot more to say about a great architect’s accomplishments, plain and simple. Only Casanova can compare, but not really for any ‘professional’ accomplishments. LikeLike Phil Bradley says: May 1, 2010 at 12:45 pm OK, well by your same logic, what about the Library of Congress, or the British Library. These are recognisable master works. You should stop now. You’re getting desperate and sounding a little silly. LikeLike michaeleriksson says: May 1, 2010 at 6:18 pm We seem to have miscommunicated: I was only pointing out that the examles actually given seemed specious to me. The same could apply to Lincoln and Ghandi—without their political success, they would likely not be known to any of the participants here. Rembemer the heading “Nobody Can Name a ‘Great’ Librarian”. However, on second thought, the basic argument is weak: A priori, the lack of known librarians could well be because there have been fewer involved in politics or other areas where it is easier to become known. The great names in a field are usually mostly known to those who have an interest in that field. LikeLike David Rothman says: May 4, 2010 at 10:55 pm Wanna’ talk silly, Phil? The Library of Congress or the British Library are not the masterworks of individuals. Want to argue with Ryan? Great! But the straw men and ad hominem remarks are beneath you and are deeply disappointin'\n",
      "\n",
      "\n",
      "\n",
      "\n",
      "Document: https://www.youniqueproducts.com/\n",
      "OrcasQueries: ['younique foundation', 'the younique foundation', 'unique foundation']\n",
      "Target\n",
      "\tUrl: http://www.YouniqueFoundation.org\n",
      "\tAnchor:\n",
      "\t\t'HEAL THE ONE'\n",
      "\n"
     ]
    },
    {
     "name": "stdout",
     "output_type": "stream",
     "text": [
      "\tAnchorContext: '\u001b[31mYounique[youniqu:0.6666666666666666]\u001b[0m <img height=\"1\" width=\"1\" style=\"display:none\" alt=\"\" src=\"https://www.facebook.com/tr?id=1627038374246480&amp;ev=PageView&amp;noscript=1\"> \u001b[31mYounique[youniqu:0.6666666666666666]\u001b[0m is a direct sales company. We use cookies to improve your browsing experience and help us improve our websites. For more information, please click here. By continuing to use our website, you agree to our use of such cookie. Do not show me this message again. Welcome! Log in or Create an Account November Customer Kudos November Customer Kudos November Customer Kudos Raya Coleman - Purple Status \u001b[31mYounique[youniqu:0.6666666666666666]\u001b[0m Presenter 7TH ANNIVERSARY CUSTOMER KUDOS Celebrate & save up to 20% BUY NOW Live life in 4D MOODSTRUCK EPIC 4D one-step fiber mascara BUY EPIC 4DTRY IT ON Featured Light as air, coverage to spare Dive into hydration with this two-in-one wonder \u001b[31mYOUNIQUE[youniqu:0.6666666666666666]\u001b[0m Beauty Guide Build your brand Build your brand—or a brand-new business with the \u001b[31mYOUNIQUE[youniqu:0.6666666666666666]\u001b[0m You Kit. This must-have kit features some of our best-selling lash products—including the fan favorite MOODSTRUCK EPIC 4D one-step fiber mascara—color cosmetics, and skin care. As the highest-valued starter kit in \u001b[31mYounique[youniqu:0.6666666666666666]\u001b[0m history, whether you’re in it for the product or the business, you’ll have everything you need to find your future with \u001b[31mYounique.[youniqu:0.6666666666666666]\u001b[0m Learn More Join \u001b[31mYounique[youniqu:0.6666666666666666]\u001b[0m in Fighting Sexual Abuse HEAL THE ONE PROTECT THE MANY EXPLORE \u001b[31mYOUNIQUE[youniqu:0.6666666666666666]\u001b[0m Join Party Careers Looks ABOUT \u001b[31mYOUNIQUE[youniqu:0.6666666666666666]\u001b[0m Kudos About \u001b[31mYounique[youniqu:0.6666666666666666]\u001b[0m Rising Stars Triple Digits Club Meet The Founders Counterfeit Education HELP AND FAQS Customer Support Prestige Terms and Conditions Terms of Use Privacy Policy Backorder Policy Catalog Download The Love It Guarantee CONNECT WITH \u001b[31mYOUNIQUE[youniqu:0.6666666666666666]\u001b[0m MARKET We are proud to be a member of the Direct Selling Association. For more information, click here. Copyright © \u001b[31mYounique,[youniqu:0.6666666666666666]\u001b[0m LLC. 2019. All Rights Reserved.'\n",
      "\n",
      "\n",
      "\n",
      "\n"
     ]
    }
   ],
   "source": [
    "report(df_mismatch, 0, 10)"
   ]
  },
  {
   "cell_type": "markdown",
   "metadata": {},
   "source": [
    "## Manual Verification of some Match Anchors"
   ]
  },
  {
   "cell_type": "code",
   "execution_count": 11,
   "metadata": {},
   "outputs": [],
   "source": [
    "import pandas as pd\n",
    "\n",
    "df_match = pd.read_json('/mnt/ceph/storage/data-in-progress/data-research/web-search/ECIR-22/ecir21-anchor2query/match_anchors_sample.jsonl', lines=True)"
   ]
  },
  {
   "cell_type": "code",
   "execution_count": 12,
   "metadata": {},
   "outputs": [
    {
     "name": "stdout",
     "output_type": "stream",
     "text": [
      "Document: https://practica.vc/en/investments/cgtrader\n",
      "OrcasQueries: ['corporate ventures', 'intel ventures', 'venture capital', 'intol', 'intel taiwan', 'ã¤ã³ãã«ãã£ãã¿ã«', 'intel capital']\n",
      "Target\n",
      "\tUrl: http://www.intelcapital.com\n",
      "\tAnchor:\n",
      "\t\t'Intel Capital'\n",
      "\n",
      "\tAnchorContext: 'Practica \u001b[31mCapital[capit:0.2857142857142857]\u001b[0m Toggle navigation CB Investments About News Contact Careers CGTrader 3DTech Seed Early Year of investment: 2012 About the company: CGTrader is the world's largest 3D design marketplace and community hub for computer graphics (CG), 3D printing, VR/AR professionals. It serves business customers in advertising, video production, gaming, manufacturing, design, 3D printing, VR/AR industries from over 100 countries, with the United States and Western Europe being the leading markets. CGTrader’s paying customers include Apple, BMW, Boeing, Dell, Discovery Channel, IDEO, \u001b[31mIntel,[intel:0.42857142857142855]\u001b[0m Lucas Films, Microsoft, Nike, NVIDIA, Razorfish as well as thousands of 3D studios, advertising agencies and freelance developers. For more information visit: cgtrader.com Tags: 3d model marketplace; internet technologies; web portals; b2b; commission; marketplace; collaboration; ecommerce; modeling; e-commerce; virtual reality; augmented reality; 3d printing; 3d technology; business services; manufacturing; deep tech; printing; crowdsourced; models; marketplace; 3d; Co-investors: \u001b[31mIntel[intel:0.42857142857142855]\u001b[0m \u001b[31mCapital,[capit:0.2857142857142857]\u001b[0m Karma \u001b[31mVentures,[ventur:0.42857142857142855]\u001b[0m angels News: Lithuania’s CGTrader raises €2 million for its 3D marketplace Top 30 Baltic Entrepreneurs To Watch In 2017 Women Of Europe: Connect And Learn From 100 Successful Female Founders 500k Users, 500k Models: CGTrader Is Now The Biggest 3D-Design Market Platform CGTrader Closes Investment with \u001b[31mIntel[intel:0.42857142857142855]\u001b[0m CGTrader, an online marketplace for 3D models, raises €185K from Practica \u001b[31mCapital[capit:0.2857142857142857]\u001b[0m Vilnius-based CGTrader raises €185k from Practica \u001b[31mCapital[capit:0.2857142857142857]\u001b[0m Back to the list Get in touch +37052603159 info@practica.vc Where to find us Antakalnio 17-2, LT-10312 Vilnius Google map Privacy policy © Practica \u001b[31mCapital,[capit:0.2857142857142857]\u001b[0m 2017'\n",
      "\n",
      "\n",
      "\n",
      "\n",
      "Document: http://virtualnumbersblog.jetnumbers.com/2010/03/google-public-policy-blog-broadband.html?showComment=1539140004986\n",
      "OrcasQueries: ['michael kors', 'michael kors handbags']\n",
      "Target\n",
      "\tUrl: http://www.michael-korsoutletonline.eu.com\n",
      "\tAnchor:\n",
      "\t\t'michael kors'\n",
      "\n",
      "\tAnchorContext: 'alph lauren uk nike free uk coach outlet canada barcelona jersey north face jackets kate spade outlet green bay packers jerseys north face outlet new york jets jerseys san francisco 49ers jerseys baltimore ravens jerseys coach outlet boston celtics jersey cheap wedding dresses mbt shoes zhuweiming0623 June 22, 2015 at 8:05 PM Lin Shijun said... xiaoxiong 6.30 chanel outlet \u001b[31mmichael[michael:1.0]\u001b[0m \u001b[31mkors[kor:1.0]\u001b[0m uk abercrombie true religion ghd flat iron pandora rings jordan pas cher ray ban sunglass louis vuitton coach factory outlet louis vuitton outlet celine bag christian louboutin outlet kobe 8 adidas shoes \u001b[31mmichael[michael:1.0]\u001b[0m \u001b[31mkors[kor:1.0]\u001b[0m outlet \u001b[31mmichael[michael:1.0]\u001b[0m \u001b[31mkors[kor:1.0]\u001b[0m concord 11 coach outlet longchamp air jordan 13 \u001b[31mmichael[michael:1.0]\u001b[0m \u001b[31mkors[kor:1.0]\u001b[0m \u001b[31mhandbags[handbag:0.5]\u001b[0m louis vuitton outlet coach outlet \u001b[31mmichael[michael:1.0]\u001b[0m \u001b[31mkors[kor:1.0]\u001b[0m \u001b[31mhandbags[handbag:0.5]\u001b[0m \u001b[31mmichael[michael:1.0]\u001b[0m \u001b[31mkors[kor:1.0]\u001b[0m ralph lauren outlet polo ralph lauren outlet air jordan 11 christian louboutin outlet coach outlet online christian louboutin outlet coach outlet hermes belts coach outlet store online abercrombie and fitch longchamp pas cher abercrombie outlet gucci outlet online oakley sunglasses June 30, 2015 at 1:00 AM Lin Shijun said... xiaoxiong 6.30 chanel outlet \u001b[31mmichael[michael:1.0]\u001b[0m \u001b[31mkors[kor:1.0]\u001b[0m uk abercrombie true religion ghd flat iron pandora rings jordan pas cher ray ban sunglass louis vuitton coach factory outlet louis vuitton outlet celine bag christian louboutin outlet kobe 8 adidas shoes \u001b[31mmichael[michael:1.0]\u001b[0m \u001b[31mkors[kor:1.0]\u001b[0m outlet \u001b[31mmichael[michael:1.0]\u001b[0m \u001b[31mkors[kor:1.0]\u001b[0m concord 11 coach outlet longchamp air jordan 13 \u001b[31mmichael[michael:1.0]\u001b[0m \u001b[31mkors[kor:1.0]\u001b[0m \u001b[31mhandbags[handbag:0.5]\u001b[0m louis vuitton outlet coach outlet \u001b[31mmichael[michael:1.0]\u001b[0m \u001b[31mkors[kor:1.0]\u001b[0m \u001b[31mhandbags[handbag:0.5]\u001b[0m \u001b[31mmichael[michael:1.0]\u001b[0m \u001b[31mkors[kor:1.0]\u001b[0m ralph lauren outlet polo ralph lauren outlet air jordan 11 christian louboutin outlet coach outlet online christian louboutin outlet coach outlet hermes belts coach outlet store online abercrombie and fitch longchamp pas cher abercrombie outlet gucci outlet online oakley sunglasses June 30, 2015 at 1:03 AM Lili Wang said... 20150728wanglili tory burch outlet burberry \u001b[31mhandbags[handbag:0.5]\u001b[0m concord 11 \u001b[31mmichael[michael:1.0]\u001b[0m \u001b[31mkors[kor:1.0]\u001b[0m louis vuitton \u001b[31mhandbags[handbag:0.5]\u001b[0m cheap oakley sunglasses mont blanc mountain coach factory outlet louis vuitton outlet white timberland boots abercrombie and fitch outlet coach outlet store online louis vuitton cheap beats by dre coach outlet louis vuitton purses cheap oakleys louis vuitton outlet ghd flat iron www.louisvuitton.com coach factory outlet fitflop oakley glasses louis vuitton ray ban sunglass chanel no 5 fitflops outlet louis vuitton jordan 11 columbia gucci bags jeremy scott adidas July 28, 2015 at 2:28 AM oakleyses said... \u001b[31mmichael[michael:1.0]\u001b[0m \u001b[31mkors[kor:1.0]\u001b[0m outlet online, christian louboutin uk, tory burch outlet, coach outlet, polo ralph lauren outlet online, oakley sunglasses, jordan shoes, oakley sunglasses, replica watches, longchamp outlet, gucci \u001b[31mhandbags,[handbag:0.5]\u001b[0m christian louboutin shoes, chanel \u001b[31mhandbags,[handbag:0.5]\u001b[0m \u001b[31mmichael[michael:1.0]\u001b[0m \u001b[31mkors[kor:1.0]\u001b[0m outlet, prada \u001b[31mhandbags,[handbag:0.5]\u001b[0m kate spade, polo outlet, tiffany jewelry, \u001b[31mmichael[michael:1.0]\u001b[0m \u001b[31mkors[kor:1.0]\u001b[0m outlet, tiffany and co, true religion outlet, coach purses, longchamp outlet, nike free, \u001b[31mmichael[michael:1.0]\u001b[0m \u001b[31mkors[kor:1.0]\u001b[0m outlet online, christian louboutin outlet, kate spade outlet, burberry outlet, christian louboutin, ray'\n",
      "\n",
      "\n",
      "\n",
      "\n",
      "Document: http://machine-listening.eecs.qmul.ac.uk/projects/\n",
      "OrcasQueries: ['responsive theme', 'wordpress responsive theme']\n",
      "Target\n",
      "\tUrl: http://cyberchimps.com/responsive-theme/\n",
      "\tAnchor:\n",
      "\t\t'Responsive Theme'\n",
      "\n",
      "\tAnchorContext: 'Fellowship EP/L020505/1, £506,361, 2014-2019. Engaging three user communities with applications and outcomes of computational music creativity Dr Bob Sturm (PI) and Dr Oded Ben-Tal (CI, Kingston) AHRC Grant AH/R004706/1, £70,990, 2017-2018 DaCaRyH (Data science for the study of calypso-rhythm through history) Dr Bob Sturm (PI) and Dr Oded Ben-Tal (CI, Kingston) AHRC Grant AH/N504531/1, £79,934, 2016-2017 Automatic transcription of polyphonic music recordings Dr Emmanouil Benetos (PI) and Dr Rodrigo Schramm (CI, UFRGS, Brazil) RAEng / Newton Research Collaboration Programme award NRCP1617/5/46, £23,759, 2016-2017 Polyfoni-X-Score Dr Simon Dixon (PI) and Dr Emmanouil Benetos (CI) DoReMIR Music Research AB, £77,445, 2015-2016 Search for: Recent Posts MLLab at WASPAA, DCASE and SANE 2019 MLLab at Interspeech 2019 Research visit: Akash Jaiswal – Machine learning to analyse acoustic bird monitoring data PhD Studentships – AIM Centre for Doctoral Training ICASSP 2019 research papers from the MLLab Archives October 2019 September 2019 August 2019 March 2019 February 2019 December 2018 November 2018 October 2018 August 2018 July 2018 May 2018 April 2018 February 2018 December 2017 September 2017 June 2017 May 2017 April 2017 January 2017 November 2016 October 2016 August 2016 June 2016 May 2016 April 2016 March 2016 Categories Bird dcase Events Lab Updates Opportunities Publications Uncategorized Meta Log in Entries RSS Comments RSS WordPress.org © 2019 Machine Listening Lab ↑ \u001b[31mResponsive[respons:1.0]\u001b[0m \u001b[31mTheme[theme:1.0]\u001b[0m powered by \u001b[31mWordPress[wordpress:0.5]\u001b[0m We use cookies to ensure that we give you the best experience on our website. If you continue to use this site we will assume that you are happy with it.Ok'\n",
      "\n",
      "\n",
      "\n",
      "\n",
      "Document: https://www.houseofnames.com/godfrey-family-crest\n",
      "OrcasQueries: ['loraine', 'lorraine', 'lorraine region', 'lorraine, france', 'st lorraine', 'alsace-lorraine', 'lorrain', 'lorraine france', 'region lorraine', 'loreaine']\n",
      "Target\n",
      "\tUrl: http://en.wikipedia.org/wiki/Lorraine_(region)\n",
      "\tAnchor:\n",
      "\t\t'Lorraine'\n",
      "\n"
     ]
    },
    {
     "name": "stdout",
     "output_type": "stream",
     "text": [
      "\tAnchorContext: 'te Bags Baby One Piece Homeware Drinkware Coffee Mugs Steins Travel Mugs Sport Bottles Shot Glasses Kitchen Trivets Cutting Boards Aprons Clocks Magnets Wine and Cheese Board Accessories Tiles Coasters Jewelry Box Keychains NoteBooks Mouse Pads Gifts Gifts by $ Under $20 Under $50 Under $100 Over $100 Packages Occasion Family Reunion Wedding Gifts House Warming Gift Packages Sets + Pairs With Keychains Framed Packages My Account View My Orders Password Recovery Sign In / Up 0 Cart Subtotal: $0.00 Godfrey \u001b[31mHistory,[,:0.1]\u001b[0m Family Crest & Coats of Arms Origins Available: England Ireland Family Crest Image (JPG) Heritage Series - 600 DPI The history of the name Godfrey begins with the Anglo-Saxon tribes of Britain. It is derived from the baptismal name for the son of Godfrey. Baptismal names were a form of patronymic \u001b[31msurnames,[,:0.1]\u001b[0m and came from either the religious or vernacular given name traditions. In this \u001b[31mcase,[,:0.1]\u001b[0m the patronym was adopted from the personal name of the bearers father. Early Origins of the Godfrey family The surname Godfrey was first found in Kent. One of the first records of the name was Henricus filius Godefrid who was listed in the Pipe Rolls taken during the reign of King Henry II (1154-1189.) [1] It is generally believed that he was related to William Godefridus of Normandy listed in a census there taken 1180-1198. [2] \u001b[31mHowever,[,:0.1]\u001b[0m the Godfrey variant had many early references including Godfrey the Bearded (c.?997-1069); and his \u001b[31mson,[,:0.1]\u001b[0m Godfrey \u001b[31mIV,[,:0.1]\u001b[0m Duke of Lower \u001b[31mLorraine[lorrain:0.7]\u001b[0m (died \u001b[31m1706),[,:0.1]\u001b[0m known as the Hunchback who was assassinated in Vlaardingen; Godfrey of Bouillon (c. \u001b[31m1060-1100),[,:0.1]\u001b[0m a medieval Frankish \u001b[31mknight,[,:0.1]\u001b[0m one of the leaders of the First \u001b[31mCrusade,[,:0.1]\u001b[0m Godfrey of \u001b[31mCambrai,[,:0.1]\u001b[0m the prior of Winchester Abbey from 1082 until his death in 1107; and Godfrey (died \u001b[31m1088),[,:0.1]\u001b[0m medieval Bishop of Chichester. \" In the churchyard [of \u001b[31mWoodford,[,:0.1]\u001b[0m Essex] is a splendid Corinthian column of \u001b[31mmarble,[,:0.1]\u001b[0m about forty feet in \u001b[31mheight,[,:0.1]\u001b[0m erected to the memory of the Godfrey \u001b[31mfamily,[,:0.1]\u001b[0m which flourished many years in Kent; also a tomb with a column entirely covered with \u001b[31mivy,[,:0.1]\u001b[0m of picturesque appearance; and a remarkably fine old yew-tree.\" [3] Important Dates for the Godfrey family This web page shows only a small excerpt of our Godfrey research. Another 99 words (7 lines of text) covering the years \u001b[31m1666,[,:0.1]\u001b[0m \u001b[31m1273,[,:0.1]\u001b[0m \u001b[31m1622,[,:0.1]\u001b[0m \u001b[31m1678,[,:0.1]\u001b[0m \u001b[31m1642,[,:0.1]\u001b[0m \u001b[31m1631,[,:0.1]\u001b[0m \u001b[31m1648,[,:0.1]\u001b[0m \u001b[31m1714,[,:0.1]\u001b[0m \u001b[31m1641,[,:0.1]\u001b[0m 1797 and are included under the topic Early Godfrey History in all our PDF Extended History products and printed products wherever possible. Godfrey Spelling Variations The English language only became standardized in the last few centuries; \u001b[31mtherefore,[,:0.1]\u001b[0m spelling variations are common among early Anglo-Saxon names. As the form of the English language \u001b[31mchanged,[,:0.1]\u001b[0m even the spelling of literate people's names evolved. Godfrey has been recorded under many different \u001b[31mvariations,[,:0.1]\u001b[0m including \u001b[31mGodfrey,[,:0.1]\u001b[0m \u001b[31mGodfry,[,:0.1]\u001b[0m \u001b[31mGodfrie,[,:0.1]\u001b[0m \u001b[31mGodfree,[,:0.1]\u001b[0m \u001b[31mGodfery,[,:0.1]\u001b[0m Godkin and many more. Early Notables of the Godfrey family (pre 1700) Notables of this surname at this time include: Sir Edmu'\n",
      "\n",
      "\n",
      "\n",
      "\n",
      "Document: http://www.tipoweek.com/tag/media/\n",
      "OrcasQueries: ['htpc software', 'htpc', 'htpc design', 'home theatre pc', 'home theater pc', 'home theater pc software', 'home entertainment system']\n",
      "Target\n",
      "\tUrl: https://en.wikipedia.org/wiki/Home_theater_PC\n",
      "\tAnchor:\n",
      "\t\t'htpc'\n",
      "\n",
      "\tAnchorContext: 'y Miracast supporting gear, but let’s move on… The new “Explore” section in F&TV lets you see film trailers and recommended movies & TV series, as well as some highlighted 360° videos from sources like GoPro. Check out the Indy cars driving across the Golden Gate Bridge – Monaco it ain’t but it’s still quite impressive. You can set the playback to a mini player mode which lets you carry on watching something more interesting than whatever you’re supposed to be doing, as the mini player stays on top of other windows. When playing back ordinary video, you could choose to play it back as 360° video instead – a relatively freaky experience that’s presumably included because you might happen upon 360° video encoded as regular MP4 or whatever, and want to experience that as intended. Still. Movies Films & TV is a nice, simple video player which is Tip o’ the Week 377 – Windows 10 Films & TVworthy of consideration, even if you do end up installing VLC. Posted in UncategorizedTagged \u001b[31mHome,[home:0.5714285714285714]\u001b[0m Media, Windows 10 Tip o’ the Week 353 – Killing me Softly, part II Posted on November 11, 2016 by ewand Back in the day, when it was an ambitious plan to have a \u001b[31mPC[pc:0.42857142857142855]\u001b[0m on every desk and in every \u001b[31mhome,[home:0.5714285714285714]\u001b[0m one frontier that was foreseen was the battle for the living room. Before the advent of cheapo streaming sticks, the only way to consume media on your big telly (apart from stuff broadcast to it or recorded already) was to invest set up as a media server3 in a dedicated \u001b[31mHome[home:0.5714285714285714]\u001b[0m \u001b[31mTheater[theater:0.2857142857142857]\u001b[0m set up as a media server4 \u001b[31mPC,[pc:0.42857142857142855]\u001b[0m or \u001b[31mhtpc.[htpc:0.42857142857142855]\u001b[0m Microsoft’s early entrance into this market was a project called “Freestyle”, which offered a so-called 10’ remote control experience to browse and play back photos, music & video already stored on the \u001b[31mPC,[pc:0.42857142857142855]\u001b[0m and later (with the advent of still-shonky standards like DLNA and the rise in \u001b[31mhome[home:0.5714285714285714]\u001b[0m NAS appliances), networked media too. There was also the promise of being able to tune your \u001b[31mhtpc[htpc:0.42857142857142855]\u001b[0m into broadcast TV signals and use it like a set up as a media server6, though this took a long time to be realised internationally, what with the proliferation of delivery methods, formatting standards for TV channels, means of describing the program guide etc. set up as a media server7 was a standalone version of Windows XP, then an optional features in premium versions of Vista and Windows 7, before being put to the sword in Windows 10. RIP WMC. What now? Well, the fashion for having a full-size, fan-blaring \u001b[31mPC[pc:0.42857142857142855]\u001b[0m in your living room is largely done away with, as games consoles and the aforesaid streaming devices (along with built-in SmartTV functionality) largely make the idea redundant, but for some uses (a student bedroom maybe, or a \u001b[31mPC[pc:0.42857142857142855]\u001b[0m in the den) it could still be a smart idea to be able to watch and record TV signals, for which there are a profusion of freely available alternatives to WMC. Let’s look at one of the most widely used. set up as a media server8 sprung out of an initiative to build a Media Center-like application (called XBMC) for the original Xbox, and is now pretty well developed (with a UW'\n",
      "\n",
      "\n",
      "\n",
      "\n",
      "Document: https://skrbh.wordpress.com/2018/05/17/123-ja-ondar-lub-ja-ondar-j-za-ondzi-czyli-jedrne-ja-ondra-jindry-czyli-pra-slowianskiego-je-endrusia-10/?like_comment=7198&_wpnonce=a0fabe5260\n",
      "OrcasQueries: ['international phoenetic alphabet', 'ipa international phonetic alphabet', 'international phonetic alphabet']\n",
      "Target\n",
      "\tUrl: https://en.wiktionary.org/wiki/Wiktionary:International_Phonetic_Alphabet\n",
      "\tAnchor:\n",
      "\t\t'IPA'\n",
      "\n",
      "\tAnchorContext: 'Pronunciation (Vedic) dem0(key): /d̪ɑː.n̪ɐ́/ (dem1) dem2(key): /ˈd̪ɑː.n̪ɐ/ Noun दान • (dāná) n generosity, giving (Buddhism, Hinduism) the practice of cultivating generosity; dana Declension Neuter a-stem declension of दान Singular Dual Plural Nominative दानम् (dānam) दाने (dāne) दानानि (dānāni) Vocative दान (dāna) दाने (dāne) दानानि (dānāni) Accusative दानम् (dānam) दाने (dāne) दानानि (dānāni) Instrumental दानेन (dānena) दानाभ्याम् (dānābhyām) दानैः (dānaiḥ) Dative दाना (dānā) दानाभ्याम् (dānābhyām) दानेभ्यः (dānebhyaḥ) Ablative दानात् (dānāt) दानाभ्याम् (dānābhyām) दानेभ्यः (dānebhyaḥ) Genitive दानस्य (dānasya) दानयोः (dānayoḥ) दानानाम् (dānānām) Locative दाने (dāne) दानयोः (dānayoḥ) दानेषु (dāneṣu) Derived terms अन्नदान (annadāna) गोदान (godāna) Descendants Khmer: ទាន (tiənĕəʾ) Lao: ທານ (thān) Pali: dāna Thai: ทาน (taan) Further reading Sir Monier Monier-Williams (1898) A Sanskrit-English dictionary etymologically and philologically arranged with special reference to cognate Indo-European languages, Oxford: Clarendon Press, page 474/1 ….. https://en.wiktionary.org/wiki/%E0%A4%A6%E0%A4%BE%E0%A4%A8#Sanskrit दान Hindi Etymology dem3 दान (dāna). Noun दान • (dān) m gift, offering, something given Sanskrit Etymology From Proto-Indo-European *déh₃nom (“gift”), from *deh₃- (“to give”) (whence ददाति (dádāti, “to give”)). Cognate with dem4 dōnum (“gift”) and Old Irish dán (“poem”). Pronunciation (Vedic) \u001b[31mIPA(key):[ipa:0.3333333333333333]\u001b[0m /d̪ɑː.n̪ɐ́/ (dem6) dem7(key): /ˈd̪ɑː.n̪ɐ/ Noun दान • (dāná) n generosity, giving (Buddhism, Hinduism) the practice of cultivating generosity; dana Declension Neuter a-stem declension of दान Singular Dual Plural Nominative दानम् (dānam) दाने (dāne) दानानि (dānāni) Vocative दान (dāna) दाने (dāne) दानानि (dānāni) Accusative दानम् (dānam) दाने (dāne) दानानि (dānāni) Instrumental दानेन (dānena) दानाभ्याम् (dānābhyām) दानैः (dānaiḥ) Dative दानाय (dānāya) दानाभ्याम् (dānābhyām) दानेभ्यः (dānebhyaḥ) Ablative दानात् (dānāt) दानाभ्याम् (dānābhyām) दानेभ्यः (dānebhyaḥ) Genitive दानस्य (dānasya) दानयोः (dānayoḥ) दानानाम् (dānānām) Locative दाने (dāne) दानयोः (dānayoḥ) दानेषु (dāneṣu) Derived terms अन्नदान (annadāna) गोदान (godāna) Descendants Khmer: ទាន (tiənĕəʾ) Lao: ທານ (thān) Pali: dāna Thai: ทาน (taan) Further reading Sir Monier Monier-Williams (1898) A Sanskrit-English dictionary etymologically and philologically arranged with special reference to cognate Indo-European languages, Oxford: Clarendon Press, page 474/1 ….. https://en.wiktionary.org/wiki/%E0%A4%A6%E0%A4%A6%E0%A4%BE%E0%A4%A4%E0%A4%BF#Sanskrit ददाति Sanskrit Etymology From Proto-Indo-European *deh₃- (“to give”). Cognates include Latin dō, Ancient Greek δίδωμι (dídōmi), Old Persian (d-d-a-tu-u-v /dadātuv/). Verb ददाति • (dádāti) (root दा, class 3, type parasmaipada) to give, bestow, grant, yield, impart, present, offer to to give (a daughter) in marriage to hand over to give back to pa'\n",
      "\n",
      "\n",
      "\n",
      "\n",
      "Document: https://www.cdwg.com/product/cisco-nexus-7700-supervisor-2e-module-control-processor/3088928\n",
      "OrcasQueries: ['cdw annual report', 'cdw investor relations']\n",
      "Target\n",
      "\tUrl: https://investor.cdw.com/\n",
      "\tAnchor:\n",
      "\t\t'Investor Relations'\n",
      "\n"
     ]
    },
    {
     "name": "stdout",
     "output_type": "stream",
     "text": [
      "\tAnchorContext: 'exus 7700 7700 18-Slot View Full Product Details Better Together Quick View Total Price: Add to Cart This Item: Cisco Nexus 7700 Supervisor 2E Module - control processor $28,393.83 Cisco Nexus 7700 Supervisor 2E Module - control processor Was $40,000.00 $28,393.83 Advertised Price Advertised Price Add to Cart Overview Overview Product Overview Main Features Control processor plug-in module for Nexus 7700 7700 18-Slot The Cisco Nexus 7700 Supervisor 2E (Supervisor 2 Enhanced) Module scales the control-plane and data-plane services for the Cisco Nexus 7700 switches in scalable data center networks. The enhanced supervisor module is designed to deliver control-plane and management functions. The supervisor controls the Layer 2 and 3 services, redundancy capabilities, configuration management, status monitoring, power and environmental management, and more. It provides centralized arbitration to the system fabric for all line cards. The fully distributed forwarding architecture allows the supervisor to support transparent upgrades to I/O and fabric modules with greater forwarding capacity. Two supervisors are required for a fully redundant system, with one supervisor module running as the active device and the other in hot-standby mode, providing exceptional high-availability features such as stateful switchover and In-Service Software Upgrade (ISSU) on mission-critical data center-class products. Who We Are About Us Careers Diversity and Inclusion Events International Solutions \u001b[31mInvestor[investor:0.5]\u001b[0m \u001b[31mRelations[relat:0.5]\u001b[0m Locations What We Do \u001b[31mCDW[cdw:1.0]\u001b[0m Blog eProcurement Leasing Services Solutions and Services Why \u001b[31mCDW[cdw:1.0]\u001b[0m How We Do It Become A Supplier \u001b[31mCDW[cdw:1.0]\u001b[0m Digital Customer Reviews Newsroom Tech Solutions Library How Can We Help Help Center Product Recalls Shop Account Center Best Deals Brands Contract Center Product Finders Profile and Preferences Quick Order Status Site Map | Privacy Policy | Cookie Policy | Terms and Conditions Copyright © 2007 - 2019 \u001b[31mCDW.[cdw:1.0]\u001b[0m All Rights Reserved. This page was printed on 11/17/2019 2:03:54 PM.'\n",
      "\n",
      "\n",
      "\n",
      "\n",
      "Document: https://dojonationtimes.com/why-you-should-be-doing-sms-marketing-right-now-2/\n",
      "OrcasQueries: ['slick text', 'mobile text marketing', 'free sms marketing', 'text message marketing', 'sms text marketing', 'slicktext', 'slicktext.com', 'text marketing service', 'sms marketing']\n",
      "Target\n",
      "\tUrl: http://www.slicktext.com\n",
      "\tAnchor:\n",
      "\t\t'SlickText'\n",
      "\n",
      "\tAnchorContext: 'ey’re most likely to stop by your business. And you might not even have considered it. I’m talking about \u001b[31mSMS[sm:0.3333333333333333]\u001b[0m \u001b[31mmessaging,[messag:0.1111111111111111]\u001b[0m more commonly known as \u001b[31mtext[text:0.5555555555555556]\u001b[0m \u001b[31mmessaging.[messag:0.1111111111111111]\u001b[0m More than 2.5 billion people worldwide own a smart phone that’s capable of \u001b[31mtext[text:0.5555555555555556]\u001b[0m \u001b[31mmessaging.[messag:0.1111111111111111]\u001b[0m That’s a staggering number – and it begs the question: Why aren’t more small businesses using \u001b[31mtext[text:0.5555555555555556]\u001b[0m \u001b[31mmessaging[messag:0.1111111111111111]\u001b[0m for \u001b[31mmarketing?[market:0.6666666666666666]\u001b[0m \u001b[31mTexting[text:0.5555555555555556]\u001b[0m by the Numbers \u001b[31mText[text:0.5555555555555556]\u001b[0m \u001b[31mmessaging[messag:0.1111111111111111]\u001b[0m has the potential to be a \u001b[31mmarketing[market:0.6666666666666666]\u001b[0m superstar for your business. To get an idea of just how effective it can be, check out these statistics: 89% of people always have their smart phone accessible 97% of Americans \u001b[31mtext[text:0.5555555555555556]\u001b[0m at least once a day \u001b[31mTexting[text:0.5555555555555556]\u001b[0m is the #1 communication method used by people under 50 years old 82% of \u001b[31mtext[text:0.5555555555555556]\u001b[0m \u001b[31mmessages[messag:0.1111111111111111]\u001b[0m are read within 5 minutes of receipt That last statistic is particularly important, especially when you consider that consumers open only about 25% of the emails they receive. People send and receive \u001b[31mtext[text:0.5555555555555556]\u001b[0m \u001b[31mmessages.[messag:0.1111111111111111]\u001b[0m They give them priority over other communication, and they spend more time \u001b[31mtexting[text:0.5555555555555556]\u001b[0m than they do talking on their phones. In other words, \u001b[31mtext[text:0.5555555555555556]\u001b[0m \u001b[31mmessaging[messag:0.1111111111111111]\u001b[0m is arguably the best way to ensure that the people in your target audience read what you send them. Advantages of \u001b[31mSMS[sm:0.3333333333333333]\u001b[0m \u001b[31mMarketing[market:0.6666666666666666]\u001b[0m You know people are likely to read your \u001b[31mtext[text:0.5555555555555556]\u001b[0m \u001b[31mmessages[messag:0.1111111111111111]\u001b[0m – but what are the other advantages of incorporating \u001b[31mtext[text:0.5555555555555556]\u001b[0m \u001b[31mmessages[messag:0.1111111111111111]\u001b[0m into your \u001b[31mmarketing[market:0.6666666666666666]\u001b[0m mix? Here are five that I think are key: You can track \u001b[31mSMS[sm:0.3333333333333333]\u001b[0m \u001b[31mmessages[messag:0.1111111111111111]\u001b[0m the same way you would any other \u001b[31mmarketing[market:0.6666666666666666]\u001b[0m campaign using web-based tools like \u001b[31mSlickText.[slicktext:0.1111111111111111]\u001b[0m You can collect data about your \u001b[31mtext[text:0.5555555555555556]\u001b[0m list by creating interactive content that allows them to reply to your \u001b[31mmessages[messag:0.1111111111111111]\u001b[0m quickly and easily. \u001b[31mText[text:0.5555555555555556]\u001b[0m \u001b[31mmessaging[messag:0.1111111111111111]\u001b[0m provides nearly instantaneous results and stats for you to use to fine-tune your campaigns. \u001b[31mText[text:0.5555555555555556]\u001b[0m \u001b[31mmessaging[messag:0.1111111111111111]\u001b[0m can be casual and personalized with direct language and even emoji to build a relationship with the people you \u001b[31mtext.[text:0.5555555555555556]\u001b[0m \u001b[31mText[text:0.5555555555555556]\u001b[0m \u001b[31mmessages[messag:0.1111111111111111]\u001b[0m are a great way to connect with your audience when they’re most likely to be in your area or in the \u001b[31mmarket[market:0.6666666666666666]\u001b[0m for what you’re selling. A good example of time-sensitive \u001b[31mtext[text:0.5555555555555556]\u001b[0m \u001b[31mmessaging[messag:0.1111111111111111]\u001b[0m might be a restaurant or bar \u001b[31mtexting[text:0.5555555555555556]\u001b[0m out a Happy Hour coupon at about the time most people are getting out of work. They might be planning to head out for a drink or a bite anyway, and you can provide them with a nudge to choose your establishment over others in the area. How to Get Subscribers for Your \u001b[31mSMS[sm:0.3333333333333333]\u001b[0m List By law, you cannot send a \u001b[31mtext[text:0.5555555555555556]\u001b[0m \u001b[31mmessage[messag:0.1111111111111111]\u001b[0m to anybody who has not signed up for your list. That means that you must find ways to attract new subscribers. Here are some helpful suggestions to get started. The first and potentially easiest way to find new subscribers is to add a cell phone field to your existing opt-in form on your website. You can include a \u001b[31mmessage[messag:0.1111111111111111]\u001b[0m letting people know that if they choose to provide you with a cell phone number, they’re agreeing to receive \u001b[31mtext[text:0.5555555555555556]\u001b[0m \u001b[31mmessages[messag:0.1111111111111111]\u001b[0m from you. Another option is to promote your \u001b[31mSMS[sm:0.3333333333333333]\u001b[0m list in store with large print posters, flyers and other print media encouraging'\n",
      "\n",
      "\n",
      "\n",
      "\n",
      "Document: http://www.olivier-ladeuix.com/blog/category/cinematography-2/\n",
      "OrcasQueries: ['art forums', 'conceptart', 'art websites', 'concept art', 'conceptart.org', 'consept art']\n",
      "Target\n",
      "\tUrl: http://www.conceptart.org/\n",
      "\tAnchor:\n",
      "\t\t'Conceptart.org'\n",
      "\n",
      "\tAnchorContext: 'l Visual news Vulcan studios Wesley Louis WireImage Zbrush central Ziggy Recently Written Live action “Slow burn” Albert Lozano “Inside out” Monsters at work Lip sync observations Pixar “Onwards” Disney’s “Moana” behind the scene Pixar animation software part III Joe Moshier interview John Carter of Mars – Patrick Giusiano’s process Full-Fidelity Hair for ‘Incredibles 2’ Raph breaks the internet – Behind the scenes Recent Comments: Olivier Ladeuix: hehe thanks Brendan, yeah lately I have been trying to think how cartoon and realistic animation... Brendan Body: This is funny to see. I worked on the film and lead animator Tim Pixton gave the animators a talk on... Martin Pošta: and btw, I believe its local eyes Martin Pošta: Hi, thanks for noting this. Its been some time since I animated eyes and totaly forgot about it! ;)... Olivier Ladeuix: thanks Mirac, great work on your Vimeo channel and that Hobo shot is really entertaining! Links A Commentary Alberto Cerriteno Alfo S. Alison Andrea Blasich Andy Thomas Animation archive Animation mentor Anna Yamazoe \u001b[31mArte[art:0.6666666666666666]\u001b[0m y Animación. Asifa Hollywood Avalanche Software Big Screen Animation blog Bobby Chiu Bonvoyage airlines - Bonvoyage airlines webdesign agency Box Office Mojo Brad Kinley Brandon Beckstead Brock Gallagher Brock-O-Rama Carmelo Cartoon Brew CGIndia Chad Sellers Char Blarg blog Character animation studio Character design blog Character design notes Chicken Toast Chris Davis Chronicles of an animator - David Martinez blog \u001b[31mConceptart.org[conceptart.org:0.16666666666666666]\u001b[0m - messy \u001b[31mforum[forum:0.16666666666666666]\u001b[0m as usual but you can find some gems Deja View DJ - He is not a real DJ but that’s his name anyway DMCA DNA guys Drawn Enrico Casarosa Erlend FEED Feng Zhu Florian Satzinger Framefilter fxguide Golgoth13 Henry Sanchez Jamaal Bradley Jason Schleifer JimHillMedia John K - this is not John Khars here but Ren and Stimpy John Kricfalusi. I am not too fan of the cartoon but Joost Keith Lango Kenny Roy Kris Staber Kris Staber leif jeffers Lines and colors Maciek Gliwa Manfred Ragossnig Mark Behm Martin K Matt Williames Mayerson on Animation Micha MichaelBarrier.com Mike Stern Milo Morgan Kelly Nikola Tamindzic - Party photographer Passion Pictures Peer Lemmers Rad How To Ray Chase Rebecca's blog Richie Prado Robert Barros Rok Andic Ross Burt Saddington & Baynes Sebastien Lasserre Spline Bomb Spline doctors - They are not really doctors but they will help you cure all your spline problems Spungella - Jean Denis Haas blog Stephen Silver Studio AKA Studio Soi Subdivision modeling Syndicat des producteurs de films d'animation newsletter TAG blog the A files The \u001b[31mArt[art:0.6666666666666666]\u001b[0m Center The \u001b[31mart[art:0.6666666666666666]\u001b[0m of Dave Pimentel The Berzerker The CA Blog the Plausible Impossible Timbo Timbo Toby Shelton - Dreamworks storyboard artist TWEAK! Uli Meyer Vincil Visual news Vulcan studios Wesley Louis WireImage Zbrush central Ziggy Find It Admin Log in WordPress XHTML Credits Moustache Theme by Olivier Ladeuix. Powered by WordPress. https://kevcoffey.com/playtech-casinos-bonuses-2019/ in ne'\n",
      "\n",
      "\n",
      "\n",
      "\n",
      "Document: http://www.delenemartin.com/2009/06/26/one-word-event/\n",
      "OrcasQueries: ['one word to describe a person', 'one word online', 'oneword.com', 'one word', 'oneword']\n",
      "Target\n",
      "\tUrl: http://www.oneword.com/\n",
      "\tAnchor:\n",
      "\t\t'One Word'\n",
      "\n"
     ]
    },
    {
     "name": "stdout",
     "output_type": "stream",
     "text": [
      "\tAnchorContext: ', there was quite a debate about something around the \u001b[31mwords,[word:0.6]\u001b[0m all of which made no sense to me: neither the term, nor the debate. It’s like Austinites insisting on calling the Colorado River Town Lake; it’s a river, folks. You dam(n) it, it’s still a river. I like your musings around the “event.” Bartender’s probably a good idea. Maybe, at least, some finger food? Paige Lewis June 27, 2009 at 8:23 pm Tony and I have wondered why they call it a lake here in Austin, too. It is a river! Dee Post authorJune 29, 2009 at 11:44 am That’s just Austin keepin it weird 🙂 Comments are closed. Subscribe in a reader Eleanor Roosevelt \"The giving of love is education in itself.\" Authors Charles de Lint Distressed Furniture LuAnn Keener-Mikenas Terrible Minds Faith Frederick Buechner Nadia Bolz-Weber Overview Bible Rachel Held Evans Science Mike Searchlight Family Through The Lens Friends BJs Photos Deborah Lightfoot Ginger's Funky Photos Mary Clark Musings, Random Oddities by B.J. She Shall Be Like a Tree Stretching My Comfort Zone Syd Savvy Tony and Paige Interesting Ted Talks Blog WaiterRant Whatever Kindle KindleObsessed Pixel Of Ink My Sites Facebook my AllPoetry.com page My Pinterest My Shelfari Page My Twitter The Pen All Poetry Deborah Winter-Blood Every Day Fiction Helping Writers Become Authors Jaerose murat11 nanowrimo Reddit's Writing Forum The Essence of a Thing The Wit and Weirdness of Al Bruno III West Of Mars Whimsy Gizmo \u001b[31mWord[word:0.6]\u001b[0m Fodder The Prompts Friday Flash Fiction \u001b[31mOne[one:0.6]\u001b[0m \u001b[31mWord[word:0.6]\u001b[0m Poetry Asides Poets United Pow Show Me Your Lits Thursday Tales Twitter Writing Prompts Weekend Writers Retreat Write Anything Writers Digest Promptly Writers Island Writers League of Texas Writing.com The Resources FunctionX Guide To Verse Form Mac Opensource software Meter in Poetry Northeast Texas Writers Organization \u001b[31mOnline[onlin:0.2]\u001b[0m Education Database Paris Public Library Poetic Device Poetry Archive Poetry Foundation ReadWriteThink Rhymezone Shadow Poetry Tammy’s Technology Tips for Teachers The Scriptorium Thesaurus University of Virginia Library Search Visual Thesaurus Windows Opensource Software Writers Write The Teachers Around The Corner dy/dan Moving At the Speed of Creativity The Thinking Stick Quote Of The Day more Quotes Nanowrimo Pages About Kindle Resources Nanowrimo Night Wings Prompts TCEA 2006 Notes Wolf Moon Authors Charles de Lint Distressed Furniture LuAnn Keener-Mikenas Terrible Minds Faith Frederick Buechner Nadia Bolz-Weber Overview Bible Rachel Held Evans Science Mike Searchlight Family Through The Lens Friends BJs Photos Deborah Lightfoot Ginger's Funky Photos Mary Clark Musings, Random Oddities by B.J. She Shall Be Like a Tree Stretching My Comfort Zone Syd Savvy Tony and Paige Interesting Ted Talks Blog WaiterRant Whatever Kindle KindleObsessed Pixel Of Ink My Sites Facebook my AllPoetry.com page My Pinterest My Shelfari Page My Twitter The Pen All Poetry Deborah Winter-Blood Every Day Fiction Helping Writers Become Authors Jaerose mura'\n",
      "\n",
      "\n",
      "\n",
      "\n"
     ]
    }
   ],
   "source": [
    "report(df_match, 0, 10)"
   ]
  },
  {
   "cell_type": "code",
   "execution_count": 13,
   "metadata": {},
   "outputs": [
    {
     "name": "stdout",
     "output_type": "stream",
     "text": [
      "Document: https://opuluxeltd.wordpress.com/tag/space-san-diego/\n",
      "OrcasQueries: ['sleeping bag', 'types of sleeping bags', 'sleeping bags']\n",
      "Target\n",
      "\tUrl: http://en.wikipedia.org/wiki/Sleeping_bag\n",
      "\tAnchor:\n",
      "\t\t'sleeping bag'\n",
      "\n",
      "\tAnchorContext: 'rooves™ PlayList Modern Secret Room Dreams (and Nightmares): From Creative Hideouts to Dreadful Spaces Hidden passages have a long history of appearing in fictional novels and films but an even richer past in reality dating back to Egyptian tombs passages for Christians to worship in hiding from Romans. Over the years hidden passages have been used to arrest kings and evacuate popes, hide shogun warriors, facilitate guerrilla fighters, enable drug smugglers and conceal serial killers. In recent times, however, many more modest individuals have created (or discovered) secret passages in ordinary everyday households and there are even companies dedicated to designing <a onmouseover=”self.status=’http://weburbanist.com/secretrooms&#8217;;return true;” onmouseout=”self.status=”” href=”http://weburbanist.com/secretrooms&#8221; mce_href=”http://weburbanist.com/secretrooms”>secret doors, rooms and passages in middle-class houses. In some cases the discovery of a secret room is a wonderful find but it can also be a twisted nightmare. With so many secret rooms built into houses is it any wonder that some people are surprised to discover that their very own house has one they were entirely unaware of? One couple in an ordinary and unspectacular A-frame house found out they had their very own secret room after a year of living in the structure. The room itself: a space as large as their main bedroom and complete with somewhat creepy accessories including a \u001b[31msleeping[sleep:1.0]\u001b[0m \u001b[31mbag,[bag:1.0]\u001b[0m electrical outlet and even unopened beer cans. While for one couple the discovering of a <a onmouseover=”self.status=’http://weburbanist.com/secretrooms&#8217;;return true;” onmouseout=”self.status=”” href=”http://weburbanist.com/secretrooms&#8221; mce_href=”http://weburbanist.com/secretrooms”>secret room was exciting and resulted in additional usable space for another family a similar find was the beginning of a nightmarish tragedy. In their secret room they found a mysterious note from a previous owner of the house who claimed that the structure was riddled with harmful mold that had made his children very sick. As it turned out, the note was right: an inspection revealed high levels of various dangerous molds and the new owners were able to sue and settled for having the house repurchased at the price they paid. And the previous owner? Apparently he was worried about someone with a vested interest in selling the house finding the note and therefore hid it. Hidden rooms today usually serve one of two purposes: security or fun. Sometimes a hidden door is used to disguise a safe or a ‘panic room’ where residents can hide in an emergency. The room showed above, however, is one couples’ unusually creative gift to their very excited teenage daughter. This room works as an office and play-space and goes entirely unnoticed by clueless visitors (or even building inspectors). A remote control amazingly lifts an entire staircase out of the way revealing the hidden passage. The'\n",
      "\n",
      "\n",
      "\n",
      "\n",
      "Document: https://seattle.startups-list.com/startups/cloud_computing\n",
      "OrcasQueries: ['by-nc-sa', 'creative commons license', 'atlasama.free.fr', 'cc-by-nc-sa', 'cc by-nc-sa', 'creative commons', 'creative commons cc by']\n",
      "Target\n",
      "\tUrl: https://creativecommons.org/licenses/by-nc-sa/2.0/\n",
      "\tAnchor:\n",
      "\t\t'cc'\n",
      "\n",
      "\tAnchorContext: 'tory) to collaborate in a private space. With Zozial, you can bring relevant information from social media and social network ... 123 IMORE.WS Bad entry? Intermarket order routing and execution service (cryptocurrencies) It has been long noted by numerous analysts that the biggest obstacle to the wide adoption of the Bitcoin, and cryptocurrencies in general, comes from price swings (high volatility). Since every exchange has it's own order book, big price swings can happen regardless ... 123 ScaleGrid Bad entry? NoSQL management platform for private & public clouds ScaleGrid is a management solution for NoSQL databases on private and public clouds. ScaleGrid provides a central console to manage the entire lifecycle of databases including provisioning/deprovisioning, scale up/down, high availability, disaster recovery, upgrade, ... 123 Iota Bad entry? Radically Simple Check-In for Underserved Segments Tapp is an easy, no-smartphone-needed real time check in to Facebook, Foursquare, and Yelp, plus loyalty and coupons for teens/ young adults. 123 Spoon.net Bad entry? Build, test, and deploy applications in portable containers Founded in 2006, Spoon is transforming the world of application delivery. We are completely employee-owned, love working for ourselves, and relish the freedom to take on ambitious challenges. Spoon develops breakthrough virtualization, streaming, and networking ... Keep in touch :) Follow @felix_m © 2017. Startups Lists. Photo by Photo Credit: Kay Gaensler \u001b[31mcc[cc:0.2857142857142857]\u001b[0m'\n",
      "\n",
      "\n",
      "\n",
      "\n",
      "Document: https://vishal1mehra.com/tag/apple/\n",
      "OrcasQueries: ['twitter clay travis', 'twitter claytravis', '@claytravis', 'clay travis', 'clay travis outkick the coverage', 'clay travis twitter', 'traves twitter', 'claytravis', 'outkick the coverage', 'travis clay twitter']\n",
      "Target\n",
      "\tUrl: http://twitter.com/ClayTravis\n",
      "\tAnchor:\n",
      "\t\t'ClayTravis'\n",
      "\n",
      "\tAnchorContext: 's Instagram feed There was an error retrieving images from Instagram. An attempt will be remade in a few minutes. I’m on Travel Massive Archives Archives Select Month January 2015 (4) November 2014 (1) October 2014 (2) September 2014 (3) August 2014 (3) June 2014 (1) April 2014 (1) February 2014 (1) December 2013 (1) October 2013 (2) September 2013 (4) August 2013 (7) July 2013 (5) June 2013 (4) May 2013 (1) April 2013 (2) March 2013 (1) February 2013 (2) January 2013 (1) December 2012 (1) August 2012 (1) July 2012 (2) BlogCatalog Approved Categories Categories Select Category Advertising (2) Aviation (34) Aviation Analysis (16) Aviation News (3) Delhi (3) Digital Marketing (8) Marketing (3) Social Media (19) Sports (2) Student (1) Technology (1) Top List (1) Travel (31) \u001b[31mTwitter[twitter:0.5]\u001b[0m (15) Uncategorized (5) Advertising Aviation Aviation Analysis Aviation News Delhi Digital Marketing Marketing Social Media Sports Student Technology Top List Travel \u001b[31mTwitter[twitter:0.5]\u001b[0m Uncategorized Vishal Mehra Digital Marketer: in love with aviation, travel, cricket, EDM, technology, podcasts, beer and other frothiness. Personal Links Vishal Mehra and Co Vishal Mehra on \u001b[31mTwitter[twitter:0.5]\u001b[0m Verified Services View Full Profile → Vishal’s Tweets RT \u001b[31m@NeaNews:[@:0.1]\u001b[0m WWE delays in Saudi Arabia were more than mechanical but someone is lying neareport.com/2019/11/11/wwe… 22 hours ago RT \u001b[31m@KPAE_Spotter:[@:0.1]\u001b[0m Here is a small herd of three 787-9 Vistara just hanging out on the Boeing test flightline. They have only flown first te… 1 day ago RT \u001b[31m@ClayTravis:[@:0.1;claytravi:0.3]\u001b[0m This is wild, the WWE triples the NBA audience on Friday’s. twitter.com/mulvihill79/st… 1 day ago It’s been a long time since I have come across such an un-put-downable book. What attracted me initially to it was… twitter.com/i/web/status/1… 2 days ago Hey \u001b[31m@JetPrivilege[@:0.1]\u001b[0m - FUCK YOU! and you too \u001b[31m@EtihadAirways.[@:0.1]\u001b[0m Dishonest fucks. No decency even to inform FFP holders ab… twitter.com/i/web/status/1… 2 days ago The best heel in the business right now 👇🏽 twitter.com/brlive/status/… 3 days ago Follow \u001b[31m@vishal1mehra[@:0.1]\u001b[0m A320 A330 A380 Advertising Airbus Airbus A380 Airline Airlines Airport Airport Lounge American Airlines Arun Rajagopal AVGeek Aviation Bangalore Aviation Barcelona Boarding Area Boeing Boeing 747 Boeing 777 Brian Kelly British Airways Business class Cathay Pacific Conde Nast Traveler Delhi Digital Marketing Economy class Emirates Facebook first class Flight Report Flight Review Flyertalk Frequent-flyer program Frequent Flyer GlobeTrotter GlobeTrotters Hong Kong Iberia India iPhone Istanbul Jet Airways KLM LinkedIn Lisbon Lufthansa Madrid Malaysia Airlines Marketing New Delhi New York City New York Times premium economy Qantas Qatar Airways Shashank Nigam SimpliFlying Singapore Singapore Airlines Singapore Changi Airport Social Media SriLankan Airlines Star Alliance Terminal 3 Thai Airways The Points Guy Travel Tripping through Scandinavia trip report Turkish Airlines \u001b[31mTwitter[twitter:0.5]\u001b[0m Virgin Atlantic Vistara NetworkedBlogs Blog: Vishal Mehra and Co. Topics: Marketing, Aviation, D'\n",
      "\n",
      "\n",
      "\n",
      "\n",
      "Document: https://www.teamusa.org/Video/2017/03/22/Would-You-Rather--Samantha-Achterberg-Modern-Pentathlon\n",
      "OrcasQueries: ['rugby', 'usa rugby', 'usarugby.org', 'usa rugby team', 'usarugby', 'rugby in usa', 'www.usarugby.org', 'american rugby', 'rugby team']\n",
      "Target\n",
      "\tUrl: http://www.usarugby.org/\n",
      "\tAnchor:\n",
      "\t\t'USA RUGBY'\n",
      "\n"
     ]
    },
    {
     "name": "stdout",
     "output_type": "stream",
     "text": [
      "\tAnchorContext: 'Would You Rather | Samantha Achterberg: Modern Pentathlon Skip to main content Thank you! We'll be in touch with news, updates, and ways you can help the \u001b[31mteam.[team:0.2222222222222222]\u001b[0m And to stock up on stylish \u001b[31mTeam[team:0.2222222222222222]\u001b[0m \u001b[31mUSA[usa:0.3333333333333333]\u001b[0m gear that you can wear all year round, visit the \u001b[31mTeam[team:0.2222222222222222]\u001b[0m \u001b[31mUSA[usa:0.3333333333333333]\u001b[0m Shop: www.TeamUSAShop.com Privacy Policy X \u001b[31mTeam[team:0.2222222222222222]\u001b[0m \u001b[31mUSA[usa:0.3333333333333333]\u001b[0m SIGN UP FOR TEAMUSA UPDATES HOME SPORTS SUMMER \u001b[31mUSA[usa:0.3333333333333333]\u001b[0m ARCHERY \u001b[31mUSA[usa:0.3333333333333333]\u001b[0m BADMINTON \u001b[31mUSA[usa:0.3333333333333333]\u001b[0m BASEBALL \u001b[31mUSA[usa:0.3333333333333333]\u001b[0m BASKETBALL U.S. BOWLING CONGRESS \u001b[31mUSA[usa:0.3333333333333333]\u001b[0m BOXING \u001b[31mAMERICAN[american:0.1111111111111111]\u001b[0m CANOE \u001b[31mUSA[usa:0.3333333333333333]\u001b[0m CLIMBING \u001b[31mUSA[usa:0.3333333333333333]\u001b[0m CYCLING \u001b[31mUSA[usa:0.3333333333333333]\u001b[0m DIVING U.S. EQUESTRIAN \u001b[31mUSA[usa:0.3333333333333333]\u001b[0m FENCING \u001b[31mUSA[usa:0.3333333333333333]\u001b[0m FIELD HOCKEY \u001b[31mUSA[usa:0.3333333333333333]\u001b[0m GOLF \u001b[31mUSA[usa:0.3333333333333333]\u001b[0m GYMNASTICS \u001b[31mUSA[usa:0.3333333333333333]\u001b[0m JUDO \u001b[31mUSA[usa:0.3333333333333333]\u001b[0m KARATE \u001b[31mUSA[usa:0.3333333333333333]\u001b[0m PENTATHLON \u001b[31mUSA[usa:0.3333333333333333]\u001b[0m RACQUETBALL \u001b[31mUSA[usa:0.3333333333333333]\u001b[0m ROLLER SPORTS USROWING \u001b[31mUSA[usa:0.3333333333333333]\u001b[0m \u001b[31mRUGBY[rugbi:0.6666666666666666]\u001b[0m US SAILING \u001b[31mUSA[usa:0.3333333333333333]\u001b[0m SHOOTING \u001b[31mUSA[usa:0.3333333333333333]\u001b[0m SKATEBOARDING U.S. SOCCER FEDERATION \u001b[31mUSA[usa:0.3333333333333333]\u001b[0m SOFTBALL US SQUASH \u001b[31mUSA[usa:0.3333333333333333]\u001b[0m SURFING \u001b[31mUSA[usa:0.3333333333333333]\u001b[0m SWIMMING \u001b[31mUSA[usa:0.3333333333333333]\u001b[0m SYNCHRO \u001b[31mUSA[usa:0.3333333333333333]\u001b[0m TABLE TENNIS \u001b[31mUSA[usa:0.3333333333333333]\u001b[0m TAEKWONDO \u001b[31mUSA[usa:0.3333333333333333]\u001b[0m \u001b[31mTEAM[team:0.2222222222222222]\u001b[0m HANDBALL U.S. TENNIS ASSOCIATION \u001b[31mUSA[usa:0.3333333333333333]\u001b[0m TRACK & FIELD \u001b[31mUSA[usa:0.3333333333333333]\u001b[0m TRIATHLON \u001b[31mUSA[usa:0.3333333333333333]\u001b[0m VOLLEYBALL \u001b[31mUSA[usa:0.3333333333333333]\u001b[0m WATER POLO \u001b[31mUSA[usa:0.3333333333333333]\u001b[0m WATER SKI \u001b[31mUSA[usa:0.3333333333333333]\u001b[0m WEIGHTLIFTING \u001b[31mUSA[usa:0.3333333333333333]\u001b[0m WRESTLING \u001b[31mUSA[usa:0.3333333333333333]\u001b[0m ARCHERY \u001b[31mUSA[usa:0.3333333333333333]\u001b[0m BADMINTON \u001b[31mUSA[usa:0.3333333333333333]\u001b[0m BASEBALL \u001b[31mUSA[usa:0.3333333333333333]\u001b[0m BASKETBALL U.S. BOWLING CONGRESS \u001b[31mUSA[usa:0.3333333333333333]\u001b[0m BOXING \u001b[31mAMERICAN[american:0.1111111111111111]\u001b[0m CANOE \u001b[31mUSA[usa:0.3333333333333333]\u001b[0m CLIMBING \u001b[31mUSA[usa:0.3333333333333333]\u001b[0m CYCLING \u001b[31mUSA[usa:0.3333333333333333]\u001b[0m DIVING U.S. EQUESTRIAN \u001b[31mUSA[usa:0.3333333333333333]\u001b[0m FENCING \u001b[31mUSA[usa:0.3333333333333333]\u001b[0m FIELD HOCKEY \u001b[31mUSA[usa:0.3333333333333333]\u001b[0m GOLF \u001b[31mUSA[usa:0.3333333333333333]\u001b[0m GYMNASTICS \u001b[31mUSA[usa:0.3333333333333333]\u001b[0m JUDO \u001b[31mUSA[usa:0.3333333333333333]\u001b[0m KARATE \u001b[31mUSA[usa:0.3333333333333333]\u001b[0m PENTATHLON \u001b[31mUSA[usa:0.3333333333333333]\u001b[0m RACQUETBALL \u001b[31mUSA[usa:0.3333333333333333]\u001b[0m ROLLER SPORTS USROWING \u001b[31mUSA[usa:0.3333333333333333]\u001b[0m \u001b[31mRUGBY[rugbi:0.6666666666666666]\u001b[0m US SAILING \u001b[31mUSA[usa:0.3333333333333333]\u001b[0m SHOOTING \u001b[31mUSA[usa:0.3333333333333333]\u001b[0m SKATEBOARDING U.S. SOCCER FEDERATION \u001b[31mUSA[usa:0.3333333333333333]\u001b[0m SOFTBALL US SQUASH \u001b[31mUSA[usa:0.3333333333333333]\u001b[0m SURFING \u001b[31mUSA[usa:0.3333333333333333]\u001b[0m SWIMMING \u001b[31mUSA[usa:0.3333333333333333]\u001b[0m SYNCHRO \u001b[31mUSA[usa:0.3333333333333333]\u001b[0m TABLE TENNIS \u001b[31mUSA[usa:0.3333333333333333]\u001b[0m TAEKWONDO \u001b[31mUSA[usa:0.3333333333333333]\u001b[0m \u001b[31mTEAM[team:0.2222222222222222]\u001b[0m HANDBALL U.S. EQUESTRIAN0 U.S. EQUESTRIAN1 \u001b[31mUSA[usa:0.3333333333333333]\u001b[0m TRIATHLON \u001b[31mUSA[usa:0.3333333333333333]\u001b[0m VOLLEYBALL \u001b[31mUSA[usa:0.3333333333333333]\u001b[0m WATER POLO \u001b[31mUSA[usa:0.3333333333333333]\u001b[0m WATER SKI \u001b[31mUSA[usa:0.3333333333333333]\u001b[0m WEIGHTLIFTING \u001b[31mUSA[usa:0.3333333333333333]\u001b[0m WRESTLING WINTER U.S. BIATHLON \u001b[31mUSA[usa:0.3333333333333333]\u001b[0m BOBSLED & SKELETON \u001b[31mUSA[usa:0.3333333333333333]\u001b[0m CURLING U.S. FIGURE SKATING \u001b[31mUSA[usa:0.3333333333333333]\u001b[0m HOCKEY \u001b[31mUSA[usa:0.3333333333333333]\u001b[0m LUGE U.S. EQUESTRIAN2 US SPEEDSKATING U.S. BIATHLON \u001b[31mUSA[usa:0.3333333333333333]\u001b[0m BOBSLED & SKELETON \u001b[31mUSA[usa:0.3333333333333333]\u001b[0m CURLING U.S. FIGURE SKATING \u001b[31mUSA[usa:0.3333333333333333]\u001b[0m HOCKEY \u001b[31mUSA[usa:0.3333333333333333]\u001b[0m LUGE U.S. EQUESTRIAN3 US SPEEDSKATING PARALYMPIC ALPINE SKIING ARCHERY BADMINTON BOCCIA WHEELCHAIR CURLING PARACANOE CYCLING EQUESTRIAN GOALBALL JUDO NORDIC SKIING PARATRIATHLON POWERLIFTING ROWING SHOOTING SITTING VOLLEYBALL SLED HOCKEY SNOWBOARDING SOCCER 7-A-SIDE SWIMMING TABLE TENNIS TAEKWONDO TRACK & FIELD WHEELCHAIR BASKETBALL WHEELCHAIR FENCING WHEELCHAIR RU'\n",
      "\n",
      "\n",
      "\n",
      "\n",
      "Document: http://www10.edacafe.com/nbc/articles/1/673498/%3Cem%3ELabVIEW%20Real-Time%20Module%3C/%3Cem%3ELabVIEW%20Real-Time%20Module%3C/%3Cem%3ENI%20LabVIEW%3C/%3Cem%3ENI%2031xx%20series%20of%20industrial%20controllers%3C/%3Cem%3ENI%203100%3C/%3Cem%3Ewww.ni.com/nati%3C/%3Cem%3Ewww.ni.com/control%3C/%3Cem%3ENI%20LabVIEW%3C/%3Cem%3ENI%203110%3C/%3Cem%3Ecabled%20MXI%20Express%3C/%3Cem%3EPACs%3C/%3Cem%3EUSB%3C/%3Cem%3ENI%203110%3C/em%3E\n",
      "OrcasQueries: ['agnisys', 'idesignspec']\n",
      "Target\n",
      "\tUrl: https://www.agnisys.com/\n",
      "\tAnchor:\n",
      "\t\t'Agnisys'\n",
      "\n",
      "\tAnchorContext: 'Pricing and Contact Information NI 3100 Priced* from $2,599; euro 2,399; 328,000 yen NI 3110 Priced* from $3,299; euro 3,099; 416,000 yen Web: www.ni.com/control *Prices are subject to change without notice. 11500 N Mopac Expwy, Austin, Texas 78759-3504 Tel: (800) 258-7022, Fax: (512) 683-9300 E-mail: Email Contact LabVIEW, MXI, National Instruments, NI, NI CompactDAQ and ni.com are trademarks of National Instruments. Other product and company names listed are trademarks or trade names of their respective companies.     Editor Contact:   Hilary Marchbanks, (512) 683-5937\n",
      "    Reader Contact:   Ernest Martinez, (800) 258-7022\n",
      " Web site: http://www.ni.com/ Be the first to review this article Related News Dataram Launches DDR3 Memory Modules for Intel Based AIC Gemini Platform Meet Your New Processor: Intel Introduces 17 New Processors NVIDIA Files Countersuit Against Intel for Breach of Contract Intel Notifies AMD of Cross-License Breach Efforts to Resolve Dispute Continuing congatec Introduces First True Extended Temperature Module Based on Intel® Atom™ Processor Z5xx Series RadiSys Announces Cost-Effective Embedded Server Based on Intel® Multi-Core Technology More News Featured Video Farzad Zarrinfar, Managing Director of IP Division Mentor Farhad Fallah, Applications Engineer Aldec Zibi Zelewski, General Manager Aldec Jason Xing, President / GM of North America, EMEA Empyrean Haydn Povey, Founder and CEO Secure Thingz Mark Gilbert, CEO EDA Careers Anupam Bakshi, Founder, CEO \u001b[31mAgnisys[agnisi:0.5]\u001b[0m IP & Library QA using Crossfire Fractal Technologies Aldo Bottelli, Director of Engineering True Circuits Submit | More Videos Sponsored Videos Pim Tuyls, CEO Intrinsic ID Analysis of PAs for 5G and MIMO Applications AWR Antenna Design: Advanced Synthesis and EM Simulation for IoT Antenna Design AWR Submit | More Videos Corporate Newsletters DAC 57 Opens Call for Contributions NI AWR Software Newsletter | September 2019 More Newsletters Editorial EDACafe Editorial by Roberto Frazzoli Mobileye’s growth; AI-enabled MCUs; 5G superchips; open source silicon; and more industry news More Editorial Latest Blog Posts The Dominion of Design by intel Intel Speeds AI Development, Deployment and Performance with New Class of AI Hardware from Cloud to Edge Bridging the Frontier by Bob Smith, Executive Director A Few Scenes from the Phil Kaufman Award Dinner Silvaco Nanometer Newsbyte by Graham Bell SMART Design at SEMICON Europa Tackles Atoms to Systems in Next-Generation SoCs IC Insights by IC Insights Top 5 Share of Semiconductor Industry Capex to Set New Record in 2019 More EDA Blogs Jobs Senior Hardware Engineer for Abaco Systems Inc at Austin, Texas Senior SW Developer Timing/ Algorithms ….. France…. for EDA Careers at OPEN, France Principal Engineer, Firmware Engineering for Western Digital at Milpitas, California Mid to Senior Level Electrical Engineer for Gordon Prill, Inc at Santee, California Senior Software Engineer for Abaco Systems Inc at Huntsville, Alabama Technical Market'\n",
      "\n",
      "\n",
      "\n",
      "\n",
      "Document: https://layedbacklife.wordpress.com/category/make-over/\n",
      "OrcasQueries: ['indency', 'indecencies', 'indecency', 'indecency definition', 'indecency meaning']\n",
      "Target\n",
      "\tUrl: http://www.merriam-webster.com/dictionary/indecency\n",
      "\tAnchor:\n",
      "\t\t'indecency'\n",
      "\n",
      "\tAnchorContext: 'variously defined as an unawareness of, indifference toward, or disbelief in any set of moral standards or principles.[1][2][3][4] An example of a moral code is the Golden Rule which states that, “One should treat others as one would like others to treat oneself.”[5] Now Webster says about the same thing: mo·ral·i·ty noun \\mə-ˈra-lə-tē, mȯ-\\ plural mo·ral·i·ties \u001b[31mDefinition[definit:0.2]\u001b[0m of MORALITY 1 a : a moral discourse, statement, or lesson b : a literary or other imaginative work teaching a moral lesson 2 a : a doctrine or system of moral conduct b plural : particular moral principles or rules of conduct 3 : conformity to ideals of right human conduct 4 : moral conduct : Latin0 See morality defined for English-language learners » See morality defined for kids » First Known Use of MORALITY 14th century Related to MORALITY Synonyms Latin1, decency, goodness, Latin2, Latin3, Latin4,Latin5, righteousness, rightness, uprightness, Latin6,virtuousness Antonyms badness, Latin7, evildoing, immorality, iniquity, Latin8, villainy,wickedness Related Words high-mindedness, Latin9, incorruptibility, irreproachability,irreproachableness, right-mindedness, scrupulosity,scrupulousness; appropriateness, correctness,decorousness, actions0, etiquette, fitness, actions1,seemliness; ethics, morals Near Antonyms impropriety, \u001b[31mindecency,[indec:0.8]\u001b[0m indecorum, indiscretion;debauchery, degeneracy, actions3, depravity,perversion, pervertedness, sinfulness; crookedness,actions4, underhandedness, unscrupulousness; \u001b[31mlowness,meanness,[mean:0.2]\u001b[0m viciousness, vileness; actions5 Since it has been around since the 14th Century, I would be safe in saying that it was not my family who started the code of ethics that the general world lives by today. I do believe in treating people with respect. I do hope that people treate me with respect in return. I have no intentions in doing harm to others or robbing anyone or being villainous toward anyone in my future. I do not pass judgement on others as it is not my place here on this planet to do so. I live in my own glass house and must wash my own windows on a regular basis. I do not have time in my life to see what others are doing or if the windows in their homes are clean enough…there is plenty to do in my own home before I go looking elsewhere. The day that my home is spotless and clean of all is the day that I died and it went up on the market for sale…(hubby must have passed on before me or it still is not)… Until then…still scrubbing at home, Here are what other Daily Prompt Writers had to say: Daily Prompt: Morality Play | Borneo Rainbow Morality Play | Geek Ergo Sum Weekly Phoneography: Population | The Coin in My Hand | Daily Prompt: Morality Play | likereadingontrains 24|6 Daily Prompt: Morality Play | family photos food & craft Daily Prompt: Morality'\n",
      "\n",
      "\n",
      "\n",
      "\n",
      "Document: https://www.americanwx.com/bb/topic/50330-nne-fall-thread/page/27/?tab=comments\n",
      "OrcasQueries: ['winter storm warnings', 'winter storm warning', 'winter storm warning definition', 'what is a winter storm warning']\n",
      "Target\n",
      "\tUrl: https://en.wikipedia.org/wiki/Winter_storm_warning\n",
      "\tAnchor:\n",
      "\t\t'Winter Storm Warnings'\n",
      "\n"
     ]
    },
    {
     "name": "stdout",
     "output_type": "stream",
     "text": [
      "\tAnchorContext: 'should be light and generally less than an inch. Details from the 6:00 A.M. Waterbury observations: New Snow: 0.5 inches New Liquid: 0.02 inches Snow/Water Ratio: 25.0 Snow Density: 4.0% H2O Temperature: 27.9 F Sky: Light Snow (1-8 mm flakes) Snow at the stake: 1.5 inches There’s another half inch down on the board, so with this event the total thus far has been about an inch. Quote Share this post Link to post Share on other sites J.Spin J.Spin Members 4,308 posts Location:Waterbury, VT Posted December 11, 2017 While the short term forecast in the BTV NWS forecast discussion hasn’t be updated yet this afternoon, I did notice that there were some map updates that were a bit more robust with respect to potential snowfall. In the advisory maps there’s \u001b[31mdefinitely[definit:0.25]\u001b[0m been some expansion in the \u001b[31mWinter[winter:1.0]\u001b[0m \u001b[31mStorm[storm:1.0]\u001b[0m \u001b[31mWarnings,[warn:1.0]\u001b[0m and in the projected accumulations map, the areas with 8-12” have \u001b[31mdefinitely[definit:0.25]\u001b[0m expanded outward from the spine of the Greens. There’s also some 12-18” shading sneaking in there along the crest now. Quote Share this post Link to post Share on other sites qg_omega qg_omega Daily Post Limited Member 1,276 posts Location:Bolton Landing, NY Posted December 11, 2017 27 minutes ago, J.Spin said: While the short term forecast in the BTV NWS forecast discussion hasn’t be updated yet this afternoon, I did notice that there were some map updates that were a bit more robust with respect to potential snowfall. In the advisory maps there’s \u001b[31mdefinitely[definit:0.25]\u001b[0m been some expansion in the \u001b[31mWinter[winter:1.0]\u001b[0m \u001b[31mStorm[storm:1.0]\u001b[0m \u001b[31mWarnings,[warn:1.0]\u001b[0m and in the projected accumulations map, the areas with 8-12” have \u001b[31mdefinitely[definit:0.25]\u001b[0m expanded outward from the spine of the Greens. There’s also some 12-18” shading sneaking in there along the crest now. odd to see the best snow on the leeward side of the foothills of the dacks, but makes sense with the track of the clipper and strong SE winds with WAA. Often times the best snows are on the NW side of Lake Placid with LES setups and some synoptic \u001b[31mstorms[storm:1.0]\u001b[0m (NW flow events) but with this \u001b[31mstorm[storm:1.0]\u001b[0m the SE foothills should do well...Gore and Whiteface should do well. Quote Share this post Link to post Share on other sites eyewall eyewall Meteorologist 10,009 posts Location:RDU Posted December 11, 2017 Nice to see the uptick on the map as we get closer to the \u001b[31mstorm[storm:1.0]\u001b[0m Waiting on the discussion to update. Quote Share this post Link to post Share on other sites ApacheTrout ApacheTrout Members 858 posts Posted December 11, 2017 5 minutes ago, eyewall said: Nice to see the uptick on the map as we get closer to the \u001b[31mstorm[storm:1.0]\u001b[0m Waiting on the discussion to update. I'm sure it'll read 50 inches for the mountains, 1-2\" for the Champlain Valley, turning to rain. Stowe has to keep up their 50:1 ratio over the Banana Belt. 2 Quote Share this post Link to post Share on other sites eyewall eyewall Meteorologist 10,009 posts Location:RDU Posted December 11, 2017 18 minutes ago, ApacheTrout said: I'm sure it'll read 50 inches for the mountains, 1-2\" for the Champlain Valley, turning to rain. Stowe has to keep up the'\n",
      "\n",
      "\n",
      "\n",
      "\n",
      "Document: https://futuristicallyancient.com/2012/09/24/modern-griots-reviews-terence-nance-weekend/\n",
      "OrcasQueries: ['afrofuturism', 'african futurism', 'afro futurism', 'afrofuturism definition', 'afrofuturistic']\n",
      "Target\n",
      "\tUrl: http://afrofuturism.net/\n",
      "\tAnchor:\n",
      "\t\t'Afrofuturism'\n",
      "\n",
      "\tAnchorContext: '16 April 2016 March 2016 February 2016 January 2016 December 2015 November 2015 May 2015 February 2015 January 2015 December 2014 November 2014 October 2014 September 2014 August 2014 July 2014 June 2014 May 2014 April 2014 March 2014 February 2014 January 2014 December 2013 November 2013 October 2013 September 2013 August 2013 July 2013 June 2013 May 2013 April 2013 March 2013 February 2013 January 2013 December 2012 November 2012 October 2012 September 2012 August 2012 July 2012 June 2012 May 2012 April 2012 March 2012 February 2012 January 2012 December 2011 November 2011 October 2011 September 2011 August 2011 July 2011 June 2011 May 2011 Categories …An Album By Its Cover Afrofuturism/Afrosurrealism Art Art of This World Astro-caribbean Basic Instructions Before Leaving Earth Behind the Mask Books Comics Cosmic Ghost at the Museum Dance Documentary Events/Festivals Exhibitions Fashion Film Food Gifts/Products/Items Hair Histories Holidays I Could Dance Dance Dance All Night Interviews Introduction Language Lectures/Conferences Magic/Illusions Media Modern Griots Moving on the Wires Music My work News Otherworldly Videos Plays/Drama Podcast/Webcast Poetry Politics Projects/Other's Work Race/Gender/Sexuality Religion/Spirituality Reviews Rewind Sayings/Quotes Science/Technology Space:Queens Speculative Fiction/Science Fiction/Fantasy StoryCraft Television The M(N)STRY The My-Stery Uncategorized Blogroll Abagond \u001b[31mAfrican[african:0.2]\u001b[0m Cosmos Diary \u001b[31mAfrican[african:0.2]\u001b[0m Renaissance Catalog AfroCyberPunk \u001b[31mAfrofuturism[afrofutur:0.4]\u001b[0m \u001b[31mAfrofuturism[afrofutur:0.4]\u001b[0m for English 349 \u001b[31mAfrofuturism[afrofutur:0.4]\u001b[0m Visions \u001b[31mAfrofuturism[afrofutur:0.4]\u001b[0m Wikipedia Page Anticuchos Archival Directions Astro-Mytho-Losophy Beautiful, Also, Are The Souls of My Black Sisters Black Man in the Cosmos Black Pagan Black Witch Confessions of a Sable Fan Gyrl D. Scot Miller: AfroSurreal Generation For Harriet Historicity (was already taken) I Am PR Agency Journal Time K. Tempest Bradford Live Unchained Live Unchained Neo-Griot Neo-griot New Black Man Nuñez Daughter Outer Region Past. Present. \u001b[31mFuture.[futur:0.4]\u001b[0m Perfect rootwork the rootsblog: a cyberhoodoo webspace Sci-Cultura Sociological Images Solar Flare Ark The Adventures of Cosmic Yoruba and Her Flying Machines The \u001b[31mAfrofuturist[afrofuturist:0.2]\u001b[0m Affair The Ase Fountain The Integration Journal Today in Women's History Wondaland Arts Society Modern Griots Reviews: Terence Nance Weekend Posted on September 24, 2012 by Aker via MoCADA Last weekend, I saw two of Terence Nance‘s films, The Oversimplification of Her Beauty and Triptych, at Urbanworld. It was as if swirling in a void somewhere between reality and fantasy. That is one way I would describe the first of Nance’s introspective and experimental films, The Oversimplification of Her Beauty (previously known as How Would U Feel?). The film extraordinary not only because it details personal experiences of Nance’s own frustrations, awkwardness and hardships in relationships, but also in its imaginative blending of film genres. The Oversimplification of Her Beauty began in 2006 as a way for Nance to express'\n",
      "\n",
      "\n",
      "\n",
      "\n",
      "Document: https://www.beverly-hanks.com/search/detail/0-Hogan-Road-Forest-City-North-Carolina-28043/3464581\n",
      "OrcasQueries: ['burke co nc', 'burke county', 'burke county nc', 'burke north carolina', 'burke', 'burke nc', 'burke county north carolina', 'burke county, nc']\n",
      "Target\n",
      "\tUrl: http://en.wikipedia.org/wiki/Burke_County,_North_Carolina\n",
      "\tAnchor:\n",
      "\t\t'Burke County'\n",
      "\n",
      "\tAnchorContext: 'orest City Water: Public Water Sewer: City Sewer Street: Road Subdivision: None Lot Description: Corner \u001b[31mLot,[,:0.125]\u001b[0m Long Range \u001b[31mView,[,:0.125]\u001b[0m Natural \u001b[31mWaterfall,[,:0.125]\u001b[0m \u001b[31mPasture,[,:0.125]\u001b[0m \u001b[31mRolling,[,:0.125]\u001b[0m \u001b[31mStream/Creek,[,:0.125]\u001b[0m \u001b[31mTrees,[,:0.125]\u001b[0m Water \u001b[31mview,[,:0.125]\u001b[0m \u001b[31mWaterfront,[,:0.125]\u001b[0m Wooded Listed by Properties Unlimited Commercial Division Lifestyles Rutherford \u001b[31mCounty,[counti:0.5;,:0.125]\u001b[0m a mostly rural \u001b[31mcounty[counti:0.5]\u001b[0m of about 64,000 residents that is becoming a popular spot for those looking to retire or invest in a second home. At the base of the Blue Ridge \u001b[31mMountains,[,:0.125]\u001b[0m the landscape includes rolling rivers and dramatic vistas. Many of the \u001b[31mcounty's[counti:0.5]\u001b[0m small \u001b[31mtowns,[,:0.125]\u001b[0m such as Lake Lure and Chimney Rock are seeing increased \u001b[31mdevelopment,[,:0.125]\u001b[0m as luxury communities and resorts are \u001b[31mbuilt,[,:0.125]\u001b[0m contributing to the area's economy. The \u001b[31mcounty[counti:0.5]\u001b[0m was formed in 1779 from the western part of the former Read More Rutherford \u001b[31mCounty,[counti:0.5;,:0.125]\u001b[0m a mostly rural \u001b[31mcounty[counti:0.5]\u001b[0m of about 64,000 residents that is becoming a popular spot for those looking to retire or invest in a second home. At the base of the Blue Ridge \u001b[31mMountains,[,:0.125]\u001b[0m the landscape includes rolling rivers and dramatic vistas. Many of the \u001b[31mcounty's[counti:0.5]\u001b[0m small \u001b[31mtowns,[,:0.125]\u001b[0m such as Lake Lure and Chimney Rock are seeing increased \u001b[31mdevelopment,[,:0.125]\u001b[0m as luxury communities and resorts are \u001b[31mbuilt,[,:0.125]\u001b[0m contributing to the area's economy. The \u001b[31mcounty[counti:0.5]\u001b[0m was formed in 1779 from the western part of the former Tryon \u001b[31mCounty.[counti:0.5]\u001b[0m It was named for Griffith \u001b[31mRutherford,[,:0.125]\u001b[0m leader of an expedition against theCherokee in 1776 and a general in the American Revolutionary War. In 1791 parts of Rutherford \u001b[31mCounty[counti:0.5]\u001b[0m and \u001b[31mBurke[burk:1.0]\u001b[0m \u001b[31mCounty[counti:0.5]\u001b[0m were combined to form Buncombe \u001b[31mCounty.[counti:0.5]\u001b[0m In 1841 parts of Rutherford \u001b[31mCounty[counti:0.5]\u001b[0m and Lincoln Countywere combined to form Cleveland \u001b[31mCounty.[counti:0.5]\u001b[0m In 1842 additional parts of Rutherford \u001b[31mCounty[counti:0.5]\u001b[0m and \u001b[31mBurke[burk:1.0]\u001b[0m \u001b[31mCounty[counti:0.5]\u001b[0m were combined to form McDowell \u001b[31mCounty.[counti:0.5]\u001b[0m \u001b[31mFinally,[,:0.125]\u001b[0m in 1855 parts of Rutherford \u001b[31mCounty[counti:0.5]\u001b[0m and Henderson \u001b[31mCounty[counti:0.5]\u001b[0m were combined to form Polk \u001b[31mCounty.[counti:0.5]\u001b[0m Community Amenities Campsites Community Open Space Lakefront Walking/Hiking Trails Nearby Activities Lake Fishing Running Walking/Hiking Kayaking/Canoeing Boating Community Photos Show Additional Photos Related Real Estate Share You are Viewing Similar Properties in Rutherford \u001b[31mCounty[counti:0.5]\u001b[0m View Nearby View Sold You are viewing Forest City Real Estate 0 Hogan Road in Forest \u001b[31mCity,[,:0.125]\u001b[0m \u001b[31mNorth[north:0.25]\u001b[0m \u001b[31mCarolina[carolina:0.25]\u001b[0m 28043 - MLS# 3464581 Rutherford Forest \u001b[31mCity,[,:0.125]\u001b[0m \u001b[31mNC[nc:0.5]\u001b[0m 28043 0 Hogan Road CALL EMAIL Beverly-Hanks Visit us on Facebook Pinterest YouTube Instagram © \u001b[31mBeverly-Hanks,[,:0.125]\u001b[0m REALTORS® 2019 Privacy Policy Asheville Web Design by Applied Solutions Group fb log Top × Privacy Policy Beverly-Hanks respects the privacy of every individual that uses the services of our web site. Your e-mail address is obtained for internal purposes only (as they relate to marketing and the purchase and/or sale of Beverly-Hanks properties) and will not be sold or shared with any unaffiliated third party other than as set forth in this Privacy Promise. Beverly-Hanks collects personal information from you (i.e. your \u001b[31mname,[,:0.125]\u001b[0m e-mail \u001b[31maddress,[,:0.125]\u001b[0m and other data) when you provide personal data through'\n",
      "\n",
      "\n",
      "\n",
      "\n"
     ]
    }
   ],
   "source": [
    "report(df_match, 11, 20)"
   ]
  },
  {
   "cell_type": "code",
   "execution_count": 15,
   "metadata": {},
   "outputs": [],
   "source": [
    "def all_terms_in_url(url, terms):\n",
    "    for term in terms:\n",
    "        if term.lower() not in url.lower():\n",
    "            return False\n",
    "    \n",
    "    return True\n",
    "    \n",
    "def normalize_without_stemming(text):\n",
    "    import nltk\n",
    "    nltk.data.path = ['/mnt/ceph/storage/data-in-progress/data-research/web-archive/EMNLP-21/emnlp-web-archive-questions/cluster-libs/nltk_data']\n",
    "    from nltk.corpus import stopwords\n",
    "    from nltk.tokenize import word_tokenize\n",
    "    stop_words = set(stopwords.words('english'))\n",
    "    \n",
    "    return [i for i in word_tokenize(text) if i not in stop_words]\n",
    "\n",
    "def normalize_without_stemming_and_stopwords(text):\n",
    "    import nltk\n",
    "    nltk.data.path = ['/mnt/ceph/storage/data-in-progress/data-research/web-archive/EMNLP-21/emnlp-web-archive-questions/cluster-libs/nltk_data']\n",
    "    from nltk.tokenize import word_tokenize\n",
    "    \n",
    "    return [i for i in word_tokenize(text)]\n",
    "\n",
    "def exact_url_match(url, text):\n",
    "    try:\n",
    "        return all_terms_in_url(url, normalize(text)) \\\n",
    "            or all_terms_in_url(url, normalize_without_stemming(text)) \\\n",
    "            or all_terms_in_url(url, normalize_without_stemming_and_stopwords(text))\n",
    "    except:\n",
    "        return False\n",
    "\n",
    "assert exact_url_match('https://creativecommons.org/licenses/by-nc-sa/2.0/', 'by-nc-sa')\n",
    "assert exact_url_match('https://creativecommons.org/licenses/by-nc-sa/2.0/', 'creative commons license')\n",
    "assert exact_url_match('https://creativecommons.org/licenses/by-nc-sa/2.0/', 'creative commons')\n",
    "assert not exact_url_match('https://creativecommons.org/licenses/by-nc-sa/2.0/', 'atlasama.free.fr')\n",
    "assert not exact_url_match('https://creativecommons.org/licenses/by-nc-sa/2.0/', 'cc-by-nc-sa')\n",
    "assert not exact_url_match('https://creativecommons.org/licenses/by-nc-sa/2.0/', 'cc by-nc-sa')\n",
    "assert not exact_url_match('https://creativecommons.org/licenses/by-nc-sa/2.0/', 'creative commons cc by')\n",
    "\n",
    "def orcas_queries_without_exact_matches(i):\n",
    "    url = i['targetUrl']\n",
    "    ret = list(i['orcasQueries'])\n",
    "    return [j for j in ret if not(exact_url_match(url, j))]"
   ]
  },
  {
   "cell_type": "code",
   "execution_count": 27,
   "metadata": {},
   "outputs": [
    {
     "data": {
      "text/plain": [
       "False"
      ]
     },
     "execution_count": 27,
     "metadata": {},
     "output_type": "execute_result"
    }
   ],
   "source": [
    "\n",
    "exact_url_match('https://creativecommons.org/licenses/by-nc-sa/2.0/', 'atlasama.free.fr')"
   ]
  },
  {
   "cell_type": "code",
   "execution_count": 40,
   "metadata": {},
   "outputs": [],
   "source": [
    "df_match['orcasQueriesWithoutExactMatch'] = df_match.apply(orcas_queries_without_exact_matches, axis=1)"
   ]
  },
  {
   "cell_type": "code",
   "execution_count": 44,
   "metadata": {},
   "outputs": [],
   "source": [
    "df_match['exactMatchQueries'] = df_match.apply(lambda i: len(i['orcasQueries']) - len(i['orcasQueriesWithoutExactMatch']), axis=1)"
   ]
  },
  {
   "cell_type": "code",
   "execution_count": 46,
   "metadata": {},
   "outputs": [
    {
     "name": "stderr",
     "output_type": "stream",
     "text": [
      "/usr/local/lib/python3.6/dist-packages/seaborn/distributions.py:2557: FutureWarning: `distplot` is a deprecated function and will be removed in a future version. Please adapt your code to use either `displot` (a figure-level function with similar flexibility) or `histplot` (an axes-level function for histograms).\n",
      "  warnings.warn(msg, FutureWarning)\n"
     ]
    },
    {
     "data": {
      "text/plain": [
       "<AxesSubplot:xlabel='exactMatchQueries', ylabel='Density'>"
      ]
     },
     "execution_count": 46,
     "metadata": {},
     "output_type": "execute_result"
    },
    {
     "data": {
      "image/png": "[encoded data removed]",
      "text/plain": [
       "<Figure size 432x288 with 1 Axes>"
      ]
     },
     "metadata": {
      "needs_background": "light"
     },
     "output_type": "display_data"
    }
   ],
   "source": [
    "import seaborn as sns\n",
    "sns.distplot(df_match['exactMatchQueries'])"
   ]
  },
  {
   "cell_type": "code",
   "execution_count": 48,
   "metadata": {},
   "outputs": [
    {
     "data": {
      "text/plain": [
       "<AxesSubplot:xlabel='orcasQueriesWithoutExactMatch', ylabel='Density'>"
      ]
     },
     "execution_count": 48,
     "metadata": {},
     "output_type": "execute_result"
    },
    {
     "data": {
      "image/png": "[encoded data removed]",
      "text/plain": [
       "<Figure size 432x288 with 1 Axes>"
      ]
     },
     "metadata": {
      "needs_background": "light"
     },
     "output_type": "display_data"
    }
   ],
   "source": [
    "sns.distplot(df_match['orcasQueriesWithoutExactMatch'].apply(lambda i: len(i)))"
   ]
  },
  {
   "cell_type": "code",
   "execution_count": 49,
   "metadata": {},
   "outputs": [
    {
     "data": {
      "text/plain": [
       "33646"
      ]
     },
     "execution_count": 49,
     "metadata": {},
     "output_type": "execute_result"
    }
   ],
   "source": [
    "sum(df_match['orcasQueriesWithoutExactMatch'].apply(lambda i: len(i)))"
   ]
  },
  {
   "cell_type": "code",
   "execution_count": 50,
   "metadata": {},
   "outputs": [
    {
     "data": {
      "text/plain": [
       "53041"
      ]
     },
     "execution_count": 50,
     "metadata": {},
     "output_type": "execute_result"
    }
   ],
   "source": [
    "sum(df_match['orcasQueries'].apply(lambda i: len(i)))"
   ]
  },
  {
   "cell_type": "code",
   "execution_count": 51,
   "metadata": {},
   "outputs": [
    {
     "data": {
      "text/plain": [
       "0.3656605267623159"
      ]
     },
     "execution_count": 51,
     "metadata": {},
     "output_type": "execute_result"
    }
   ],
   "source": [
    "(53041-33646)/53041"
   ]
  },
  {
   "cell_type": "markdown",
   "metadata": {},
   "source": [
    "# Exact containment orcas queries"
   ]
  },
  {
   "cell_type": "code",
   "execution_count": 1,
   "metadata": {},
   "outputs": [
    {
     "name": "stdout",
     "output_type": "stream",
     "text": [
      "3213835\r\n"
     ]
    }
   ],
   "source": [
    "!cat /mnt/ceph/storage/data-in-progress/data-teaching/theses/wstud-thesis-probst/ms-marco-docs/msmarco-docs.tsv|wc -l"
   ]
  },
  {
   "cell_type": "code",
   "execution_count": 4,
   "metadata": {},
   "outputs": [
    {
     "name": "stderr",
     "output_type": "stream",
     "text": [
      "3213835it [01:11, 44656.48it/s]\n"
     ]
    }
   ],
   "source": [
    "from tqdm import tqdm\n",
    "doc_to_url = {}\n",
    "\n",
    "with open('/mnt/ceph/storage/data-in-progress/data-teaching/theses/wstud-thesis-probst/ms-marco-docs/msmarco-docs.tsv') as f:\n",
    "    for l in tqdm(f):\n",
    "        l = l.split('\\t')\n",
    "        doc_to_url[l[0]] = l[1]"
   ]
  },
  {
   "cell_type": "code",
   "execution_count": 5,
   "metadata": {},
   "outputs": [
    {
     "data": {
      "text/plain": [
       "3213835"
      ]
     },
     "execution_count": 5,
     "metadata": {},
     "output_type": "execute_result"
    }
   ],
   "source": [
    "len(doc_to_url)"
   ]
  },
  {
   "cell_type": "code",
   "execution_count": 7,
   "metadata": {},
   "outputs": [],
   "source": [
    "import pandas as pd\n",
    "df_orcas = pd.read_csv('/mnt/ceph/storage/data-in-progress/data-teaching/theses/wstud-thesis-probst/ms-marco-docs/orcas.tsv.gz', sep='\\t', names=['Q_ID', 'Query', 'D_ID', 'D_URL'])"
   ]
  },
  {
   "cell_type": "code",
   "execution_count": 8,
   "metadata": {},
   "outputs": [
    {
     "data": {
      "text/html": [
       "<div>\n",
       "<style scoped>\n",
       "    .dataframe tbody tr th:only-of-type {\n",
       "        vertical-align: middle;\n",
       "    }\n",
       "\n",
       "    .dataframe tbody tr th {\n",
       "        vertical-align: top;\n",
       "    }\n",
       "\n",
       "    .dataframe thead th {\n",
       "        text-align: right;\n",
       "    }\n",
       "</style>\n",
       "<table border=\"1\" class=\"dataframe\">\n",
       "  <thead>\n",
       "    <tr style=\"text-align: right;\">\n",
       "      <th></th>\n",
       "      <th>Q_ID</th>\n",
       "      <th>Query</th>\n",
       "      <th>D_ID</th>\n",
       "      <th>D_URL</th>\n",
       "    </tr>\n",
       "  </thead>\n",
       "  <tbody>\n",
       "    <tr>\n",
       "      <th>0</th>\n",
       "      <td>9265503</td>\n",
       "      <td>github</td>\n",
       "      <td>D1265400</td>\n",
       "      <td>https://desktop.github.com/</td>\n",
       "    </tr>\n",
       "    <tr>\n",
       "      <th>1</th>\n",
       "      <td>9265503</td>\n",
       "      <td>github</td>\n",
       "      <td>D3438005</td>\n",
       "      <td>https://github.com/</td>\n",
       "    </tr>\n",
       "    <tr>\n",
       "      <th>2</th>\n",
       "      <td>6832981</td>\n",
       "      <td>youtube</td>\n",
       "      <td>D2923232</td>\n",
       "      <td>https://au.youtube.com/</td>\n",
       "    </tr>\n",
       "    <tr>\n",
       "      <th>3</th>\n",
       "      <td>9571352</td>\n",
       "      <td>!</td>\n",
       "      <td>D1238374</td>\n",
       "      <td>https://www.englishclub.com/writing/punctuatio...</td>\n",
       "    </tr>\n",
       "    <tr>\n",
       "      <th>4</th>\n",
       "      <td>9571352</td>\n",
       "      <td>!</td>\n",
       "      <td>D889000</td>\n",
       "      <td>http://nationalpunctuationday.com/exclamationp...</td>\n",
       "    </tr>\n",
       "    <tr>\n",
       "      <th>...</th>\n",
       "      <td>...</td>\n",
       "      <td>...</td>\n",
       "      <td>...</td>\n",
       "      <td>...</td>\n",
       "    </tr>\n",
       "    <tr>\n",
       "      <th>18823548</th>\n",
       "      <td>9364218</td>\n",
       "      <td>ð¤¨ meaning</td>\n",
       "      <td>D325990</td>\n",
       "      <td>https://www.merriam-webster.com/dictionary/mea...</td>\n",
       "    </tr>\n",
       "    <tr>\n",
       "      <th>18823549</th>\n",
       "      <td>10717906</td>\n",
       "      <td>ð¤© meaning</td>\n",
       "      <td>D325990</td>\n",
       "      <td>https://www.merriam-webster.com/dictionary/mea...</td>\n",
       "    </tr>\n",
       "    <tr>\n",
       "      <th>18823550</th>\n",
       "      <td>10942226</td>\n",
       "      <td>ð¤ª emoji</td>\n",
       "      <td>D74189</td>\n",
       "      <td>http://www.iemoji.com/</td>\n",
       "    </tr>\n",
       "    <tr>\n",
       "      <th>18823551</th>\n",
       "      <td>11264972</td>\n",
       "      <td>ð¦</td>\n",
       "      <td>D1165065</td>\n",
       "      <td>https://www.lifewire.com/less-obvious-emoji-me...</td>\n",
       "    </tr>\n",
       "    <tr>\n",
       "      <th>18823552</th>\n",
       "      <td>10460090</td>\n",
       "      <td>ð§¡</td>\n",
       "      <td>D536071</td>\n",
       "      <td>https://emojipedia.org/orange-heart/</td>\n",
       "    </tr>\n",
       "  </tbody>\n",
       "</table>\n",
       "<p>18823553 rows × 4 columns</p>\n",
       "</div>"
      ],
      "text/plain": [
       "              Q_ID        Query      D_ID  \\\n",
       "0          9265503       github  D1265400   \n",
       "1          9265503       github  D3438005   \n",
       "2          6832981      youtube  D2923232   \n",
       "3          9571352            !  D1238374   \n",
       "4          9571352            !   D889000   \n",
       "...            ...          ...       ...   \n",
       "18823548   9364218  ð¤¨ meaning   D325990   \n",
       "18823549  10717906  ð¤© meaning   D325990   \n",
       "18823550  10942226    ð¤ª emoji    D74189   \n",
       "18823551  11264972           ð¦  D1165065   \n",
       "18823552  10460090          ð§¡   D536071   \n",
       "\n",
       "                                                      D_URL  \n",
       "0                               https://desktop.github.com/  \n",
       "1                                       https://github.com/  \n",
       "2                                   https://au.youtube.com/  \n",
       "3         https://www.englishclub.com/writing/punctuatio...  \n",
       "4         http://nationalpunctuationday.com/exclamationp...  \n",
       "...                                                     ...  \n",
       "18823548  https://www.merriam-webster.com/dictionary/mea...  \n",
       "18823549  https://www.merriam-webster.com/dictionary/mea...  \n",
       "18823550                             http://www.iemoji.com/  \n",
       "18823551  https://www.lifewire.com/less-obvious-emoji-me...  \n",
       "18823552               https://emojipedia.org/orange-heart/  \n",
       "\n",
       "[18823553 rows x 4 columns]"
      ]
     },
     "execution_count": 8,
     "metadata": {},
     "output_type": "execute_result"
    }
   ],
   "source": [
    "df_orcas"
   ]
  },
  {
   "cell_type": "code",
   "execution_count": 16,
   "metadata": {},
   "outputs": [],
   "source": [
    "df_orcas['is_exact_url_match'] = df_orcas.apply(lambda i: exact_url_match(i['D_URL'], i['Query']), axis=1)"
   ]
  },
  {
   "cell_type": "code",
   "execution_count": 18,
   "metadata": {},
   "outputs": [],
   "source": [
    "df_orcas.to_json('/mnt/ceph/storage/data-in-progress/data-teaching/theses/wstud-thesis-probst/ms-marco-docs/orcas-with-exact-url-match-field.tsv', lines=True, orient='records')"
   ]
  },
  {
   "cell_type": "code",
   "execution_count": 20,
   "metadata": {},
   "outputs": [
    {
     "name": "stdout",
     "output_type": "stream",
     "text": [
      "{\"Q_ID\":9265503,\"Query\":\"github\",\"D_ID\":\"D1265400\",\"D_URL\":\"https:\\/\\/desktop.github.com\\/\",\"is_exact_url_match\":true}\r\n",
      "{\"Q_ID\":9265503,\"Query\":\"github\",\"D_ID\":\"D3438005\",\"D_URL\":\"https:\\/\\/github.com\\/\",\"is_exact_url_match\":true}\r\n",
      "{\"Q_ID\":6832981,\"Query\":\"youtube\",\"D_ID\":\"D2923232\",\"D_URL\":\"https:\\/\\/au.youtube.com\\/\",\"is_exact_url_match\":true}\r\n",
      "{\"Q_ID\":9571352,\"Query\":\"!\",\"D_ID\":\"D1238374\",\"D_URL\":\"https:\\/\\/www.englishclub.com\\/writing\\/punctuation-slash.htm\",\"is_exact_url_match\":false}\r\n",
      "{\"Q_ID\":9571352,\"Query\":\"!\",\"D_ID\":\"D889000\",\"D_URL\":\"http:\\/\\/nationalpunctuationday.com\\/exclamationpoint.html\",\"is_exact_url_match\":false}\r\n"
     ]
    }
   ],
   "source": [
    "!head -5 /mnt/ceph/storage/data-in-progress/data-teaching/theses/wstud-thesis-probst/ms-marco-docs/orcas-with-exact-url-match-field.tsv"
   ]
  },
  {
   "cell_type": "code",
   "execution_count": 24,
   "metadata": {},
   "outputs": [
    {
     "data": {
      "text/plain": [
       "0.21004695553490885"
      ]
     },
     "execution_count": 24,
     "metadata": {},
     "output_type": "execute_result"
    }
   ],
   "source": [
    "(len(df_orcas[df_orcas['is_exact_url_match'] == True]))/len(df_orcas)"
   ]
  },
  {
   "cell_type": "code",
   "execution_count": 25,
   "metadata": {},
   "outputs": [
    {
     "data": {
      "text/html": [
       "<div>\n",
       "<style scoped>\n",
       "    .dataframe tbody tr th:only-of-type {\n",
       "        vertical-align: middle;\n",
       "    }\n",
       "\n",
       "    .dataframe tbody tr th {\n",
       "        vertical-align: top;\n",
       "    }\n",
       "\n",
       "    .dataframe thead th {\n",
       "        text-align: right;\n",
       "    }\n",
       "</style>\n",
       "<table border=\"1\" class=\"dataframe\">\n",
       "  <thead>\n",
       "    <tr style=\"text-align: right;\">\n",
       "      <th></th>\n",
       "      <th>Q_ID</th>\n",
       "      <th>Query</th>\n",
       "      <th>D_ID</th>\n",
       "      <th>D_URL</th>\n",
       "      <th>is_exact_url_match</th>\n",
       "    </tr>\n",
       "  </thead>\n",
       "  <tbody>\n",
       "    <tr>\n",
       "      <th>0</th>\n",
       "      <td>9265503</td>\n",
       "      <td>github</td>\n",
       "      <td>D1265400</td>\n",
       "      <td>https://desktop.github.com/</td>\n",
       "      <td>True</td>\n",
       "    </tr>\n",
       "    <tr>\n",
       "      <th>1</th>\n",
       "      <td>9265503</td>\n",
       "      <td>github</td>\n",
       "      <td>D3438005</td>\n",
       "      <td>https://github.com/</td>\n",
       "      <td>True</td>\n",
       "    </tr>\n",
       "    <tr>\n",
       "      <th>2</th>\n",
       "      <td>6832981</td>\n",
       "      <td>youtube</td>\n",
       "      <td>D2923232</td>\n",
       "      <td>https://au.youtube.com/</td>\n",
       "      <td>True</td>\n",
       "    </tr>\n",
       "    <tr>\n",
       "      <th>245</th>\n",
       "      <td>7953050</td>\n",
       "      <td>in excel</td>\n",
       "      <td>D757335</td>\n",
       "      <td>https://blog.udemy.com/excel-not-equal/</td>\n",
       "      <td>True</td>\n",
       "    </tr>\n",
       "    <tr>\n",
       "      <th>246</th>\n",
       "      <td>7953050</td>\n",
       "      <td>in excel</td>\n",
       "      <td>D842129</td>\n",
       "      <td>https://support.office.com/en-us/article/Overv...</td>\n",
       "      <td>True</td>\n",
       "    </tr>\n",
       "    <tr>\n",
       "      <th>...</th>\n",
       "      <td>...</td>\n",
       "      <td>...</td>\n",
       "      <td>...</td>\n",
       "      <td>...</td>\n",
       "      <td>...</td>\n",
       "    </tr>\n",
       "    <tr>\n",
       "      <th>18805941</th>\n",
       "      <td>9825122</td>\n",
       "      <td>zzzquil</td>\n",
       "      <td>D1419054</td>\n",
       "      <td>https://www.drugs.com/mtm/zzzquil.html</td>\n",
       "      <td>True</td>\n",
       "    </tr>\n",
       "    <tr>\n",
       "      <th>18805950</th>\n",
       "      <td>5458619</td>\n",
       "      <td>zzzquil for sleep reviews</td>\n",
       "      <td>D1270756</td>\n",
       "      <td>https://www.consumerhealthdigest.com/sleep-aid...</td>\n",
       "      <td>True</td>\n",
       "    </tr>\n",
       "    <tr>\n",
       "      <th>18805960</th>\n",
       "      <td>5357757</td>\n",
       "      <td>zzzquil review</td>\n",
       "      <td>D1270756</td>\n",
       "      <td>https://www.consumerhealthdigest.com/sleep-aid...</td>\n",
       "      <td>True</td>\n",
       "    </tr>\n",
       "    <tr>\n",
       "      <th>18805961</th>\n",
       "      <td>5357757</td>\n",
       "      <td>zzzquil review</td>\n",
       "      <td>D2120934</td>\n",
       "      <td>http://www.sogoodblog.com/2014/02/17/zzzquil-r...</td>\n",
       "      <td>True</td>\n",
       "    </tr>\n",
       "    <tr>\n",
       "      <th>18805963</th>\n",
       "      <td>3905165</td>\n",
       "      <td>zzzquil reviews</td>\n",
       "      <td>D1270756</td>\n",
       "      <td>https://www.consumerhealthdigest.com/sleep-aid...</td>\n",
       "      <td>True</td>\n",
       "    </tr>\n",
       "  </tbody>\n",
       "</table>\n",
       "<p>3953830 rows × 5 columns</p>\n",
       "</div>"
      ],
      "text/plain": [
       "             Q_ID                      Query      D_ID  \\\n",
       "0         9265503                     github  D1265400   \n",
       "1         9265503                     github  D3438005   \n",
       "2         6832981                    youtube  D2923232   \n",
       "245       7953050                   in excel   D757335   \n",
       "246       7953050                   in excel   D842129   \n",
       "...           ...                        ...       ...   \n",
       "18805941  9825122                    zzzquil  D1419054   \n",
       "18805950  5458619  zzzquil for sleep reviews  D1270756   \n",
       "18805960  5357757             zzzquil review  D1270756   \n",
       "18805961  5357757             zzzquil review  D2120934   \n",
       "18805963  3905165            zzzquil reviews  D1270756   \n",
       "\n",
       "                                                      D_URL  \\\n",
       "0                               https://desktop.github.com/   \n",
       "1                                       https://github.com/   \n",
       "2                                   https://au.youtube.com/   \n",
       "245                 https://blog.udemy.com/excel-not-equal/   \n",
       "246       https://support.office.com/en-us/article/Overv...   \n",
       "...                                                     ...   \n",
       "18805941             https://www.drugs.com/mtm/zzzquil.html   \n",
       "18805950  https://www.consumerhealthdigest.com/sleep-aid...   \n",
       "18805960  https://www.consumerhealthdigest.com/sleep-aid...   \n",
       "18805961  http://www.sogoodblog.com/2014/02/17/zzzquil-r...   \n",
       "18805963  https://www.consumerhealthdigest.com/sleep-aid...   \n",
       "\n",
       "          is_exact_url_match  \n",
       "0                       True  \n",
       "1                       True  \n",
       "2                       True  \n",
       "245                     True  \n",
       "246                     True  \n",
       "...                      ...  \n",
       "18805941                True  \n",
       "18805950                True  \n",
       "18805960                True  \n",
       "18805961                True  \n",
       "18805963                True  \n",
       "\n",
       "[3953830 rows x 5 columns]"
      ]
     },
     "execution_count": 25,
     "metadata": {},
     "output_type": "execute_result"
    }
   ],
   "source": [
    "df_orcas[df_orcas['is_exact_url_match'] == True]"
   ]
  },
  {
   "cell_type": "code",
   "execution_count": 26,
   "metadata": {},
   "outputs": [
    {
     "data": {
      "text/html": [
       "<div>\n",
       "<style scoped>\n",
       "    .dataframe tbody tr th:only-of-type {\n",
       "        vertical-align: middle;\n",
       "    }\n",
       "\n",
       "    .dataframe tbody tr th {\n",
       "        vertical-align: top;\n",
       "    }\n",
       "\n",
       "    .dataframe thead th {\n",
       "        text-align: right;\n",
       "    }\n",
       "</style>\n",
       "<table border=\"1\" class=\"dataframe\">\n",
       "  <thead>\n",
       "    <tr style=\"text-align: right;\">\n",
       "      <th></th>\n",
       "      <th>Q_ID</th>\n",
       "      <th>Query</th>\n",
       "      <th>D_ID</th>\n",
       "      <th>D_URL</th>\n",
       "      <th>is_exact_url_match</th>\n",
       "    </tr>\n",
       "  </thead>\n",
       "  <tbody>\n",
       "    <tr>\n",
       "      <th>3</th>\n",
       "      <td>9571352</td>\n",
       "      <td>!</td>\n",
       "      <td>D1238374</td>\n",
       "      <td>https://www.englishclub.com/writing/punctuatio...</td>\n",
       "      <td>False</td>\n",
       "    </tr>\n",
       "    <tr>\n",
       "      <th>4</th>\n",
       "      <td>9571352</td>\n",
       "      <td>!</td>\n",
       "      <td>D889000</td>\n",
       "      <td>http://nationalpunctuationday.com/exclamationp...</td>\n",
       "      <td>False</td>\n",
       "    </tr>\n",
       "    <tr>\n",
       "      <th>5</th>\n",
       "      <td>9571352</td>\n",
       "      <td>!</td>\n",
       "      <td>D291024</td>\n",
       "      <td>https://en.wikipedia.org/wiki/Exclamation_mark</td>\n",
       "      <td>False</td>\n",
       "    </tr>\n",
       "    <tr>\n",
       "      <th>6</th>\n",
       "      <td>9571352</td>\n",
       "      <td>!</td>\n",
       "      <td>D1240274</td>\n",
       "      <td>http://grammar.ccc.commnet.edu/grammar/marks/e...</td>\n",
       "      <td>False</td>\n",
       "    </tr>\n",
       "    <tr>\n",
       "      <th>7</th>\n",
       "      <td>9571352</td>\n",
       "      <td>!</td>\n",
       "      <td>D1341457</td>\n",
       "      <td>https://en.wikipedia.org/wiki/Inverted_questio...</td>\n",
       "      <td>False</td>\n",
       "    </tr>\n",
       "    <tr>\n",
       "      <th>...</th>\n",
       "      <td>...</td>\n",
       "      <td>...</td>\n",
       "      <td>...</td>\n",
       "      <td>...</td>\n",
       "      <td>...</td>\n",
       "    </tr>\n",
       "    <tr>\n",
       "      <th>18823548</th>\n",
       "      <td>9364218</td>\n",
       "      <td>ð¤¨ meaning</td>\n",
       "      <td>D325990</td>\n",
       "      <td>https://www.merriam-webster.com/dictionary/mea...</td>\n",
       "      <td>False</td>\n",
       "    </tr>\n",
       "    <tr>\n",
       "      <th>18823549</th>\n",
       "      <td>10717906</td>\n",
       "      <td>ð¤© meaning</td>\n",
       "      <td>D325990</td>\n",
       "      <td>https://www.merriam-webster.com/dictionary/mea...</td>\n",
       "      <td>False</td>\n",
       "    </tr>\n",
       "    <tr>\n",
       "      <th>18823550</th>\n",
       "      <td>10942226</td>\n",
       "      <td>ð¤ª emoji</td>\n",
       "      <td>D74189</td>\n",
       "      <td>http://www.iemoji.com/</td>\n",
       "      <td>False</td>\n",
       "    </tr>\n",
       "    <tr>\n",
       "      <th>18823551</th>\n",
       "      <td>11264972</td>\n",
       "      <td>ð¦</td>\n",
       "      <td>D1165065</td>\n",
       "      <td>https://www.lifewire.com/less-obvious-emoji-me...</td>\n",
       "      <td>False</td>\n",
       "    </tr>\n",
       "    <tr>\n",
       "      <th>18823552</th>\n",
       "      <td>10460090</td>\n",
       "      <td>ð§¡</td>\n",
       "      <td>D536071</td>\n",
       "      <td>https://emojipedia.org/orange-heart/</td>\n",
       "      <td>False</td>\n",
       "    </tr>\n",
       "  </tbody>\n",
       "</table>\n",
       "<p>14869723 rows × 5 columns</p>\n",
       "</div>"
      ],
      "text/plain": [
       "              Q_ID        Query      D_ID  \\\n",
       "3          9571352            !  D1238374   \n",
       "4          9571352            !   D889000   \n",
       "5          9571352            !   D291024   \n",
       "6          9571352            !  D1240274   \n",
       "7          9571352            !  D1341457   \n",
       "...            ...          ...       ...   \n",
       "18823548   9364218  ð¤¨ meaning   D325990   \n",
       "18823549  10717906  ð¤© meaning   D325990   \n",
       "18823550  10942226    ð¤ª emoji    D74189   \n",
       "18823551  11264972           ð¦  D1165065   \n",
       "18823552  10460090          ð§¡   D536071   \n",
       "\n",
       "                                                      D_URL  \\\n",
       "3         https://www.englishclub.com/writing/punctuatio...   \n",
       "4         http://nationalpunctuationday.com/exclamationp...   \n",
       "5            https://en.wikipedia.org/wiki/Exclamation_mark   \n",
       "6         http://grammar.ccc.commnet.edu/grammar/marks/e...   \n",
       "7         https://en.wikipedia.org/wiki/Inverted_questio...   \n",
       "...                                                     ...   \n",
       "18823548  https://www.merriam-webster.com/dictionary/mea...   \n",
       "18823549  https://www.merriam-webster.com/dictionary/mea...   \n",
       "18823550                             http://www.iemoji.com/   \n",
       "18823551  https://www.lifewire.com/less-obvious-emoji-me...   \n",
       "18823552               https://emojipedia.org/orange-heart/   \n",
       "\n",
       "          is_exact_url_match  \n",
       "3                      False  \n",
       "4                      False  \n",
       "5                      False  \n",
       "6                      False  \n",
       "7                      False  \n",
       "...                      ...  \n",
       "18823548               False  \n",
       "18823549               False  \n",
       "18823550               False  \n",
       "18823551               False  \n",
       "18823552               False  \n",
       "\n",
       "[14869723 rows x 5 columns]"
      ]
     },
     "execution_count": 26,
     "metadata": {},
     "output_type": "execute_result"
    }
   ],
   "source": [
    "df_orcas[df_orcas['is_exact_url_match'] == False]"
   ]
  }
 ],
 "metadata": {
  "kernelspec": {
   "display_name": "Python 3",
   "language": "python",
   "name": "python3"
  },
  "language_info": {
   "codemirror_mode": {
    "name": "ipython",
    "version": 3
   },
   "file_extension": ".py",
   "mimetype": "text/x-python",
   "name": "python",
   "nbconvert_exporter": "python",
   "pygments_lexer": "ipython3",
   "version": "3.6.9"
  }
 },
 "nbformat": 4,
 "nbformat_minor": 2
}
